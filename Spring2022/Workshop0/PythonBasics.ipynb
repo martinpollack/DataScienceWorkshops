{
 "cells": [
  {
   "cell_type": "markdown",
   "metadata": {},
   "source": [
    "# Python and Jupyter Basics\n",
    "### Workshop 0 of DASIL's series on \"Data Science with Python\"\n",
    "### Created by Martin Pollack"
   ]
  },
  {
   "cell_type": "markdown",
   "metadata": {},
   "source": [
    "Welcome to the series!\n",
    "\n",
    "Right now you are looking at a Jupyter Notebook. This is a popular filetype for doing Data Science in Python, and we will be using it often.\n",
    "\n",
    "Jupyter Notebooks consist of two kinds of blocks, or groupings of text.\n",
    "\n",
    "In \"code\" blocks you can write your actual Python code, and outputs coming from your code are printed out nicely at the end of each block. To run your code, just hit the \"play button\" or right-pointing arrow in the upper left corner of a selected code block.\n",
    "\n",
    "Then there are also \"markdown\" blocks where you can write normal text to describe or give context for your code, like the one you are reading right now! There are lots of things you can do in these to customize your text, but we will only briefly discuss one of them: headers.\n",
    "\n",
    "# If you put a single \"#\" before text, it will be a large header\n",
    "## With two \"#\" symbols, you get a medium-sized header\n",
    "### Three of them means you get a small header\n",
    "\n",
    "Blocks can be edited by double-clicking on them. They can be deleted by double-clicking on them and then clicking on the trash can icon in the top-right corner of the block.\n",
    "\n",
    "You can also create new blocks by clicking on the block you want to be before your new one and then selecting either \"+ Code\" or \"+ Text\" in the top-left corner of Google Colab.\n",
    "\n",
    "And that's basically all you need to know about Jupyter Notebooks. In time you'll learn to love them as much as I do."
   ]
  },
  {
   "cell_type": "markdown",
   "metadata": {},
   "source": [
    "# Now let's get to Python!"
   ]
  },
  {
   "cell_type": "markdown",
   "metadata": {},
   "source": [
    "## Commenting your code"
   ]
  },
  {
   "cell_type": "markdown",
   "metadata": {},
   "source": [
    "Besides writing code in our code blocks, it is important to comment our code. This means giving short descriptions of what our code does. This makes is so that when we come back and look at our code later, or if we share our code with someone else, it is properly understood.\n",
    "\n",
    "If you write a `#` symbol on the start of a line in a code block, everything after that symbol will be interpreted by Python as a comment. This means that it will not try to run the text as code. As you can see below, if you forget the `#` symbol, you will get a weird error message."
   ]
  },
  {
   "cell_type": "code",
   "execution_count": null,
   "metadata": {},
   "outputs": [
    {
     "ename": "SyntaxError",
     "evalue": "invalid syntax (762433041.py, line 2)",
     "output_type": "error",
     "traceback": [
      "\u001b[0;36m  File \u001b[0;32m\"/var/folders/1y/47pck5g94bs8z87mhsrjyfl00000gp/T/ipykernel_69105/762433041.py\"\u001b[0;36m, line \u001b[0;32m2\u001b[0m\n",
      "\u001b[0;31m    This is not a comment\u001b[0m\n",
      "\u001b[0m                        ^\u001b[0m\n",
      "\u001b[0;31mSyntaxError\u001b[0m\u001b[0;31m:\u001b[0m invalid syntax\n"
     ]
    }
   ],
   "source": [
    "# This is a comment\n",
    "This is not a comment"
   ]
  },
  {
   "cell_type": "markdown",
   "metadata": {},
   "source": [
    "## Numbers"
   ]
  },
  {
   "cell_type": "markdown",
   "metadata": {},
   "source": [
    "Python can do basically anything a basic calculator can do.\n",
    "\n",
    "Typing numbers and basic arithmetic operations (+, -, *, /) we can do things like"
   ]
  },
  {
   "cell_type": "code",
   "execution_count": 4,
   "metadata": {},
   "outputs": [
    {
     "data": {
      "text/plain": [
       "2"
      ]
     },
     "execution_count": 4,
     "metadata": {},
     "output_type": "execute_result"
    }
   ],
   "source": [
    "1 + 1"
   ]
  },
  {
   "cell_type": "markdown",
   "metadata": {},
   "source": [
    "And the result of our addition is displayed below our code block.\n",
    "\n",
    "Some more special operations are ** for exponentiation, // for quotient division (divide and then round down to the nearest integer), and % for remainder."
   ]
  },
  {
   "cell_type": "code",
   "execution_count": 7,
   "metadata": {},
   "outputs": [
    {
     "data": {
      "text/plain": [
       "1"
      ]
     },
     "execution_count": 7,
     "metadata": {},
     "output_type": "execute_result"
    }
   ],
   "source": [
    "2 ** 3\n",
    "\n",
    "2 // 3\n",
    "4 // 3\n",
    "\n",
    "10 % 3"
   ]
  },
  {
   "cell_type": "markdown",
   "metadata": {},
   "source": [
    "Notice that in this last code block we typed four expressions, each on their own line.\n",
    "\n",
    "However, Jupyter by default only returns the result of the last line of a code block. To make sure we see the results of doing all expressions, we can use Python's `print()` function. See below."
   ]
  },
  {
   "cell_type": "code",
   "execution_count": 8,
   "metadata": {},
   "outputs": [
    {
     "name": "stdout",
     "output_type": "stream",
     "text": [
      "8\n",
      "0\n",
      "1\n",
      "1\n"
     ]
    }
   ],
   "source": [
    "print(2 ** 3)\n",
    "\n",
    "print(2 // 3)\n",
    "print(4 // 3)\n",
    "\n",
    "print(10 % 3)"
   ]
  },
  {
   "cell_type": "markdown",
   "metadata": {},
   "source": [
    "So far we have only used integers, or numbers without decimal portions.\n",
    "\n",
    "But of course Python can also deal with numbers with decimals, and these numbers are called `floats`."
   ]
  },
  {
   "cell_type": "code",
   "execution_count": 14,
   "metadata": {},
   "outputs": [
    {
     "name": "stdout",
     "output_type": "stream",
     "text": [
      "1.71\n"
     ]
    }
   ],
   "source": [
    "print(1.7 + 0.01)"
   ]
  },
  {
   "cell_type": "markdown",
   "metadata": {},
   "source": [
    "#### Exercise #1\n",
    "Use the `print()` function to output the result of dividing 5 by 7."
   ]
  },
  {
   "cell_type": "code",
   "execution_count": null,
   "metadata": {},
   "outputs": [],
   "source": [
    "# Your code here"
   ]
  },
  {
   "cell_type": "markdown",
   "metadata": {},
   "source": [
    "## Strings"
   ]
  },
  {
   "cell_type": "markdown",
   "metadata": {},
   "source": [
    "Another common data type in Python is strings, or sequences of characters. These are surrounded by \"\".\n",
    "Below are some examples."
   ]
  },
  {
   "cell_type": "code",
   "execution_count": 19,
   "metadata": {},
   "outputs": [
    {
     "name": "stdout",
     "output_type": "stream",
     "text": [
      "123\n",
      "abc\n"
     ]
    }
   ],
   "source": [
    "print(\"123\")\n",
    "print(\"abc\")"
   ]
  },
  {
   "cell_type": "markdown",
   "metadata": {},
   "source": [
    "You can create new strings by putting together two other strings. This is done with the `+` operator."
   ]
  },
  {
   "cell_type": "code",
   "execution_count": 23,
   "metadata": {},
   "outputs": [
    {
     "name": "stdout",
     "output_type": "stream",
     "text": [
      "String1&String2\n"
     ]
    }
   ],
   "source": [
    "print(\"String1\" + \"&\" + \"String2\")"
   ]
  },
  {
   "cell_type": "markdown",
   "metadata": {},
   "source": [
    "Python also makes it easy to choose specific characters from a string.\n",
    "\n",
    "This is done with square brackets `[]` right after a string.\n",
    "\n",
    "You can select an individual character by enclosing the index of that character in the brackets.\n",
    "\n",
    "NOTE: Python uses zero-indexing, meaning the first element has index 0, the second element has index 1, etc."
   ]
  },
  {
   "cell_type": "code",
   "execution_count": 31,
   "metadata": {},
   "outputs": [
    {
     "name": "stdout",
     "output_type": "stream",
     "text": [
      "a\n",
      "d\n"
     ]
    }
   ],
   "source": [
    "print(\"abcdefgh\"[0])\n",
    "print(\"abcdefgh\"[3])"
   ]
  },
  {
   "cell_type": "markdown",
   "metadata": {},
   "source": [
    "You can also select a range of characters. \n",
    "\n",
    "In the square brackets type the index of the first character you want to choose, then a colon `:`, then one more than the index of the last character you want.\n",
    "\n",
    "This ensures that the difference of the second number you type and the first number you type is the number of characters returned."
   ]
  },
  {
   "cell_type": "code",
   "execution_count": 33,
   "metadata": {},
   "outputs": [
    {
     "name": "stdout",
     "output_type": "stream",
     "text": [
      "ab\n",
      "defg\n"
     ]
    }
   ],
   "source": [
    "print(\"abcdefgh\"[0:2])\n",
    "print(\"abcdefgh\"[3:7])"
   ]
  },
  {
   "cell_type": "markdown",
   "metadata": {},
   "source": [
    "If you want your range to start from the beginning of the string, leave the first number blank. Similarly, if you want your range to go until the end of the string, leave the second number blank."
   ]
  },
  {
   "cell_type": "code",
   "execution_count": 37,
   "metadata": {},
   "outputs": [
    {
     "name": "stdout",
     "output_type": "stream",
     "text": [
      "fgh\n",
      "ab\n",
      "abcdefgh\n"
     ]
    }
   ],
   "source": [
    "print(\"abcdefgh\"[5:])\n",
    "print(\"abcdefgh\"[:2])\n",
    "print(\"abcdefgh\"[:])"
   ]
  },
  {
   "cell_type": "markdown",
   "metadata": {},
   "source": [
    "Also, you can start counting from the back of a string using a negative sign.\n",
    "\n",
    "So, for example, an index of -1 refers to the last character, and -2 refers to the second to last character."
   ]
  },
  {
   "cell_type": "code",
   "execution_count": 62,
   "metadata": {},
   "outputs": [
    {
     "name": "stdout",
     "output_type": "stream",
     "text": [
      "bcdefg\n",
      "b\n",
      "fg\n"
     ]
    }
   ],
   "source": [
    "print(\"abcdefgh\"[1:-1])\n",
    "print(\"abcdefgh\"[1:-6])\n",
    "print(\"abcdefgh\"[-3:-1])"
   ]
  },
  {
   "cell_type": "markdown",
   "metadata": {},
   "source": [
    "#### Exercise #2\n",
    "Pring out the results of joining the strings \"Hello\" and \" World\" together and then selecting first five characters of the new combined string."
   ]
  },
  {
   "cell_type": "code",
   "execution_count": null,
   "metadata": {},
   "outputs": [],
   "source": [
    "# Your code here"
   ]
  },
  {
   "cell_type": "markdown",
   "metadata": {},
   "source": [
    "## Booleans"
   ]
  },
  {
   "cell_type": "markdown",
   "metadata": {},
   "source": [
    "Another important data type is the boolean, which is either the value `True` or the value `False`.\n",
    "These are typed without quotes, differentiating them from strings."
   ]
  },
  {
   "cell_type": "code",
   "execution_count": 41,
   "metadata": {},
   "outputs": [
    {
     "name": "stdout",
     "output_type": "stream",
     "text": [
      "True\n",
      "False\n"
     ]
    }
   ],
   "source": [
    "print(True)\n",
    "print(False)"
   ]
  },
  {
   "cell_type": "markdown",
   "metadata": {},
   "source": [
    "Booleans are usually seen as the result of some sort of test.\n",
    "\n",
    "To test for equality of numbers and strings, make sure to use two equal signs `==`. Then testing if things are NOT equal uses the operator `!=`.\n",
    "\n",
    "We can also compare these types using the following symbols: `<`, `<=`, `>`, `>=`. For numbers the meanings of these comparators is straight forward. For strings, it ignores case and looks at the alphabetical order of the characters, and non-alphabetic characters are considered less than alphabetic characters."
   ]
  },
  {
   "cell_type": "code",
   "execution_count": 3,
   "metadata": {},
   "outputs": [
    {
     "name": "stdout",
     "output_type": "stream",
     "text": [
      "False\n",
      "True\n",
      "False\n",
      "True\n",
      "True\n",
      "True\n",
      "True\n"
     ]
    }
   ],
   "source": [
    "print(1 == 2)\n",
    "print(1 != 2)\n",
    "\n",
    "print(2 < 1)\n",
    "\n",
    "print(\"c\" == \"c\")\n",
    "\n",
    "print(\"a\" < \"b\")\n",
    "print(\"A\" < \"b\")\n",
    "\n",
    "print(\"1\" <= \"A\")"
   ]
  },
  {
   "cell_type": "markdown",
   "metadata": {},
   "source": [
    "Sometimes it is also helpful to chain together multiple tests into one large test. For that we can use the logical operators `and` as well as `or`.\n",
    "\n",
    "Then `(test1) and (test2)` is `True` only if both `test1` and `test2` are true. If at least one of `test1` or `test2` is false, then the overall test is `False`.\n",
    "\n",
    "Next consider `(test1) or (test2)`. The overall test is `True` if `test1`, `test2`, or both are `True`. The overall test is `False` only if both `test1` and `test2` are `False`."
   ]
  },
  {
   "cell_type": "code",
   "execution_count": 80,
   "metadata": {},
   "outputs": [
    {
     "name": "stdout",
     "output_type": "stream",
     "text": [
      "True\n",
      "False\n",
      "True\n",
      "False\n"
     ]
    }
   ],
   "source": [
    "print((1 == 1) and (2 != 1))\n",
    "print((5 > 1) and (5 < 1))\n",
    "\n",
    "print((\"Test\" == \"Test\") or (\"Test\" != \"Test\"))\n",
    "print((\"1\" > \"2\") and (\"1\" >= \"2\"))"
   ]
  },
  {
   "cell_type": "markdown",
   "metadata": {},
   "source": [
    "When comparing booleans, things are a little different.\n",
    "\n",
    "Instead of using `==` to test for equality, we use the keyword `is`. Also, instead of using `!=` for inequality, we use the two keywords `is not`."
   ]
  },
  {
   "cell_type": "code",
   "execution_count": 4,
   "metadata": {},
   "outputs": [
    {
     "name": "stdout",
     "output_type": "stream",
     "text": [
      "True\n",
      "True\n"
     ]
    }
   ],
   "source": [
    "print(True is True)\n",
    "print(True is not False)"
   ]
  },
  {
   "cell_type": "markdown",
   "metadata": {},
   "source": [
    "## Variables"
   ]
  },
  {
   "cell_type": "markdown",
   "metadata": {},
   "source": [
    "So far we have only used various data types once. But for most applications we will want to save values to use later.\n",
    "\n",
    "This is what variables are for. They give a name to a piece of data so you can refer to or alter it later.\n",
    "\n",
    "To create the variable just put the name of the variable you want to create, an equal sign, and the piece of data you want to be referenced by your variable.\n",
    "\n",
    "You can then reference your variable later by typing its name."
   ]
  },
  {
   "cell_type": "code",
   "execution_count": 63,
   "metadata": {},
   "outputs": [
    {
     "name": "stdout",
     "output_type": "stream",
     "text": [
      "5\n"
     ]
    }
   ],
   "source": [
    "# create var1 variable\n",
    "var1 = 1\n",
    "\n",
    "# change var1 variable so that it refers to its old value plus 1\n",
    "var1 = var1 + 1\n",
    "\n",
    "# create var2 variable\n",
    "var2 = 3\n",
    "\n",
    "# create sum variable which is the result of adding var1 and var2\n",
    "sum = var1 + var2\n",
    "\n",
    "# print out sum variable\n",
    "print(sum)"
   ]
  },
  {
   "cell_type": "markdown",
   "metadata": {},
   "source": [
    "Python is a dynamically typed language, meaning you do not have to explicitly say what type of data a variable references. This also means that a variable is very flexible and can change its type whenever you want."
   ]
  },
  {
   "cell_type": "code",
   "execution_count": 5,
   "metadata": {},
   "outputs": [
    {
     "name": "stdout",
     "output_type": "stream",
     "text": [
      "1\n",
      "one\n"
     ]
    }
   ],
   "source": [
    "num = 1\n",
    "print(num)\n",
    "num = \"one\"\n",
    "print(num)"
   ]
  },
  {
   "cell_type": "markdown",
   "metadata": {},
   "source": [
    "#### Exercise #3\n",
    "Save the result of multiplying 2 by 9 to a variable called `result`. Then, print out `result`."
   ]
  },
  {
   "cell_type": "code",
   "execution_count": 6,
   "metadata": {},
   "outputs": [],
   "source": [
    "# Your code here"
   ]
  },
  {
   "cell_type": "markdown",
   "metadata": {},
   "source": [
    "## Collections of data: Lists"
   ]
  },
  {
   "cell_type": "markdown",
   "metadata": {},
   "source": [
    "So far we have only looked at single pieces of data at a time, be that a single number or a single sequence of characters in the form of a string.\n",
    "\n",
    "But many times, especially for Data Science, we want to look at collections of multiple individual pieces of data.\n",
    "\n",
    "One of the simplest forms of collections is a list. It is a one-dimensional collection with a finite number of values that are ordered. The same value can appear multiple times in a list.\n",
    "\n",
    "Lists are created by typing square brackets `[]` with the individual values separated by commas."
   ]
  },
  {
   "cell_type": "code",
   "execution_count": 94,
   "metadata": {},
   "outputs": [
    {
     "name": "stdout",
     "output_type": "stream",
     "text": [
      "[1, 2, 5, 7]\n",
      "[1, 'one', '1']\n"
     ]
    }
   ],
   "source": [
    "# make a list of just numbers\n",
    "nums = [1, 2, 5, 7]\n",
    "print(nums)\n",
    "\n",
    "# make list of different types\n",
    "otherList = [1, \"one\", \"1\"]\n",
    "print(otherList)"
   ]
  },
  {
   "cell_type": "markdown",
   "metadata": {},
   "source": [
    "Accessing and changing elements of a list uses a fairly similar strategy to accessing individual characters in a string from before.\n",
    "\n",
    "Directly after an actual list or a variable referencing a list, use square brackets and indices to select values from the list."
   ]
  },
  {
   "cell_type": "code",
   "execution_count": 92,
   "metadata": {},
   "outputs": [
    {
     "name": "stdout",
     "output_type": "stream",
     "text": [
      "1\n",
      "banana\n"
     ]
    }
   ],
   "source": [
    "# get first element from list created above\n",
    "print(nums[0])\n",
    "\n",
    "# get second element from a new list\n",
    "print([\"apple\", \"banana\", \"cherry\"][1])"
   ]
  },
  {
   "cell_type": "markdown",
   "metadata": {},
   "source": [
    "#### Exercise #5\n",
    "Create a list containing the strings \"USA\", \"Iowa\", and \"Grinnell\" and save it to variable. Then select the first two elements using square brackets `[]` and a `colon`. \n",
    "\n",
    "Hint: look back at the section on strings to remember how to select multiple indices at once."
   ]
  },
  {
   "cell_type": "code",
   "execution_count": null,
   "metadata": {},
   "outputs": [],
   "source": [
    "# Your code here"
   ]
  },
  {
   "cell_type": "markdown",
   "metadata": {},
   "source": [
    "## Functions"
   ]
  },
  {
   "cell_type": "markdown",
   "metadata": {},
   "source": [
    "Functions are very important in programming. They take various inputs, run lines of code, and potentially return an output.\n",
    "\n",
    "They allow you to write code once and then use it over and over again with just a simple call to the function. Here we will only be using functions other people have already written, so let's focus on using a function.\n",
    "\n",
    "We have already actually done this already. `print()` is function that takes a single input, like a number, and then prints it out at the bottom of a code chunk.\n",
    "\n",
    "So to call a function, start by writing the name of the function and an open parentheses `(`. Then type the various inputs separated by commas, and then lastly type a close parentheses `)`. The order in which you type in the inputs matters, and Python will match things up. But if you want to make sure that the input is doing what you thing, you can put the name of the input before the value separated with an equal sign `=`.\n",
    "\n",
    "An example is below. We are using the `round()` function, which has two parameters. First we type the number that is being rounded, and second we type to how many digits we are rounding. The name of this second input is `ndigits`, so to be sure things are matched up well we type `ndigits=1` inside our parentheses. But by default the second input is `ndigits`, so we really do not need to be that specific here."
   ]
  },
  {
   "cell_type": "code",
   "execution_count": 19,
   "metadata": {},
   "outputs": [
    {
     "data": {
      "text/plain": [
       "5.1"
      ]
     },
     "execution_count": 19,
     "metadata": {},
     "output_type": "execute_result"
    }
   ],
   "source": [
    "# make things are matched up with ndigits\n",
    "round(5.1234, ndigits=1)"
   ]
  },
  {
   "cell_type": "code",
   "execution_count": 7,
   "metadata": {},
   "outputs": [
    {
     "data": {
      "text/plain": [
       "5.1"
      ]
     },
     "execution_count": 7,
     "metadata": {},
     "output_type": "execute_result"
    }
   ],
   "source": [
    "# however, things are matched up on their own\n",
    "round(5.1234, 1)"
   ]
  },
  {
   "cell_type": "markdown",
   "metadata": {},
   "source": [
    "## Classes and Objects"
   ]
  },
  {
   "cell_type": "markdown",
   "metadata": {},
   "source": [
    "Python is an object-oriented programming language. This means that the language makes use of classes and objects.\n",
    "\n",
    "A class is like a template or blueprint for a data type. It has fields, or values, and methods, or functions that can be called on things of the class.\n",
    "\n",
    "Below is an example of a class called `SimpleClass`. This class has two fields, `x` and `y`, and one method, `sum`, that adds the two fields together and returns the result. Don't worry about all the details here. We will not be building classes but rather using ones others have built."
   ]
  },
  {
   "cell_type": "code",
   "execution_count": 41,
   "metadata": {},
   "outputs": [],
   "source": [
    "class SimpleClass:\n",
    "    x = 1\n",
    "    y = 2\n",
    "\n",
    "    def sum(self, z):\n",
    "        return self.x + self.y + z"
   ]
  },
  {
   "cell_type": "markdown",
   "metadata": {},
   "source": [
    "Then an object is a filled-in version of the class. We use the template of the class to build an actual object of which we can access fields and call methods.\n",
    "\n",
    "Below we create an object from our `SimpleClass` and save that object to the variable titled `object`."
   ]
  },
  {
   "cell_type": "code",
   "execution_count": 42,
   "metadata": {},
   "outputs": [],
   "source": [
    "object = SimpleClass()"
   ]
  },
  {
   "cell_type": "markdown",
   "metadata": {},
   "source": [
    "The field of an object can be accessed by typing the variable containing the object, then a period `.`, and then the name of the field you want.\n",
    "\n",
    "Below we access the `x` and then the `y` field of our object."
   ]
  },
  {
   "cell_type": "code",
   "execution_count": 43,
   "metadata": {},
   "outputs": [
    {
     "name": "stdout",
     "output_type": "stream",
     "text": [
      "1\n",
      "2\n"
     ]
    }
   ],
   "source": [
    "print(object.x)\n",
    "print(object.y)"
   ]
  },
  {
   "cell_type": "markdown",
   "metadata": {},
   "source": [
    "Then methods can be run by typing the variable containing the object, then a period `.`, then the name of the method, followed by parentheses containing sometimes inputs.\n",
    "\n",
    "Below we call our `sum` method. Once we make `z=0` in our method so our sum is just `x+y`. The other time we give an input of 3 meaning the result is `x+y+3`."
   ]
  },
  {
   "cell_type": "code",
   "execution_count": 45,
   "metadata": {},
   "outputs": [
    {
     "name": "stdout",
     "output_type": "stream",
     "text": [
      "3\n",
      "6\n"
     ]
    }
   ],
   "source": [
    "print(object.sum(0))\n",
    "print(object.sum(3))"
   ]
  },
  {
   "cell_type": "markdown",
   "metadata": {},
   "source": [
    "Some of the data types we have come across already are actually objects stemming from classes.\n",
    "\n",
    "For example, there is a string class, and everytime we type characters between double quotes we are actually creating an object."
   ]
  },
  {
   "cell_type": "code",
   "execution_count": 53,
   "metadata": {},
   "outputs": [],
   "source": [
    "stringObject = \"aBc,123\""
   ]
  },
  {
   "cell_type": "markdown",
   "metadata": {},
   "source": [
    "Strings actually have a lot of useful methods, a few of which we show below."
   ]
  },
  {
   "cell_type": "code",
   "execution_count": 56,
   "metadata": {},
   "outputs": [
    {
     "name": "stdout",
     "output_type": "stream",
     "text": [
      "abc,123\n",
      "ABC,123\n",
      "['aBc', '123']\n",
      "0\n"
     ]
    }
   ],
   "source": [
    "# makes all characters lowercase\n",
    "print(stringObject.lower())\n",
    "\n",
    "# makes all characters uppercase\n",
    "print(stringObject.upper())\n",
    "\n",
    "# split the string on its commas, which was specified as an input\n",
    "# Returns a list containing the various parts after splitting\n",
    "print(stringObject.split(\",\"))\n",
    "\n",
    "# Returns the index of the character \"a\" in the string object\n",
    "print(stringObject.find(\"a\"))"
   ]
  },
  {
   "cell_type": "markdown",
   "metadata": {},
   "source": [
    "Lists are also a class, meaning actual lists we create are objects, which have methods."
   ]
  },
  {
   "cell_type": "code",
   "execution_count": 61,
   "metadata": {},
   "outputs": [
    {
     "name": "stdout",
     "output_type": "stream",
     "text": [
      "[1, 4, 52, 4]\n",
      "[52, 4, 4, 1]\n"
     ]
    }
   ],
   "source": [
    "# create list object\n",
    "ls = [1, 4, 52]\n",
    "\n",
    "# add the number 4 to the end of the list\n",
    "ls.append(4)\n",
    "print(ls)\n",
    "\n",
    "# Returns the number of 4's in the list\n",
    "ls.count(4)\n",
    "\n",
    "# Sorts the list in descending order\n",
    "ls.sort(reverse = True)\n",
    "print(ls)"
   ]
  },
  {
   "cell_type": "markdown",
   "metadata": {},
   "source": [
    "#### Exercise #6\n",
    "\n",
    "Create an empty list and save it to a variable. An empty list is just square brackets with nothing in them `[]`.\n",
    "\n",
    "Then use the append method on your variable to add the numbers 5, 6, and 7 in that order to your list.\n",
    "\n",
    "Finally, print out your list."
   ]
  },
  {
   "cell_type": "code",
   "execution_count": null,
   "metadata": {},
   "outputs": [],
   "source": [
    "# Your code here"
   ]
  },
  {
   "cell_type": "markdown",
   "metadata": {},
   "source": [
    "## Loops"
   ]
  },
  {
   "cell_type": "markdown",
   "metadata": {},
   "source": [
    "Sometimes we want to do a similar task over and over again. One option to do this is write each line of code, making the slight adjustment we need to each time.\n",
    "\n",
    "For example, we can print out the numbers 1 to 5 the following way:"
   ]
  },
  {
   "cell_type": "code",
   "execution_count": null,
   "metadata": {},
   "outputs": [
    {
     "name": "stdout",
     "output_type": "stream",
     "text": [
      "1\n",
      "2\n",
      "3\n",
      "4\n",
      "5\n"
     ]
    }
   ],
   "source": [
    "print(1)\n",
    "print(2)\n",
    "print(3)\n",
    "print(4)\n",
    "print(5)"
   ]
  },
  {
   "cell_type": "markdown",
   "metadata": {},
   "source": [
    "But what if we want to print out the numbers 1 to 20? Then typing out 20 commands would be really time consuming, and it is also pretty easy to make a typo this way.\n",
    "\n",
    "Instead, Python allows us to make loops, which perform certain actions a specified number of times. We create a variable and assign it to each number in a range, each time running a specific command.\n",
    "\n",
    "For example, let's use a loop to print out the numbers 1 to 5.\n",
    "\n",
    "We use the keyword `for` followed by the variable we want to create, in this case `i`. We then use the keyword `in` followed by the `range()` function, which tells Python want range of numbers we want to consider.\n",
    "\n",
    "If you only give `range()` one input, then your variable `i` will take on values from 0 to that input minus 1.\n",
    "\n",
    "Then you write a colon, with the statement you want repeated below what you have already written and indented. This statement will be repeated a number of times equal to your input, meaning in this case our statement will run 5 times. But each time it runs, `i` will be the next number in the range. \n",
    "\n",
    "First `i` will be 0, then 1, then 2, then 3, and lastly 4. To make it so the numbers 1 to 5 are printed instead of 0 to 4, we add a `+1` inside our print statement."
   ]
  },
  {
   "cell_type": "code",
   "execution_count": null,
   "metadata": {},
   "outputs": [
    {
     "name": "stdout",
     "output_type": "stream",
     "text": [
      "1\n",
      "2\n",
      "3\n",
      "4\n",
      "5\n"
     ]
    }
   ],
   "source": [
    "for i in range(5):\n",
    "    print(i+1)"
   ]
  },
  {
   "cell_type": "markdown",
   "metadata": {},
   "source": [
    "#### Exercise #4\n",
    "\n",
    "Use a for loop to print out the string \"Hello\" 7 times."
   ]
  },
  {
   "cell_type": "code",
   "execution_count": null,
   "metadata": {},
   "outputs": [],
   "source": [
    "# Your code goes here"
   ]
  },
  {
   "cell_type": "markdown",
   "metadata": {},
   "source": [
    "## Importing Modules"
   ]
  },
  {
   "cell_type": "markdown",
   "metadata": {},
   "source": [
    "Sometimes we have to write our own functions and classes. But usually the things we want have already been written by someone else. It saves us a lot of time then, to reuse other people's code.\n",
    "\n",
    "This is where modules come into play. Modules are collections of classes, objects, and functions that are all ready to use. All you have to do to use the things in them is import the module. This is done by typing the keyword `import` followed by the name of the module."
   ]
  },
  {
   "cell_type": "code",
   "execution_count": 2,
   "metadata": {},
   "outputs": [],
   "source": [
    "import numpy"
   ]
  },
  {
   "cell_type": "markdown",
   "metadata": {},
   "source": [
    "Then everytime you want to use a function or object from the module you imported, you have to type the name of the module, a dot `.`, and then the name of the thing in the module you want to use."
   ]
  },
  {
   "cell_type": "code",
   "execution_count": 21,
   "metadata": {},
   "outputs": [
    {
     "data": {
      "text/plain": [
       "array([1, 2, 4])"
      ]
     },
     "execution_count": 21,
     "metadata": {},
     "output_type": "execute_result"
    }
   ],
   "source": [
    "# create a NumPy array object. \n",
    "# You will more about this in the first session\n",
    "numpy.array([1,2,4])"
   ]
  },
  {
   "cell_type": "markdown",
   "metadata": {},
   "source": [
    "Typing out the full name of the module each time you want to use something in it can get a little annoying. If you want to give your module a new name (maybe a shorter one) that you can use to refer to it, you can use the `as` keyword after the import statement."
   ]
  },
  {
   "cell_type": "code",
   "execution_count": 22,
   "metadata": {},
   "outputs": [
    {
     "data": {
      "text/plain": [
       "array([1, 2, 4])"
      ]
     },
     "execution_count": 22,
     "metadata": {},
     "output_type": "execute_result"
    }
   ],
   "source": [
    "# import with abbreviation np\n",
    "import numpy as np\n",
    "# create another NumPy array object using abbreviation\n",
    "np.array([1,2,4])"
   ]
  },
  {
   "cell_type": "markdown",
   "metadata": {},
   "source": [
    "Lastly, some modules can be really big. Importing every single class and function from a module could take up extra space on your computer and slow it down. To avoid this, you can specify which exact things should be taken from the module.\n",
    "\n",
    "Just type `from` followed by the module name, and then type `import` followed by the specific things you want.\n",
    "\n",
    "The only problem is that now you are forced to type out the full name of the module."
   ]
  },
  {
   "cell_type": "code",
   "execution_count": 14,
   "metadata": {},
   "outputs": [
    {
     "data": {
      "text/plain": [
       "7"
      ]
     },
     "execution_count": 14,
     "metadata": {},
     "output_type": "execute_result"
    }
   ],
   "source": [
    "# just get the array class and the sum function from NumPy\n",
    "from numpy import array, sum\n",
    "# Find the sum of a NumPy array\n",
    "numpy.sum(numpy.array([1,2,4]))"
   ]
  }
 ],
 "metadata": {
  "interpreter": {
   "hash": "31f2aee4e71d21fbe5cf8b01ff0e069b9275f58929596ceb00d14d90e3e16cd6"
  },
  "kernelspec": {
   "display_name": "Python 3.7.3 64-bit",
   "language": "python",
   "name": "python3"
  },
  "language_info": {
   "codemirror_mode": {
    "name": "ipython",
    "version": 3
   },
   "file_extension": ".py",
   "mimetype": "text/x-python",
   "name": "python",
   "nbconvert_exporter": "python",
   "pygments_lexer": "ipython3",
   "version": "3.9.6"
  },
  "orig_nbformat": 4
 },
 "nbformat": 4,
 "nbformat_minor": 2
}
