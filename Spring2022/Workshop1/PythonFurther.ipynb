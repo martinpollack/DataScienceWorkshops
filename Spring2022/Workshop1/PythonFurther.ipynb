{
 "cells": [
  {
   "cell_type": "markdown",
   "metadata": {},
   "source": [
    "# Python Basic Data Structures 2\n",
    "## Topics: String, List, Dictionary, Conditional Statements, Loops, Functions"
   ]
  },
  {
   "cell_type": "markdown",
   "metadata": {},
   "source": [
    "## Strings"
   ]
  },
  {
   "cell_type": "markdown",
   "metadata": {},
   "source": [
    "String literals can be enclosed in matching single quotes (') or double quotes (\"); either is fine. Let's see an example:"
   ]
  },
  {
   "cell_type": "code",
   "execution_count": 75,
   "metadata": {},
   "outputs": [
    {
     "name": "stdout",
     "output_type": "stream",
     "text": [
      "How are you?\n",
      "<class 'str'>\n"
     ]
    }
   ],
   "source": [
    "s = \"How are you?\"\n",
    "print(s)\n",
    "\n",
    "# Get the data type of s\n",
    "print(type(s))"
   ]
  },
  {
   "cell_type": "markdown",
   "metadata": {},
   "source": [
    "The <b>len</b> function is a built-in function of Python, which is widely used for getting the length of a list of any type. "
   ]
  },
  {
   "cell_type": "code",
   "execution_count": 76,
   "metadata": {},
   "outputs": [
    {
     "data": {
      "text/plain": [
       "12"
      ]
     },
     "execution_count": 76,
     "metadata": {},
     "output_type": "execute_result"
    }
   ],
   "source": [
    "len(s)"
   ]
  },
  {
   "cell_type": "markdown",
   "metadata": {},
   "source": [
    "The <b>in</b> operator returns True if one string is a substring of another."
   ]
  },
  {
   "cell_type": "code",
   "execution_count": 77,
   "metadata": {},
   "outputs": [
    {
     "name": "stdout",
     "output_type": "stream",
     "text": [
      "True\n",
      "False\n"
     ]
    }
   ],
   "source": [
    "s1 = \"hello\"\n",
    "s2 = \"hell\"\n",
    "s3 = \"world\"\n",
    "print(s2 in s1)\n",
    "print(s3 in s1)"
   ]
  },
  {
   "cell_type": "markdown",
   "metadata": {},
   "source": [
    "#### String Method"
   ]
  },
  {
   "cell_type": "code",
   "execution_count": 78,
   "metadata": {},
   "outputs": [
    {
     "data": {
      "text/plain": [
       "'This is text'"
      ]
     },
     "execution_count": 78,
     "metadata": {},
     "output_type": "execute_result"
    }
   ],
   "source": [
    "s = \"This is text\"\n",
    "s"
   ]
  },
  {
   "cell_type": "code",
   "execution_count": 79,
   "metadata": {},
   "outputs": [
    {
     "name": "stdout",
     "output_type": "stream",
     "text": [
      "THIS IS TEXT\n",
      "this is text\n",
      "2\n"
     ]
    }
   ],
   "source": [
    "# change s is all uppercase, sumbols and numbers are ignored\n",
    "print(s.upper())\n",
    "\n",
    "# change s to all lowercse\n",
    "print(s.lower())\n",
    "\n",
    "# count number of occurence of an alement in the string\n",
    "print(s.count(\"is \"))"
   ]
  },
  {
   "cell_type": "markdown",
   "metadata": {},
   "source": [
    "Note that all strings and string methods in Python are case sensitve"
   ]
  },
  {
   "cell_type": "code",
   "execution_count": 80,
   "metadata": {},
   "outputs": [
    {
     "name": "stdout",
     "output_type": "stream",
     "text": [
      " \tThis is a text.\n",
      "\n",
      "This is a text.\n",
      "This-is-a-text.\n"
     ]
    }
   ],
   "source": [
    "s = \" \\tThis is a text.\\n\"     # \\t: tab, \\n: new line\n",
    "print(s)\n",
    "\n",
    "# remove any leading or trailling space\n",
    "s = s.strip()\n",
    "print(s)\n",
    "\n",
    "# replace a specificed values with another specified value\n",
    "s = s.replace(\" \", \"-\")\n",
    "print(s)"
   ]
  },
  {
   "cell_type": "markdown",
   "metadata": {
    "id": "1NXrE-m74y95"
   },
   "source": [
    "## Exercises - Strings"
   ]
  },
  {
   "cell_type": "code",
   "execution_count": 81,
   "metadata": {
    "id": "De4U9c4J4y95"
   },
   "outputs": [],
   "source": [
    "s = \"I'm learning Python data analytics.\""
   ]
  },
  {
   "cell_type": "markdown",
   "metadata": {
    "id": "TDB_cVNY4y95"
   },
   "source": [
    "Get the type of `s`."
   ]
  },
  {
   "cell_type": "code",
   "execution_count": 82,
   "metadata": {
    "id": "_NoSJ5oc4y95"
   },
   "outputs": [],
   "source": [
    "# Your answer here"
   ]
  },
  {
   "cell_type": "markdown",
   "metadata": {
    "id": "4qR-Bwe84y95"
   },
   "source": [
    "Get the first character in `s`."
   ]
  },
  {
   "cell_type": "code",
   "execution_count": 83,
   "metadata": {
    "id": "m7VEC8bo4y96"
   },
   "outputs": [],
   "source": [
    "# Your answer here"
   ]
  },
  {
   "cell_type": "markdown",
   "metadata": {
    "id": "kSsHcMAT4y96"
   },
   "source": [
    "Get the last character in `s`."
   ]
  },
  {
   "cell_type": "code",
   "execution_count": 84,
   "metadata": {
    "id": "EKPLj9Vx4y96"
   },
   "outputs": [],
   "source": [
    "# Your answer here"
   ]
  },
  {
   "cell_type": "markdown",
   "metadata": {
    "id": "ctzJAKse4y97"
   },
   "source": [
    "Get the first 3 characters in `s`. "
   ]
  },
  {
   "cell_type": "code",
   "execution_count": 85,
   "metadata": {
    "id": "8Pg7Re1o4y97"
   },
   "outputs": [],
   "source": [
    "# Your answer here"
   ]
  },
  {
   "cell_type": "markdown",
   "metadata": {
    "id": "_Cj6WKs_4y97"
   },
   "source": [
    "Get the last 10 characters in `s`."
   ]
  },
  {
   "cell_type": "code",
   "execution_count": 86,
   "metadata": {
    "id": "e1TXM42S4y97"
   },
   "outputs": [],
   "source": [
    "# Your answer here"
   ]
  },
  {
   "cell_type": "markdown",
   "metadata": {
    "id": "klEBgGOK4y97"
   },
   "source": [
    "Check if the substring <i>Python</i> is in `s`."
   ]
  },
  {
   "cell_type": "code",
   "execution_count": 87,
   "metadata": {
    "id": "VleeIqlx4y99"
   },
   "outputs": [],
   "source": [
    "# Your answer here "
   ]
  },
  {
   "cell_type": "markdown",
   "metadata": {
    "id": "hAZZU0oK4y9-"
   },
   "source": [
    "Get only the <i>Python</i> part in `s`. (Use slicing.)"
   ]
  },
  {
   "cell_type": "code",
   "execution_count": 88,
   "metadata": {
    "id": "D_0Bypd_4y9_"
   },
   "outputs": [],
   "source": [
    "# Your answer here"
   ]
  },
  {
   "cell_type": "markdown",
   "metadata": {
    "id": "vrXyQtB24y9_"
   },
   "source": [
    "Get the lower-case version of `s`. "
   ]
  },
  {
   "cell_type": "code",
   "execution_count": 89,
   "metadata": {
    "id": "RrjvFwT54y9_"
   },
   "outputs": [],
   "source": [
    "# Your answer here"
   ]
  },
  {
   "cell_type": "markdown",
   "metadata": {
    "id": "5zNEVU1R4y9_"
   },
   "source": [
    "Count the number of <i>yt</i>'s in `s`. "
   ]
  },
  {
   "cell_type": "code",
   "execution_count": 90,
   "metadata": {
    "id": "MYipcpkw4y-A"
   },
   "outputs": [],
   "source": [
    "# Your answer here"
   ]
  },
  {
   "cell_type": "markdown",
   "metadata": {
    "id": "WNiUvabM4y-A"
   },
   "source": [
    "Remove all whitespaces in `s`. (Use <b>replace</b>.)"
   ]
  },
  {
   "cell_type": "code",
   "execution_count": 91,
   "metadata": {
    "id": "LOn0q22w4y-A"
   },
   "outputs": [],
   "source": [
    "# Your answer here"
   ]
  },
  {
   "cell_type": "markdown",
   "metadata": {
    "id": "VfsHf-4e4y-A"
   },
   "source": [
    "Remove the trailing period in `s` and then split it into a list of word tokens. (Use dot notation.)"
   ]
  },
  {
   "cell_type": "code",
   "execution_count": 92,
   "metadata": {
    "id": "CmohZT0h4y-A"
   },
   "outputs": [],
   "source": [
    "# Your answer here"
   ]
  },
  {
   "cell_type": "code",
   "execution_count": null,
   "metadata": {},
   "outputs": [],
   "source": [
    "# List\n",
    "spring_classes = ['CSC151', 'STA310', 'STA395', 'CSC151', 'MAT215']\n",
    "\n",
    "# Tuple \n",
    "inventory_price = ('Textbook', 100)\n",
    "\n",
    "# Dictionary \n",
    "my_college = {'college': 'Grinnell College', 'state': 'Iowa', 'ranking': 12}\n",
    "\n",
    "# Set\n",
    "student_mentors = {'Linh', 'Britney', 'Martin', 'Chris', 'Sergio'}"
   ]
  },
  {
   "cell_type": "markdown",
   "metadata": {
    "id": "-Ii-esDF4y-B"
   },
   "source": [
    "## Lists"
   ]
  },
  {
   "cell_type": "markdown",
   "metadata": {
    "id": "470BmDi54y-B"
   },
   "source": [
    "A list is a collection that is ordered, mutable, indexed, and written with square brackets. It allows duplicate members."
   ]
  },
  {
   "cell_type": "code",
   "execution_count": 93,
   "metadata": {
    "id": "QrdDqXaA4y-B"
   },
   "outputs": [
    {
     "name": "stdout",
     "output_type": "stream",
     "text": [
      "[] <class 'list'>\n"
     ]
    }
   ],
   "source": [
    "l = []\n",
    "print(l, type(l))"
   ]
  },
  {
   "cell_type": "markdown",
   "metadata": {
    "id": "uSelNJfa4y-C"
   },
   "source": [
    "List elements do not have to be of the same type."
   ]
  },
  {
   "cell_type": "code",
   "execution_count": 94,
   "metadata": {
    "id": "HH9T_Loi4y-B"
   },
   "outputs": [
    {
     "data": {
      "text/plain": [
       "[1, 2, 3, 'a', 'b', 'c']"
      ]
     },
     "execution_count": 94,
     "metadata": {},
     "output_type": "execute_result"
    }
   ],
   "source": [
    "l = [1, 2, 3, \"a\", \"b\", \"c\"]\n",
    "l"
   ]
  },
  {
   "cell_type": "markdown",
   "metadata": {
    "id": "CSZ5huig4y-E"
   },
   "source": [
    "The length of a list is the number of items in the list."
   ]
  },
  {
   "cell_type": "code",
   "execution_count": 95,
   "metadata": {
    "id": "ugkBlQZs4y-E"
   },
   "outputs": [
    {
     "data": {
      "text/plain": [
       "6"
      ]
     },
     "execution_count": 95,
     "metadata": {},
     "output_type": "execute_result"
    }
   ],
   "source": [
    "len(l)"
   ]
  },
  {
   "cell_type": "markdown",
   "metadata": {},
   "source": [
    "The <b>in</b> operator is exactly the same as in String"
   ]
  },
  {
   "cell_type": "code",
   "execution_count": 96,
   "metadata": {
    "id": "dk4QB4F14y-E"
   },
   "outputs": [
    {
     "data": {
      "text/plain": [
       "True"
      ]
     },
     "execution_count": 96,
     "metadata": {},
     "output_type": "execute_result"
    }
   ],
   "source": [
    "3 in l"
   ]
  },
  {
   "cell_type": "code",
   "execution_count": 97,
   "metadata": {
    "id": "_eZCLrmq4y-E",
    "scrolled": true
   },
   "outputs": [
    {
     "data": {
      "text/plain": [
       "False"
      ]
     },
     "execution_count": 97,
     "metadata": {},
     "output_type": "execute_result"
    }
   ],
   "source": [
    "\"z\" in l"
   ]
  },
  {
   "cell_type": "markdown",
   "metadata": {
    "id": "cNTkHwuC4y-F"
   },
   "source": [
    "### List Methods"
   ]
  },
  {
   "cell_type": "markdown",
   "metadata": {
    "id": "sLwpzcau4y-F"
   },
   "source": [
    "The easiest way to combine two lists is to use the + operator, just as combining two strings. "
   ]
  },
  {
   "cell_type": "code",
   "execution_count": 98,
   "metadata": {
    "id": "GdVAaTwU4y-F"
   },
   "outputs": [
    {
     "data": {
      "text/plain": [
       "[1, 2, 3, 'a', 'b', 'c']"
      ]
     },
     "execution_count": 98,
     "metadata": {},
     "output_type": "execute_result"
    }
   ],
   "source": [
    "l1 = [1, 2, 3]\n",
    "l2 = [\"a\", \"b\", \"c\"]\n",
    "l1 + l2"
   ]
  },
  {
   "cell_type": "markdown",
   "metadata": {
    "id": "c3eJcHeZ4y-G"
   },
   "source": [
    "The <b>append</b> method appends an element to the end of the list. Note that the <b>append</b> method actually appends a new element to the target list, not returning a copy. "
   ]
  },
  {
   "cell_type": "code",
   "execution_count": 99,
   "metadata": {
    "id": "KCBhIDgH4y-F"
   },
   "outputs": [
    {
     "data": {
      "text/plain": [
       "[1, 2, 3, 4]"
      ]
     },
     "execution_count": 99,
     "metadata": {},
     "output_type": "execute_result"
    }
   ],
   "source": [
    "l = [1, 2, 3]\n",
    "l.append(4)\n",
    "l"
   ]
  },
  {
   "cell_type": "markdown",
   "metadata": {
    "id": "l7hnDyNV4y-H"
   },
   "source": [
    "The <b>sort</b> method sorts the list in ascending order by default. Note that the <b>sort</b> method actually sorts the target list, not returning a copy. "
   ]
  },
  {
   "cell_type": "code",
   "execution_count": 100,
   "metadata": {
    "id": "Rif9eq584y-G"
   },
   "outputs": [
    {
     "data": {
      "text/plain": [
       "[1, 2, 3, 4, 5, 6]"
      ]
     },
     "execution_count": 100,
     "metadata": {},
     "output_type": "execute_result"
    }
   ],
   "source": [
    "l = [1, 6, 3, 4, 2, 5]\n",
    "l.sort()\n",
    "l"
   ]
  },
  {
   "cell_type": "markdown",
   "metadata": {
    "id": "dwNb-rKv4y-H"
   },
   "source": [
    "Setting the `reverse` parameter to True will sort the list in descending order."
   ]
  },
  {
   "cell_type": "code",
   "execution_count": 101,
   "metadata": {
    "id": "Zg5aeudQ4y-H"
   },
   "outputs": [
    {
     "data": {
      "text/plain": [
       "[6, 5, 4, 3, 2, 1]"
      ]
     },
     "execution_count": 101,
     "metadata": {},
     "output_type": "execute_result"
    }
   ],
   "source": [
    "l = [1, 6, 3, 4, 2, 5]\n",
    "l.sort(reverse=True)\n",
    "l"
   ]
  },
  {
   "cell_type": "markdown",
   "metadata": {
    "id": "LWPqNzZP4y-H"
   },
   "source": [
    "Python also has a built-in function <b>sorted</b>, which works the same as the <b>sort</b> method except that it returns a new copy. "
   ]
  },
  {
   "cell_type": "code",
   "execution_count": 102,
   "metadata": {
    "id": "WMGHJIot4y-H"
   },
   "outputs": [
    {
     "data": {
      "text/plain": [
       "[1, 2, 3, 4, 5, 6]"
      ]
     },
     "execution_count": 102,
     "metadata": {},
     "output_type": "execute_result"
    }
   ],
   "source": [
    "l = [1, 6, 3, 4, 2, 5]\n",
    "sorted(l)"
   ]
  },
  {
   "cell_type": "code",
   "execution_count": 103,
   "metadata": {
    "id": "KS558P4d4y-I"
   },
   "outputs": [
    {
     "data": {
      "text/plain": [
       "[6, 5, 4, 3, 2, 1]"
      ]
     },
     "execution_count": 103,
     "metadata": {},
     "output_type": "execute_result"
    }
   ],
   "source": [
    "sorted(l, reverse=True)"
   ]
  },
  {
   "cell_type": "markdown",
   "metadata": {
    "id": "GX07ANRD4y-I"
   },
   "source": [
    "The <b>count</b> method returns the number of elements with the specified value."
   ]
  },
  {
   "cell_type": "code",
   "execution_count": 104,
   "metadata": {
    "id": "alBg370Z4y-I"
   },
   "outputs": [
    {
     "data": {
      "text/plain": [
       "2"
      ]
     },
     "execution_count": 104,
     "metadata": {},
     "output_type": "execute_result"
    }
   ],
   "source": [
    "l = [1, 2, 3, 4, 5, 4, 3, 2, 1]\n",
    "l.count(1)"
   ]
  },
  {
   "cell_type": "markdown",
   "metadata": {
    "id": "WY8wU7Yv4y-I"
   },
   "source": [
    "## Exercises - Lists"
   ]
  },
  {
   "cell_type": "code",
   "execution_count": 105,
   "metadata": {
    "id": "Nj5klboO4y-J"
   },
   "outputs": [],
   "source": [
    "animals = [\"dog\", \"cat\", \"bird\", \"tiger\", \"lion\", \"fox\"]"
   ]
  },
  {
   "cell_type": "markdown",
   "metadata": {
    "id": "LiulBIJh4y-J"
   },
   "source": [
    "Get the type of `animals`."
   ]
  },
  {
   "cell_type": "code",
   "execution_count": 106,
   "metadata": {
    "id": "1QfUG0yr4y-J"
   },
   "outputs": [],
   "source": [
    "# Your answer here"
   ]
  },
  {
   "cell_type": "markdown",
   "metadata": {
    "id": "GEyDEBMi4y-J"
   },
   "source": [
    "Check if <i>elephant</i> is in `animals`. The output must be either True or False. "
   ]
  },
  {
   "cell_type": "code",
   "execution_count": 107,
   "metadata": {
    "id": "N4VqEQNB4y-J"
   },
   "outputs": [],
   "source": [
    "# Your answer here"
   ]
  },
  {
   "cell_type": "markdown",
   "metadata": {
    "id": "iZ3edb7C4y-J"
   },
   "source": [
    "Append a new element <i>elephant</i> to `animals`. Be careful not to append the element multple times."
   ]
  },
  {
   "cell_type": "code",
   "execution_count": 108,
   "metadata": {
    "id": "DGTchCTU4y-K"
   },
   "outputs": [],
   "source": [
    "# Your answer here"
   ]
  },
  {
   "cell_type": "markdown",
   "metadata": {
    "id": "360NeCmg4y-K"
   },
   "source": [
    "Get the number of elements in `animals`. "
   ]
  },
  {
   "cell_type": "code",
   "execution_count": 109,
   "metadata": {
    "id": "NnXRi7Jw4y-K"
   },
   "outputs": [],
   "source": [
    "# Your answer here"
   ]
  },
  {
   "cell_type": "markdown",
   "metadata": {
    "id": "H2cQ_I4p4y-K"
   },
   "source": [
    "Get the first 5 items in `animals`. "
   ]
  },
  {
   "cell_type": "code",
   "execution_count": 110,
   "metadata": {
    "id": "v9HDkfde4y-L"
   },
   "outputs": [],
   "source": [
    "# Your answer here"
   ]
  },
  {
   "cell_type": "markdown",
   "metadata": {
    "id": "pjfVFIXe4y-L"
   },
   "source": [
    "Get a new sorted list of `animals` in reverse alphabetical order. "
   ]
  },
  {
   "cell_type": "code",
   "execution_count": 111,
   "metadata": {
    "id": "3D-66bCP4y-L"
   },
   "outputs": [],
   "source": [
    "# Your answer here"
   ]
  },
  {
   "cell_type": "markdown",
   "metadata": {
    "id": "Vnjt7BtJ4y-M"
   },
   "source": [
    "## Dictionaries"
   ]
  },
  {
   "cell_type": "markdown",
   "metadata": {
    "id": "bxOj2i9L4y-M"
   },
   "source": [
    "A dictionary is a collection of key-value mappings that is unordered, mutable, indexed, and written with curly brackets. If you look up a key in the dictionary, it returns its value, but not vice versa. It allows no duplicate keys."
   ]
  },
  {
   "cell_type": "markdown",
   "metadata": {
    "id": "nit2VGw84y-M"
   },
   "source": [
    "When designing a dictionary, you should think about what should be the key and what should be the value. It depends on the purpose of the dictionary."
   ]
  },
  {
   "cell_type": "code",
   "execution_count": 112,
   "metadata": {
    "id": "7A_FWSa64y-M"
   },
   "outputs": [
    {
     "name": "stdout",
     "output_type": "stream",
     "text": [
      "{} <class 'dict'>\n"
     ]
    }
   ],
   "source": [
    "d = {}\n",
    "print(d, type(d))"
   ]
  },
  {
   "cell_type": "markdown",
   "metadata": {
    "id": "ZarihDNV4y-N"
   },
   "source": [
    "`buildings` is a dictionary for UI building name abbreviations. If you look up an abbreviation, it returns its full name."
   ]
  },
  {
   "cell_type": "code",
   "execution_count": 113,
   "metadata": {
    "id": "nN5PXm3P4y-N"
   },
   "outputs": [
    {
     "name": "stdout",
     "output_type": "stream",
     "text": [
      "{'UCC': 'University Capitol Center', 'PBB': 'Pappajohn Business Building'} <class 'dict'>\n"
     ]
    }
   ],
   "source": [
    "buildings = {\"UCC\": \"University Capitol Center\", \"PBB\": \"Pappajohn Business Building\"}\n",
    "print(buildings, type(buildings))"
   ]
  },
  {
   "cell_type": "markdown",
   "metadata": {
    "id": "q_421kxG4y-N"
   },
   "source": [
    "If you look up a key in a dictionary, it returns, if any, its value. "
   ]
  },
  {
   "cell_type": "code",
   "execution_count": 114,
   "metadata": {
    "id": "mW973b414y-O"
   },
   "outputs": [
    {
     "data": {
      "text/plain": [
       "'University Capitol Center'"
      ]
     },
     "execution_count": 114,
     "metadata": {},
     "output_type": "execute_result"
    }
   ],
   "source": [
    "buildings[\"UCC\"]"
   ]
  },
  {
   "cell_type": "code",
   "execution_count": 115,
   "metadata": {
    "id": "FLTIlimu4y-O"
   },
   "outputs": [
    {
     "data": {
      "text/plain": [
       "'Pappajohn Business Building'"
      ]
     },
     "execution_count": 115,
     "metadata": {},
     "output_type": "execute_result"
    }
   ],
   "source": [
    "buildings[\"PBB\"]"
   ]
  },
  {
   "cell_type": "markdown",
   "metadata": {
    "id": "N6jHkzeo4y-O"
   },
   "source": [
    "If there is not the key in the dictionary, it returns KeyError."
   ]
  },
  {
   "cell_type": "code",
   "execution_count": 116,
   "metadata": {
    "id": "TBUcQ90K4y-O",
    "scrolled": true
   },
   "outputs": [
    {
     "ename": "KeyError",
     "evalue": "'IMU'",
     "output_type": "error",
     "traceback": [
      "\u001b[0;31m---------------------------------------------------------------------------\u001b[0m",
      "\u001b[0;31mKeyError\u001b[0m                                  Traceback (most recent call last)",
      "\u001b[1;32m/Users/linhtang/Downloads/DASIL Python/Python Basics 2.ipynb Cell 87'\u001b[0m in \u001b[0;36m<cell line: 1>\u001b[0;34m()\u001b[0m\n\u001b[0;32m----> <a href='vscode-notebook-cell:/Users/linhtang/Downloads/DASIL%20Python/Python%20Basics%202.ipynb#ch0000286?line=0'>1</a>\u001b[0m buildings[\u001b[39m\"\u001b[39;49m\u001b[39mIMU\u001b[39;49m\u001b[39m\"\u001b[39;49m]\n",
      "\u001b[0;31mKeyError\u001b[0m: 'IMU'"
     ]
    }
   ],
   "source": [
    "buildings[\"IMU\"]"
   ]
  },
  {
   "cell_type": "code",
   "execution_count": 117,
   "metadata": {
    "id": "skA1oO_84y-O"
   },
   "outputs": [
    {
     "data": {
      "text/plain": [
       "dict_keys(['UCC', 'PBB'])"
      ]
     },
     "execution_count": 117,
     "metadata": {},
     "output_type": "execute_result"
    }
   ],
   "source": [
    "buildings.keys()"
   ]
  },
  {
   "cell_type": "code",
   "execution_count": 118,
   "metadata": {
    "id": "eFi19nEK4y-O"
   },
   "outputs": [
    {
     "data": {
      "text/plain": [
       "dict_values(['University Capitol Center', 'Pappajohn Business Building'])"
      ]
     },
     "execution_count": 118,
     "metadata": {},
     "output_type": "execute_result"
    }
   ],
   "source": [
    "buildings.values()"
   ]
  },
  {
   "cell_type": "code",
   "execution_count": 119,
   "metadata": {
    "id": "XE-ewAYP4y-P"
   },
   "outputs": [
    {
     "data": {
      "text/plain": [
       "{'UCC': 'University Capitol Center',\n",
       " 'PBB': 'Pappajohn Business Building',\n",
       " 'IMU': 'Iowa Memorial Union'}"
      ]
     },
     "execution_count": 119,
     "metadata": {},
     "output_type": "execute_result"
    }
   ],
   "source": [
    "buildings[\"IMU\"] = \"Iowa Memorial Union\"\n",
    "buildings"
   ]
  },
  {
   "cell_type": "markdown",
   "metadata": {
    "id": "GN4of3Ne4y-P"
   },
   "source": [
    "You can check if a key is in a dictionary using the <b>in</b> operator."
   ]
  },
  {
   "cell_type": "code",
   "execution_count": 120,
   "metadata": {
    "id": "70wd7_q54y-P"
   },
   "outputs": [
    {
     "data": {
      "text/plain": [
       "True"
      ]
     },
     "execution_count": 120,
     "metadata": {},
     "output_type": "execute_result"
    }
   ],
   "source": [
    "\"IMU\" in buildings"
   ]
  },
  {
   "cell_type": "code",
   "execution_count": 121,
   "metadata": {
    "id": "lp2UQpRl4y-P"
   },
   "outputs": [
    {
     "data": {
      "text/plain": [
       "False"
      ]
     },
     "execution_count": 121,
     "metadata": {},
     "output_type": "execute_result"
    }
   ],
   "source": [
    "\"SH\" in buildings"
   ]
  },
  {
   "cell_type": "markdown",
   "metadata": {
    "id": "1lzM_M9U4y-Q"
   },
   "source": [
    "The length of a dictionary is the number of key-value mappings in the dictionary. "
   ]
  },
  {
   "cell_type": "code",
   "execution_count": 122,
   "metadata": {
    "id": "mqyJJo5p4y-Q",
    "scrolled": true
   },
   "outputs": [
    {
     "data": {
      "text/plain": [
       "3"
      ]
     },
     "execution_count": 122,
     "metadata": {},
     "output_type": "execute_result"
    }
   ],
   "source": [
    "len(buildings)"
   ]
  },
  {
   "cell_type": "markdown",
   "metadata": {
    "id": "J75T2Uc84y-i"
   },
   "source": [
    "## ▪ Built-in Functions"
   ]
  },
  {
   "cell_type": "markdown",
   "metadata": {
    "id": "4Rf18PXG4y-j"
   },
   "source": [
    "The <b>len</b> function returns the length of an object."
   ]
  },
  {
   "cell_type": "code",
   "execution_count": 123,
   "metadata": {
    "id": "XHgxPdj94y-j"
   },
   "outputs": [
    {
     "data": {
      "text/plain": [
       "35"
      ]
     },
     "execution_count": 123,
     "metadata": {},
     "output_type": "execute_result"
    }
   ],
   "source": [
    "len(s)"
   ]
  },
  {
   "cell_type": "markdown",
   "metadata": {
    "id": "RmFvl48x4y-k"
   },
   "source": [
    "The <b>max</b> function returns the largest item in a list."
   ]
  },
  {
   "cell_type": "code",
   "execution_count": 124,
   "metadata": {
    "id": "JXg21c1e4y-k"
   },
   "outputs": [
    {
     "data": {
      "text/plain": [
       "5"
      ]
     },
     "execution_count": 124,
     "metadata": {},
     "output_type": "execute_result"
    }
   ],
   "source": [
    "l = [1, 2, 3, 4, 5]\n",
    "max(l)"
   ]
  },
  {
   "cell_type": "markdown",
   "metadata": {
    "id": "OEJL3U134y-m"
   },
   "source": [
    "The <b>min</b> function returns the smallest item in a list."
   ]
  },
  {
   "cell_type": "code",
   "execution_count": 125,
   "metadata": {
    "id": "yt_p92ZB4y-l"
   },
   "outputs": [
    {
     "data": {
      "text/plain": [
       "1"
      ]
     },
     "execution_count": 125,
     "metadata": {},
     "output_type": "execute_result"
    }
   ],
   "source": [
    "min(l)"
   ]
  },
  {
   "cell_type": "markdown",
   "metadata": {
    "id": "Tu_HGTvQ4y-m"
   },
   "source": [
    "The <b>print</b> function prints the specified message to the screen or other standard output device."
   ]
  },
  {
   "cell_type": "code",
   "execution_count": 126,
   "metadata": {
    "id": "s0iu8RQV4y-m"
   },
   "outputs": [
    {
     "name": "stdout",
     "output_type": "stream",
     "text": [
      "I'm learning Python data analytics.\n"
     ]
    }
   ],
   "source": [
    "s = \"I'm learning Python data analytics.\"\n",
    "print(s)"
   ]
  },
  {
   "cell_type": "markdown",
   "metadata": {
    "id": "yBhDEuH34y-n"
   },
   "source": [
    "The <b>range</b>(start, stop) function returns a sequence of numbers, starting from `start` and increments by 1 and ends at `stop` - 1."
   ]
  },
  {
   "cell_type": "code",
   "execution_count": 127,
   "metadata": {
    "id": "BNP4X5Ts4y-n"
   },
   "outputs": [
    {
     "data": {
      "text/plain": [
       "range(0, 10)"
      ]
     },
     "execution_count": 127,
     "metadata": {},
     "output_type": "execute_result"
    }
   ],
   "source": [
    "range(0, 10)"
   ]
  },
  {
   "cell_type": "code",
   "execution_count": 128,
   "metadata": {
    "id": "oVvBwu4O4y-n"
   },
   "outputs": [
    {
     "data": {
      "text/plain": [
       "[0, 1, 2, 3, 4, 5, 6, 7, 8, 9]"
      ]
     },
     "execution_count": 128,
     "metadata": {},
     "output_type": "execute_result"
    }
   ],
   "source": [
    "list(range(0, 10))"
   ]
  },
  {
   "cell_type": "markdown",
   "metadata": {
    "id": "Kxhj6kdi4y-n"
   },
   "source": [
    "You can skip `start` if it is 0."
   ]
  },
  {
   "cell_type": "code",
   "execution_count": 129,
   "metadata": {
    "id": "DGkh1DE74y-n",
    "scrolled": true
   },
   "outputs": [
    {
     "data": {
      "text/plain": [
       "[0, 1, 2, 3, 4, 5, 6, 7, 8, 9]"
      ]
     },
     "execution_count": 129,
     "metadata": {},
     "output_type": "execute_result"
    }
   ],
   "source": [
    "list(range(10))"
   ]
  },
  {
   "cell_type": "markdown",
   "metadata": {
    "id": "xkllRNq_4y-o"
   },
   "source": [
    "The <b>range</b>(start, stop, step) function increments by `step`. "
   ]
  },
  {
   "cell_type": "code",
   "execution_count": 130,
   "metadata": {
    "id": "NudKkS0d4y-o"
   },
   "outputs": [
    {
     "data": {
      "text/plain": [
       "[0, 2, 4, 6, 8]"
      ]
     },
     "execution_count": 130,
     "metadata": {},
     "output_type": "execute_result"
    }
   ],
   "source": [
    "list(range(0, 10, 2))"
   ]
  },
  {
   "cell_type": "markdown",
   "metadata": {
    "id": "PvA48gaF4y-r"
   },
   "source": [
    "The <b>round</b>(number, ndigits) function rounds `number` rounded to `ndigits` precision. "
   ]
  },
  {
   "cell_type": "code",
   "execution_count": 131,
   "metadata": {
    "id": "4S_JN5to4y-q"
   },
   "outputs": [
    {
     "data": {
      "text/plain": [
       "3.14"
      ]
     },
     "execution_count": 131,
     "metadata": {},
     "output_type": "execute_result"
    }
   ],
   "source": [
    "round(3.141592, 2)            # Round 3.141592 to 2 decimal places"
   ]
  },
  {
   "cell_type": "markdown",
   "metadata": {
    "id": "BDg-8hk-4y-t"
   },
   "source": [
    "If `ndigits` is omitted, it returns the nearest integer to its input. "
   ]
  },
  {
   "cell_type": "code",
   "execution_count": 133,
   "metadata": {
    "id": "7cM2Mgy_4y-s"
   },
   "outputs": [
    {
     "data": {
      "text/plain": [
       "3"
      ]
     },
     "execution_count": 133,
     "metadata": {},
     "output_type": "execute_result"
    }
   ],
   "source": [
    "round(3.141592)"
   ]
  },
  {
   "cell_type": "markdown",
   "metadata": {
    "id": "i0m58GTZ4y-u"
   },
   "source": [
    "The <b>sum</b> function sums the items of an iterator."
   ]
  },
  {
   "cell_type": "code",
   "execution_count": 134,
   "metadata": {
    "id": "QgSvlfuc4y-u"
   },
   "outputs": [
    {
     "data": {
      "text/plain": [
       "15"
      ]
     },
     "execution_count": 134,
     "metadata": {},
     "output_type": "execute_result"
    }
   ],
   "source": [
    "sum(l)"
   ]
  },
  {
   "cell_type": "markdown",
   "metadata": {
    "id": "gmYQC2b7Kvud"
   },
   "source": [
    "The <b>reversed</b> function returns a reversed iterator."
   ]
  },
  {
   "cell_type": "code",
   "execution_count": 2,
   "metadata": {
    "id": "6yeFEIORKvud"
   },
   "outputs": [
    {
     "data": {
      "text/plain": [
       "[4, 2, 3, 5, 1]"
      ]
     },
     "execution_count": 2,
     "metadata": {},
     "output_type": "execute_result"
    }
   ],
   "source": [
    "l = [1, 5, 3, 2, 4]\n",
    "list(reversed(l))"
   ]
  },
  {
   "cell_type": "markdown",
   "metadata": {
    "id": "r6PPTx1qKvuh"
   },
   "source": [
    "The <b>zip</b> function returns an iterator that aggregates elements from each of the lists. "
   ]
  },
  {
   "cell_type": "code",
   "execution_count": null,
   "metadata": {
    "colab": {
     "base_uri": "https://localhost:8080/",
     "height": 34
    },
    "id": "3SfTcBL0Kvug",
    "outputId": "e4212253-fab7-4726-ded5-700e5bc55393"
   },
   "outputs": [
    {
     "data": {
      "text/plain": [
       "<zip at 0x7f22a4110608>"
      ]
     },
     "metadata": {},
     "output_type": "display_data"
    }
   ],
   "source": [
    "l1 = [\"Alice\", \"Bob\", \"Tom\"]\n",
    "l2 = [30, 25, 34]\n",
    "zip(l1, l2)"
   ]
  },
  {
   "cell_type": "code",
   "execution_count": null,
   "metadata": {
    "colab": {
     "base_uri": "https://localhost:8080/",
     "height": 34
    },
    "id": "p2q1FsRPKvuh",
    "outputId": "1ca4f545-1e81-48cc-9a5a-da1c7b5e3856"
   },
   "outputs": [
    {
     "data": {
      "text/plain": [
       "[('Alice', 30), ('Bob', 25), ('Tom', 34)]"
      ]
     },
     "metadata": {},
     "output_type": "display_data"
    }
   ],
   "source": [
    "list(zip(l1, l2))"
   ]
  },
  {
   "cell_type": "markdown",
   "metadata": {
    "id": "2mNqY_Mo4y-v"
   },
   "source": [
    "### Difference between Functions and Methods"
   ]
  },
  {
   "cell_type": "markdown",
   "metadata": {
    "id": "Lht8QQkF4y-w"
   },
   "source": [
    "- A function looks like this: <b>function_name(something)</b>, e.g., sorted(l1)\n",
    "- A method looks like this: <b>something.method_name()</b>, e.g., l1.sort()"
   ]
  },
  {
   "cell_type": "markdown",
   "metadata": {
    "id": "ClXFgiOc4y-w"
   },
   "source": [
    "A method always belongs to an object (e.g. string methods only work for string objects, list methods only work for list objects, etc.), while a function doesn’t necessarily (e.g., you can use the <b>len</b> function for nearly any data type)."
   ]
  },
  {
   "cell_type": "markdown",
   "metadata": {
    "id": "kzTP3dUX4y-x"
   },
   "source": [
    "## Exercises - Built-in Functions"
   ]
  },
  {
   "cell_type": "markdown",
   "metadata": {
    "id": "lFdpcAgp4y-y"
   },
   "source": [
    "Get the min value in `l`."
   ]
  },
  {
   "cell_type": "code",
   "execution_count": null,
   "metadata": {
    "id": "2xc8X_jt4y-y"
   },
   "outputs": [],
   "source": [
    "l = [5, 13, 76, 9, 93, 28, 49, 76, 9, 88]"
   ]
  },
  {
   "cell_type": "code",
   "execution_count": null,
   "metadata": {
    "id": "0RxJpWWB4y-z"
   },
   "outputs": [],
   "source": [
    "# Your answer here"
   ]
  },
  {
   "cell_type": "markdown",
   "metadata": {
    "id": "-yAY3WUP4y-z"
   },
   "source": [
    "Get the max value in `l`."
   ]
  },
  {
   "cell_type": "code",
   "execution_count": null,
   "metadata": {
    "id": "5AeLJyfI4y-0"
   },
   "outputs": [],
   "source": [
    "# Your answer here"
   ]
  },
  {
   "cell_type": "markdown",
   "metadata": {
    "id": "nJEZVw984y-0"
   },
   "source": [
    "Get the sum of all values in `l`."
   ]
  },
  {
   "cell_type": "code",
   "execution_count": null,
   "metadata": {
    "id": "VVmz8TYZ4y-1"
   },
   "outputs": [],
   "source": [
    "# Your answer here"
   ]
  },
  {
   "cell_type": "markdown",
   "metadata": {
    "id": "0vxbGUXh4y-1"
   },
   "source": [
    "Generate a list of all two-digit integers. Two digit integers start with 10 and end with 99. "
   ]
  },
  {
   "cell_type": "code",
   "execution_count": null,
   "metadata": {
    "id": "o_cbaTrE4y-2"
   },
   "outputs": [],
   "source": [
    "# Your answer here"
   ]
  },
  {
   "cell_type": "markdown",
   "metadata": {
    "id": "MI0vLQt94y-3"
   },
   "source": [
    "Generate a list of all two-digit even integers."
   ]
  },
  {
   "cell_type": "code",
   "execution_count": null,
   "metadata": {
    "id": "sHA3cZ7x4y-3"
   },
   "outputs": [],
   "source": [
    "# Your answer here"
   ]
  },
  {
   "cell_type": "markdown",
   "metadata": {
    "id": "d9o9WEZo4y-4"
   },
   "source": [
    "Get the number of 0.333333333333 rounded to 2 precision."
   ]
  },
  {
   "cell_type": "code",
   "execution_count": null,
   "metadata": {
    "id": "mWj15Fga4y-4"
   },
   "outputs": [],
   "source": [
    "# Your answer here"
   ]
  },
  {
   "cell_type": "markdown",
   "metadata": {
    "id": "gnCL7VE1Kvuh"
   },
   "source": [
    "## Flow Control"
   ]
  },
  {
   "cell_type": "markdown",
   "metadata": {
    "id": "PJRGlP28Kvui"
   },
   "source": [
    "There are three main categories of program control flow in Python:\n",
    "- branches (if, elif, else)\n",
    "- loops (for loops)\n",
    "- function calls"
   ]
  },
  {
   "cell_type": "markdown",
   "metadata": {
    "id": "Z5m3Nch8Kvui"
   },
   "source": [
    "## ▪ Branches"
   ]
  },
  {
   "cell_type": "raw",
   "metadata": {
    "id": "PVBydt2HKvui"
   },
   "source": [
    "if test1:\n",
    "    statements1\n",
    "elif test2:        # optional\n",
    "    statements2\n",
    "else:\n",
    "    statements3    # optional "
   ]
  },
  {
   "cell_type": "markdown",
   "metadata": {
    "id": "nFooISNSKvui"
   },
   "source": [
    "A Python <b>if</b> statement takes the form of an <b>if</b> test, followed by one or more optional <b>elif</b> (\"else if\") tests and a final optional <b>else</b> block. "
   ]
  },
  {
   "cell_type": "markdown",
   "metadata": {
    "id": "jp7tMBcdKvui"
   },
   "source": [
    "The tests and <b>else</b> part each have an associated block of nested statements, indented under a headline."
   ]
  },
  {
   "cell_type": "markdown",
   "metadata": {
    "id": "yxI7y9PeKvui"
   },
   "source": [
    "When the <b>if</b> statement runs, Python executes the block of code associated with the first test that evaluates to true, or the <b>else</b> block if all tests prove false. "
   ]
  },
  {
   "cell_type": "code",
   "execution_count": 4,
   "metadata": {
    "id": "k0R22_EEKvuj"
   },
   "outputs": [],
   "source": [
    "x = -3"
   ]
  },
  {
   "cell_type": "code",
   "execution_count": 5,
   "metadata": {
    "id": "OzC4SHqpKvuk"
   },
   "outputs": [],
   "source": [
    "if x > 0:\n",
    "    print(\"X is positive.\")"
   ]
  },
  {
   "cell_type": "markdown",
   "metadata": {
    "id": "XjBhHQbPKvuk"
   },
   "source": [
    "It prints nothing because the if test evaluates to false. "
   ]
  },
  {
   "cell_type": "code",
   "execution_count": 6,
   "metadata": {
    "id": "qA2hlmfDKvuk"
   },
   "outputs": [
    {
     "name": "stdout",
     "output_type": "stream",
     "text": [
      "X is negative.\n"
     ]
    }
   ],
   "source": [
    "if x > 0:\n",
    "    print(\"X is positive.\")\n",
    "else:                                # for the rest of the cases\n",
    "    print(\"X is negative.\")"
   ]
  },
  {
   "cell_type": "code",
   "execution_count": 7,
   "metadata": {
    "id": "-7WBoq24Kvum"
   },
   "outputs": [
    {
     "name": "stdout",
     "output_type": "stream",
     "text": [
      "X is negative.\n"
     ]
    }
   ],
   "source": [
    "if x > 0:\n",
    "    print(\"X is positive.\")\n",
    "elif x == 0:\n",
    "    print(\"X is zero.\")\n",
    "else:\n",
    "    print(\"X is negative.\")"
   ]
  },
  {
   "cell_type": "markdown",
   "metadata": {
    "id": "vJ8g-7dgKvun"
   },
   "source": [
    "Note that <b>if</b> statements can be nested."
   ]
  },
  {
   "cell_type": "code",
   "execution_count": 8,
   "metadata": {
    "id": "EhgDJQtNKvum"
   },
   "outputs": [
    {
     "name": "stdout",
     "output_type": "stream",
     "text": [
      "X is negative.\n"
     ]
    }
   ],
   "source": [
    "if x > 0:\n",
    "    print(\"X is positive.\")\n",
    "else:\n",
    "    if x == 0:\n",
    "        print(\"X is zero.\")\n",
    "    else:\n",
    "        print(\"X is negative.\")"
   ]
  },
  {
   "cell_type": "markdown",
   "metadata": {
    "id": "-UNv-16eKvun"
   },
   "source": [
    "Note also that this code using nested <b>if-else</b> statements works exactly the same as the previous code using <b>if-elif-else</b> statements. You can write two different blocks of code that have the same logic. "
   ]
  },
  {
   "cell_type": "code",
   "execution_count": 9,
   "metadata": {
    "id": "wqoqRPX3Kvun",
    "scrolled": true
   },
   "outputs": [
    {
     "name": "stdout",
     "output_type": "stream",
     "text": [
      "X is a number.\n"
     ]
    }
   ],
   "source": [
    "if (type(x) == int) | (type(x) == float) | (type(x) == complex):\n",
    "    print(\"X is a number.\")\n",
    "else:\n",
    "    print(\"X is not a number.\")"
   ]
  },
  {
   "cell_type": "markdown",
   "metadata": {
    "id": "UrrNNlooKvun"
   },
   "source": [
    "You can set a complex condition in a test using Boolean operators. "
   ]
  },
  {
   "cell_type": "code",
   "execution_count": 10,
   "metadata": {
    "id": "rteIYaw-Kvuo"
   },
   "outputs": [
    {
     "name": "stdout",
     "output_type": "stream",
     "text": [
      "X is a number.\n"
     ]
    }
   ],
   "source": [
    "if type(x) in [int, float, complex]:\n",
    "    print(\"X is a number.\")\n",
    "else:\n",
    "    print(\"X is not a number.\")"
   ]
  },
  {
   "cell_type": "markdown",
   "metadata": {
    "id": "Xf2FN2wdKvuo"
   },
   "source": [
    "You can use the <b>in</b> operator to combine the three conditions into a single condition. "
   ]
  },
  {
   "cell_type": "markdown",
   "id": "26d0d99e",
   "metadata": {},
   "source": [
    "In the example below, if the condition `squirrels_seen > 0` is `True`, repeat the string `squirrels! ` by the number of squirrels seen."
   ]
  },
  {
   "cell_type": "code",
   "execution_count": null,
   "id": "c53d291d",
   "metadata": {},
   "outputs": [],
   "source": [
    "# I have a dog named Bonnie\n",
    "# 20 minutes into the walk, she has seen 3 squirrels\n",
    "squirrels_seen = 3\n",
    "\n",
    "# if see squirres, repeat \"squirrels! \" by the number of squirrels seen\n",
    "if squirrels_seen > 0:\n",
    "    bonnie_thoughts = \"squirrels! \" * squirrels_seen\n",
    "    print(bonnie_thoughts)"
   ]
  },
  {
   "cell_type": "markdown",
   "id": "ba5ff9f1",
   "metadata": {},
   "source": [
    "Some observations about an `if` statement:\n",
    "* Notice the `:` after the `if` statement. This is required syntax.\n",
    "* The body of the code inside the `if` statement is indented. It's standard to use 4 spaces. Jupyter Notebook indents automatically for you."
   ]
  },
  {
   "cell_type": "markdown",
   "id": "3ee24ed5",
   "metadata": {},
   "source": [
    "***\n",
    "We can also check multiple conditions. For example, suppose you are working with survey data that include a variable about the respondents' sex assigned at birth. *(Note that sex assigned at birth is often a different variable than gender.)*\n",
    "\n",
    "It's common for sex to be coded as numeric values following a scheme such as:\n",
    "\n",
    "    Male -> coded as 0\n",
    "    Female -> coded as 1\n",
    "    Respondents refused to disclose sex during the survey -> coded as 9\n",
    "\n",
    "In the example below, we create a variable called `sex_str` to correspond with the numeric variable `sex`. "
   ]
  },
  {
   "cell_type": "code",
   "execution_count": null,
   "id": "60a4e8a0",
   "metadata": {},
   "outputs": [],
   "source": [
    "sex = 0\n",
    "\n",
    "if sex == 0:\n",
    "    sex_str = \"Male\"\n",
    "elif sex == 1:\n",
    "    sex_str = \"Female\"\n",
    "elif sex == 9:\n",
    "    sex_str = \"Refused\"\n",
    "else:\n",
    "    sex_str = \"Missing\"\n",
    "\n",
    "# see what sex_str is, given that sex = 0 \n",
    "print(sex_str)"
   ]
  },
  {
   "cell_type": "markdown",
   "id": "16307412",
   "metadata": {},
   "source": [
    "In the block of conditional statements in the example above, each `if`, `elif` and `else` statement was checked, starting from the the top `if` statement. If the condition is true, the code inside the statement gets executed. Otherwise move down to the next statement.\n",
    "\n",
    "At the end, all remaining cases get put in the `else` category.\n",
    "\n",
    "`elif` is short for \"else if\". You can include as many `elif` statements as you want. It's optional to include `elif` and `else` in a block of conditional statements. Only the first statement, `if`, is required.\n",
    "\n",
    "Similarly to the `if` statement:\n",
    "* Notice the `:` after each `elif` and `else` statement. This is required syntax.\n",
    "* The code inside each `elif` and `else` statement is indented. It's standard to use 4 spaces. Jupyter Notebook indents automatically for you."
   ]
  },
  {
   "cell_type": "markdown",
   "id": "c3f845a4",
   "metadata": {},
   "source": [
    "### Your turn"
   ]
  },
  {
   "cell_type": "markdown",
   "id": "4c80889d",
   "metadata": {},
   "source": [
    "1. Create a variable `x` and assign to it the value `120`. Then write a block of conditional statements so that:\n",
    "* If `x` is equal to 0, create a variable `sign` and assign `0` to it.\n",
    "* If `x` is less than 0, assign `-1` to `sign`\n",
    "* If `x` is bigger than 0, assign `1` to `sign`\n",
    "* Otherwise, assign `9` to `sign`\n",
    "\n",
    "Print the value of `sign`."
   ]
  },
  {
   "cell_type": "code",
   "execution_count": null,
   "id": "610d9ba1",
   "metadata": {},
   "outputs": [],
   "source": [
    "# Your answer here"
   ]
  },
  {
   "cell_type": "markdown",
   "metadata": {
    "id": "3hyAETd7Kvuo"
   },
   "source": [
    "## ▪ Loops - For Loops"
   ]
  },
  {
   "cell_type": "markdown",
   "metadata": {
    "id": "qXB2U6dJKvuo"
   },
   "source": [
    "A <b>for</b> loop steps through the items in a list or any other ordered sequence or iterable object. "
   ]
  },
  {
   "cell_type": "raw",
   "metadata": {
    "id": "YUxpLfVzKvuo"
   },
   "source": [
    "for target in object:     # loop header\n",
    "    statements            # loop body"
   ]
  },
  {
   "cell_type": "markdown",
   "metadata": {
    "id": "iDoN6k8FKvur"
   },
   "source": [
    "- It begins with a header line that specifies an assignment target (or targets), along with the object you want to step through. \n",
    "- The header is followed by a block of (normally indented) statements that you want to repeat. \n",
    "- When Python runs a <b>for</b> loop, it assigns the items in the iterable <i>object</i> to the <i>target</i> one by one and executes the loop body for each. \n",
    "- The loop body typically uses the assignment target to refer to the current item in the sequence. "
   ]
  },
  {
   "cell_type": "code",
   "execution_count": null,
   "metadata": {
    "id": "OIVkLh1LKvur"
   },
   "outputs": [],
   "source": [
    "l = [1, 2, 3, 4, 5, 6, 7, 8, 9, 10]"
   ]
  },
  {
   "cell_type": "code",
   "execution_count": null,
   "metadata": {
    "id": "chqXkukCKvus"
   },
   "outputs": [],
   "source": [
    "for num in l:\n",
    "    print(num)"
   ]
  },
  {
   "cell_type": "code",
   "execution_count": null,
   "metadata": {
    "id": "uSiy5kK2Kvus"
   },
   "outputs": [],
   "source": [
    "sum1 = 0\n",
    "for num in l:\n",
    "    sum1 += num     # The same as sum1 = sum1 + num"
   ]
  },
  {
   "cell_type": "markdown",
   "metadata": {
    "id": "eCZm6FWAKvus"
   },
   "source": [
    "To get the sum of numbers in <i>l</i>, you need a variable, <i>sum1</i> in the above example, to store the intermediate sum calculated from each iteration. Note that the initial value of <i>sum1</i> was set to 0 to be added by any number later. "
   ]
  },
  {
   "cell_type": "code",
   "execution_count": null,
   "metadata": {
    "id": "MO6iin1FKvus"
   },
   "outputs": [],
   "source": [
    "sum1"
   ]
  },
  {
   "cell_type": "code",
   "execution_count": null,
   "metadata": {
    "id": "Rw43dzYVKvuu"
   },
   "outputs": [],
   "source": [
    "sum1 == sum(l)"
   ]
  },
  {
   "cell_type": "code",
   "execution_count": null,
   "metadata": {
    "id": "gkb0ctz3Kvuu"
   },
   "outputs": [],
   "source": [
    "product = 1\n",
    "for num in l:\n",
    "    product *= num   # The same as product = product * num"
   ]
  },
  {
   "cell_type": "markdown",
   "metadata": {
    "id": "zS04LUP8Kvuv"
   },
   "source": [
    "Note that the initial value of <i>product</i> was set to 1 to be multiplied by any number later. "
   ]
  },
  {
   "cell_type": "code",
   "execution_count": null,
   "metadata": {
    "id": "kjAGQB7KKvuv"
   },
   "outputs": [],
   "source": [
    "product"
   ]
  },
  {
   "cell_type": "code",
   "execution_count": null,
   "metadata": {
    "id": "XKqUOX2JKvuv"
   },
   "outputs": [],
   "source": [
    "s = \"Python\""
   ]
  },
  {
   "cell_type": "code",
   "execution_count": null,
   "metadata": {
    "id": "Mp8Dr9BNKvuv"
   },
   "outputs": [],
   "source": [
    "for c in s:\n",
    "    print(c, end=\" \")     # end: sets a string appended after the last value, default a newline."
   ]
  },
  {
   "cell_type": "markdown",
   "metadata": {
    "id": "_TQVmUj3Kvuw"
   },
   "source": [
    "The <b>for</b> loop can iterate over a string. "
   ]
  },
  {
   "cell_type": "code",
   "execution_count": null,
   "metadata": {
    "id": "jJlTGxkkKvuw"
   },
   "outputs": [],
   "source": [
    "for c in reversed(s):\n",
    "    print(c, end=\" \")"
   ]
  },
  {
   "cell_type": "code",
   "execution_count": null,
   "metadata": {
    "id": "Pr0DtQl1Kvuw"
   },
   "outputs": [],
   "source": [
    "l1 = [\"a\", \"b\", \"c\"]\n",
    "l2 = [\"x\", \"y\", \"z\"]"
   ]
  },
  {
   "cell_type": "code",
   "execution_count": null,
   "metadata": {
    "id": "2emvEkSrKvux"
   },
   "outputs": [],
   "source": [
    "for item1, item2 in zip(l1, l2):\n",
    "    print(item1 + item2)"
   ]
  },
  {
   "cell_type": "markdown",
   "metadata": {
    "id": "UF8QyYwSKvux"
   },
   "source": [
    "The <b>zip</b> function returns a tuple at each iteration. "
   ]
  },
  {
   "cell_type": "code",
   "execution_count": null,
   "metadata": {
    "id": "ennUPyJ3Kvux"
   },
   "outputs": [],
   "source": [
    "buildings = {\"UCC\": \"University Capitol Center\",\n",
    "             \"CPHB\": \"College of Public Health Building\",\n",
    "             \"IMU\": \"Iowa Memorial Union\"}"
   ]
  },
  {
   "cell_type": "code",
   "execution_count": null,
   "metadata": {
    "id": "diBi3B2qKvuy"
   },
   "outputs": [],
   "source": [
    "for key in buildings:\n",
    "    val = buildings[key]\n",
    "    print(\"{} ({})\".format(key, val))"
   ]
  },
  {
   "cell_type": "markdown",
   "metadata": {
    "id": "6Bx-odxkKvuz"
   },
   "source": [
    "One way to iterate over a dictionary is using the keys."
   ]
  },
  {
   "cell_type": "code",
   "execution_count": null,
   "metadata": {
    "id": "kqRJFcIfKvu1"
   },
   "outputs": [],
   "source": [
    "for key, val in buildings.items():\n",
    "    print(\"{} ({})\".format(key, val))"
   ]
  },
  {
   "cell_type": "markdown",
   "metadata": {
    "id": "7Wv19ho0Kvu1"
   },
   "source": [
    "Another way to interate over a dicitonary is to use the <b>items</b>() method that returns (key, value) tuples. In this case, you can unpack the key and value in the header line."
   ]
  },
  {
   "cell_type": "code",
   "execution_count": null,
   "metadata": {
    "id": "_uSValJvKvu1"
   },
   "outputs": [],
   "source": [
    "s = {\"cat\", \"dog\", \"bird\"}"
   ]
  },
  {
   "cell_type": "code",
   "execution_count": null,
   "metadata": {
    "id": "_gynIuBmKvu2"
   },
   "outputs": [],
   "source": [
    "for item in s:\n",
    "    print(item)"
   ]
  },
  {
   "cell_type": "markdown",
   "metadata": {
    "id": "MMAaSKddKvu2"
   },
   "source": [
    "Order of set elements is random. You cannot change the order unless you convert the set to other type such as list. "
   ]
  },
  {
   "cell_type": "markdown",
   "metadata": {
    "id": "Q23fpZZRKvu2"
   },
   "source": [
    "### Nested For Loops"
   ]
  },
  {
   "cell_type": "code",
   "execution_count": null,
   "metadata": {
    "id": "9L65_CiVKvu2"
   },
   "outputs": [],
   "source": [
    "l1 = [\"a\", \"b\", \"c\"]\n",
    "l2 = [\"x\", \"y\", \"z\"]"
   ]
  },
  {
   "cell_type": "code",
   "execution_count": null,
   "metadata": {
    "id": "AAOD-rg6Kvu3"
   },
   "outputs": [],
   "source": [
    "for item1 in l1:               # outer for loop\n",
    "    for item2 in l2:           # inner for loop\n",
    "        print(item1 + item2)"
   ]
  },
  {
   "cell_type": "markdown",
   "metadata": {
    "id": "T0wYbeCfKvu3"
   },
   "source": [
    "The inner <b>for</b> loop runs for every item in the outer for loop. "
   ]
  },
  {
   "cell_type": "code",
   "execution_count": null,
   "metadata": {
    "id": "QRLUxkKTKvu3"
   },
   "outputs": [],
   "source": [
    "for item2 in l2:               # outer for loop\n",
    "    for item1 in l1:           # inner for loop\n",
    "        print(item1 + item2)"
   ]
  },
  {
   "cell_type": "markdown",
   "metadata": {
    "id": "jxBOl_QXKvu4"
   },
   "source": [
    "The order of retrieving elements depends on how it is described in the nested <b>for</b> loop."
   ]
  },
  {
   "cell_type": "code",
   "execution_count": null,
   "metadata": {
    "id": "04qeD8-9Kvu4"
   },
   "outputs": [],
   "source": [
    "l1 = [\"a\", \"b\", \"c\"]\n",
    "l2 = [\"x\", \"y\", \"z\"]\n",
    "l3 = [\"p\", \"q\", \"r\"]\n",
    "\n",
    "for item1 in l1:\n",
    "    for item2 in l2:\n",
    "        for item3 in l3:\n",
    "            print(item1 + item2 + item3)"
   ]
  },
  {
   "cell_type": "markdown",
   "metadata": {
    "id": "G2CYJa_DKvu5"
   },
   "source": [
    "You can write a nested <b>for</b> loop with a depth of 3 or more. "
   ]
  },
  {
   "cell_type": "code",
   "execution_count": null,
   "metadata": {
    "id": "QI_PxuOIKvu5"
   },
   "outputs": [],
   "source": [
    "l = [\"a\", \"b\", \"c\"]\n",
    "\n",
    "for item1 in l:\n",
    "    for item2 in l:\n",
    "        for item3 in l:\n",
    "            print(item1 + item2 + item3)"
   ]
  },
  {
   "cell_type": "markdown",
   "metadata": {
    "id": "ut1lov8WKvu5"
   },
   "source": [
    "You can write a nested <b>for</b> loop using a single loop."
   ]
  },
  {
   "cell_type": "markdown",
   "id": "fc88db96",
   "metadata": {},
   "source": [
    "### `while` loop"
   ]
  },
  {
   "cell_type": "markdown",
   "id": "c85a8a84",
   "metadata": {},
   "source": [
    "The other type of loop is a `while` loop. A `while` loop iterates until some condition is met. In the example below, we print `i` and then increment `i` by `1` as long as `i` is less than `10`."
   ]
  },
  {
   "cell_type": "code",
   "execution_count": null,
   "id": "d90a14a3",
   "metadata": {
    "scrolled": false
   },
   "outputs": [],
   "source": [
    "i = 0\n",
    "while i < 10:\n",
    "    print(i)\n",
    "    i = i + 1"
   ]
  },
  {
   "cell_type": "markdown",
   "id": "8a401d44",
   "metadata": {},
   "source": [
    "Note that the argument of the `while` loop, `i < 10`, is a comparison statement. The `while` loop is executed as long as that statement returns `True`."
   ]
  },
  {
   "cell_type": "markdown",
   "metadata": {
    "id": "aQ45K-z-Kvu5"
   },
   "source": [
    "## Exercises for Loops"
   ]
  },
  {
   "cell_type": "markdown",
   "metadata": {
    "id": "tP8bJBbtKvu5"
   },
   "source": [
    "Write a <b>for</b> loop that prints all integers from 1 to 100, separated by a tab. Use the <b>range</b> function to generate numbers."
   ]
  },
  {
   "cell_type": "code",
   "execution_count": null,
   "metadata": {
    "id": "rZizPIqxKvu6"
   },
   "outputs": [],
   "source": [
    "# Your answer here\n"
   ]
  },
  {
   "cell_type": "markdown",
   "metadata": {
    "id": "5t01t7hOKvu6"
   },
   "source": [
    "Write a <b>for</b> loop that prints all letters in <i>s</i>, separated by a tab."
   ]
  },
  {
   "cell_type": "code",
   "execution_count": null,
   "metadata": {
    "id": "rj9XG1TQKvu6"
   },
   "outputs": [],
   "source": [
    "s = \"abcdefghijklmnopqrstuvwxyz\""
   ]
  },
  {
   "cell_type": "code",
   "execution_count": null,
   "metadata": {
    "id": "Of4GrDzbKvu6"
   },
   "outputs": [],
   "source": [
    "# Your answer here\n"
   ]
  },
  {
   "cell_type": "markdown",
   "metadata": {
    "id": "QQwLoIoIKvu7"
   },
   "source": [
    "Write a <b>for</b> loop that prints \"ABBREVIATION is the abbreviation for FULLNAME.\" for each key-value pair in the dictionary <i>states</i>, separated by a new line, where ABBREVIATION is the key in <i>states</i> and FULLNAME the value. For example, the first line should look as follows:"
   ]
  },
  {
   "cell_type": "raw",
   "metadata": {
    "id": "Ww7_PLckKvu7"
   },
   "source": [
    "IA is the abbreviation for Iowa."
   ]
  },
  {
   "cell_type": "code",
   "execution_count": null,
   "metadata": {
    "id": "m-chhGEjKvu7"
   },
   "outputs": [],
   "source": [
    "states = {\"IA\": \"Iowa\", \"IL\": \"Illinois\", \"MN\": \"Minnesota\", \"NE\": \"Nebraska\", \"WI\": \"Wisconsin\"}"
   ]
  },
  {
   "cell_type": "code",
   "execution_count": null,
   "metadata": {
    "id": "7vh45FwOKvu7"
   },
   "outputs": [],
   "source": [
    "# Your answer here\n"
   ]
  },
  {
   "cell_type": "markdown",
   "metadata": {
    "id": "3vK_E61zKvu8"
   },
   "source": [
    "Write a <b>for</b> loop that prints all names in the list <i>names</i> in uppercase, separated by a new line."
   ]
  },
  {
   "cell_type": "code",
   "execution_count": null,
   "metadata": {
    "id": "J1oat4AJKvu8"
   },
   "outputs": [],
   "source": [
    "names = [\"Alice\", \"Bob\", \"Mary\", \"Sam\", \"Sarah\", \"Tom\"]"
   ]
  },
  {
   "cell_type": "code",
   "execution_count": null,
   "metadata": {
    "id": "G2UohFxFKvu8",
    "scrolled": false
   },
   "outputs": [],
   "source": [
    "# Your answer here\n"
   ]
  },
  {
   "cell_type": "markdown",
   "metadata": {
    "id": "P1l5l-R_Kvu9"
   },
   "source": [
    "## ▪ User-Defined Functions"
   ]
  },
  {
   "cell_type": "markdown",
   "metadata": {
    "id": "xIxViha1Kvu9"
   },
   "source": [
    "A function is a block of reusable code that is used to perform a specific action. The advantages of using functions include:\n",
    "- reducing duplication of code\n",
    "- decomposing complex problems into simpler pieces\n",
    "- improving clarity or readability of the code\n",
    "- reuse of code\n",
    "- information hiding"
   ]
  },
  {
   "cell_type": "raw",
   "metadata": {
    "id": "_3nf_YG4Kvu9"
   },
   "source": [
    "def function_name(argument1, argument2, ):\n",
    "    statements"
   ]
  },
  {
   "cell_type": "code",
   "execution_count": null,
   "metadata": {
    "id": "A7sCdYSPKvu9"
   },
   "outputs": [],
   "source": [
    "def square(x):\n",
    "    return x * x"
   ]
  },
  {
   "cell_type": "markdown",
   "metadata": {
    "id": "_suqh4J5Kvu-"
   },
   "source": [
    "In this example, <i>square</i> is the function name; `x` is the (only) argument, or parameter. Make sure to put a colon (:) after the parentheses. `x` * `x` is the return value of this function."
   ]
  },
  {
   "cell_type": "code",
   "execution_count": null,
   "metadata": {
    "id": "YtFFkQhBKvu-"
   },
   "outputs": [],
   "source": [
    "square(3)"
   ]
  },
  {
   "cell_type": "markdown",
   "metadata": {
    "id": "crzeQVKYKvu-"
   },
   "source": [
    "To call a function, just specify the function name followed by parameter values enclosed with parentheses. "
   ]
  },
  {
   "cell_type": "code",
   "execution_count": null,
   "metadata": {
    "id": "Wb-iYL5XKvu-"
   },
   "outputs": [],
   "source": [
    "def multiply(x, y):\n",
    "    return x * y"
   ]
  },
  {
   "cell_type": "markdown",
   "metadata": {
    "id": "-1fbGyHJKvu-"
   },
   "source": [
    "A function can have multiple arguments. "
   ]
  },
  {
   "cell_type": "code",
   "execution_count": null,
   "metadata": {
    "id": "1sghQNbmKvu_"
   },
   "outputs": [],
   "source": [
    "multiply(3, 5)"
   ]
  },
  {
   "cell_type": "code",
   "execution_count": null,
   "metadata": {
    "id": "Ndx_1MYoKvu_"
   },
   "outputs": [],
   "source": [
    "def multiply_print(x, y):\n",
    "    print(\"{} times {} equals {}.\".format(x, y, x * y))"
   ]
  },
  {
   "cell_type": "markdown",
   "metadata": {
    "id": "aSD0Gi_bKvu_"
   },
   "source": [
    "A function can return no value. "
   ]
  },
  {
   "cell_type": "code",
   "execution_count": null,
   "metadata": {
    "id": "_Wm4BN2ZKvvB"
   },
   "outputs": [],
   "source": [
    "multiply_print(3, 5)"
   ]
  },
  {
   "cell_type": "code",
   "execution_count": null,
   "metadata": {
    "id": "qTp2fwkUKvvB"
   },
   "outputs": [],
   "source": [
    "def get_first_2_items(l):\n",
    "    return l[0], l[1]"
   ]
  },
  {
   "cell_type": "markdown",
   "metadata": {
    "id": "8XLAIdwQKvvB"
   },
   "source": [
    "A function can return multiple values. "
   ]
  },
  {
   "cell_type": "code",
   "execution_count": null,
   "metadata": {
    "id": "9bHVkZzgKvvC"
   },
   "outputs": [],
   "source": [
    "get_first_2_items([1, 2, 3, 4, 5])"
   ]
  },
  {
   "cell_type": "code",
   "execution_count": null,
   "metadata": {
    "id": "LxhQRNUAKvvC",
    "scrolled": true
   },
   "outputs": [],
   "source": [
    "a, b = get_first_2_items([1, 2, 3, 4, 5])\n",
    "print(a, b)"
   ]
  },
  {
   "cell_type": "markdown",
   "metadata": {
    "id": "dJnJF9vIKvvC"
   },
   "source": [
    "A function's return value can be used by assigning it to a variable. "
   ]
  },
  {
   "cell_type": "code",
   "execution_count": null,
   "metadata": {
    "id": "ImZKdxtqKvvC"
   },
   "outputs": [],
   "source": [
    "def just_print():\n",
    "    print(\"Hello, world!\")"
   ]
  },
  {
   "cell_type": "markdown",
   "metadata": {
    "id": "t7CejP0iKvvD"
   },
   "source": [
    "A function can have no arguments. "
   ]
  },
  {
   "cell_type": "code",
   "execution_count": null,
   "metadata": {
    "id": "20-onH3BKvvD"
   },
   "outputs": [],
   "source": [
    "just_print()"
   ]
  },
  {
   "cell_type": "code",
   "execution_count": null,
   "metadata": {
    "id": "iBLIErb9KvvD"
   },
   "outputs": [],
   "source": [
    "def remove_all_whitespaces(s):\n",
    "    s = s.replace(\" \", \"\")\n",
    "    s = s.replace(\"\\t\", \"\")\n",
    "    s = s.replace(\"\\n\", \"\")\n",
    "\n",
    "    \n",
    "    return s"
   ]
  },
  {
   "cell_type": "markdown",
   "metadata": {
    "id": "j89CnOY_KvvD"
   },
   "source": [
    "You can write a series of operations in the function body."
   ]
  },
  {
   "cell_type": "code",
   "execution_count": null,
   "metadata": {
    "id": "tY8cONkXKvvE",
    "scrolled": true
   },
   "outputs": [],
   "source": [
    "remove_all_whitespaces(\"\\t\\t\\tI'm learning Python Data Analytics.\\n\")"
   ]
  },
  {
   "cell_type": "code",
   "execution_count": null,
   "metadata": {
    "id": "gSHXlwcgKvvE"
   },
   "outputs": [],
   "source": [
    "def get_max(x, y):\n",
    "    if x > y:\n",
    "        return x\n",
    "    else:\n",
    "        return y"
   ]
  },
  {
   "cell_type": "markdown",
   "metadata": {
    "id": "fNb4u9cRKvvF"
   },
   "source": [
    "You can use <b>if</b> statements in the function body to make the function respond differently to the parameters. "
   ]
  },
  {
   "cell_type": "code",
   "execution_count": null,
   "metadata": {
    "id": "F-RtB1eaKvvF"
   },
   "outputs": [],
   "source": [
    "get_max(3, 5)"
   ]
  },
  {
   "cell_type": "code",
   "execution_count": null,
   "metadata": {
    "id": "WuazXTWJKvvG"
   },
   "outputs": [],
   "source": [
    "def get_max(x, y):\n",
    "    if x > y:\n",
    "        return x\n",
    "        print(\"Can I be printed???\")   # Unreachable code\n",
    "    else:\n",
    "        return y"
   ]
  },
  {
   "cell_type": "markdown",
   "metadata": {
    "id": "AGLye7VBKvvG"
   },
   "source": [
    "Be aware that a function stops right after it returns a value. "
   ]
  },
  {
   "cell_type": "code",
   "execution_count": null,
   "metadata": {
    "id": "ONrSyVIMKvvG"
   },
   "outputs": [],
   "source": [
    "get_max(3, 5)"
   ]
  },
  {
   "cell_type": "code",
   "execution_count": null,
   "metadata": {
    "id": "xI-SOxqSKvvH"
   },
   "outputs": [],
   "source": [
    "def get_first_n_items(l, n=3):\n",
    "    return l[:n]"
   ]
  },
  {
   "cell_type": "markdown",
   "metadata": {
    "id": "-s-d3uU-KvvH"
   },
   "source": [
    "You can set the default value of an argument in a function."
   ]
  },
  {
   "cell_type": "code",
   "execution_count": null,
   "metadata": {
    "id": "vTWWkdBXKvvH",
    "scrolled": true
   },
   "outputs": [],
   "source": [
    "get_first_n_items([1, 2, 3, 4, 5])"
   ]
  },
  {
   "cell_type": "markdown",
   "metadata": {
    "id": "9ne5CabeKvvI"
   },
   "source": [
    " You will have the option of not specifying a value for that argument when calling the function. If you do not specify a value, then the parameter will have the default value given when the function executes. "
   ]
  },
  {
   "cell_type": "markdown",
   "metadata": {
    "id": "_pq9Yk6GKvvI"
   },
   "source": [
    "## Exercises for User-Defined Functions"
   ]
  },
  {
   "cell_type": "markdown",
   "metadata": {
    "id": "azh7KURNKvvI"
   },
   "source": [
    "Write a function <i>concatenate</i> that takes two strings `s1` and `s2` as arguments and returns the concatenation of the two strings with a space between them. "
   ]
  },
  {
   "cell_type": "code",
   "execution_count": null,
   "metadata": {
    "id": "hJCfP_N8KvvI"
   },
   "outputs": [],
   "source": [
    "# Your answer here\n"
   ]
  },
  {
   "cell_type": "code",
   "execution_count": null,
   "metadata": {
    "id": "63Lea8mUKvvI",
    "scrolled": true
   },
   "outputs": [],
   "source": [
    "# Test the function here\n",
    "concatenate(\"Learning\", \"Python\")     # Output: 'Learning Python'"
   ]
  },
  {
   "cell_type": "markdown",
   "metadata": {
    "id": "_EJaePVGKvvJ"
   },
   "source": [
    "Write a function <i>concatenate_all</i> that takes a list `l` of strings as an argument and returns the concatenation of all strings in `l` with a space between them. "
   ]
  },
  {
   "cell_type": "code",
   "execution_count": null,
   "metadata": {
    "id": "Oo6Gat1xKvvJ"
   },
   "outputs": [],
   "source": [
    "# Your answer here\n"
   ]
  },
  {
   "cell_type": "code",
   "execution_count": null,
   "metadata": {
    "id": "5QTFTVg5KvvJ"
   },
   "outputs": [],
   "source": [
    "# Test the function here\n",
    "concatenate_all([\"Python\", \"R\", \"SAS\", \"SPSS\", \"Matlab\", \"Stata\"])     # Output: 'Python R SAS SPSS Matlab Stata'"
   ]
  },
  {
   "cell_type": "markdown",
   "metadata": {
    "id": "VvFAtGY3KvvJ"
   },
   "source": [
    "Write a function <i>get_min</i> that takes two numbers `num1` and `num2` as arguments and returns the lesser value. If the two numbers are equal, it returns either value. "
   ]
  },
  {
   "cell_type": "code",
   "execution_count": null,
   "metadata": {
    "id": "dlGe6Z_TKvvJ"
   },
   "outputs": [],
   "source": [
    "# Your answer here\n"
   ]
  },
  {
   "cell_type": "code",
   "execution_count": null,
   "metadata": {
    "id": "cGa4cU2wKvvK"
   },
   "outputs": [],
   "source": [
    "# Test the function here\n",
    "get_min(3, 5)     # Output: 3"
   ]
  },
  {
   "cell_type": "code",
   "execution_count": null,
   "metadata": {
    "id": "q-DFCequKvvK"
   },
   "outputs": [],
   "source": [
    "# Test the function here\n",
    "get_min(3, 3)     # Output: 3"
   ]
  },
  {
   "cell_type": "markdown",
   "metadata": {
    "id": "TGl6T8leKvvK"
   },
   "source": [
    "Write a function <i>get_min_all</i> that takes a list `l` of numbers as an argument and returns the least value in `l`. If the two numbers are equal, it returns either value. "
   ]
  },
  {
   "cell_type": "code",
   "execution_count": null,
   "metadata": {
    "id": "Dnuh1Za8KvvK"
   },
   "outputs": [],
   "source": [
    "# Your answer here\n"
   ]
  },
  {
   "cell_type": "code",
   "execution_count": null,
   "metadata": {
    "id": "TL6d4MUVKvvL"
   },
   "outputs": [],
   "source": [
    "# Test the function here\n",
    "get_min_all([3, 2, 9, 6, 2, 7])     # Output: 2"
   ]
  },
  {
   "cell_type": "markdown",
   "metadata": {
    "id": "qBX61ToYKvvL"
   },
   "source": [
    "Write a function <i>get_head_tail</i> that takes a list `l` as an argument and returns the first and last elements in `l`. If `l` has fewer than 2 elements, it should return \"The input list is too short!\". "
   ]
  },
  {
   "cell_type": "code",
   "execution_count": null,
   "metadata": {
    "id": "gCX7FAKgKvvL"
   },
   "outputs": [],
   "source": [
    "# Your answer here\n"
   ]
  },
  {
   "cell_type": "code",
   "execution_count": null,
   "metadata": {
    "id": "9g2LHtpuKvvM",
    "scrolled": true
   },
   "outputs": [],
   "source": [
    "# Test the function here\n",
    "get_head_tail([\"Python\", \"R\", \"SAS\", \"SPSS\", \"Matlab\", \"Stata\"]) # Output: ('Python', 'Stata')."
   ]
  },
  {
   "cell_type": "code",
   "execution_count": null,
   "metadata": {
    "id": "r0PmIhprKvvM",
    "scrolled": true
   },
   "outputs": [],
   "source": [
    "# Test the function here\n",
    "get_head_tail([\"Python\"])                                        # Output: 'The input list is too short!'."
   ]
  }
 ],
 "metadata": {
  "interpreter": {
   "hash": "31f2aee4e71d21fbe5cf8b01ff0e069b9275f58929596ceb00d14d90e3e16cd6"
  },
  "kernelspec": {
   "display_name": "Python 3.7.3 64-bit",
   "language": "python",
   "name": "python3"
  },
  "language_info": {
   "codemirror_mode": {
    "name": "ipython",
    "version": 3
   },
   "file_extension": ".py",
   "mimetype": "text/x-python",
   "name": "python",
   "nbconvert_exporter": "python",
   "pygments_lexer": "ipython3",
   "version": "3.9.10"
  },
  "orig_nbformat": 4
 },
 "nbformat": 4,
 "nbformat_minor": 2
}
