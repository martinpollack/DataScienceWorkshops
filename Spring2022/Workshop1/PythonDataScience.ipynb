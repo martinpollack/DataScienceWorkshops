{
  "cells": [
    {
      "cell_type": "markdown",
      "metadata": {
        "id": "nmoqoyLDn2pI"
      },
      "source": [
        "# Introduction Python for Data Science\n",
        "### Workshop 1 of DASIL's Series on \"Data Science with Python\"\n",
        "### Created by Linh Tang, Britney He, Christopher Moppel, Sergio Martelo, and Martin Pollack"
      ]
    },
    {
      "cell_type": "markdown",
      "metadata": {
        "id": "6PPwFNcYn2pL"
      },
      "source": [
        "# Base Python"
      ]
    },
    {
      "cell_type": "markdown",
      "metadata": {
        "id": "WYyL-DzLn2pM"
      },
      "source": [
        "## Strings"
      ]
    },
    {
      "cell_type": "markdown",
      "metadata": {
        "id": "bI_3lPsIn2pN"
      },
      "source": [
        "String literals can be enclosed in matching single quotes (') or double quotes (\"); either is fine. Let's see an example:"
      ]
    },
    {
      "cell_type": "code",
      "execution_count": null,
      "metadata": {
        "id": "14t2TjXkn2pO",
        "outputId": "19e688b5-c413-41b2-8707-0d8fff434ac2"
      },
      "outputs": [
        {
          "name": "stdout",
          "output_type": "stream",
          "text": [
            "How are you?\n",
            "<class 'str'>\n"
          ]
        }
      ],
      "source": [
        "s = \"How are you?\"\n",
        "print(s)\n",
        "\n",
        "# Get the data type of s\n",
        "print(type(s))"
      ]
    },
    {
      "cell_type": "markdown",
      "metadata": {
        "id": "fe_eHMmkn2pR"
      },
      "source": [
        "The <b>len</b> function is a built-in function of Python, which is widely used for getting the length of a list of any type. "
      ]
    },
    {
      "cell_type": "code",
      "execution_count": null,
      "metadata": {
        "id": "GUdE7TO_n2pS",
        "outputId": "baa3465d-68c7-434f-eb7f-4cca4a5fea49"
      },
      "outputs": [
        {
          "data": {
            "text/plain": [
              "12"
            ]
          },
          "metadata": {},
          "output_type": "display_data"
        }
      ],
      "source": [
        "len(s)"
      ]
    },
    {
      "cell_type": "markdown",
      "metadata": {
        "id": "_8c3XmQkn2pV"
      },
      "source": [
        "The <b>in</b> operator returns True if one string is a substring of another."
      ]
    },
    {
      "cell_type": "code",
      "execution_count": null,
      "metadata": {
        "id": "T1R7Fs5an2pX",
        "outputId": "39e71a8c-7463-4bff-8545-8ac7854b7a44"
      },
      "outputs": [
        {
          "name": "stdout",
          "output_type": "stream",
          "text": [
            "True\n",
            "False\n"
          ]
        }
      ],
      "source": [
        "s1 = \"hello\"\n",
        "s2 = \"hell\"\n",
        "s3 = \"world\"\n",
        "print(s2 in s1)\n",
        "print(s3 in s1)"
      ]
    },
    {
      "cell_type": "markdown",
      "metadata": {
        "id": "stns9ucLn2pa"
      },
      "source": [
        "#### String Method"
      ]
    },
    {
      "cell_type": "code",
      "execution_count": null,
      "metadata": {
        "id": "-Ls_MQ2-n2pb",
        "outputId": "67cb2cec-68c9-4bf3-da4b-1b3b58908a73"
      },
      "outputs": [
        {
          "data": {
            "text/plain": [
              "'This is text'"
            ]
          },
          "metadata": {},
          "output_type": "display_data"
        }
      ],
      "source": [
        "s = \"This is text\"\n",
        "s"
      ]
    },
    {
      "cell_type": "code",
      "execution_count": null,
      "metadata": {
        "id": "gyMVmc25n2pc",
        "outputId": "0dafa89f-eade-41b0-ba5e-d2228756acce"
      },
      "outputs": [
        {
          "name": "stdout",
          "output_type": "stream",
          "text": [
            "THIS IS TEXT\n",
            "this is text\n",
            "2\n"
          ]
        }
      ],
      "source": [
        "# change s is all uppercase, sumbols and numbers are ignored\n",
        "print(s.upper())\n",
        "\n",
        "# change s to all lowercse\n",
        "print(s.lower())\n",
        "\n",
        "# count number of occurence of an alement in the string\n",
        "print(s.count(\"is \"))"
      ]
    },
    {
      "cell_type": "markdown",
      "metadata": {
        "id": "_MwR1azen2pd"
      },
      "source": [
        "Note that all strings and string methods in Python are case sensitve"
      ]
    },
    {
      "cell_type": "code",
      "execution_count": null,
      "metadata": {
        "id": "uB9IpwoCn2pe",
        "outputId": "dba47fe0-3473-474a-e335-6e429ddd7330"
      },
      "outputs": [
        {
          "name": "stdout",
          "output_type": "stream",
          "text": [
            " \tThis is a text.\n",
            "\n",
            "This is a text.\n",
            "This-is-a-text.\n"
          ]
        }
      ],
      "source": [
        "s = \" \\tThis is a text.\\n\"     # \\t: tab, \\n: new line\n",
        "print(s)\n",
        "\n",
        "# remove any leading or trailling space\n",
        "s = s.strip()\n",
        "print(s)\n",
        "\n",
        "# replace a specificed values with another specified value\n",
        "s = s.replace(\" \", \"-\")\n",
        "print(s)"
      ]
    },
    {
      "cell_type": "markdown",
      "metadata": {
        "id": "1NXrE-m74y95"
      },
      "source": [
        "## Exercises - Strings"
      ]
    },
    {
      "cell_type": "code",
      "execution_count": null,
      "metadata": {
        "id": "De4U9c4J4y95"
      },
      "outputs": [],
      "source": [
        "s = \"I'm learning Python data analytics.\""
      ]
    },
    {
      "cell_type": "markdown",
      "metadata": {
        "id": "TDB_cVNY4y95"
      },
      "source": [
        "Get the type of `s`."
      ]
    },
    {
      "cell_type": "code",
      "execution_count": null,
      "metadata": {
        "id": "_NoSJ5oc4y95"
      },
      "outputs": [],
      "source": [
        "# Your answer here"
      ]
    },
    {
      "cell_type": "markdown",
      "metadata": {
        "id": "4qR-Bwe84y95"
      },
      "source": [
        "Get the first character in `s`."
      ]
    },
    {
      "cell_type": "code",
      "execution_count": null,
      "metadata": {
        "id": "m7VEC8bo4y96"
      },
      "outputs": [],
      "source": [
        "# Your answer here"
      ]
    },
    {
      "cell_type": "markdown",
      "metadata": {
        "id": "kSsHcMAT4y96"
      },
      "source": [
        "Get the last character in `s`."
      ]
    },
    {
      "cell_type": "code",
      "execution_count": null,
      "metadata": {
        "id": "EKPLj9Vx4y96"
      },
      "outputs": [],
      "source": [
        "# Your answer here"
      ]
    },
    {
      "cell_type": "markdown",
      "metadata": {
        "id": "ctzJAKse4y97"
      },
      "source": [
        "Get the first 3 characters in `s`. "
      ]
    },
    {
      "cell_type": "code",
      "execution_count": null,
      "metadata": {
        "id": "8Pg7Re1o4y97"
      },
      "outputs": [],
      "source": [
        "# Your answer here"
      ]
    },
    {
      "cell_type": "markdown",
      "metadata": {
        "id": "_Cj6WKs_4y97"
      },
      "source": [
        "Get the last 10 characters in `s`."
      ]
    },
    {
      "cell_type": "code",
      "execution_count": null,
      "metadata": {
        "id": "e1TXM42S4y97"
      },
      "outputs": [],
      "source": [
        "# Your answer here"
      ]
    },
    {
      "cell_type": "markdown",
      "metadata": {
        "id": "klEBgGOK4y97"
      },
      "source": [
        "Check if the substring <i>Python</i> is in `s`."
      ]
    },
    {
      "cell_type": "code",
      "execution_count": null,
      "metadata": {
        "id": "VleeIqlx4y99"
      },
      "outputs": [],
      "source": [
        "# Your answer here "
      ]
    },
    {
      "cell_type": "markdown",
      "metadata": {
        "id": "hAZZU0oK4y9-"
      },
      "source": [
        "Get only the <i>Python</i> part in `s`. (Use slicing.)"
      ]
    },
    {
      "cell_type": "code",
      "execution_count": null,
      "metadata": {
        "id": "D_0Bypd_4y9_"
      },
      "outputs": [],
      "source": [
        "# Your answer here"
      ]
    },
    {
      "cell_type": "markdown",
      "metadata": {
        "id": "vrXyQtB24y9_"
      },
      "source": [
        "Get the lower-case version of `s`. "
      ]
    },
    {
      "cell_type": "code",
      "execution_count": null,
      "metadata": {
        "id": "RrjvFwT54y9_"
      },
      "outputs": [],
      "source": [
        "# Your answer here"
      ]
    },
    {
      "cell_type": "markdown",
      "metadata": {
        "id": "5zNEVU1R4y9_"
      },
      "source": [
        "Count the number of <i>yt</i>'s in `s`. "
      ]
    },
    {
      "cell_type": "code",
      "execution_count": null,
      "metadata": {
        "id": "MYipcpkw4y-A"
      },
      "outputs": [],
      "source": [
        "# Your answer here"
      ]
    },
    {
      "cell_type": "markdown",
      "metadata": {
        "id": "WNiUvabM4y-A"
      },
      "source": [
        "Remove all whitespaces in `s`. (Use <b>replace</b>.)"
      ]
    },
    {
      "cell_type": "code",
      "execution_count": null,
      "metadata": {
        "id": "LOn0q22w4y-A"
      },
      "outputs": [],
      "source": [
        "# Your answer here"
      ]
    },
    {
      "cell_type": "markdown",
      "metadata": {
        "id": "VfsHf-4e4y-A"
      },
      "source": [
        "Remove the trailing period in `s` and then split it into a list of word tokens. (Use dot notation.)"
      ]
    },
    {
      "cell_type": "code",
      "execution_count": null,
      "metadata": {
        "id": "CmohZT0h4y-A"
      },
      "outputs": [],
      "source": [
        "# Your answer here"
      ]
    },
    {
      "cell_type": "code",
      "execution_count": null,
      "metadata": {
        "id": "-kS4c3XUn2pq"
      },
      "outputs": [],
      "source": [
        "# List\n",
        "spring_classes = ['CSC151', 'STA310', 'STA395', 'CSC151', 'MAT215']\n",
        "\n",
        "# Tuple \n",
        "inventory_price = ('Textbook', 100)\n",
        "\n",
        "# Dictionary \n",
        "my_college = {'college': 'Grinnell College', 'state': 'Iowa', 'ranking': 12}\n",
        "\n",
        "# Set\n",
        "student_mentors = {'Linh', 'Britney', 'Martin', 'Chris', 'Sergio'}"
      ]
    },
    {
      "cell_type": "markdown",
      "metadata": {
        "id": "-Ii-esDF4y-B"
      },
      "source": [
        "## Lists"
      ]
    },
    {
      "cell_type": "markdown",
      "metadata": {
        "id": "470BmDi54y-B"
      },
      "source": [
        "A list is a collection that is ordered, mutable, indexed, and written with square brackets. It allows duplicate members."
      ]
    },
    {
      "cell_type": "code",
      "execution_count": null,
      "metadata": {
        "id": "QrdDqXaA4y-B",
        "outputId": "aa266a13-709c-4f1f-8b05-dbf923f5a365"
      },
      "outputs": [
        {
          "name": "stdout",
          "output_type": "stream",
          "text": [
            "[] <class 'list'>\n"
          ]
        }
      ],
      "source": [
        "l = []\n",
        "print(l, type(l))"
      ]
    },
    {
      "cell_type": "markdown",
      "metadata": {
        "id": "uSelNJfa4y-C"
      },
      "source": [
        "List elements do not have to be of the same type."
      ]
    },
    {
      "cell_type": "code",
      "execution_count": null,
      "metadata": {
        "id": "HH9T_Loi4y-B",
        "outputId": "4a1d191d-6ff7-4e67-fbdd-3f5b54d2d6fe"
      },
      "outputs": [
        {
          "data": {
            "text/plain": [
              "[1, 2, 3, 'a', 'b', 'c']"
            ]
          },
          "metadata": {},
          "output_type": "display_data"
        }
      ],
      "source": [
        "l = [1, 2, 3, \"a\", \"b\", \"c\"]\n",
        "l"
      ]
    },
    {
      "cell_type": "markdown",
      "metadata": {
        "id": "CSZ5huig4y-E"
      },
      "source": [
        "The length of a list is the number of items in the list."
      ]
    },
    {
      "cell_type": "code",
      "execution_count": null,
      "metadata": {
        "id": "ugkBlQZs4y-E",
        "outputId": "d38015d0-fca2-4704-f761-7fdf6ff27101"
      },
      "outputs": [
        {
          "data": {
            "text/plain": [
              "6"
            ]
          },
          "metadata": {},
          "output_type": "display_data"
        }
      ],
      "source": [
        "len(l)"
      ]
    },
    {
      "cell_type": "markdown",
      "metadata": {
        "id": "h3PtHPdBn2pu"
      },
      "source": [
        "The <b>in</b> operator is exactly the same as in String"
      ]
    },
    {
      "cell_type": "code",
      "execution_count": null,
      "metadata": {
        "id": "dk4QB4F14y-E",
        "outputId": "1f513316-5865-4904-f26b-9488320cb490"
      },
      "outputs": [
        {
          "data": {
            "text/plain": [
              "True"
            ]
          },
          "metadata": {},
          "output_type": "display_data"
        }
      ],
      "source": [
        "3 in l"
      ]
    },
    {
      "cell_type": "code",
      "execution_count": null,
      "metadata": {
        "id": "_eZCLrmq4y-E",
        "outputId": "cf6051bd-2ad7-4965-d872-0d9cb9cc49ce",
        "scrolled": true
      },
      "outputs": [
        {
          "data": {
            "text/plain": [
              "False"
            ]
          },
          "metadata": {},
          "output_type": "display_data"
        }
      ],
      "source": [
        "\"z\" in l"
      ]
    },
    {
      "cell_type": "markdown",
      "metadata": {
        "id": "cNTkHwuC4y-F"
      },
      "source": [
        "### List Methods"
      ]
    },
    {
      "cell_type": "markdown",
      "metadata": {
        "id": "sLwpzcau4y-F"
      },
      "source": [
        "The easiest way to combine two lists is to use the + operator, just as combining two strings. "
      ]
    },
    {
      "cell_type": "code",
      "execution_count": null,
      "metadata": {
        "id": "GdVAaTwU4y-F",
        "outputId": "56e6ef29-b9cd-466e-d1c2-c1eadaab5bfe"
      },
      "outputs": [
        {
          "data": {
            "text/plain": [
              "[1, 2, 3, 'a', 'b', 'c']"
            ]
          },
          "metadata": {},
          "output_type": "display_data"
        }
      ],
      "source": [
        "l1 = [1, 2, 3]\n",
        "l2 = [\"a\", \"b\", \"c\"]\n",
        "l1 + l2"
      ]
    },
    {
      "cell_type": "markdown",
      "metadata": {
        "id": "c3eJcHeZ4y-G"
      },
      "source": [
        "The <b>append</b> method appends an element to the end of the list. Note that the <b>append</b> method actually appends a new element to the target list, not returning a copy. "
      ]
    },
    {
      "cell_type": "code",
      "execution_count": null,
      "metadata": {
        "id": "KCBhIDgH4y-F",
        "outputId": "df909d9e-eb64-4f0f-83fc-fd50dd57fef9"
      },
      "outputs": [
        {
          "data": {
            "text/plain": [
              "[1, 2, 3, 4]"
            ]
          },
          "metadata": {},
          "output_type": "display_data"
        }
      ],
      "source": [
        "l = [1, 2, 3]\n",
        "l.append(4)\n",
        "l"
      ]
    },
    {
      "cell_type": "markdown",
      "metadata": {
        "id": "l7hnDyNV4y-H"
      },
      "source": [
        "The <b>sort</b> method sorts the list in ascending order by default. Note that the <b>sort</b> method actually sorts the target list, not returning a copy. "
      ]
    },
    {
      "cell_type": "code",
      "execution_count": null,
      "metadata": {
        "id": "Rif9eq584y-G",
        "outputId": "c8da4ea0-8bce-4d33-e978-e0e5cb99228b"
      },
      "outputs": [
        {
          "data": {
            "text/plain": [
              "[1, 2, 3, 4, 5, 6]"
            ]
          },
          "metadata": {},
          "output_type": "display_data"
        }
      ],
      "source": [
        "l = [1, 6, 3, 4, 2, 5]\n",
        "l.sort()\n",
        "l"
      ]
    },
    {
      "cell_type": "markdown",
      "metadata": {
        "id": "dwNb-rKv4y-H"
      },
      "source": [
        "Setting the `reverse` parameter to True will sort the list in descending order."
      ]
    },
    {
      "cell_type": "code",
      "execution_count": null,
      "metadata": {
        "id": "Zg5aeudQ4y-H",
        "outputId": "7d218210-f8bd-40ae-d423-27889fe4f5ca"
      },
      "outputs": [
        {
          "data": {
            "text/plain": [
              "[6, 5, 4, 3, 2, 1]"
            ]
          },
          "metadata": {},
          "output_type": "display_data"
        }
      ],
      "source": [
        "l = [1, 6, 3, 4, 2, 5]\n",
        "l.sort(reverse=True)\n",
        "l"
      ]
    },
    {
      "cell_type": "markdown",
      "metadata": {
        "id": "LWPqNzZP4y-H"
      },
      "source": [
        "Python also has a built-in function <b>sorted</b>, which works the same as the <b>sort</b> method except that it returns a new copy. "
      ]
    },
    {
      "cell_type": "code",
      "execution_count": null,
      "metadata": {
        "id": "WMGHJIot4y-H",
        "outputId": "dc6c8df9-2319-42e5-d426-0e45bffeed76"
      },
      "outputs": [
        {
          "data": {
            "text/plain": [
              "[1, 2, 3, 4, 5, 6]"
            ]
          },
          "metadata": {},
          "output_type": "display_data"
        }
      ],
      "source": [
        "l = [1, 6, 3, 4, 2, 5]\n",
        "sorted(l)"
      ]
    },
    {
      "cell_type": "code",
      "execution_count": null,
      "metadata": {
        "id": "KS558P4d4y-I",
        "outputId": "959d2061-4f68-4578-b804-929b822e5917"
      },
      "outputs": [
        {
          "data": {
            "text/plain": [
              "[6, 5, 4, 3, 2, 1]"
            ]
          },
          "metadata": {},
          "output_type": "display_data"
        }
      ],
      "source": [
        "sorted(l, reverse=True)"
      ]
    },
    {
      "cell_type": "markdown",
      "metadata": {
        "id": "GX07ANRD4y-I"
      },
      "source": [
        "The <b>count</b> method returns the number of elements with the specified value."
      ]
    },
    {
      "cell_type": "code",
      "execution_count": null,
      "metadata": {
        "id": "alBg370Z4y-I",
        "outputId": "5175b795-c07a-40bf-afc1-9e09907045a7"
      },
      "outputs": [
        {
          "data": {
            "text/plain": [
              "2"
            ]
          },
          "metadata": {},
          "output_type": "display_data"
        }
      ],
      "source": [
        "l = [1, 2, 3, 4, 5, 4, 3, 2, 1]\n",
        "l.count(1)"
      ]
    },
    {
      "cell_type": "markdown",
      "metadata": {
        "id": "WY8wU7Yv4y-I"
      },
      "source": [
        "## Exercises - Lists"
      ]
    },
    {
      "cell_type": "code",
      "execution_count": null,
      "metadata": {
        "id": "Nj5klboO4y-J"
      },
      "outputs": [],
      "source": [
        "animals = [\"dog\", \"cat\", \"bird\", \"tiger\", \"lion\", \"fox\"]"
      ]
    },
    {
      "cell_type": "markdown",
      "metadata": {
        "id": "LiulBIJh4y-J"
      },
      "source": [
        "Get the type of `animals`."
      ]
    },
    {
      "cell_type": "code",
      "execution_count": null,
      "metadata": {
        "id": "1QfUG0yr4y-J"
      },
      "outputs": [],
      "source": [
        "# Your answer here"
      ]
    },
    {
      "cell_type": "markdown",
      "metadata": {
        "id": "GEyDEBMi4y-J"
      },
      "source": [
        "Check if <i>elephant</i> is in `animals`. The output must be either True or False. "
      ]
    },
    {
      "cell_type": "code",
      "execution_count": null,
      "metadata": {
        "id": "N4VqEQNB4y-J"
      },
      "outputs": [],
      "source": [
        "# Your answer here"
      ]
    },
    {
      "cell_type": "markdown",
      "metadata": {
        "id": "iZ3edb7C4y-J"
      },
      "source": [
        "Append a new element <i>elephant</i> to `animals`. Be careful not to append the element multple times."
      ]
    },
    {
      "cell_type": "code",
      "execution_count": null,
      "metadata": {
        "id": "DGTchCTU4y-K"
      },
      "outputs": [],
      "source": [
        "# Your answer here"
      ]
    },
    {
      "cell_type": "markdown",
      "metadata": {
        "id": "360NeCmg4y-K"
      },
      "source": [
        "Get the number of elements in `animals`. "
      ]
    },
    {
      "cell_type": "code",
      "execution_count": null,
      "metadata": {
        "id": "NnXRi7Jw4y-K"
      },
      "outputs": [],
      "source": [
        "# Your answer here"
      ]
    },
    {
      "cell_type": "markdown",
      "metadata": {
        "id": "H2cQ_I4p4y-K"
      },
      "source": [
        "Get the first 5 items in `animals`. "
      ]
    },
    {
      "cell_type": "code",
      "execution_count": null,
      "metadata": {
        "id": "v9HDkfde4y-L"
      },
      "outputs": [],
      "source": [
        "# Your answer here"
      ]
    },
    {
      "cell_type": "markdown",
      "metadata": {
        "id": "pjfVFIXe4y-L"
      },
      "source": [
        "Get a new sorted list of `animals` in reverse alphabetical order. "
      ]
    },
    {
      "cell_type": "code",
      "execution_count": null,
      "metadata": {
        "id": "3D-66bCP4y-L"
      },
      "outputs": [],
      "source": [
        "# Your answer here"
      ]
    },
    {
      "cell_type": "markdown",
      "metadata": {
        "id": "Vnjt7BtJ4y-M"
      },
      "source": [
        "## Dictionaries"
      ]
    },
    {
      "cell_type": "markdown",
      "metadata": {
        "id": "bxOj2i9L4y-M"
      },
      "source": [
        "A dictionary is a collection of key-value mappings that is unordered, mutable, indexed, and written with curly brackets. If you look up a key in the dictionary, it returns its value, but not vice versa. It allows no duplicate keys."
      ]
    },
    {
      "cell_type": "markdown",
      "metadata": {
        "id": "nit2VGw84y-M"
      },
      "source": [
        "When designing a dictionary, you should think about what should be the key and what should be the value. It depends on the purpose of the dictionary."
      ]
    },
    {
      "cell_type": "code",
      "execution_count": null,
      "metadata": {
        "id": "7A_FWSa64y-M",
        "outputId": "8cf20c4e-9116-4bd7-d85e-68e191fa14e1"
      },
      "outputs": [
        {
          "name": "stdout",
          "output_type": "stream",
          "text": [
            "{} <class 'dict'>\n"
          ]
        }
      ],
      "source": [
        "d = {}\n",
        "print(d, type(d))"
      ]
    },
    {
      "cell_type": "markdown",
      "metadata": {
        "id": "ZarihDNV4y-N"
      },
      "source": [
        "`buildings` is a dictionary for UI building name abbreviations. If you look up an abbreviation, it returns its full name."
      ]
    },
    {
      "cell_type": "code",
      "execution_count": null,
      "metadata": {
        "id": "nN5PXm3P4y-N",
        "outputId": "2988e755-7604-42d1-858f-eaa9152bc956"
      },
      "outputs": [
        {
          "name": "stdout",
          "output_type": "stream",
          "text": [
            "{'UCC': 'University Capitol Center', 'PBB': 'Pappajohn Business Building'} <class 'dict'>\n"
          ]
        }
      ],
      "source": [
        "buildings = {\"UCC\": \"University Capitol Center\", \"PBB\": \"Pappajohn Business Building\"}\n",
        "print(buildings, type(buildings))"
      ]
    },
    {
      "cell_type": "markdown",
      "metadata": {
        "id": "q_421kxG4y-N"
      },
      "source": [
        "If you look up a key in a dictionary, it returns, if any, its value. "
      ]
    },
    {
      "cell_type": "code",
      "execution_count": null,
      "metadata": {
        "id": "mW973b414y-O",
        "outputId": "4c7ad2d2-e7fe-4907-dff1-e9d8ed2be824"
      },
      "outputs": [
        {
          "data": {
            "text/plain": [
              "'University Capitol Center'"
            ]
          },
          "metadata": {},
          "output_type": "display_data"
        }
      ],
      "source": [
        "buildings[\"UCC\"]"
      ]
    },
    {
      "cell_type": "code",
      "execution_count": null,
      "metadata": {
        "id": "FLTIlimu4y-O",
        "outputId": "1a99c688-556f-48e2-a69e-3b8b1df924cc"
      },
      "outputs": [
        {
          "data": {
            "text/plain": [
              "'Pappajohn Business Building'"
            ]
          },
          "metadata": {},
          "output_type": "display_data"
        }
      ],
      "source": [
        "buildings[\"PBB\"]"
      ]
    },
    {
      "cell_type": "markdown",
      "metadata": {
        "id": "N6jHkzeo4y-O"
      },
      "source": [
        "If there is not the key in the dictionary, it returns KeyError."
      ]
    },
    {
      "cell_type": "code",
      "execution_count": null,
      "metadata": {
        "id": "TBUcQ90K4y-O",
        "outputId": "9e146238-11e7-49c3-e950-6f5be8ccb952",
        "scrolled": true
      },
      "outputs": [
        {
          "ename": "KeyError",
          "evalue": "'IMU'",
          "output_type": "error",
          "traceback": [
            "\u001b[0;31m---------------------------------------------------------------------------\u001b[0m\n",
            "\u001b[0;31mKeyError\u001b[0m                                  Traceback (most recent call last)\n",
            "\u001b[1;32m/Users/linhtang/Downloads/DASIL Python/Python Basics 2.ipynb Cell 87'\u001b[0m in \u001b[0;36m<cell line: 1>\u001b[0;34m()\u001b[0m\n",
            "\u001b[0;32m----> <a href='vscode-notebook-cell:/Users/linhtang/Downloads/DASIL%20Python/Python%20Basics%202.ipynb#ch0000286?line=0'>1</a>\u001b[0m buildings[\u001b[39m\"\u001b[39;49m\u001b[39mIMU\u001b[39;49m\u001b[39m\"\u001b[39;49m]\n",
            "\n",
            "\u001b[0;31mKeyError\u001b[0m: 'IMU'"
          ]
        }
      ],
      "source": [
        "buildings[\"IMU\"]"
      ]
    },
    {
      "cell_type": "code",
      "execution_count": null,
      "metadata": {
        "id": "skA1oO_84y-O",
        "outputId": "84427a85-8ac2-46b6-ddbf-1792d5d9a15e"
      },
      "outputs": [
        {
          "data": {
            "text/plain": [
              "dict_keys(['UCC', 'PBB'])"
            ]
          },
          "metadata": {},
          "output_type": "display_data"
        }
      ],
      "source": [
        "buildings.keys()"
      ]
    },
    {
      "cell_type": "code",
      "execution_count": null,
      "metadata": {
        "id": "eFi19nEK4y-O",
        "outputId": "4b721c24-e0ef-4de6-8d10-fb895b498186"
      },
      "outputs": [
        {
          "data": {
            "text/plain": [
              "dict_values(['University Capitol Center', 'Pappajohn Business Building'])"
            ]
          },
          "metadata": {},
          "output_type": "display_data"
        }
      ],
      "source": [
        "buildings.values()"
      ]
    },
    {
      "cell_type": "code",
      "execution_count": null,
      "metadata": {
        "id": "XE-ewAYP4y-P",
        "outputId": "28fa5a5a-4026-4221-8c46-df78879fa8a8"
      },
      "outputs": [
        {
          "data": {
            "text/plain": [
              "{'UCC': 'University Capitol Center',\n",
              " 'PBB': 'Pappajohn Business Building',\n",
              " 'IMU': 'Iowa Memorial Union'}"
            ]
          },
          "metadata": {},
          "output_type": "display_data"
        }
      ],
      "source": [
        "buildings[\"IMU\"] = \"Iowa Memorial Union\"\n",
        "buildings"
      ]
    },
    {
      "cell_type": "markdown",
      "metadata": {
        "id": "GN4of3Ne4y-P"
      },
      "source": [
        "You can check if a key is in a dictionary using the <b>in</b> operator."
      ]
    },
    {
      "cell_type": "code",
      "execution_count": null,
      "metadata": {
        "id": "70wd7_q54y-P",
        "outputId": "61f34945-fda7-4dd9-8626-37926dbc6e66"
      },
      "outputs": [
        {
          "data": {
            "text/plain": [
              "True"
            ]
          },
          "metadata": {},
          "output_type": "display_data"
        }
      ],
      "source": [
        "\"IMU\" in buildings"
      ]
    },
    {
      "cell_type": "code",
      "execution_count": null,
      "metadata": {
        "id": "lp2UQpRl4y-P",
        "outputId": "25c77342-5158-4da5-8e22-652df9778256"
      },
      "outputs": [
        {
          "data": {
            "text/plain": [
              "False"
            ]
          },
          "metadata": {},
          "output_type": "display_data"
        }
      ],
      "source": [
        "\"SH\" in buildings"
      ]
    },
    {
      "cell_type": "markdown",
      "metadata": {
        "id": "1lzM_M9U4y-Q"
      },
      "source": [
        "The length of a dictionary is the number of key-value mappings in the dictionary. "
      ]
    },
    {
      "cell_type": "code",
      "execution_count": null,
      "metadata": {
        "id": "mqyJJo5p4y-Q",
        "outputId": "14208ef4-413d-4c9a-b4c7-f3103fb1e751",
        "scrolled": true
      },
      "outputs": [
        {
          "data": {
            "text/plain": [
              "3"
            ]
          },
          "metadata": {},
          "output_type": "display_data"
        }
      ],
      "source": [
        "len(buildings)"
      ]
    },
    {
      "cell_type": "markdown",
      "metadata": {
        "id": "J75T2Uc84y-i"
      },
      "source": [
        "## Built-in Functions"
      ]
    },
    {
      "cell_type": "markdown",
      "metadata": {
        "id": "4Rf18PXG4y-j"
      },
      "source": [
        "The <b>len</b> function returns the length of an object."
      ]
    },
    {
      "cell_type": "code",
      "execution_count": null,
      "metadata": {
        "id": "XHgxPdj94y-j",
        "outputId": "0cf6db08-fe5c-498e-e77c-1d3a822491d0"
      },
      "outputs": [
        {
          "data": {
            "text/plain": [
              "35"
            ]
          },
          "metadata": {},
          "output_type": "display_data"
        }
      ],
      "source": [
        "len(s)"
      ]
    },
    {
      "cell_type": "markdown",
      "metadata": {
        "id": "RmFvl48x4y-k"
      },
      "source": [
        "The <b>max</b> function returns the largest item in a list."
      ]
    },
    {
      "cell_type": "code",
      "execution_count": null,
      "metadata": {
        "id": "JXg21c1e4y-k",
        "outputId": "7153905e-58ee-470b-905b-9f72b16864d7"
      },
      "outputs": [
        {
          "data": {
            "text/plain": [
              "5"
            ]
          },
          "metadata": {},
          "output_type": "display_data"
        }
      ],
      "source": [
        "l = [1, 2, 3, 4, 5]\n",
        "max(l)"
      ]
    },
    {
      "cell_type": "markdown",
      "metadata": {
        "id": "OEJL3U134y-m"
      },
      "source": [
        "The <b>min</b> function returns the smallest item in a list."
      ]
    },
    {
      "cell_type": "code",
      "execution_count": null,
      "metadata": {
        "id": "yt_p92ZB4y-l",
        "outputId": "c76955cd-857b-4261-d25d-3a1487579c79"
      },
      "outputs": [
        {
          "data": {
            "text/plain": [
              "1"
            ]
          },
          "metadata": {},
          "output_type": "display_data"
        }
      ],
      "source": [
        "min(l)"
      ]
    },
    {
      "cell_type": "markdown",
      "metadata": {
        "id": "Tu_HGTvQ4y-m"
      },
      "source": [
        "The <b>print</b> function prints the specified message to the screen or other standard output device."
      ]
    },
    {
      "cell_type": "code",
      "execution_count": null,
      "metadata": {
        "id": "s0iu8RQV4y-m",
        "outputId": "b148fa1b-ab21-4ff7-df74-6a1706c61abd"
      },
      "outputs": [
        {
          "name": "stdout",
          "output_type": "stream",
          "text": [
            "I'm learning Python data analytics.\n"
          ]
        }
      ],
      "source": [
        "s = \"I'm learning Python data analytics.\"\n",
        "print(s)"
      ]
    },
    {
      "cell_type": "markdown",
      "metadata": {
        "id": "yBhDEuH34y-n"
      },
      "source": [
        "The <b>range</b>(start, stop) function returns a sequence of numbers, starting from `start` and increments by 1 and ends at `stop` - 1."
      ]
    },
    {
      "cell_type": "code",
      "execution_count": null,
      "metadata": {
        "id": "BNP4X5Ts4y-n",
        "outputId": "bfa926fd-263e-4191-e15f-868686bee6ea"
      },
      "outputs": [
        {
          "data": {
            "text/plain": [
              "range(0, 10)"
            ]
          },
          "metadata": {},
          "output_type": "display_data"
        }
      ],
      "source": [
        "range(0, 10)"
      ]
    },
    {
      "cell_type": "code",
      "execution_count": null,
      "metadata": {
        "id": "oVvBwu4O4y-n",
        "outputId": "96b6f107-15c3-4914-db76-d06c44723e68"
      },
      "outputs": [
        {
          "data": {
            "text/plain": [
              "[0, 1, 2, 3, 4, 5, 6, 7, 8, 9]"
            ]
          },
          "metadata": {},
          "output_type": "display_data"
        }
      ],
      "source": [
        "list(range(0, 10))"
      ]
    },
    {
      "cell_type": "markdown",
      "metadata": {
        "id": "Kxhj6kdi4y-n"
      },
      "source": [
        "You can skip `start` if it is 0."
      ]
    },
    {
      "cell_type": "code",
      "execution_count": null,
      "metadata": {
        "id": "DGkh1DE74y-n",
        "outputId": "a646cdc6-f7f6-4d6e-ba25-286afd154e0e",
        "scrolled": true
      },
      "outputs": [
        {
          "data": {
            "text/plain": [
              "[0, 1, 2, 3, 4, 5, 6, 7, 8, 9]"
            ]
          },
          "metadata": {},
          "output_type": "display_data"
        }
      ],
      "source": [
        "list(range(10))"
      ]
    },
    {
      "cell_type": "markdown",
      "metadata": {
        "id": "xkllRNq_4y-o"
      },
      "source": [
        "The <b>range</b>(start, stop, step) function increments by `step`. "
      ]
    },
    {
      "cell_type": "code",
      "execution_count": null,
      "metadata": {
        "id": "NudKkS0d4y-o",
        "outputId": "64dc2a41-177f-47e1-ec09-0967c14d0c7a"
      },
      "outputs": [
        {
          "data": {
            "text/plain": [
              "[0, 2, 4, 6, 8]"
            ]
          },
          "metadata": {},
          "output_type": "display_data"
        }
      ],
      "source": [
        "list(range(0, 10, 2))"
      ]
    },
    {
      "cell_type": "markdown",
      "metadata": {
        "id": "PvA48gaF4y-r"
      },
      "source": [
        "The <b>round</b>(number, ndigits) function rounds `number` rounded to `ndigits` precision. "
      ]
    },
    {
      "cell_type": "code",
      "execution_count": null,
      "metadata": {
        "id": "4S_JN5to4y-q",
        "outputId": "dabd7652-fb8e-4ad5-8572-8e3cec9ad57c"
      },
      "outputs": [
        {
          "data": {
            "text/plain": [
              "3.14"
            ]
          },
          "metadata": {},
          "output_type": "display_data"
        }
      ],
      "source": [
        "round(3.141592, 2)            # Round 3.141592 to 2 decimal places"
      ]
    },
    {
      "cell_type": "markdown",
      "metadata": {
        "id": "BDg-8hk-4y-t"
      },
      "source": [
        "If `ndigits` is omitted, it returns the nearest integer to its input. "
      ]
    },
    {
      "cell_type": "code",
      "execution_count": null,
      "metadata": {
        "id": "7cM2Mgy_4y-s",
        "outputId": "e63b5796-8f67-44fd-d408-b68115200292"
      },
      "outputs": [
        {
          "data": {
            "text/plain": [
              "3"
            ]
          },
          "metadata": {},
          "output_type": "display_data"
        }
      ],
      "source": [
        "round(3.141592)"
      ]
    },
    {
      "cell_type": "markdown",
      "metadata": {
        "id": "i0m58GTZ4y-u"
      },
      "source": [
        "The <b>sum</b> function sums the items of an iterator."
      ]
    },
    {
      "cell_type": "code",
      "execution_count": null,
      "metadata": {
        "id": "QgSvlfuc4y-u",
        "outputId": "1a55f408-6c8a-4d7d-a7d8-d8a6e87cc475"
      },
      "outputs": [
        {
          "data": {
            "text/plain": [
              "15"
            ]
          },
          "metadata": {},
          "output_type": "display_data"
        }
      ],
      "source": [
        "sum(l)"
      ]
    },
    {
      "cell_type": "markdown",
      "metadata": {
        "id": "gmYQC2b7Kvud"
      },
      "source": [
        "The <b>reversed</b> function returns a reversed iterator."
      ]
    },
    {
      "cell_type": "code",
      "execution_count": null,
      "metadata": {
        "id": "6yeFEIORKvud",
        "outputId": "b7d90c5a-f262-4569-eff3-2ec7e8c26686"
      },
      "outputs": [
        {
          "data": {
            "text/plain": [
              "[4, 2, 3, 5, 1]"
            ]
          },
          "metadata": {},
          "output_type": "display_data"
        }
      ],
      "source": [
        "l = [1, 5, 3, 2, 4]\n",
        "list(reversed(l))"
      ]
    },
    {
      "cell_type": "markdown",
      "metadata": {
        "id": "r6PPTx1qKvuh"
      },
      "source": [
        "The <b>zip</b> function returns an iterator that aggregates elements from each of the lists. "
      ]
    },
    {
      "cell_type": "code",
      "execution_count": null,
      "metadata": {
        "colab": {
          "base_uri": "https://localhost:8080/",
          "height": 34
        },
        "id": "3SfTcBL0Kvug",
        "outputId": "e4212253-fab7-4726-ded5-700e5bc55393"
      },
      "outputs": [
        {
          "data": {
            "text/plain": [
              "<zip at 0x7f22a4110608>"
            ]
          },
          "metadata": {},
          "output_type": "display_data"
        }
      ],
      "source": [
        "l1 = [\"Alice\", \"Bob\", \"Tom\"]\n",
        "l2 = [30, 25, 34]\n",
        "zip(l1, l2)"
      ]
    },
    {
      "cell_type": "code",
      "execution_count": null,
      "metadata": {
        "colab": {
          "base_uri": "https://localhost:8080/",
          "height": 34
        },
        "id": "p2q1FsRPKvuh",
        "outputId": "1ca4f545-1e81-48cc-9a5a-da1c7b5e3856"
      },
      "outputs": [
        {
          "data": {
            "text/plain": [
              "[('Alice', 30), ('Bob', 25), ('Tom', 34)]"
            ]
          },
          "metadata": {},
          "output_type": "display_data"
        }
      ],
      "source": [
        "list(zip(l1, l2))"
      ]
    },
    {
      "cell_type": "markdown",
      "metadata": {
        "id": "2mNqY_Mo4y-v"
      },
      "source": [
        "### Difference between Functions and Methods"
      ]
    },
    {
      "cell_type": "markdown",
      "metadata": {
        "id": "Lht8QQkF4y-w"
      },
      "source": [
        "- A function looks like this: <b>function_name(something)</b>, e.g., sorted(l1)\n",
        "- A method looks like this: <b>something.method_name()</b>, e.g., l1.sort()"
      ]
    },
    {
      "cell_type": "markdown",
      "metadata": {
        "id": "ClXFgiOc4y-w"
      },
      "source": [
        "A method always belongs to an object (e.g. string methods only work for string objects, list methods only work for list objects, etc.), while a function doesn’t necessarily (e.g., you can use the <b>len</b> function for nearly any data type)."
      ]
    },
    {
      "cell_type": "markdown",
      "metadata": {
        "id": "kzTP3dUX4y-x"
      },
      "source": [
        "## Exercises - Built-in Functions"
      ]
    },
    {
      "cell_type": "markdown",
      "metadata": {
        "id": "lFdpcAgp4y-y"
      },
      "source": [
        "Get the min value in `l`."
      ]
    },
    {
      "cell_type": "code",
      "execution_count": null,
      "metadata": {
        "id": "2xc8X_jt4y-y"
      },
      "outputs": [],
      "source": [
        "l = [5, 13, 76, 9, 93, 28, 49, 76, 9, 88]"
      ]
    },
    {
      "cell_type": "code",
      "execution_count": null,
      "metadata": {
        "id": "0RxJpWWB4y-z"
      },
      "outputs": [],
      "source": [
        "# Your answer here"
      ]
    },
    {
      "cell_type": "markdown",
      "metadata": {
        "id": "-yAY3WUP4y-z"
      },
      "source": [
        "Get the max value in `l`."
      ]
    },
    {
      "cell_type": "code",
      "execution_count": null,
      "metadata": {
        "id": "5AeLJyfI4y-0"
      },
      "outputs": [],
      "source": [
        "# Your answer here"
      ]
    },
    {
      "cell_type": "markdown",
      "metadata": {
        "id": "nJEZVw984y-0"
      },
      "source": [
        "Get the sum of all values in `l`."
      ]
    },
    {
      "cell_type": "code",
      "execution_count": null,
      "metadata": {
        "id": "VVmz8TYZ4y-1"
      },
      "outputs": [],
      "source": [
        "# Your answer here"
      ]
    },
    {
      "cell_type": "markdown",
      "metadata": {
        "id": "0vxbGUXh4y-1"
      },
      "source": [
        "Generate a list of all two-digit integers. Two digit integers start with 10 and end with 99. "
      ]
    },
    {
      "cell_type": "code",
      "execution_count": null,
      "metadata": {
        "id": "o_cbaTrE4y-2"
      },
      "outputs": [],
      "source": [
        "# Your answer here"
      ]
    },
    {
      "cell_type": "markdown",
      "metadata": {
        "id": "MI0vLQt94y-3"
      },
      "source": [
        "Generate a list of all two-digit even integers."
      ]
    },
    {
      "cell_type": "code",
      "execution_count": null,
      "metadata": {
        "id": "sHA3cZ7x4y-3"
      },
      "outputs": [],
      "source": [
        "# Your answer here"
      ]
    },
    {
      "cell_type": "markdown",
      "metadata": {
        "id": "d9o9WEZo4y-4"
      },
      "source": [
        "Get the number of 0.333333333333 rounded to 2 precision."
      ]
    },
    {
      "cell_type": "code",
      "execution_count": null,
      "metadata": {
        "id": "mWj15Fga4y-4"
      },
      "outputs": [],
      "source": [
        "# Your answer here"
      ]
    },
    {
      "cell_type": "markdown",
      "metadata": {
        "id": "gnCL7VE1Kvuh"
      },
      "source": [
        "## Flow Control"
      ]
    },
    {
      "cell_type": "markdown",
      "metadata": {
        "id": "PJRGlP28Kvui"
      },
      "source": [
        "There are three main categories of program control flow in Python:\n",
        "- branches (if, elif, else)\n",
        "- loops (for loops)\n",
        "- function calls"
      ]
    },
    {
      "cell_type": "markdown",
      "metadata": {
        "id": "Z5m3Nch8Kvui"
      },
      "source": [
        "## Branches"
      ]
    },
    {
      "cell_type": "raw",
      "metadata": {
        "id": "PVBydt2HKvui"
      },
      "source": [
        "if test1:\n",
        "    statements1\n",
        "elif test2:        # optional\n",
        "    statements2\n",
        "else:\n",
        "    statements3    # optional "
      ]
    },
    {
      "cell_type": "markdown",
      "metadata": {
        "id": "nFooISNSKvui"
      },
      "source": [
        "A Python <b>if</b> statement takes the form of an <b>if</b> test, followed by one or more optional <b>elif</b> (\"else if\") tests and a final optional <b>else</b> block. "
      ]
    },
    {
      "cell_type": "markdown",
      "metadata": {
        "id": "jp7tMBcdKvui"
      },
      "source": [
        "The tests and <b>else</b> part each have an associated block of nested statements, indented under a headline."
      ]
    },
    {
      "cell_type": "markdown",
      "metadata": {
        "id": "yxI7y9PeKvui"
      },
      "source": [
        "When the <b>if</b> statement runs, Python executes the block of code associated with the first test that evaluates to true, or the <b>else</b> block if all tests prove false. "
      ]
    },
    {
      "cell_type": "code",
      "execution_count": null,
      "metadata": {
        "id": "k0R22_EEKvuj"
      },
      "outputs": [],
      "source": [
        "x = -3"
      ]
    },
    {
      "cell_type": "code",
      "execution_count": null,
      "metadata": {
        "id": "OzC4SHqpKvuk"
      },
      "outputs": [],
      "source": [
        "if x > 0:\n",
        "    print(\"X is positive.\")"
      ]
    },
    {
      "cell_type": "markdown",
      "metadata": {
        "id": "XjBhHQbPKvuk"
      },
      "source": [
        "It prints nothing because the if test evaluates to false. "
      ]
    },
    {
      "cell_type": "code",
      "execution_count": null,
      "metadata": {
        "id": "qA2hlmfDKvuk",
        "outputId": "e4e95dcf-13f0-444e-8769-08b50f772434"
      },
      "outputs": [
        {
          "name": "stdout",
          "output_type": "stream",
          "text": [
            "X is negative.\n"
          ]
        }
      ],
      "source": [
        "if x > 0:\n",
        "    print(\"X is positive.\")\n",
        "else:                                # for the rest of the cases\n",
        "    print(\"X is negative.\")"
      ]
    },
    {
      "cell_type": "code",
      "execution_count": null,
      "metadata": {
        "id": "-7WBoq24Kvum",
        "outputId": "6d845eae-5ec6-4828-b180-03a92bd7df43"
      },
      "outputs": [
        {
          "name": "stdout",
          "output_type": "stream",
          "text": [
            "X is negative.\n"
          ]
        }
      ],
      "source": [
        "if x > 0:\n",
        "    print(\"X is positive.\")\n",
        "elif x == 0:\n",
        "    print(\"X is zero.\")\n",
        "else:\n",
        "    print(\"X is negative.\")"
      ]
    },
    {
      "cell_type": "markdown",
      "metadata": {
        "id": "vJ8g-7dgKvun"
      },
      "source": [
        "Note that <b>if</b> statements can be nested."
      ]
    },
    {
      "cell_type": "code",
      "execution_count": null,
      "metadata": {
        "id": "EhgDJQtNKvum",
        "outputId": "1bfdf1fe-6c8b-48d4-8b29-6e6fb9b2c1a2"
      },
      "outputs": [
        {
          "name": "stdout",
          "output_type": "stream",
          "text": [
            "X is negative.\n"
          ]
        }
      ],
      "source": [
        "if x > 0:\n",
        "    print(\"X is positive.\")\n",
        "else:\n",
        "    if x == 0:\n",
        "        print(\"X is zero.\")\n",
        "    else:\n",
        "        print(\"X is negative.\")"
      ]
    },
    {
      "cell_type": "markdown",
      "metadata": {
        "id": "-UNv-16eKvun"
      },
      "source": [
        "Note also that this code using nested <b>if-else</b> statements works exactly the same as the previous code using <b>if-elif-else</b> statements. You can write two different blocks of code that have the same logic. "
      ]
    },
    {
      "cell_type": "code",
      "execution_count": null,
      "metadata": {
        "id": "wqoqRPX3Kvun",
        "outputId": "e5c34c6b-7d2c-43f9-edd5-ccf2ea7401ab",
        "scrolled": true
      },
      "outputs": [
        {
          "name": "stdout",
          "output_type": "stream",
          "text": [
            "X is a number.\n"
          ]
        }
      ],
      "source": [
        "if (type(x) == int) | (type(x) == float) | (type(x) == complex):\n",
        "    print(\"X is a number.\")\n",
        "else:\n",
        "    print(\"X is not a number.\")"
      ]
    },
    {
      "cell_type": "markdown",
      "metadata": {
        "id": "UrrNNlooKvun"
      },
      "source": [
        "You can set a complex condition in a test using Boolean operators. "
      ]
    },
    {
      "cell_type": "code",
      "execution_count": null,
      "metadata": {
        "id": "rteIYaw-Kvuo",
        "outputId": "910a9295-a374-427b-ebf0-03a3aceec9c8"
      },
      "outputs": [
        {
          "name": "stdout",
          "output_type": "stream",
          "text": [
            "X is a number.\n"
          ]
        }
      ],
      "source": [
        "if type(x) in [int, float, complex]:\n",
        "    print(\"X is a number.\")\n",
        "else:\n",
        "    print(\"X is not a number.\")"
      ]
    },
    {
      "cell_type": "markdown",
      "metadata": {
        "id": "Xf2FN2wdKvuo"
      },
      "source": [
        "You can use the <b>in</b> operator to combine the three conditions into a single condition. "
      ]
    },
    {
      "cell_type": "markdown",
      "metadata": {
        "id": "26d0d99e"
      },
      "source": [
        "In the example below, if the condition `squirrels_seen > 0` is `True`, repeat the string `squirrels! ` by the number of squirrels seen."
      ]
    },
    {
      "cell_type": "code",
      "execution_count": null,
      "metadata": {
        "id": "c53d291d"
      },
      "outputs": [],
      "source": [
        "# I have a dog named Bonnie\n",
        "# 20 minutes into the walk, she has seen 3 squirrels\n",
        "squirrels_seen = 3\n",
        "\n",
        "# if see squirres, repeat \"squirrels! \" by the number of squirrels seen\n",
        "if squirrels_seen > 0:\n",
        "    bonnie_thoughts = \"squirrels! \" * squirrels_seen\n",
        "    print(bonnie_thoughts)"
      ]
    },
    {
      "cell_type": "markdown",
      "metadata": {
        "id": "ba5ff9f1"
      },
      "source": [
        "Some observations about an `if` statement:\n",
        "* Notice the `:` after the `if` statement. This is required syntax.\n",
        "* The body of the code inside the `if` statement is indented. It's standard to use 4 spaces. Jupyter Notebook indents automatically for you."
      ]
    },
    {
      "cell_type": "markdown",
      "metadata": {
        "id": "3ee24ed5"
      },
      "source": [
        "***\n",
        "We can also check multiple conditions. For example, suppose you are working with survey data that include a variable about the respondents' sex assigned at birth. *(Note that sex assigned at birth is often a different variable than gender.)*\n",
        "\n",
        "It's common for sex to be coded as numeric values following a scheme such as:\n",
        "\n",
        "    Male -> coded as 0\n",
        "    Female -> coded as 1\n",
        "    Respondents refused to disclose sex during the survey -> coded as 9\n",
        "\n",
        "In the example below, we create a variable called `sex_str` to correspond with the numeric variable `sex`. "
      ]
    },
    {
      "cell_type": "code",
      "execution_count": null,
      "metadata": {
        "id": "60a4e8a0"
      },
      "outputs": [],
      "source": [
        "sex = 0\n",
        "\n",
        "if sex == 0:\n",
        "    sex_str = \"Male\"\n",
        "elif sex == 1:\n",
        "    sex_str = \"Female\"\n",
        "elif sex == 9:\n",
        "    sex_str = \"Refused\"\n",
        "else:\n",
        "    sex_str = \"Missing\"\n",
        "\n",
        "# see what sex_str is, given that sex = 0 \n",
        "print(sex_str)"
      ]
    },
    {
      "cell_type": "markdown",
      "metadata": {
        "id": "16307412"
      },
      "source": [
        "In the block of conditional statements in the example above, each `if`, `elif` and `else` statement was checked, starting from the the top `if` statement. If the condition is true, the code inside the statement gets executed. Otherwise move down to the next statement.\n",
        "\n",
        "At the end, all remaining cases get put in the `else` category.\n",
        "\n",
        "`elif` is short for \"else if\". You can include as many `elif` statements as you want. It's optional to include `elif` and `else` in a block of conditional statements. Only the first statement, `if`, is required.\n",
        "\n",
        "Similarly to the `if` statement:\n",
        "* Notice the `:` after each `elif` and `else` statement. This is required syntax.\n",
        "* The code inside each `elif` and `else` statement is indented. It's standard to use 4 spaces. Jupyter Notebook indents automatically for you."
      ]
    },
    {
      "cell_type": "markdown",
      "metadata": {
        "id": "c3f845a4"
      },
      "source": [
        "### Your turn"
      ]
    },
    {
      "cell_type": "markdown",
      "metadata": {
        "id": "4c80889d"
      },
      "source": [
        "1. Create a variable `x` and assign to it the value `120`. Then write a block of conditional statements so that:\n",
        "* If `x` is equal to 0, create a variable `sign` and assign `0` to it.\n",
        "* If `x` is less than 0, assign `-1` to `sign`\n",
        "* If `x` is bigger than 0, assign `1` to `sign`\n",
        "* Otherwise, assign `9` to `sign`\n",
        "\n",
        "Print the value of `sign`."
      ]
    },
    {
      "cell_type": "code",
      "execution_count": null,
      "metadata": {
        "id": "610d9ba1"
      },
      "outputs": [],
      "source": [
        "# Your answer here"
      ]
    },
    {
      "cell_type": "markdown",
      "metadata": {
        "id": "3hyAETd7Kvuo"
      },
      "source": [
        "## Loops - For Loops"
      ]
    },
    {
      "cell_type": "markdown",
      "metadata": {
        "id": "qXB2U6dJKvuo"
      },
      "source": [
        "A <b>for</b> loop steps through the items in a list or any other ordered sequence or iterable object. "
      ]
    },
    {
      "cell_type": "raw",
      "metadata": {
        "id": "YUxpLfVzKvuo"
      },
      "source": [
        "for target in object:     # loop header\n",
        "    statements            # loop body"
      ]
    },
    {
      "cell_type": "markdown",
      "metadata": {
        "id": "iDoN6k8FKvur"
      },
      "source": [
        "- It begins with a header line that specifies an assignment target (or targets), along with the object you want to step through. \n",
        "- The header is followed by a block of (normally indented) statements that you want to repeat. \n",
        "- When Python runs a <b>for</b> loop, it assigns the items in the iterable <i>object</i> to the <i>target</i> one by one and executes the loop body for each. \n",
        "- The loop body typically uses the assignment target to refer to the current item in the sequence. "
      ]
    },
    {
      "cell_type": "code",
      "execution_count": null,
      "metadata": {
        "id": "OIVkLh1LKvur"
      },
      "outputs": [],
      "source": [
        "l = [1, 2, 3, 4, 5, 6, 7, 8, 9, 10]"
      ]
    },
    {
      "cell_type": "code",
      "execution_count": null,
      "metadata": {
        "id": "chqXkukCKvus"
      },
      "outputs": [],
      "source": [
        "for num in l:\n",
        "    print(num)"
      ]
    },
    {
      "cell_type": "code",
      "execution_count": null,
      "metadata": {
        "id": "uSiy5kK2Kvus"
      },
      "outputs": [],
      "source": [
        "sum1 = 0\n",
        "for num in l:\n",
        "    sum1 += num     # The same as sum1 = sum1 + num"
      ]
    },
    {
      "cell_type": "markdown",
      "metadata": {
        "id": "eCZm6FWAKvus"
      },
      "source": [
        "To get the sum of numbers in <i>l</i>, you need a variable, <i>sum1</i> in the above example, to store the intermediate sum calculated from each iteration. Note that the initial value of <i>sum1</i> was set to 0 to be added by any number later. "
      ]
    },
    {
      "cell_type": "code",
      "execution_count": null,
      "metadata": {
        "id": "MO6iin1FKvus"
      },
      "outputs": [],
      "source": [
        "sum1"
      ]
    },
    {
      "cell_type": "code",
      "execution_count": null,
      "metadata": {
        "id": "Rw43dzYVKvuu"
      },
      "outputs": [],
      "source": [
        "sum1 == sum(l)"
      ]
    },
    {
      "cell_type": "code",
      "execution_count": null,
      "metadata": {
        "id": "gkb0ctz3Kvuu"
      },
      "outputs": [],
      "source": [
        "product = 1\n",
        "for num in l:\n",
        "    product *= num   # The same as product = product * num"
      ]
    },
    {
      "cell_type": "markdown",
      "metadata": {
        "id": "zS04LUP8Kvuv"
      },
      "source": [
        "Note that the initial value of <i>product</i> was set to 1 to be multiplied by any number later. "
      ]
    },
    {
      "cell_type": "code",
      "execution_count": null,
      "metadata": {
        "id": "kjAGQB7KKvuv"
      },
      "outputs": [],
      "source": [
        "product"
      ]
    },
    {
      "cell_type": "code",
      "execution_count": null,
      "metadata": {
        "id": "XKqUOX2JKvuv"
      },
      "outputs": [],
      "source": [
        "s = \"Python\""
      ]
    },
    {
      "cell_type": "code",
      "execution_count": null,
      "metadata": {
        "id": "Mp8Dr9BNKvuv"
      },
      "outputs": [],
      "source": [
        "for c in s:\n",
        "    print(c, end=\" \")     # end: sets a string appended after the last value, default a newline."
      ]
    },
    {
      "cell_type": "markdown",
      "metadata": {
        "id": "_TQVmUj3Kvuw"
      },
      "source": [
        "The <b>for</b> loop can iterate over a string. "
      ]
    },
    {
      "cell_type": "code",
      "execution_count": null,
      "metadata": {
        "id": "jJlTGxkkKvuw"
      },
      "outputs": [],
      "source": [
        "for c in reversed(s):\n",
        "    print(c, end=\" \")"
      ]
    },
    {
      "cell_type": "code",
      "execution_count": null,
      "metadata": {
        "id": "Pr0DtQl1Kvuw"
      },
      "outputs": [],
      "source": [
        "l1 = [\"a\", \"b\", \"c\"]\n",
        "l2 = [\"x\", \"y\", \"z\"]"
      ]
    },
    {
      "cell_type": "code",
      "execution_count": null,
      "metadata": {
        "id": "2emvEkSrKvux"
      },
      "outputs": [],
      "source": [
        "for item1, item2 in zip(l1, l2):\n",
        "    print(item1 + item2)"
      ]
    },
    {
      "cell_type": "markdown",
      "metadata": {
        "id": "UF8QyYwSKvux"
      },
      "source": [
        "The <b>zip</b> function returns a tuple at each iteration. "
      ]
    },
    {
      "cell_type": "code",
      "execution_count": null,
      "metadata": {
        "id": "ennUPyJ3Kvux"
      },
      "outputs": [],
      "source": [
        "buildings = {\"UCC\": \"University Capitol Center\",\n",
        "             \"CPHB\": \"College of Public Health Building\",\n",
        "             \"IMU\": \"Iowa Memorial Union\"}"
      ]
    },
    {
      "cell_type": "code",
      "execution_count": null,
      "metadata": {
        "id": "diBi3B2qKvuy"
      },
      "outputs": [],
      "source": [
        "for key in buildings:\n",
        "    val = buildings[key]\n",
        "    print(\"{} ({})\".format(key, val))"
      ]
    },
    {
      "cell_type": "markdown",
      "metadata": {
        "id": "6Bx-odxkKvuz"
      },
      "source": [
        "One way to iterate over a dictionary is using the keys."
      ]
    },
    {
      "cell_type": "code",
      "execution_count": null,
      "metadata": {
        "id": "kqRJFcIfKvu1"
      },
      "outputs": [],
      "source": [
        "for key, val in buildings.items():\n",
        "    print(\"{} ({})\".format(key, val))"
      ]
    },
    {
      "cell_type": "markdown",
      "metadata": {
        "id": "7Wv19ho0Kvu1"
      },
      "source": [
        "Another way to interate over a dicitonary is to use the <b>items</b>() method that returns (key, value) tuples. In this case, you can unpack the key and value in the header line."
      ]
    },
    {
      "cell_type": "code",
      "execution_count": null,
      "metadata": {
        "id": "_uSValJvKvu1"
      },
      "outputs": [],
      "source": [
        "s = {\"cat\", \"dog\", \"bird\"}"
      ]
    },
    {
      "cell_type": "code",
      "execution_count": null,
      "metadata": {
        "id": "_gynIuBmKvu2"
      },
      "outputs": [],
      "source": [
        "for item in s:\n",
        "    print(item)"
      ]
    },
    {
      "cell_type": "markdown",
      "metadata": {
        "id": "MMAaSKddKvu2"
      },
      "source": [
        "Order of set elements is random. You cannot change the order unless you convert the set to other type such as list. "
      ]
    },
    {
      "cell_type": "markdown",
      "metadata": {
        "id": "Q23fpZZRKvu2"
      },
      "source": [
        "### Nested For Loops"
      ]
    },
    {
      "cell_type": "code",
      "execution_count": null,
      "metadata": {
        "id": "9L65_CiVKvu2"
      },
      "outputs": [],
      "source": [
        "l1 = [\"a\", \"b\", \"c\"]\n",
        "l2 = [\"x\", \"y\", \"z\"]"
      ]
    },
    {
      "cell_type": "code",
      "execution_count": null,
      "metadata": {
        "id": "AAOD-rg6Kvu3"
      },
      "outputs": [],
      "source": [
        "for item1 in l1:               # outer for loop\n",
        "    for item2 in l2:           # inner for loop\n",
        "        print(item1 + item2)"
      ]
    },
    {
      "cell_type": "markdown",
      "metadata": {
        "id": "T0wYbeCfKvu3"
      },
      "source": [
        "The inner <b>for</b> loop runs for every item in the outer for loop. "
      ]
    },
    {
      "cell_type": "code",
      "execution_count": null,
      "metadata": {
        "id": "QRLUxkKTKvu3"
      },
      "outputs": [],
      "source": [
        "for item2 in l2:               # outer for loop\n",
        "    for item1 in l1:           # inner for loop\n",
        "        print(item1 + item2)"
      ]
    },
    {
      "cell_type": "markdown",
      "metadata": {
        "id": "jxBOl_QXKvu4"
      },
      "source": [
        "The order of retrieving elements depends on how it is described in the nested <b>for</b> loop."
      ]
    },
    {
      "cell_type": "code",
      "execution_count": null,
      "metadata": {
        "id": "04qeD8-9Kvu4"
      },
      "outputs": [],
      "source": [
        "l1 = [\"a\", \"b\", \"c\"]\n",
        "l2 = [\"x\", \"y\", \"z\"]\n",
        "l3 = [\"p\", \"q\", \"r\"]\n",
        "\n",
        "for item1 in l1:\n",
        "    for item2 in l2:\n",
        "        for item3 in l3:\n",
        "            print(item1 + item2 + item3)"
      ]
    },
    {
      "cell_type": "markdown",
      "metadata": {
        "id": "G2CYJa_DKvu5"
      },
      "source": [
        "You can write a nested <b>for</b> loop with a depth of 3 or more. "
      ]
    },
    {
      "cell_type": "code",
      "execution_count": null,
      "metadata": {
        "id": "QI_PxuOIKvu5"
      },
      "outputs": [],
      "source": [
        "l = [\"a\", \"b\", \"c\"]\n",
        "\n",
        "for item1 in l:\n",
        "    for item2 in l:\n",
        "        for item3 in l:\n",
        "            print(item1 + item2 + item3)"
      ]
    },
    {
      "cell_type": "markdown",
      "metadata": {
        "id": "ut1lov8WKvu5"
      },
      "source": [
        "You can write a nested <b>for</b> loop using a single loop."
      ]
    },
    {
      "cell_type": "markdown",
      "metadata": {
        "id": "fc88db96"
      },
      "source": [
        "### `while` loop"
      ]
    },
    {
      "cell_type": "markdown",
      "metadata": {
        "id": "c85a8a84"
      },
      "source": [
        "The other type of loop is a `while` loop. A `while` loop iterates until some condition is met. In the example below, we print `i` and then increment `i` by `1` as long as `i` is less than `10`."
      ]
    },
    {
      "cell_type": "code",
      "execution_count": null,
      "metadata": {
        "id": "d90a14a3",
        "scrolled": false
      },
      "outputs": [],
      "source": [
        "i = 0\n",
        "while i < 10:\n",
        "    print(i)\n",
        "    i = i + 1"
      ]
    },
    {
      "cell_type": "markdown",
      "metadata": {
        "id": "8a401d44"
      },
      "source": [
        "Note that the argument of the `while` loop, `i < 10`, is a comparison statement. The `while` loop is executed as long as that statement returns `True`."
      ]
    },
    {
      "cell_type": "markdown",
      "metadata": {
        "id": "aQ45K-z-Kvu5"
      },
      "source": [
        "## Exercises for Loops"
      ]
    },
    {
      "cell_type": "markdown",
      "metadata": {
        "id": "tP8bJBbtKvu5"
      },
      "source": [
        "Write a <b>for</b> loop that prints all integers from 1 to 100, separated by a tab. Use the <b>range</b> function to generate numbers."
      ]
    },
    {
      "cell_type": "code",
      "execution_count": null,
      "metadata": {
        "id": "rZizPIqxKvu6"
      },
      "outputs": [],
      "source": [
        "# Your answer here\n"
      ]
    },
    {
      "cell_type": "markdown",
      "metadata": {
        "id": "5t01t7hOKvu6"
      },
      "source": [
        "Write a <b>for</b> loop that prints all letters in <i>s</i>, separated by a tab."
      ]
    },
    {
      "cell_type": "code",
      "execution_count": null,
      "metadata": {
        "id": "rj9XG1TQKvu6"
      },
      "outputs": [],
      "source": [
        "s = \"abcdefghijklmnopqrstuvwxyz\""
      ]
    },
    {
      "cell_type": "code",
      "execution_count": null,
      "metadata": {
        "id": "Of4GrDzbKvu6"
      },
      "outputs": [],
      "source": [
        "# Your answer here\n"
      ]
    },
    {
      "cell_type": "markdown",
      "metadata": {
        "id": "QQwLoIoIKvu7"
      },
      "source": [
        "Write a <b>for</b> loop that prints \"ABBREVIATION is the abbreviation for FULLNAME.\" for each key-value pair in the dictionary <i>states</i>, separated by a new line, where ABBREVIATION is the key in <i>states</i> and FULLNAME the value. For example, the first line should look as follows:"
      ]
    },
    {
      "cell_type": "raw",
      "metadata": {
        "id": "Ww7_PLckKvu7"
      },
      "source": [
        "IA is the abbreviation for Iowa."
      ]
    },
    {
      "cell_type": "code",
      "execution_count": null,
      "metadata": {
        "id": "m-chhGEjKvu7"
      },
      "outputs": [],
      "source": [
        "states = {\"IA\": \"Iowa\", \"IL\": \"Illinois\", \"MN\": \"Minnesota\", \"NE\": \"Nebraska\", \"WI\": \"Wisconsin\"}"
      ]
    },
    {
      "cell_type": "code",
      "execution_count": null,
      "metadata": {
        "id": "7vh45FwOKvu7"
      },
      "outputs": [],
      "source": [
        "# Your answer here\n"
      ]
    },
    {
      "cell_type": "markdown",
      "metadata": {
        "id": "3vK_E61zKvu8"
      },
      "source": [
        "Write a <b>for</b> loop that prints all names in the list <i>names</i> in uppercase, separated by a new line."
      ]
    },
    {
      "cell_type": "code",
      "execution_count": null,
      "metadata": {
        "id": "J1oat4AJKvu8"
      },
      "outputs": [],
      "source": [
        "names = [\"Alice\", \"Bob\", \"Mary\", \"Sam\", \"Sarah\", \"Tom\"]"
      ]
    },
    {
      "cell_type": "code",
      "execution_count": null,
      "metadata": {
        "id": "G2UohFxFKvu8",
        "scrolled": false
      },
      "outputs": [],
      "source": [
        "# Your answer here\n"
      ]
    },
    {
      "cell_type": "markdown",
      "metadata": {
        "id": "P1l5l-R_Kvu9"
      },
      "source": [
        "## User-Defined Functions"
      ]
    },
    {
      "cell_type": "markdown",
      "metadata": {
        "id": "xIxViha1Kvu9"
      },
      "source": [
        "A function is a block of reusable code that is used to perform a specific action. The advantages of using functions include:\n",
        "- reducing duplication of code\n",
        "- decomposing complex problems into simpler pieces\n",
        "- improving clarity or readability of the code\n",
        "- reuse of code\n",
        "- information hiding"
      ]
    },
    {
      "cell_type": "raw",
      "metadata": {
        "id": "_3nf_YG4Kvu9"
      },
      "source": [
        "def function_name(argument1, argument2, ):\n",
        "    statements"
      ]
    },
    {
      "cell_type": "code",
      "execution_count": null,
      "metadata": {
        "id": "A7sCdYSPKvu9"
      },
      "outputs": [],
      "source": [
        "def square(x):\n",
        "    return x * x"
      ]
    },
    {
      "cell_type": "markdown",
      "metadata": {
        "id": "_suqh4J5Kvu-"
      },
      "source": [
        "In this example, <i>square</i> is the function name; `x` is the (only) argument, or parameter. Make sure to put a colon (:) after the parentheses. `x` * `x` is the return value of this function."
      ]
    },
    {
      "cell_type": "code",
      "execution_count": null,
      "metadata": {
        "id": "YtFFkQhBKvu-"
      },
      "outputs": [],
      "source": [
        "square(3)"
      ]
    },
    {
      "cell_type": "markdown",
      "metadata": {
        "id": "crzeQVKYKvu-"
      },
      "source": [
        "To call a function, just specify the function name followed by parameter values enclosed with parentheses. "
      ]
    },
    {
      "cell_type": "code",
      "execution_count": null,
      "metadata": {
        "id": "Wb-iYL5XKvu-"
      },
      "outputs": [],
      "source": [
        "def multiply(x, y):\n",
        "    return x * y"
      ]
    },
    {
      "cell_type": "markdown",
      "metadata": {
        "id": "-1fbGyHJKvu-"
      },
      "source": [
        "A function can have multiple arguments. "
      ]
    },
    {
      "cell_type": "code",
      "execution_count": null,
      "metadata": {
        "id": "1sghQNbmKvu_"
      },
      "outputs": [],
      "source": [
        "multiply(3, 5)"
      ]
    },
    {
      "cell_type": "code",
      "execution_count": null,
      "metadata": {
        "id": "Ndx_1MYoKvu_"
      },
      "outputs": [],
      "source": [
        "def multiply_print(x, y):\n",
        "    print(\"{} times {} equals {}.\".format(x, y, x * y))"
      ]
    },
    {
      "cell_type": "markdown",
      "metadata": {
        "id": "aSD0Gi_bKvu_"
      },
      "source": [
        "A function can return no value. "
      ]
    },
    {
      "cell_type": "code",
      "execution_count": null,
      "metadata": {
        "id": "_Wm4BN2ZKvvB"
      },
      "outputs": [],
      "source": [
        "multiply_print(3, 5)"
      ]
    },
    {
      "cell_type": "code",
      "execution_count": null,
      "metadata": {
        "id": "qTp2fwkUKvvB"
      },
      "outputs": [],
      "source": [
        "def get_first_2_items(l):\n",
        "    return l[0], l[1]"
      ]
    },
    {
      "cell_type": "markdown",
      "metadata": {
        "id": "8XLAIdwQKvvB"
      },
      "source": [
        "A function can return multiple values. "
      ]
    },
    {
      "cell_type": "code",
      "execution_count": null,
      "metadata": {
        "id": "9bHVkZzgKvvC"
      },
      "outputs": [],
      "source": [
        "get_first_2_items([1, 2, 3, 4, 5])"
      ]
    },
    {
      "cell_type": "code",
      "execution_count": null,
      "metadata": {
        "id": "LxhQRNUAKvvC",
        "scrolled": true
      },
      "outputs": [],
      "source": [
        "a, b = get_first_2_items([1, 2, 3, 4, 5])\n",
        "print(a, b)"
      ]
    },
    {
      "cell_type": "markdown",
      "metadata": {
        "id": "dJnJF9vIKvvC"
      },
      "source": [
        "A function's return value can be used by assigning it to a variable. "
      ]
    },
    {
      "cell_type": "code",
      "execution_count": null,
      "metadata": {
        "id": "ImZKdxtqKvvC"
      },
      "outputs": [],
      "source": [
        "def just_print():\n",
        "    print(\"Hello, world!\")"
      ]
    },
    {
      "cell_type": "markdown",
      "metadata": {
        "id": "t7CejP0iKvvD"
      },
      "source": [
        "A function can have no arguments. "
      ]
    },
    {
      "cell_type": "code",
      "execution_count": null,
      "metadata": {
        "id": "20-onH3BKvvD"
      },
      "outputs": [],
      "source": [
        "just_print()"
      ]
    },
    {
      "cell_type": "code",
      "execution_count": null,
      "metadata": {
        "id": "iBLIErb9KvvD"
      },
      "outputs": [],
      "source": [
        "def remove_all_whitespaces(s):\n",
        "    s = s.replace(\" \", \"\")\n",
        "    s = s.replace(\"\\t\", \"\")\n",
        "    s = s.replace(\"\\n\", \"\")\n",
        "\n",
        "    \n",
        "    return s"
      ]
    },
    {
      "cell_type": "markdown",
      "metadata": {
        "id": "j89CnOY_KvvD"
      },
      "source": [
        "You can write a series of operations in the function body."
      ]
    },
    {
      "cell_type": "code",
      "execution_count": null,
      "metadata": {
        "id": "tY8cONkXKvvE",
        "scrolled": true
      },
      "outputs": [],
      "source": [
        "remove_all_whitespaces(\"\\t\\t\\tI'm learning Python Data Analytics.\\n\")"
      ]
    },
    {
      "cell_type": "code",
      "execution_count": null,
      "metadata": {
        "id": "gSHXlwcgKvvE"
      },
      "outputs": [],
      "source": [
        "def get_max(x, y):\n",
        "    if x > y:\n",
        "        return x\n",
        "    else:\n",
        "        return y"
      ]
    },
    {
      "cell_type": "markdown",
      "metadata": {
        "id": "fNb4u9cRKvvF"
      },
      "source": [
        "You can use <b>if</b> statements in the function body to make the function respond differently to the parameters. "
      ]
    },
    {
      "cell_type": "code",
      "execution_count": null,
      "metadata": {
        "id": "F-RtB1eaKvvF"
      },
      "outputs": [],
      "source": [
        "get_max(3, 5)"
      ]
    },
    {
      "cell_type": "code",
      "execution_count": null,
      "metadata": {
        "id": "WuazXTWJKvvG"
      },
      "outputs": [],
      "source": [
        "def get_max(x, y):\n",
        "    if x > y:\n",
        "        return x\n",
        "        print(\"Can I be printed???\")   # Unreachable code\n",
        "    else:\n",
        "        return y"
      ]
    },
    {
      "cell_type": "markdown",
      "metadata": {
        "id": "AGLye7VBKvvG"
      },
      "source": [
        "Be aware that a function stops right after it returns a value. "
      ]
    },
    {
      "cell_type": "code",
      "execution_count": null,
      "metadata": {
        "id": "ONrSyVIMKvvG"
      },
      "outputs": [],
      "source": [
        "get_max(3, 5)"
      ]
    },
    {
      "cell_type": "code",
      "execution_count": null,
      "metadata": {
        "id": "xI-SOxqSKvvH"
      },
      "outputs": [],
      "source": [
        "def get_first_n_items(l, n=3):\n",
        "    return l[:n]"
      ]
    },
    {
      "cell_type": "markdown",
      "metadata": {
        "id": "-s-d3uU-KvvH"
      },
      "source": [
        "You can set the default value of an argument in a function."
      ]
    },
    {
      "cell_type": "code",
      "execution_count": null,
      "metadata": {
        "id": "vTWWkdBXKvvH",
        "scrolled": true
      },
      "outputs": [],
      "source": [
        "get_first_n_items([1, 2, 3, 4, 5])"
      ]
    },
    {
      "cell_type": "markdown",
      "metadata": {
        "id": "9ne5CabeKvvI"
      },
      "source": [
        " You will have the option of not specifying a value for that argument when calling the function. If you do not specify a value, then the parameter will have the default value given when the function executes. "
      ]
    },
    {
      "cell_type": "markdown",
      "metadata": {
        "id": "_pq9Yk6GKvvI"
      },
      "source": [
        "## Exercises for User-Defined Functions"
      ]
    },
    {
      "cell_type": "markdown",
      "metadata": {
        "id": "azh7KURNKvvI"
      },
      "source": [
        "Write a function <i>concatenate</i> that takes two strings `s1` and `s2` as arguments and returns the concatenation of the two strings with a space between them. "
      ]
    },
    {
      "cell_type": "code",
      "execution_count": null,
      "metadata": {
        "id": "hJCfP_N8KvvI"
      },
      "outputs": [],
      "source": [
        "# Your answer here\n"
      ]
    },
    {
      "cell_type": "code",
      "execution_count": null,
      "metadata": {
        "id": "63Lea8mUKvvI",
        "scrolled": true
      },
      "outputs": [],
      "source": [
        "# Test the function here\n",
        "concatenate(\"Learning\", \"Python\")     # Output: 'Learning Python'"
      ]
    },
    {
      "cell_type": "markdown",
      "metadata": {
        "id": "_EJaePVGKvvJ"
      },
      "source": [
        "Write a function <i>concatenate_all</i> that takes a list `l` of strings as an argument and returns the concatenation of all strings in `l` with a space between them. "
      ]
    },
    {
      "cell_type": "code",
      "execution_count": null,
      "metadata": {
        "id": "Oo6Gat1xKvvJ"
      },
      "outputs": [],
      "source": [
        "# Your answer here\n"
      ]
    },
    {
      "cell_type": "code",
      "execution_count": null,
      "metadata": {
        "id": "5QTFTVg5KvvJ"
      },
      "outputs": [],
      "source": [
        "# Test the function here\n",
        "concatenate_all([\"Python\", \"R\", \"SAS\", \"SPSS\", \"Matlab\", \"Stata\"])     # Output: 'Python R SAS SPSS Matlab Stata'"
      ]
    },
    {
      "cell_type": "markdown",
      "metadata": {
        "id": "VvFAtGY3KvvJ"
      },
      "source": [
        "Write a function <i>get_min</i> that takes two numbers `num1` and `num2` as arguments and returns the lesser value. If the two numbers are equal, it returns either value. "
      ]
    },
    {
      "cell_type": "code",
      "execution_count": null,
      "metadata": {
        "id": "dlGe6Z_TKvvJ"
      },
      "outputs": [],
      "source": [
        "# Your answer here\n"
      ]
    },
    {
      "cell_type": "code",
      "execution_count": null,
      "metadata": {
        "id": "cGa4cU2wKvvK"
      },
      "outputs": [],
      "source": [
        "# Test the function here\n",
        "get_min(3, 5)     # Output: 3"
      ]
    },
    {
      "cell_type": "code",
      "execution_count": null,
      "metadata": {
        "id": "q-DFCequKvvK"
      },
      "outputs": [],
      "source": [
        "# Test the function here\n",
        "get_min(3, 3)     # Output: 3"
      ]
    },
    {
      "cell_type": "markdown",
      "metadata": {
        "id": "TGl6T8leKvvK"
      },
      "source": [
        "Write a function <i>get_min_all</i> that takes a list `l` of numbers as an argument and returns the least value in `l`. If the two numbers are equal, it returns either value. "
      ]
    },
    {
      "cell_type": "code",
      "execution_count": null,
      "metadata": {
        "id": "Dnuh1Za8KvvK"
      },
      "outputs": [],
      "source": [
        "# Your answer here\n"
      ]
    },
    {
      "cell_type": "code",
      "execution_count": null,
      "metadata": {
        "id": "TL6d4MUVKvvL"
      },
      "outputs": [],
      "source": [
        "# Test the function here\n",
        "get_min_all([3, 2, 9, 6, 2, 7])     # Output: 2"
      ]
    },
    {
      "cell_type": "markdown",
      "metadata": {
        "id": "qBX61ToYKvvL"
      },
      "source": [
        "Write a function <i>get_head_tail</i> that takes a list `l` as an argument and returns the first and last elements in `l`. If `l` has fewer than 2 elements, it should return \"The input list is too short!\". "
      ]
    },
    {
      "cell_type": "code",
      "execution_count": null,
      "metadata": {
        "id": "gCX7FAKgKvvL"
      },
      "outputs": [],
      "source": [
        "# Your answer here\n"
      ]
    },
    {
      "cell_type": "code",
      "execution_count": null,
      "metadata": {
        "id": "9g2LHtpuKvvM",
        "scrolled": true
      },
      "outputs": [],
      "source": [
        "# Test the function here\n",
        "get_head_tail([\"Python\", \"R\", \"SAS\", \"SPSS\", \"Matlab\", \"Stata\"]) # Output: ('Python', 'Stata')."
      ]
    },
    {
      "cell_type": "code",
      "execution_count": null,
      "metadata": {
        "id": "r0PmIhprKvvM",
        "scrolled": true
      },
      "outputs": [],
      "source": [
        "# Test the function here\n",
        "get_head_tail([\"Python\"])                                        # Output: 'The input list is too short!'."
      ]
    },
    {
      "cell_type": "markdown",
      "metadata": {
        "id": "4EvnFjvqn2rD"
      },
      "source": [
        "# NumPy"
      ]
    },
    {
      "cell_type": "markdown",
      "metadata": {
        "id": "lZMyAdqhL9hY"
      },
      "source": [
        "To use Numpy, we first need to import the `numpy` package:"
      ]
    },
    {
      "cell_type": "code",
      "execution_count": null,
      "metadata": {
        "id": "58QdX8BLL9hZ"
      },
      "outputs": [],
      "source": [
        "import numpy as np"
      ]
    },
    {
      "cell_type": "markdown",
      "metadata": {
        "id": "TAjzyI7jn2rE"
      },
      "source": [
        "## Arrays"
      ]
    },
    {
      "cell_type": "markdown",
      "metadata": {
        "id": "f-Zv3f7LL9hc"
      },
      "source": [
        "A numpy array is a grid of values, all of the same type. This is different from a list, which can have elements of various types.\n",
        "\n",
        "The number of dimensions is the rank of the array; the shape of an array is a tuple of integers giving the size of the array along each dimension."
      ]
    },
    {
      "cell_type": "markdown",
      "metadata": {},
      "source": [
        "We can initialize numpy arrays from nested Python lists, and access elements using square brackets:"
      ]
    },
    {
      "cell_type": "code",
      "execution_count": 9,
      "metadata": {},
      "outputs": [
        {
          "name": "stdout",
          "output_type": "stream",
          "text": [
            "1 2 3\n",
            "5\n"
          ]
        }
      ],
      "source": [
        "a = np.array([1, 2, 3])  # Create a rank 1 array\n",
        "print(a[0], a[1], a[2])\n",
        "\n",
        "a[0] = 5                 # Change an element of the array\n",
        "print(a[0])"
      ]
    },
    {
      "cell_type": "markdown",
      "metadata": {
        "id": "_eMTRnZRL9hc"
      },
      "source": [
        "The `shape()` array method gives the shape of the array (the width by the height), as shown in the following example."
      ]
    },
    {
      "cell_type": "code",
      "execution_count": 10,
      "metadata": {
        "colab": {
          "base_uri": "https://localhost:8080/",
          "height": 52
        },
        "id": "-l3JrGxCL9hc",
        "outputId": "8d9dad18-c734-4a8a-ca8c-44060a40fb79"
      },
      "outputs": [
        {
          "data": {
            "text/plain": [
              "(3,)"
            ]
          },
          "execution_count": 10,
          "metadata": {},
          "output_type": "execute_result"
        }
      ],
      "source": [
        "a.shape"
      ]
    },
    {
      "cell_type": "markdown",
      "metadata": {},
      "source": [
        "We can also create a 2-dimensional NumPy array."
      ]
    },
    {
      "cell_type": "code",
      "execution_count": null,
      "metadata": {
        "colab": {
          "base_uri": "https://localhost:8080/",
          "height": 52
        },
        "id": "ma6mk-kdL9hh",
        "outputId": "0b54ff2f-e7f1-4b30-c653-9bf81cb8fbb0"
      },
      "outputs": [
        {
          "name": "stdout",
          "output_type": "stream",
          "text": [
            "[[1 2 3]\n",
            " [4 5 6]]\n"
          ]
        }
      ],
      "source": [
        "b = np.array([[1,2,3],[4,5,6]])   # Create a rank 2 array\n",
        "print(b)"
      ]
    },
    {
      "cell_type": "code",
      "execution_count": null,
      "metadata": {
        "colab": {
          "base_uri": "https://localhost:8080/",
          "height": 52
        },
        "id": "ymfSHAwtL9hj",
        "outputId": "5bd292d8-c751-43b9-d480-f357dde52342"
      },
      "outputs": [
        {
          "name": "stdout",
          "output_type": "stream",
          "text": [
            "(2, 3)\n",
            "1 2 4\n"
          ]
        }
      ],
      "source": [
        "print(b.shape)\n",
        "print(b[0, 0], b[0, 1], b[1, 0])"
      ]
    },
    {
      "cell_type": "markdown",
      "metadata": {
        "id": "F2qwdyvuL9hn"
      },
      "source": [
        "Numpy also provides many functions to create arrays:"
      ]
    },
    {
      "cell_type": "code",
      "execution_count": null,
      "metadata": {
        "colab": {
          "base_uri": "https://localhost:8080/",
          "height": 52
        },
        "id": "mVTN_EBqL9hn",
        "outputId": "d267c65f-ba90-4043-cedb-f468ab1bcc5d"
      },
      "outputs": [
        {
          "name": "stdout",
          "output_type": "stream",
          "text": [
            "[[0. 0.]\n",
            " [0. 0.]]\n"
          ]
        }
      ],
      "source": [
        "a = np.zeros((2,2))  # Create an array of all zeros\n",
        "print(a)"
      ]
    },
    {
      "cell_type": "code",
      "execution_count": null,
      "metadata": {
        "colab": {
          "base_uri": "https://localhost:8080/",
          "height": 34
        },
        "id": "skiKlNmlL9h5",
        "outputId": "7d1ec1b5-a1fe-4f44-cbe3-cdeacad425f1"
      },
      "outputs": [
        {
          "name": "stdout",
          "output_type": "stream",
          "text": [
            "[[1. 1.]]\n"
          ]
        }
      ],
      "source": [
        "b = np.ones((1,2))   # Create an array of all ones\n",
        "print(b)"
      ]
    },
    {
      "cell_type": "code",
      "execution_count": null,
      "metadata": {
        "colab": {
          "base_uri": "https://localhost:8080/",
          "height": 52
        },
        "id": "HtFsr03bL9h7",
        "outputId": "2688b157-2fad-4fc6-f20b-8633207f0326"
      },
      "outputs": [
        {
          "name": "stdout",
          "output_type": "stream",
          "text": [
            "[[7 7]\n",
            " [7 7]]\n"
          ]
        }
      ],
      "source": [
        "c = np.full((2,2), 7) # Create a constant array\n",
        "print(c)"
      ]
    },
    {
      "cell_type": "code",
      "execution_count": null,
      "metadata": {
        "colab": {
          "base_uri": "https://localhost:8080/",
          "height": 52
        },
        "id": "-QcALHvkL9h9",
        "outputId": "5035d6fe-cb7e-4222-c972-55fe23c9d4c0"
      },
      "outputs": [
        {
          "name": "stdout",
          "output_type": "stream",
          "text": [
            "[[1. 0.]\n",
            " [0. 1.]]\n"
          ]
        }
      ],
      "source": [
        "d = np.eye(2)        # Create a 2x2 identity matrix\n",
        "print(d)"
      ]
    },
    {
      "cell_type": "code",
      "execution_count": null,
      "metadata": {
        "colab": {
          "base_uri": "https://localhost:8080/",
          "height": 52
        },
        "id": "RCpaYg9qL9iA",
        "outputId": "25f0b387-39cf-42f3-8701-de860cc75e2e"
      },
      "outputs": [
        {
          "name": "stdout",
          "output_type": "stream",
          "text": [
            "[[0.8690054  0.57244319]\n",
            " [0.29647245 0.81464494]]\n"
          ]
        }
      ],
      "source": [
        "e = np.random.random((2,2)) # Create an array filled with random values\n",
        "print(e)"
      ]
    },
    {
      "cell_type": "code",
      "execution_count": 3,
      "metadata": {},
      "outputs": [
        {
          "name": "stdout",
          "output_type": "stream",
          "text": [
            "[0 3 6 9]\n"
          ]
        }
      ],
      "source": [
        "f = np.arange(0, 10, 3) # Create an array from 0 to 10 (exclusive) by increments of 3\n",
        "print(f)"
      ]
    },
    {
      "cell_type": "markdown",
      "metadata": {
        "id": "YZsi-WS2pUyW"
      },
      "source": [
        "## Exercises - Arrays"
      ]
    },
    {
      "cell_type": "markdown",
      "metadata": {
        "id": "Ony3B8NKq3Xb"
      },
      "source": [
        "Create an identity matrix of dimension 4-by-4"
      ]
    },
    {
      "cell_type": "code",
      "execution_count": null,
      "metadata": {
        "id": "5Svu54bLrEuN"
      },
      "outputs": [],
      "source": [
        "# Your answer here"
      ]
    },
    {
      "cell_type": "markdown",
      "metadata": {
        "id": "BbgD7yLPsehC"
      },
      "source": [
        "Generate a sequence of numbers in the form of a numpy array from 0 to 100 with gaps of 2 numbers, for example: 0, 2, 4,..."
      ]
    },
    {
      "cell_type": "code",
      "execution_count": 4,
      "metadata": {
        "id": "qlOG5GL2shNm"
      },
      "outputs": [],
      "source": [
        "# Your answer here"
      ]
    },
    {
      "cell_type": "markdown",
      "metadata": {
        "id": "jI5qcSDfL9iC"
      },
      "source": [
        "## Array indexing"
      ]
    },
    {
      "cell_type": "markdown",
      "metadata": {
        "id": "M-E4MUeVL9iC"
      },
      "source": [
        "Numpy offers several ways to index into arrays."
      ]
    },
    {
      "cell_type": "markdown",
      "metadata": {
        "id": "QYv4JyIEL9iD"
      },
      "source": [
        "Slicing: Similar to Python lists, numpy arrays can be sliced. Since arrays may be multidimensional, you must specify a slice for each dimension of the array:"
      ]
    },
    {
      "cell_type": "code",
      "execution_count": 14,
      "metadata": {
        "colab": {
          "base_uri": "https://localhost:8080/",
          "height": 52
        },
        "id": "wLWA0udwL9iD",
        "outputId": "99f08618-c513-4982-8982-b146fc72dab3"
      },
      "outputs": [
        {
          "name": "stdout",
          "output_type": "stream",
          "text": [
            "[[ 1  2  3  4]\n",
            " [ 5  6  7  8]\n",
            " [ 9 10 11 12]]\n",
            "[[2 3]\n",
            " [6 7]]\n"
          ]
        }
      ],
      "source": [
        "# Create the following rank 2 array with shape (3, 4)\n",
        "# [[ 1  2  3  4]\n",
        "#  [ 5  6  7  8]\n",
        "#  [ 9 10 11 12]]\n",
        "a = np.array([[1,2,3,4], [5,6,7,8], [9,10,11,12]])\n",
        "print(a)\n",
        "\n",
        "# Use slicing to pull out the subarray consisting of the first 2 rows\n",
        "# and columns 1 and 2; b is the following array of shape (2, 2):\n",
        "# [[2 3]\n",
        "#  [6 7]]\n",
        "b = a[:2, 1:3]\n",
        "print(b)"
      ]
    },
    {
      "cell_type": "markdown",
      "metadata": {
        "id": "KahhtZKYL9iF"
      },
      "source": [
        "A slice of an array is a view into the same data, or a \"shallow copy\", so modifying it will change the original array."
      ]
    },
    {
      "cell_type": "code",
      "execution_count": null,
      "metadata": {
        "colab": {
          "base_uri": "https://localhost:8080/",
          "height": 52
        },
        "id": "1kmtaFHuL9iG",
        "outputId": "ee3ab60c-4064-4a9e-b04c-453d3955f1d1"
      },
      "outputs": [
        {
          "name": "stdout",
          "output_type": "stream",
          "text": [
            "2\n",
            "77\n"
          ]
        }
      ],
      "source": [
        "print(a[0, 1])\n",
        "b[0, 0] = 77    # b[0, 0] is the same piece of data as a[0, 1]\n",
        "print(a[0, 1])"
      ]
    },
    {
      "cell_type": "markdown",
      "metadata": {},
      "source": [
        "To instead make a copy of an array that you can change independently, you have to use the `np.copy()` function."
      ]
    },
    {
      "cell_type": "code",
      "execution_count": 18,
      "metadata": {},
      "outputs": [
        {
          "name": "stdout",
          "output_type": "stream",
          "text": [
            "[[2 3]\n",
            " [6 7]]\n",
            "7\n",
            "7\n"
          ]
        }
      ],
      "source": [
        "c = np.copy(b)\n",
        "print(c)\n",
        "\n",
        "print(b[1, 1])\n",
        "c[1, 1] = 99\n",
        "print(b[1, 1])"
      ]
    },
    {
      "cell_type": "markdown",
      "metadata": {
        "id": "_Zcf3zi-L9iI"
      },
      "source": [
        "You can also mix integer indexing with slice indexing. However, doing so will yield an array of lower rank than the original array."
      ]
    },
    {
      "cell_type": "code",
      "execution_count": 13,
      "metadata": {
        "colab": {
          "base_uri": "https://localhost:8080/",
          "height": 69
        },
        "id": "G6lfbPuxL9iJ",
        "outputId": "a225fe9d-2a29-4e14-a243-2b7d583bd4bc"
      },
      "outputs": [
        {
          "name": "stdout",
          "output_type": "stream",
          "text": [
            "[[ 1  2  3  4]\n",
            " [ 5  6  7  8]\n",
            " [ 9 10 11 12]]\n",
            "[5 6 7 8]\n"
          ]
        }
      ],
      "source": [
        "# Create the following rank 2 array with shape (3, 4)\n",
        "a = np.array([[1,2,3,4], [5,6,7,8], [9,10,11,12]])\n",
        "print(a)\n",
        "\n",
        "print(a[1, :])"
      ]
    },
    {
      "cell_type": "markdown",
      "metadata": {
        "id": "NCye3NXhL9iL"
      },
      "source": [
        "If instead we use slices or lists for all dimensions, the NumPy array will maintain its rank."
      ]
    },
    {
      "cell_type": "code",
      "execution_count": null,
      "metadata": {
        "colab": {
          "base_uri": "https://localhost:8080/",
          "height": 69
        },
        "id": "EOiEMsmNL9iL",
        "outputId": "ab2ebe48-9002-45a8-9462-fd490b467f40"
      },
      "outputs": [
        {
          "name": "stdout",
          "output_type": "stream",
          "text": [
            "[5 6 7 8] (4,)\n",
            "[[5 6 7 8]] (1, 4)\n",
            "[[5 6 7 8]] (1, 4)\n"
          ]
        }
      ],
      "source": [
        "row_r1 = a[1, :]    # Rank 1 view of the second row of a  \n",
        "row_r2 = a[1:2, :]  # Rank 2 view of the second row of a\n",
        "row_r3 = a[[1], :]  # Rank 2 view of the second row of a\n",
        "print(row_r1, row_r1.shape)\n",
        "print(row_r2, row_r2.shape)\n",
        "print(row_r3, row_r3.shape)"
      ]
    },
    {
      "cell_type": "markdown",
      "metadata": {},
      "source": [
        "We can make the same distinction when accessing columns of an array:"
      ]
    },
    {
      "cell_type": "code",
      "execution_count": null,
      "metadata": {
        "colab": {
          "base_uri": "https://localhost:8080/",
          "height": 104
        },
        "id": "JXu73pfDL9iN",
        "outputId": "6c589b85-e9b0-4c13-a39d-4cd9fb2f41ac"
      },
      "outputs": [
        {
          "name": "stdout",
          "output_type": "stream",
          "text": [
            "[ 2  6 10] (3,)\n",
            "\n",
            "[[ 2]\n",
            " [ 6]\n",
            " [10]] (3, 1)\n"
          ]
        }
      ],
      "source": [
        "col_r1 = a[:, 1]\n",
        "col_r2 = a[:, 1:2]\n",
        "print(col_r1, col_r1.shape)\n",
        "print(col_r2, col_r2.shape)"
      ]
    },
    {
      "cell_type": "markdown",
      "metadata": {
        "id": "kaE8dBGgL9id"
      },
      "source": [
        "Boolean array indexing: Boolean array indexing lets you pick out arbitrary elements of an array. Frequently this type of indexing is used to select the elements of an array that satisfy some condition. Here is an example:"
      ]
    },
    {
      "cell_type": "code",
      "execution_count": null,
      "metadata": {
        "colab": {
          "base_uri": "https://localhost:8080/",
          "height": 69
        },
        "id": "32PusjtKL9id",
        "outputId": "8782e8ec-b78d-44d7-8141-23e39750b854"
      },
      "outputs": [
        {
          "name": "stdout",
          "output_type": "stream",
          "text": [
            "[[False False]\n",
            " [ True  True]\n",
            " [ True  True]]\n"
          ]
        }
      ],
      "source": [
        "import numpy as np\n",
        "\n",
        "a = np.array([[1,2], [3, 4], [5, 6]])\n",
        "\n",
        "bool_idx = (a > 2)  # Find the elements of a that are bigger than 2;\n",
        "                    # this returns a numpy array of Booleans of the same\n",
        "                    # shape as a, where each slot of bool_idx tells\n",
        "                    # whether that element of a is > 2.\n",
        "\n",
        "print(bool_idx)"
      ]
    },
    {
      "cell_type": "code",
      "execution_count": null,
      "metadata": {
        "colab": {
          "base_uri": "https://localhost:8080/",
          "height": 52
        },
        "id": "cb2IRMXaL9if",
        "outputId": "5983f208-3738-472d-d6ab-11fe85b36c95"
      },
      "outputs": [
        {
          "name": "stdout",
          "output_type": "stream",
          "text": [
            "[3 4 5 6]\n",
            "[3 4 5 6]\n"
          ]
        }
      ],
      "source": [
        "# We use boolean array indexing to construct a rank 1 array\n",
        "# consisting of the elements of a corresponding to the True values\n",
        "# of bool_idx\n",
        "print(a[bool_idx])\n",
        "\n",
        "# We can do all of the above in a single concise statement:\n",
        "print(a[a > 2])"
      ]
    },
    {
      "cell_type": "markdown",
      "metadata": {
        "id": "p0RXIpgGsQc5"
      },
      "source": [
        "## Exercises - Array Indexing"
      ]
    },
    {
      "cell_type": "markdown",
      "metadata": {
        "id": "wHkRxiuSuT8P"
      },
      "source": [
        "Given the following NumPy array 'a', extract the second column of 'a'. "
      ]
    },
    {
      "cell_type": "code",
      "execution_count": null,
      "metadata": {
        "id": "LmVCtLpHvSJg"
      },
      "outputs": [],
      "source": [
        "a = np.array([[1,2,3,4], [5,6,7,8], [9,10,11,12]])"
      ]
    },
    {
      "cell_type": "code",
      "execution_count": null,
      "metadata": {
        "id": "W1Yz5kOQvT51"
      },
      "outputs": [],
      "source": [
        "# Your answer here"
      ]
    },
    {
      "cell_type": "markdown",
      "metadata": {
        "id": "9DvASotTuzho"
      },
      "source": [
        "Get the element at the intersection of the first row and third column of 'a' defined above"
      ]
    },
    {
      "cell_type": "code",
      "execution_count": null,
      "metadata": {
        "id": "Oft61NFHvqoD"
      },
      "outputs": [],
      "source": [
        "# Your answer here"
      ]
    },
    {
      "cell_type": "markdown",
      "metadata": {
        "id": "ieRKE36YtnTA"
      },
      "source": [
        "Replace all elements of an array which have values greater than 50 with the value 15.50"
      ]
    },
    {
      "cell_type": "code",
      "execution_count": null,
      "metadata": {
        "id": "mls9udnct2W7"
      },
      "outputs": [],
      "source": [
        "n_arr = np.array([75.42436315, 42.48558583, 60.32924763])"
      ]
    },
    {
      "cell_type": "code",
      "execution_count": null,
      "metadata": {
        "id": "qOGulBHhuR9k"
      },
      "outputs": [],
      "source": [
        "# Your answer here"
      ]
    },
    {
      "cell_type": "markdown",
      "metadata": {
        "id": "G04HbVoSt8Ch"
      },
      "source": [
        "Replace all negative values of an array with 0"
      ]
    },
    {
      "cell_type": "code",
      "execution_count": null,
      "metadata": {
        "id": "fZSoaAAZuMYp"
      },
      "outputs": [],
      "source": [
        "ini_array1 = np.array([1, 2, -3, 4, -5, -6])"
      ]
    },
    {
      "cell_type": "code",
      "execution_count": null,
      "metadata": {
        "id": "ioeQ0p7_uPJ8"
      },
      "outputs": [],
      "source": [
        "# Your answer here"
      ]
    },
    {
      "cell_type": "markdown",
      "metadata": {
        "id": "jTctwqdQL9ih"
      },
      "source": [
        "## Datatypes"
      ]
    },
    {
      "cell_type": "markdown",
      "metadata": {
        "id": "kSZQ1WkIL9ih"
      },
      "source": [
        "Every numpy array is a grid of elements of the same type. Numpy provides a large set of numeric datatypes that you can use to construct arrays. Numpy tries to guess a datatype when you create an array, but functions that construct arrays usually also include an optional argument to explicitly specify the datatype. Here is an example:"
      ]
    },
    {
      "cell_type": "code",
      "execution_count": null,
      "metadata": {
        "colab": {
          "base_uri": "https://localhost:8080/",
          "height": 34
        },
        "id": "4za4O0m5L9ih",
        "outputId": "2ea4fb80-a4df-43f9-c162-5665895c13ae"
      },
      "outputs": [
        {
          "name": "stdout",
          "output_type": "stream",
          "text": [
            "int64 float64 int64\n"
          ]
        }
      ],
      "source": [
        "x = np.array([1, 2])  # Let numpy choose the datatype\n",
        "y = np.array([1.0, 2.0])  # Let numpy choose the datatype\n",
        "z = np.array([1, 2], dtype=np.int64)  # Force a particular datatype\n",
        "\n",
        "print(x.dtype, y.dtype, z.dtype)"
      ]
    },
    {
      "cell_type": "markdown",
      "metadata": {
        "id": "TuB-fdhIL9ik"
      },
      "source": [
        "## Array math"
      ]
    },
    {
      "cell_type": "markdown",
      "metadata": {
        "id": "18e8V8elL9ik"
      },
      "source": [
        "Basic mathematical functions operate elementwise on arrays, and are available both as operator overloads and as functions in the numpy module:"
      ]
    },
    {
      "cell_type": "code",
      "execution_count": 6,
      "metadata": {
        "colab": {
          "base_uri": "https://localhost:8080/",
          "height": 86
        },
        "id": "gHKvBrSKL9il",
        "outputId": "a8a924b1-9d60-4b68-8fd3-e4657ae3f08b"
      },
      "outputs": [
        {
          "name": "stdout",
          "output_type": "stream",
          "text": [
            "[[ 6.  8.]\n",
            " [10. 12.]]\n",
            "[[ 6.  8.]\n",
            " [10. 12.]]\n"
          ]
        }
      ],
      "source": [
        "x = np.array([[1,2],[3,4]], dtype=np.float64)\n",
        "y = np.array([[5,6],[7,8]], dtype=np.float64)\n",
        "\n",
        "# Elementwise sum; both produce the array\n",
        "print(x + y)\n",
        "print(np.add(x, y))"
      ]
    },
    {
      "cell_type": "code",
      "execution_count": null,
      "metadata": {
        "colab": {
          "base_uri": "https://localhost:8080/",
          "height": 86
        },
        "id": "1fZtIAMxL9in",
        "outputId": "122f1380-6144-4d6c-9d31-f62d839889a2"
      },
      "outputs": [
        {
          "name": "stdout",
          "output_type": "stream",
          "text": [
            "[[-4. -4.]\n",
            " [-4. -4.]]\n",
            "[[-4. -4.]\n",
            " [-4. -4.]]\n"
          ]
        }
      ],
      "source": [
        "# Elementwise difference; both produce the array\n",
        "print(x - y)\n",
        "print(np.subtract(x, y))"
      ]
    },
    {
      "cell_type": "code",
      "execution_count": null,
      "metadata": {
        "colab": {
          "base_uri": "https://localhost:8080/",
          "height": 86
        },
        "id": "nil4AScML9io",
        "outputId": "038c8bb2-122b-4e59-c0a8-a091014fe68e"
      },
      "outputs": [
        {
          "name": "stdout",
          "output_type": "stream",
          "text": [
            "[[ 5. 12.]\n",
            " [21. 32.]]\n",
            "[[ 5. 12.]\n",
            " [21. 32.]]\n"
          ]
        }
      ],
      "source": [
        "# Elementwise product; both produce the array\n",
        "print(x * y)\n",
        "print(np.multiply(x, y))"
      ]
    },
    {
      "cell_type": "code",
      "execution_count": null,
      "metadata": {
        "colab": {
          "base_uri": "https://localhost:8080/",
          "height": 86
        },
        "id": "0JoA4lH6L9ip",
        "outputId": "12351a74-7871-4bc2-97ce-a508bf4810da"
      },
      "outputs": [
        {
          "name": "stdout",
          "output_type": "stream",
          "text": [
            "[[0.2        0.33333333]\n",
            " [0.42857143 0.5       ]]\n",
            "[[0.2        0.33333333]\n",
            " [0.42857143 0.5       ]]\n"
          ]
        }
      ],
      "source": [
        "# Elementwise division; both produce the array\n",
        "# [[ 0.2         0.33333333]\n",
        "#  [ 0.42857143  0.5       ]]\n",
        "print(x / y)\n",
        "print(np.divide(x, y))"
      ]
    },
    {
      "cell_type": "code",
      "execution_count": null,
      "metadata": {
        "colab": {
          "base_uri": "https://localhost:8080/",
          "height": 52
        },
        "id": "g0iZuA6bL9ir",
        "outputId": "29927dda-4167-4aa8-fbda-9008b09e4356"
      },
      "outputs": [
        {
          "name": "stdout",
          "output_type": "stream",
          "text": [
            "[[1.         1.41421356]\n",
            " [1.73205081 2.        ]]\n"
          ]
        }
      ],
      "source": [
        "# Elementwise square root; produces the array\n",
        "# [[ 1.          1.41421356]\n",
        "#  [ 1.73205081  2.        ]]\n",
        "print(np.sqrt(x))"
      ]
    },
    {
      "cell_type": "markdown",
      "metadata": {},
      "source": [
        "You can also easily change each element of an array in the same way. For example, to add 1 to each element of `x`, just type"
      ]
    },
    {
      "cell_type": "code",
      "execution_count": 7,
      "metadata": {},
      "outputs": [
        {
          "name": "stdout",
          "output_type": "stream",
          "text": [
            "[[2. 3.]\n",
            " [4. 5.]]\n"
          ]
        }
      ],
      "source": [
        "print(x + 1)"
      ]
    },
    {
      "cell_type": "markdown",
      "metadata": {
        "id": "FbE-1If_L9i0"
      },
      "source": [
        "Numpy provides many useful functions for performing computations on single arrays; one of the most useful is `sum`:"
      ]
    },
    {
      "cell_type": "code",
      "execution_count": null,
      "metadata": {
        "colab": {
          "base_uri": "https://localhost:8080/",
          "height": 69
        },
        "id": "DZUdZvPrL9i0",
        "outputId": "99cad470-d692-4b25-91c9-a57aa25f4c6e"
      },
      "outputs": [
        {
          "name": "stdout",
          "output_type": "stream",
          "text": [
            "10\n",
            "[4 6]\n",
            "[3 7]\n"
          ]
        }
      ],
      "source": [
        "x = np.array([[1,2],[3,4]])\n",
        "\n",
        "print(np.sum(x))  # Compute sum of all elements; prints \"10\"\n",
        "print(np.sum(x, axis=0))  # Compute sum of each column; prints \"[4 6]\"\n",
        "print(np.sum(x, axis=1))  # Compute sum of each row; prints \"[3 7]\""
      ]
    },
    {
      "cell_type": "markdown",
      "metadata": {},
      "source": [
        "## Exercises - Array math"
      ]
    },
    {
      "cell_type": "markdown",
      "metadata": {
        "id": "wEpDOtXgpevl"
      },
      "source": [
        "Given 2 similarly-sized NumPy arrays, 'a' and 'b', how do you find a NumPy array output in which every element is an element-wise sum of the 'a' and 'b'  NumPy arrays?"
      ]
    },
    {
      "cell_type": "code",
      "execution_count": null,
      "metadata": {
        "id": "hSv4UWdYp1jG"
      },
      "outputs": [],
      "source": [
        "a = np.array([[1,2,3],\n",
        "              [4,5,6]])\n",
        "\n",
        "b = np.array([[10,11,12],\n",
        "              [13,14,15]])"
      ]
    },
    {
      "cell_type": "code",
      "execution_count": null,
      "metadata": {
        "id": "0K3POPHMp7nq"
      },
      "outputs": [],
      "source": [
        "# Your answer here"
      ]
    },
    {
      "cell_type": "markdown",
      "metadata": {
        "id": "EdE6jirHqDDk"
      },
      "source": [
        "Multiply each element of `a` by 3"
      ]
    },
    {
      "cell_type": "code",
      "execution_count": null,
      "metadata": {
        "id": "uhCBtzxPq0l4"
      },
      "outputs": [],
      "source": [
        "# Your answer here"
      ]
    },
    {
      "cell_type": "markdown",
      "metadata": {},
      "source": [
        "## Concatenating"
      ]
    },
    {
      "cell_type": "markdown",
      "metadata": {},
      "source": [
        "We can also build a NumPy array by putting together two arrays that we have already built. This is called \"concatenation\". This is especially helpful when we want to work with data from two or more sources at once.\n",
        "\n",
        "Let's say we want to add some new observations to our data. This means we want to add more rows. In essence we want to vertically stack two arrays on top of one another. The `vstack()` function allows us to do this. All we have to do is pass it a collection of arrays to stack."
      ]
    },
    {
      "cell_type": "code",
      "execution_count": 32,
      "metadata": {},
      "outputs": [
        {
          "data": {
            "text/plain": [
              "array([[1, 1, 1],\n",
              "       [2, 2, 2]])"
            ]
          },
          "execution_count": 32,
          "metadata": {},
          "output_type": "execute_result"
        }
      ],
      "source": [
        "obs1 = np.array([[1, 1, 1]])\n",
        "obs2 = np.array([[2, 2, 2]])\n",
        "\n",
        "np.vstack([obs1, obs2])"
      ]
    },
    {
      "cell_type": "markdown",
      "metadata": {},
      "source": [
        "If we want to add new columns to our data, we can use `hstack()`, or we can horizontally stack two arrays next to one another. Again, we just pass this function a collection of arrays we want to stack."
      ]
    },
    {
      "cell_type": "code",
      "execution_count": 33,
      "metadata": {},
      "outputs": [
        {
          "data": {
            "text/plain": [
              "array([[1, 2],\n",
              "       [1, 2],\n",
              "       [1, 2]])"
            ]
          },
          "execution_count": 33,
          "metadata": {},
          "output_type": "execute_result"
        }
      ],
      "source": [
        "col1 = np.array([[1], [1], [1]])\n",
        "col2 = np.array([[2], [2], [2]])\n",
        "\n",
        "np.hstack([col1, col2])"
      ]
    },
    {
      "cell_type": "markdown",
      "metadata": {},
      "source": [
        "## Exercises - Concatenating"
      ]
    },
    {
      "cell_type": "markdown",
      "metadata": {
        "id": "wQCcmV19rmrV"
      },
      "source": [
        "Stack 2 numpy arrays horizontally i.e., 2 arrays having the same 1st dimension (number of rows in 2D arrays)"
      ]
    },
    {
      "cell_type": "code",
      "execution_count": null,
      "metadata": {
        "id": "m8FpZJKkrpKr"
      },
      "outputs": [],
      "source": [
        "a1 = np.array([[1,2,3],\n",
        "               [4,5,6]])\n",
        "\n",
        "a2 = np.array([[7,8,9],\n",
        "               [10,11,12]])"
      ]
    },
    {
      "cell_type": "code",
      "execution_count": null,
      "metadata": {
        "id": "XY0KMb9orw0x"
      },
      "outputs": [],
      "source": [
        "# Your answer here"
      ]
    },
    {
      "cell_type": "markdown",
      "metadata": {
        "id": "K1llkinrr0Rk"
      },
      "source": [
        "Stack 2 numpy arrays vertically i.e., 2 arrays having the same last dimension (number of columns in 2D arrays)"
      ]
    },
    {
      "cell_type": "code",
      "execution_count": null,
      "metadata": {
        "id": "b5dsC1Tfr4Vr"
      },
      "outputs": [],
      "source": [
        "a3 = np.array([[1,2],\n",
        "               [3,4],\n",
        "               [5,6]])\n",
        "\n",
        "a4 = np.array([[7,8],\n",
        "               [9,10],\n",
        "               [11,12]])"
      ]
    },
    {
      "cell_type": "code",
      "execution_count": null,
      "metadata": {
        "id": "l1gPcbiZr7LW"
      },
      "outputs": [],
      "source": [
        "# Your answer here"
      ]
    },
    {
      "cell_type": "markdown",
      "metadata": {
        "id": "ebEJUBMpn2rn"
      },
      "source": [
        "# Pandas"
      ]
    },
    {
      "cell_type": "markdown",
      "metadata": {
        "id": "d1785624"
      },
      "source": [
        "## Read and inspect tabular data"
      ]
    },
    {
      "cell_type": "markdown",
      "metadata": {
        "id": "aeeac853"
      },
      "source": [
        "To start using `pandas`, we first import it and give it the alias `pd`.\n",
        "\n",
        "Run the code cell below. To run a code cell in Jupyter Notebook, click in the gray cell and press **Shift + Enter** (Windows) or **Shift + Return** (Mac)."
      ]
    },
    {
      "cell_type": "code",
      "execution_count": 34,
      "metadata": {
        "id": "a3fa8194"
      },
      "outputs": [],
      "source": [
        "import pandas as pd"
      ]
    },
    {
      "cell_type": "markdown",
      "metadata": {
        "id": "b74c8b74"
      },
      "source": [
        "We will be using the **B Corp Impact Data** from https://data.world/blab/b-corp-impact-data for the examples in this notebook. This dataset contains information on corporations and their scores on multiple areas, like external communities in which they operate, environment, customers, workers, and governance."
      ]
    },
    {
      "cell_type": "markdown",
      "metadata": {
        "id": "6be9bc09"
      },
      "source": [
        "Read in its CSV file using `pandas` and call the dataset `impact`:"
      ]
    },
    {
      "cell_type": "code",
      "execution_count": 35,
      "metadata": {
        "id": "8ef2d89e"
      },
      "outputs": [],
      "source": [
        "impact = pd.read_csv(\"B Corp Impact Data.csv\")"
      ]
    },
    {
      "cell_type": "markdown",
      "metadata": {
        "id": "b0e368ac"
      },
      "source": [
        "\n",
        "`pandas` can also read *and write* many other types of files, like:\n",
        "\n",
        "- CSV files: `read_csv()` and `to_csv()`\n",
        "- Excel files: `read_excel()` and `to_excel()`\n",
        "- SAS data files: `read_sas()` \n",
        "- SPSS data files: `read_spss()` \n",
        "- Stata data files: `read_stata()` and `to_stata()`"
      ]
    },
    {
      "cell_type": "markdown",
      "metadata": {
        "id": "8af84a5b"
      },
      "source": [
        "To see a summary of the `impact` dataset:"
      ]
    },
    {
      "cell_type": "code",
      "execution_count": 36,
      "metadata": {
        "id": "c357726b",
        "outputId": "aefb4f23-370f-437e-fdb7-e30890a922ae"
      },
      "outputs": [
        {
          "name": "stdout",
          "output_type": "stream",
          "text": [
            "<class 'pandas.core.frame.DataFrame'>\n",
            "RangeIndex: 8799 entries, 0 to 8798\n",
            "Columns: 127 entries, company_id to certification_cycle\n",
            "dtypes: float64(110), int64(1), object(16)\n",
            "memory usage: 8.5+ MB\n"
          ]
        }
      ],
      "source": [
        "impact.info()"
      ]
    },
    {
      "cell_type": "markdown",
      "metadata": {
        "id": "08bcd34e"
      },
      "source": [
        "`impact` is a `DataFrame`, which is a 2-dimensional data structure. Each `DataFrame` has rows and columns.\n",
        "\n",
        "To see the dimension of `impact`:"
      ]
    },
    {
      "cell_type": "code",
      "execution_count": 37,
      "metadata": {
        "id": "68855137",
        "outputId": "682d6dad-0292-44c8-955d-27cd140c25dd"
      },
      "outputs": [
        {
          "data": {
            "text/plain": [
              "(8799, 127)"
            ]
          },
          "execution_count": 37,
          "metadata": {},
          "output_type": "execute_result"
        }
      ],
      "source": [
        "impact.shape"
      ]
    },
    {
      "cell_type": "markdown",
      "metadata": {
        "id": "e7d309dd"
      },
      "source": [
        "To see the first few rows of `impact`, use `head()`."
      ]
    },
    {
      "cell_type": "code",
      "execution_count": null,
      "metadata": {
        "id": "472416a7",
        "outputId": "1470f2af-d79e-4eb2-9c1b-167e22b69440",
        "scrolled": true
      },
      "outputs": [
        {
          "data": {
            "text/html": [
              "<div>\n",
              "<style scoped>\n",
              "    .dataframe tbody tr th:only-of-type {\n",
              "        vertical-align: middle;\n",
              "    }\n",
              "\n",
              "    .dataframe tbody tr th {\n",
              "        vertical-align: top;\n",
              "    }\n",
              "\n",
              "    .dataframe thead th {\n",
              "        text-align: right;\n",
              "    }\n",
              "</style>\n",
              "<table border=\"1\" class=\"dataframe\">\n",
              "  <thead>\n",
              "    <tr style=\"text-align: right;\">\n",
              "      <th></th>\n",
              "      <th>company_id</th>\n",
              "      <th>company_name</th>\n",
              "      <th>date_first_certified</th>\n",
              "      <th>date_certified</th>\n",
              "      <th>current_status</th>\n",
              "      <th>description</th>\n",
              "      <th>industry</th>\n",
              "      <th>industry_category</th>\n",
              "      <th>products_and_services</th>\n",
              "      <th>country</th>\n",
              "      <th>...</th>\n",
              "      <th>ia_workers_it_human_rights_labor_policy</th>\n",
              "      <th>ia_workers_it_job_flexibility_corporate_culture</th>\n",
              "      <th>ia_workers_it_management_worker_communication</th>\n",
              "      <th>ia_workers_it_occupational_health_safety</th>\n",
              "      <th>ia_workers_it_training_education</th>\n",
              "      <th>ia_workers_it_worker_benefits</th>\n",
              "      <th>ia_workers_it_worker_owned</th>\n",
              "      <th>ia_workers_it_worker_ownership</th>\n",
              "      <th>ia_workers_it_workforce_development</th>\n",
              "      <th>certification_cycle</th>\n",
              "    </tr>\n",
              "  </thead>\n",
              "  <tbody>\n",
              "    <tr>\n",
              "      <th>0</th>\n",
              "      <td>001C000001LkZXSIA3</td>\n",
              "      <td>Someone Somewhere</td>\n",
              "      <td>2017-08-30</td>\n",
              "      <td>2021-02-26</td>\n",
              "      <td>certified</td>\n",
              "      <td>Someone Somewhere is a vertically integrated a...</td>\n",
              "      <td>Apparel, Footwear &amp; Accessories</td>\n",
              "      <td>Consumer Products &amp; Services</td>\n",
              "      <td>Clothing and garments with artisanal textiles ...</td>\n",
              "      <td>Mexico</td>\n",
              "      <td>...</td>\n",
              "      <td>NaN</td>\n",
              "      <td>NaN</td>\n",
              "      <td>NaN</td>\n",
              "      <td>NaN</td>\n",
              "      <td>NaN</td>\n",
              "      <td>NaN</td>\n",
              "      <td>NaN</td>\n",
              "      <td>NaN</td>\n",
              "      <td>NaN</td>\n",
              "      <td>1.0</td>\n",
              "    </tr>\n",
              "    <tr>\n",
              "      <th>1</th>\n",
              "      <td>001C000001LkZXSIA3</td>\n",
              "      <td>Someone Somewhere</td>\n",
              "      <td>2017-08-30</td>\n",
              "      <td>2017-08-30</td>\n",
              "      <td>certified</td>\n",
              "      <td>Someone Somewhere is a vertically integrated a...</td>\n",
              "      <td>Apparel, Footwear &amp; Accessories</td>\n",
              "      <td>Consumer Products &amp; Services</td>\n",
              "      <td>Clothing and garments with artisanal textiles ...</td>\n",
              "      <td>Mexico</td>\n",
              "      <td>...</td>\n",
              "      <td>NaN</td>\n",
              "      <td>NaN</td>\n",
              "      <td>NaN</td>\n",
              "      <td>NaN</td>\n",
              "      <td>NaN</td>\n",
              "      <td>NaN</td>\n",
              "      <td>NaN</td>\n",
              "      <td>NaN</td>\n",
              "      <td>NaN</td>\n",
              "      <td>2.0</td>\n",
              "    </tr>\n",
              "    <tr>\n",
              "      <th>2</th>\n",
              "      <td>001C000001bVjmIIAS</td>\n",
              "      <td>Boomera</td>\n",
              "      <td>2017-12-27</td>\n",
              "      <td>2017-12-27</td>\n",
              "      <td>certified</td>\n",
              "      <td>Boomera work with cutting-edge technology and ...</td>\n",
              "      <td>Recycling Services &amp; Waste Management</td>\n",
              "      <td>Energy &amp; Environmental Services</td>\n",
              "      <td>recycling, upcycling</td>\n",
              "      <td>Brazil</td>\n",
              "      <td>...</td>\n",
              "      <td>0.2</td>\n",
              "      <td>NaN</td>\n",
              "      <td>1.8</td>\n",
              "      <td>2.3</td>\n",
              "      <td>1.6</td>\n",
              "      <td>NaN</td>\n",
              "      <td>NaN</td>\n",
              "      <td>0.9</td>\n",
              "      <td>NaN</td>\n",
              "      <td>1.0</td>\n",
              "    </tr>\n",
              "    <tr>\n",
              "      <th>3</th>\n",
              "      <td>0013b00001nESw5AAG</td>\n",
              "      <td>ekWateur</td>\n",
              "      <td>2021-02-22</td>\n",
              "      <td>2021-02-22</td>\n",
              "      <td>certified</td>\n",
              "      <td>ekWateur propose de l’électricité, du gaz et d...</td>\n",
              "      <td>Renewable Energy Generation &amp; Installation</td>\n",
              "      <td>Energy &amp; Environmental Services</td>\n",
              "      <td>Electricité, gaz et bois renouvelables.</td>\n",
              "      <td>France</td>\n",
              "      <td>...</td>\n",
              "      <td>NaN</td>\n",
              "      <td>NaN</td>\n",
              "      <td>NaN</td>\n",
              "      <td>NaN</td>\n",
              "      <td>NaN</td>\n",
              "      <td>NaN</td>\n",
              "      <td>NaN</td>\n",
              "      <td>NaN</td>\n",
              "      <td>NaN</td>\n",
              "      <td>1.0</td>\n",
              "    </tr>\n",
              "    <tr>\n",
              "      <th>4</th>\n",
              "      <td>001C000001afeGsIAI</td>\n",
              "      <td>Maker srl</td>\n",
              "      <td>2017-05-19</td>\n",
              "      <td>2021-02-19</td>\n",
              "      <td>certified</td>\n",
              "      <td>Maker srl provides mechanical parts and mainte...</td>\n",
              "      <td>Machinery &amp; Equipment</td>\n",
              "      <td>Business Products &amp; Services</td>\n",
              "      <td>Mechanical parts and maintenance services for ...</td>\n",
              "      <td>Italy</td>\n",
              "      <td>...</td>\n",
              "      <td>NaN</td>\n",
              "      <td>NaN</td>\n",
              "      <td>NaN</td>\n",
              "      <td>NaN</td>\n",
              "      <td>NaN</td>\n",
              "      <td>NaN</td>\n",
              "      <td>NaN</td>\n",
              "      <td>NaN</td>\n",
              "      <td>NaN</td>\n",
              "      <td>1.0</td>\n",
              "    </tr>\n",
              "  </tbody>\n",
              "</table>\n",
              "<p>5 rows × 127 columns</p>\n",
              "</div>"
            ],
            "text/plain": [
              "           company_id       company_name date_first_certified date_certified  \\\n",
              "0  001C000001LkZXSIA3  Someone Somewhere           2017-08-30     2021-02-26   \n",
              "1  001C000001LkZXSIA3  Someone Somewhere           2017-08-30     2017-08-30   \n",
              "2  001C000001bVjmIIAS            Boomera           2017-12-27     2017-12-27   \n",
              "3  0013b00001nESw5AAG           ekWateur           2021-02-22     2021-02-22   \n",
              "4  001C000001afeGsIAI          Maker srl           2017-05-19     2021-02-19   \n",
              "\n",
              "  current_status                                        description  \\\n",
              "0      certified  Someone Somewhere is a vertically integrated a...   \n",
              "1      certified  Someone Somewhere is a vertically integrated a...   \n",
              "2      certified  Boomera work with cutting-edge technology and ...   \n",
              "3      certified  ekWateur propose de l’électricité, du gaz et d...   \n",
              "4      certified  Maker srl provides mechanical parts and mainte...   \n",
              "\n",
              "                                     industry  \\\n",
              "0             Apparel, Footwear & Accessories   \n",
              "1             Apparel, Footwear & Accessories   \n",
              "2       Recycling Services & Waste Management   \n",
              "3  Renewable Energy Generation & Installation   \n",
              "4                       Machinery & Equipment   \n",
              "\n",
              "                 industry_category  \\\n",
              "0     Consumer Products & Services   \n",
              "1     Consumer Products & Services   \n",
              "2  Energy & Environmental Services   \n",
              "3  Energy & Environmental Services   \n",
              "4     Business Products & Services   \n",
              "\n",
              "                               products_and_services country  ...  \\\n",
              "0  Clothing and garments with artisanal textiles ...  Mexico  ...   \n",
              "1  Clothing and garments with artisanal textiles ...  Mexico  ...   \n",
              "2                               recycling, upcycling  Brazil  ...   \n",
              "3            Electricité, gaz et bois renouvelables.  France  ...   \n",
              "4  Mechanical parts and maintenance services for ...   Italy  ...   \n",
              "\n",
              "  ia_workers_it_human_rights_labor_policy  \\\n",
              "0                                     NaN   \n",
              "1                                     NaN   \n",
              "2                                     0.2   \n",
              "3                                     NaN   \n",
              "4                                     NaN   \n",
              "\n",
              "  ia_workers_it_job_flexibility_corporate_culture  \\\n",
              "0                                             NaN   \n",
              "1                                             NaN   \n",
              "2                                             NaN   \n",
              "3                                             NaN   \n",
              "4                                             NaN   \n",
              "\n",
              "  ia_workers_it_management_worker_communication  \\\n",
              "0                                           NaN   \n",
              "1                                           NaN   \n",
              "2                                           1.8   \n",
              "3                                           NaN   \n",
              "4                                           NaN   \n",
              "\n",
              "  ia_workers_it_occupational_health_safety ia_workers_it_training_education  \\\n",
              "0                                      NaN                              NaN   \n",
              "1                                      NaN                              NaN   \n",
              "2                                      2.3                              1.6   \n",
              "3                                      NaN                              NaN   \n",
              "4                                      NaN                              NaN   \n",
              "\n",
              "  ia_workers_it_worker_benefits  ia_workers_it_worker_owned  \\\n",
              "0                           NaN                         NaN   \n",
              "1                           NaN                         NaN   \n",
              "2                           NaN                         NaN   \n",
              "3                           NaN                         NaN   \n",
              "4                           NaN                         NaN   \n",
              "\n",
              "   ia_workers_it_worker_ownership  ia_workers_it_workforce_development  \\\n",
              "0                             NaN                                  NaN   \n",
              "1                             NaN                                  NaN   \n",
              "2                             0.9                                  NaN   \n",
              "3                             NaN                                  NaN   \n",
              "4                             NaN                                  NaN   \n",
              "\n",
              "   certification_cycle  \n",
              "0                  1.0  \n",
              "1                  2.0  \n",
              "2                  1.0  \n",
              "3                  1.0  \n",
              "4                  1.0  \n",
              "\n",
              "[5 rows x 127 columns]"
            ]
          },
          "metadata": {},
          "output_type": "display_data"
        }
      ],
      "source": [
        "impact.head()"
      ]
    },
    {
      "cell_type": "markdown",
      "metadata": {
        "id": "06468757"
      },
      "source": [
        "Each `DataFrame` has **column labels** and **row labels**. Column labels are often column headings, such as `company_id`, `company_name`, ... in this example. Row labels are often `0`, `1`, `2`, ... if they are not specified."
      ]
    },
    {
      "cell_type": "markdown",
      "metadata": {
        "id": "723ee361"
      },
      "source": [
        "To see the last few rows of `impact`, use `tail()`."
      ]
    },
    {
      "cell_type": "code",
      "execution_count": null,
      "metadata": {
        "id": "88edc171",
        "outputId": "b7841418-8111-4c5d-ef86-f6bba0dd7399",
        "scrolled": true
      },
      "outputs": [
        {
          "data": {
            "text/html": [
              "<div>\n",
              "<style scoped>\n",
              "    .dataframe tbody tr th:only-of-type {\n",
              "        vertical-align: middle;\n",
              "    }\n",
              "\n",
              "    .dataframe tbody tr th {\n",
              "        vertical-align: top;\n",
              "    }\n",
              "\n",
              "    .dataframe thead th {\n",
              "        text-align: right;\n",
              "    }\n",
              "</style>\n",
              "<table border=\"1\" class=\"dataframe\">\n",
              "  <thead>\n",
              "    <tr style=\"text-align: right;\">\n",
              "      <th></th>\n",
              "      <th>company_id</th>\n",
              "      <th>company_name</th>\n",
              "      <th>date_first_certified</th>\n",
              "      <th>date_certified</th>\n",
              "      <th>current_status</th>\n",
              "      <th>description</th>\n",
              "      <th>industry</th>\n",
              "      <th>industry_category</th>\n",
              "      <th>products_and_services</th>\n",
              "      <th>country</th>\n",
              "      <th>...</th>\n",
              "      <th>ia_workers_it_human_rights_labor_policy</th>\n",
              "      <th>ia_workers_it_job_flexibility_corporate_culture</th>\n",
              "      <th>ia_workers_it_management_worker_communication</th>\n",
              "      <th>ia_workers_it_occupational_health_safety</th>\n",
              "      <th>ia_workers_it_training_education</th>\n",
              "      <th>ia_workers_it_worker_benefits</th>\n",
              "      <th>ia_workers_it_worker_owned</th>\n",
              "      <th>ia_workers_it_worker_ownership</th>\n",
              "      <th>ia_workers_it_workforce_development</th>\n",
              "      <th>certification_cycle</th>\n",
              "    </tr>\n",
              "  </thead>\n",
              "  <tbody>\n",
              "    <tr>\n",
              "      <th>8794</th>\n",
              "      <td>001C000001ghV6XIAU</td>\n",
              "      <td>Danone North America</td>\n",
              "      <td>2018-04-02</td>\n",
              "      <td>2018-03-14</td>\n",
              "      <td>certified</td>\n",
              "      <td>Danone North America is a purpose-driven compa...</td>\n",
              "      <td>Food &amp; Beverage</td>\n",
              "      <td>Consumer Products &amp; Services</td>\n",
              "      <td>Food &amp; Beverage</td>\n",
              "      <td>United States</td>\n",
              "      <td>...</td>\n",
              "      <td>0.6</td>\n",
              "      <td>1.8</td>\n",
              "      <td>1.2</td>\n",
              "      <td>0.9</td>\n",
              "      <td>1.6</td>\n",
              "      <td>NaN</td>\n",
              "      <td>NaN</td>\n",
              "      <td>1.5</td>\n",
              "      <td>NaN</td>\n",
              "      <td>2.0</td>\n",
              "    </tr>\n",
              "    <tr>\n",
              "      <th>8795</th>\n",
              "      <td>001C000001afHX8IAM</td>\n",
              "      <td>Institución Educativa SEK</td>\n",
              "      <td>2020-04-23</td>\n",
              "      <td>2020-04-23</td>\n",
              "      <td>certified</td>\n",
              "      <td>Institución Educativa SEK encompasses an educa...</td>\n",
              "      <td>Education &amp; Training Services</td>\n",
              "      <td>Education &amp; Training Services</td>\n",
              "      <td>Education/Higer Education</td>\n",
              "      <td>Spain</td>\n",
              "      <td>...</td>\n",
              "      <td>NaN</td>\n",
              "      <td>NaN</td>\n",
              "      <td>NaN</td>\n",
              "      <td>NaN</td>\n",
              "      <td>NaN</td>\n",
              "      <td>NaN</td>\n",
              "      <td>NaN</td>\n",
              "      <td>NaN</td>\n",
              "      <td>NaN</td>\n",
              "      <td>1.0</td>\n",
              "    </tr>\n",
              "    <tr>\n",
              "      <th>8796</th>\n",
              "      <td>001C000001iwbf3IAA</td>\n",
              "      <td>Envato</td>\n",
              "      <td>2020-06-22</td>\n",
              "      <td>2020-06-22</td>\n",
              "      <td>certified</td>\n",
              "      <td>At Envato, they’re all about great creative co...</td>\n",
              "      <td>IT Software &amp; Services/Web Design</td>\n",
              "      <td>Business Products &amp; Services</td>\n",
              "      <td>Digital assets marketplace, creative subscript...</td>\n",
              "      <td>Australia</td>\n",
              "      <td>...</td>\n",
              "      <td>NaN</td>\n",
              "      <td>NaN</td>\n",
              "      <td>NaN</td>\n",
              "      <td>NaN</td>\n",
              "      <td>NaN</td>\n",
              "      <td>NaN</td>\n",
              "      <td>NaN</td>\n",
              "      <td>NaN</td>\n",
              "      <td>NaN</td>\n",
              "      <td>1.0</td>\n",
              "    </tr>\n",
              "    <tr>\n",
              "      <th>8797</th>\n",
              "      <td>001C000000zk8zuIAA</td>\n",
              "      <td>Laureate Education</td>\n",
              "      <td>2015-12-11</td>\n",
              "      <td>2017-12-01</td>\n",
              "      <td>de-certified</td>\n",
              "      <td>Laureate Education, Inc. is the largest global...</td>\n",
              "      <td>Education &amp; Training Services</td>\n",
              "      <td>Education &amp; Training Services</td>\n",
              "      <td>Higher Education Services</td>\n",
              "      <td>United States</td>\n",
              "      <td>...</td>\n",
              "      <td>0.7</td>\n",
              "      <td>0.9</td>\n",
              "      <td>2.9</td>\n",
              "      <td>1.1</td>\n",
              "      <td>3.0</td>\n",
              "      <td>NaN</td>\n",
              "      <td>NaN</td>\n",
              "      <td>1.0</td>\n",
              "      <td>0.0</td>\n",
              "      <td>1.0</td>\n",
              "    </tr>\n",
              "    <tr>\n",
              "      <th>8798</th>\n",
              "      <td>001C000000zk8zuIAA</td>\n",
              "      <td>Laureate Education</td>\n",
              "      <td>2015-12-11</td>\n",
              "      <td>2015-10-30</td>\n",
              "      <td>de-certified</td>\n",
              "      <td>Laureate Education, Inc. is the largest global...</td>\n",
              "      <td>Education &amp; Training Services</td>\n",
              "      <td>Education &amp; Training Services</td>\n",
              "      <td>Higher Education Services</td>\n",
              "      <td>United States</td>\n",
              "      <td>...</td>\n",
              "      <td>0.6</td>\n",
              "      <td>0.9</td>\n",
              "      <td>2.8</td>\n",
              "      <td>1.3</td>\n",
              "      <td>2.6</td>\n",
              "      <td>8.3</td>\n",
              "      <td>NaN</td>\n",
              "      <td>2.7</td>\n",
              "      <td>NaN</td>\n",
              "      <td>2.0</td>\n",
              "    </tr>\n",
              "  </tbody>\n",
              "</table>\n",
              "<p>5 rows × 127 columns</p>\n",
              "</div>"
            ],
            "text/plain": [
              "              company_id               company_name date_first_certified  \\\n",
              "8794  001C000001ghV6XIAU       Danone North America           2018-04-02   \n",
              "8795  001C000001afHX8IAM  Institución Educativa SEK           2020-04-23   \n",
              "8796  001C000001iwbf3IAA                     Envato           2020-06-22   \n",
              "8797  001C000000zk8zuIAA         Laureate Education           2015-12-11   \n",
              "8798  001C000000zk8zuIAA         Laureate Education           2015-12-11   \n",
              "\n",
              "     date_certified current_status  \\\n",
              "8794     2018-03-14      certified   \n",
              "8795     2020-04-23      certified   \n",
              "8796     2020-06-22      certified   \n",
              "8797     2017-12-01   de-certified   \n",
              "8798     2015-10-30   de-certified   \n",
              "\n",
              "                                            description  \\\n",
              "8794  Danone North America is a purpose-driven compa...   \n",
              "8795  Institución Educativa SEK encompasses an educa...   \n",
              "8796  At Envato, they’re all about great creative co...   \n",
              "8797  Laureate Education, Inc. is the largest global...   \n",
              "8798  Laureate Education, Inc. is the largest global...   \n",
              "\n",
              "                               industry              industry_category  \\\n",
              "8794                    Food & Beverage   Consumer Products & Services   \n",
              "8795      Education & Training Services  Education & Training Services   \n",
              "8796  IT Software & Services/Web Design   Business Products & Services   \n",
              "8797      Education & Training Services  Education & Training Services   \n",
              "8798      Education & Training Services  Education & Training Services   \n",
              "\n",
              "                                  products_and_services        country  ...  \\\n",
              "8794                                    Food & Beverage  United States  ...   \n",
              "8795                          Education/Higer Education          Spain  ...   \n",
              "8796  Digital assets marketplace, creative subscript...      Australia  ...   \n",
              "8797                          Higher Education Services  United States  ...   \n",
              "8798                          Higher Education Services  United States  ...   \n",
              "\n",
              "     ia_workers_it_human_rights_labor_policy  \\\n",
              "8794                                     0.6   \n",
              "8795                                     NaN   \n",
              "8796                                     NaN   \n",
              "8797                                     0.7   \n",
              "8798                                     0.6   \n",
              "\n",
              "     ia_workers_it_job_flexibility_corporate_culture  \\\n",
              "8794                                             1.8   \n",
              "8795                                             NaN   \n",
              "8796                                             NaN   \n",
              "8797                                             0.9   \n",
              "8798                                             0.9   \n",
              "\n",
              "     ia_workers_it_management_worker_communication  \\\n",
              "8794                                           1.2   \n",
              "8795                                           NaN   \n",
              "8796                                           NaN   \n",
              "8797                                           2.9   \n",
              "8798                                           2.8   \n",
              "\n",
              "     ia_workers_it_occupational_health_safety  \\\n",
              "8794                                      0.9   \n",
              "8795                                      NaN   \n",
              "8796                                      NaN   \n",
              "8797                                      1.1   \n",
              "8798                                      1.3   \n",
              "\n",
              "     ia_workers_it_training_education ia_workers_it_worker_benefits  \\\n",
              "8794                              1.6                           NaN   \n",
              "8795                              NaN                           NaN   \n",
              "8796                              NaN                           NaN   \n",
              "8797                              3.0                           NaN   \n",
              "8798                              2.6                           8.3   \n",
              "\n",
              "      ia_workers_it_worker_owned  ia_workers_it_worker_ownership  \\\n",
              "8794                         NaN                             1.5   \n",
              "8795                         NaN                             NaN   \n",
              "8796                         NaN                             NaN   \n",
              "8797                         NaN                             1.0   \n",
              "8798                         NaN                             2.7   \n",
              "\n",
              "      ia_workers_it_workforce_development  certification_cycle  \n",
              "8794                                  NaN                  2.0  \n",
              "8795                                  NaN                  1.0  \n",
              "8796                                  NaN                  1.0  \n",
              "8797                                  0.0                  1.0  \n",
              "8798                                  NaN                  2.0  \n",
              "\n",
              "[5 rows x 127 columns]"
            ]
          },
          "metadata": {},
          "output_type": "display_data"
        }
      ],
      "source": [
        "impact.tail()"
      ]
    },
    {
      "cell_type": "markdown",
      "metadata": {
        "id": "7b2ff9f6"
      },
      "source": [
        "Calling `impact` will give the first and last few rows of the dataset. Click on the margin on the left side of the output to condense the display."
      ]
    },
    {
      "cell_type": "code",
      "execution_count": null,
      "metadata": {
        "id": "55dbd0f4",
        "scrolled": true
      },
      "outputs": [],
      "source": [
        "impact"
      ]
    },
    {
      "cell_type": "markdown",
      "metadata": {
        "id": "b1903019"
      },
      "source": [
        "`info()`, `head()`, and `tail()` are **methods**. We can apply them to a `DataFrame` like so: `DataFrame.method()`.\n",
        "\n",
        "\n",
        "`shape` is a **property**. We can apply properties to a `DataFrame` like so: `DataFrame.property`."
      ]
    },
    {
      "cell_type": "markdown",
      "metadata": {
        "id": "2aa02ef3"
      },
      "source": [
        "## Select a subset of a DataFrame"
      ]
    },
    {
      "cell_type": "markdown",
      "metadata": {
        "id": "a2b87849"
      },
      "source": [
        "### Select columns"
      ]
    },
    {
      "cell_type": "markdown",
      "metadata": {
        "id": "11f2d34b"
      },
      "source": [
        "We can access a column of a `DataFrame` like accessing a *property* of that `DataFrame` using `.`."
      ]
    },
    {
      "cell_type": "code",
      "execution_count": null,
      "metadata": {
        "id": "801a28e8",
        "outputId": "76cdc9fa-5337-46c9-9b85-244d53dccdce"
      },
      "outputs": [
        {
          "data": {
            "text/plain": [
              "0               Someone Somewhere\n",
              "1               Someone Somewhere\n",
              "2                         Boomera\n",
              "3                        ekWateur\n",
              "4                       Maker srl\n",
              "                  ...            \n",
              "8794         Danone North America\n",
              "8795    Institución Educativa SEK\n",
              "8796                       Envato\n",
              "8797           Laureate Education\n",
              "8798           Laureate Education\n",
              "Name: company_name, Length: 8799, dtype: object"
            ]
          },
          "metadata": {},
          "output_type": "display_data"
        }
      ],
      "source": [
        "impact.company_name"
      ]
    },
    {
      "cell_type": "markdown",
      "metadata": {
        "id": "1bd1ba21"
      },
      "source": [
        "We can also access a column using the `[]` accessor. This is especially helpful when our column names have spaces in them, or if we want to select multiple columns using a list."
      ]
    },
    {
      "cell_type": "code",
      "execution_count": null,
      "metadata": {
        "id": "04ad266b",
        "outputId": "276f3ab5-8396-4f60-cc4d-1ae64adf9b1d"
      },
      "outputs": [
        {
          "data": {
            "text/plain": [
              "0               Someone Somewhere\n",
              "1               Someone Somewhere\n",
              "2                         Boomera\n",
              "3                        ekWateur\n",
              "4                       Maker srl\n",
              "                  ...            \n",
              "8794         Danone North America\n",
              "8795    Institución Educativa SEK\n",
              "8796                       Envato\n",
              "8797           Laureate Education\n",
              "8798           Laureate Education\n",
              "Name: company_name, Length: 8799, dtype: object"
            ]
          },
          "metadata": {},
          "output_type": "display_data"
        }
      ],
      "source": [
        "impact[\"company_name\"]"
      ]
    },
    {
      "cell_type": "code",
      "execution_count": null,
      "metadata": {
        "id": "f14111cf",
        "outputId": "ce2050b5-0078-4180-c9fc-155afcfa53eb",
        "scrolled": true
      },
      "outputs": [
        {
          "data": {
            "text/html": [
              "<div>\n",
              "<style scoped>\n",
              "    .dataframe tbody tr th:only-of-type {\n",
              "        vertical-align: middle;\n",
              "    }\n",
              "\n",
              "    .dataframe tbody tr th {\n",
              "        vertical-align: top;\n",
              "    }\n",
              "\n",
              "    .dataframe thead th {\n",
              "        text-align: right;\n",
              "    }\n",
              "</style>\n",
              "<table border=\"1\" class=\"dataframe\">\n",
              "  <thead>\n",
              "    <tr style=\"text-align: right;\">\n",
              "      <th></th>\n",
              "      <th>company_name</th>\n",
              "      <th>current_status</th>\n",
              "    </tr>\n",
              "  </thead>\n",
              "  <tbody>\n",
              "    <tr>\n",
              "      <th>0</th>\n",
              "      <td>Someone Somewhere</td>\n",
              "      <td>certified</td>\n",
              "    </tr>\n",
              "    <tr>\n",
              "      <th>1</th>\n",
              "      <td>Someone Somewhere</td>\n",
              "      <td>certified</td>\n",
              "    </tr>\n",
              "    <tr>\n",
              "      <th>2</th>\n",
              "      <td>Boomera</td>\n",
              "      <td>certified</td>\n",
              "    </tr>\n",
              "    <tr>\n",
              "      <th>3</th>\n",
              "      <td>ekWateur</td>\n",
              "      <td>certified</td>\n",
              "    </tr>\n",
              "    <tr>\n",
              "      <th>4</th>\n",
              "      <td>Maker srl</td>\n",
              "      <td>certified</td>\n",
              "    </tr>\n",
              "    <tr>\n",
              "      <th>...</th>\n",
              "      <td>...</td>\n",
              "      <td>...</td>\n",
              "    </tr>\n",
              "    <tr>\n",
              "      <th>8794</th>\n",
              "      <td>Danone North America</td>\n",
              "      <td>certified</td>\n",
              "    </tr>\n",
              "    <tr>\n",
              "      <th>8795</th>\n",
              "      <td>Institución Educativa SEK</td>\n",
              "      <td>certified</td>\n",
              "    </tr>\n",
              "    <tr>\n",
              "      <th>8796</th>\n",
              "      <td>Envato</td>\n",
              "      <td>certified</td>\n",
              "    </tr>\n",
              "    <tr>\n",
              "      <th>8797</th>\n",
              "      <td>Laureate Education</td>\n",
              "      <td>de-certified</td>\n",
              "    </tr>\n",
              "    <tr>\n",
              "      <th>8798</th>\n",
              "      <td>Laureate Education</td>\n",
              "      <td>de-certified</td>\n",
              "    </tr>\n",
              "  </tbody>\n",
              "</table>\n",
              "<p>8799 rows × 2 columns</p>\n",
              "</div>"
            ],
            "text/plain": [
              "                   company_name current_status\n",
              "0             Someone Somewhere      certified\n",
              "1             Someone Somewhere      certified\n",
              "2                       Boomera      certified\n",
              "3                      ekWateur      certified\n",
              "4                     Maker srl      certified\n",
              "...                         ...            ...\n",
              "8794       Danone North America      certified\n",
              "8795  Institución Educativa SEK      certified\n",
              "8796                     Envato      certified\n",
              "8797         Laureate Education   de-certified\n",
              "8798         Laureate Education   de-certified\n",
              "\n",
              "[8799 rows x 2 columns]"
            ]
          },
          "metadata": {},
          "output_type": "display_data"
        }
      ],
      "source": [
        "impact[[\"company_name\", \"current_status\"]]"
      ]
    },
    {
      "cell_type": "markdown",
      "metadata": {
        "id": "ede97800"
      },
      "source": [
        "When we select 1 column from a `DataFrame`, we get a **`Series`**. A `Series` is 1-dimensional and doesn't have column labels. It has row labels."
      ]
    },
    {
      "cell_type": "code",
      "execution_count": null,
      "metadata": {
        "id": "26f4d694",
        "outputId": "64f936de-7514-4cd6-e97a-ba1d08f40a1e"
      },
      "outputs": [
        {
          "data": {
            "text/plain": [
              "pandas.core.series.Series"
            ]
          },
          "metadata": {},
          "output_type": "display_data"
        }
      ],
      "source": [
        "type(impact[\"company_name\"])"
      ]
    },
    {
      "cell_type": "code",
      "execution_count": null,
      "metadata": {
        "id": "e7adf053",
        "outputId": "ee4e16e9-e6a3-47e2-e00a-dc13de81d618"
      },
      "outputs": [
        {
          "data": {
            "text/plain": [
              "(8799,)"
            ]
          },
          "metadata": {},
          "output_type": "display_data"
        }
      ],
      "source": [
        "impact[\"company_name\"].shape"
      ]
    },
    {
      "cell_type": "markdown",
      "metadata": {
        "id": "389e36a3"
      },
      "source": [
        "When we select more than 1 column from a `DataFrame`, we get another **`DataFrame`**. "
      ]
    },
    {
      "cell_type": "code",
      "execution_count": null,
      "metadata": {
        "id": "bba29e95",
        "outputId": "46e53905-6b22-49cd-db82-55ce47ba6c58"
      },
      "outputs": [
        {
          "data": {
            "text/plain": [
              "pandas.core.frame.DataFrame"
            ]
          },
          "metadata": {},
          "output_type": "display_data"
        }
      ],
      "source": [
        "type(impact[[\"company_name\", \"current_status\"]])"
      ]
    },
    {
      "cell_type": "code",
      "execution_count": null,
      "metadata": {
        "id": "c0e5dd1f",
        "outputId": "f52da67e-1908-4839-f08a-268170464d25"
      },
      "outputs": [
        {
          "data": {
            "text/plain": [
              "(8799, 2)"
            ]
          },
          "metadata": {},
          "output_type": "display_data"
        }
      ],
      "source": [
        "impact[[\"company_name\", \"current_status\"]].shape"
      ]
    },
    {
      "cell_type": "markdown",
      "metadata": {
        "id": "dd0c827d"
      },
      "source": [
        "Notice how the `shape` property can be used with both `Series` and `DataFrame`. There are quite a few `pandas` methods and properties that can be used with both `Series` and `DataFrame`. Use the `pandas` reference often to look up any `pandas` objects or functions that you don't know: https://pandas.pydata.org/docs/reference/index.html."
      ]
    },
    {
      "cell_type": "markdown",
      "metadata": {
        "id": "8fd6bd8c"
      },
      "source": [
        "### Select rows"
      ]
    },
    {
      "cell_type": "markdown",
      "metadata": {
        "id": "a3dd9b41"
      },
      "source": [
        "The accessor `[]` can be used to select rows as well. For example, here we select the first 5 rows of the dataset.\n",
        "\n",
        "Python indexing starts at 0 and doesn't include the ending point."
      ]
    },
    {
      "cell_type": "code",
      "execution_count": null,
      "metadata": {
        "id": "503b21b1",
        "outputId": "16f90a3c-7fc7-4818-b8d4-601a720eda5c",
        "scrolled": true
      },
      "outputs": [
        {
          "data": {
            "text/html": [
              "<div>\n",
              "<style scoped>\n",
              "    .dataframe tbody tr th:only-of-type {\n",
              "        vertical-align: middle;\n",
              "    }\n",
              "\n",
              "    .dataframe tbody tr th {\n",
              "        vertical-align: top;\n",
              "    }\n",
              "\n",
              "    .dataframe thead th {\n",
              "        text-align: right;\n",
              "    }\n",
              "</style>\n",
              "<table border=\"1\" class=\"dataframe\">\n",
              "  <thead>\n",
              "    <tr style=\"text-align: right;\">\n",
              "      <th></th>\n",
              "      <th>company_id</th>\n",
              "      <th>company_name</th>\n",
              "      <th>date_first_certified</th>\n",
              "      <th>date_certified</th>\n",
              "      <th>current_status</th>\n",
              "      <th>description</th>\n",
              "      <th>industry</th>\n",
              "      <th>industry_category</th>\n",
              "      <th>products_and_services</th>\n",
              "      <th>country</th>\n",
              "      <th>...</th>\n",
              "      <th>ia_workers_it_human_rights_labor_policy</th>\n",
              "      <th>ia_workers_it_job_flexibility_corporate_culture</th>\n",
              "      <th>ia_workers_it_management_worker_communication</th>\n",
              "      <th>ia_workers_it_occupational_health_safety</th>\n",
              "      <th>ia_workers_it_training_education</th>\n",
              "      <th>ia_workers_it_worker_benefits</th>\n",
              "      <th>ia_workers_it_worker_owned</th>\n",
              "      <th>ia_workers_it_worker_ownership</th>\n",
              "      <th>ia_workers_it_workforce_development</th>\n",
              "      <th>certification_cycle</th>\n",
              "    </tr>\n",
              "  </thead>\n",
              "  <tbody>\n",
              "    <tr>\n",
              "      <th>0</th>\n",
              "      <td>001C000001LkZXSIA3</td>\n",
              "      <td>Someone Somewhere</td>\n",
              "      <td>2017-08-30</td>\n",
              "      <td>2021-02-26</td>\n",
              "      <td>certified</td>\n",
              "      <td>Someone Somewhere is a vertically integrated a...</td>\n",
              "      <td>Apparel, Footwear &amp; Accessories</td>\n",
              "      <td>Consumer Products &amp; Services</td>\n",
              "      <td>Clothing and garments with artisanal textiles ...</td>\n",
              "      <td>Mexico</td>\n",
              "      <td>...</td>\n",
              "      <td>NaN</td>\n",
              "      <td>NaN</td>\n",
              "      <td>NaN</td>\n",
              "      <td>NaN</td>\n",
              "      <td>NaN</td>\n",
              "      <td>NaN</td>\n",
              "      <td>NaN</td>\n",
              "      <td>NaN</td>\n",
              "      <td>NaN</td>\n",
              "      <td>1.0</td>\n",
              "    </tr>\n",
              "    <tr>\n",
              "      <th>1</th>\n",
              "      <td>001C000001LkZXSIA3</td>\n",
              "      <td>Someone Somewhere</td>\n",
              "      <td>2017-08-30</td>\n",
              "      <td>2017-08-30</td>\n",
              "      <td>certified</td>\n",
              "      <td>Someone Somewhere is a vertically integrated a...</td>\n",
              "      <td>Apparel, Footwear &amp; Accessories</td>\n",
              "      <td>Consumer Products &amp; Services</td>\n",
              "      <td>Clothing and garments with artisanal textiles ...</td>\n",
              "      <td>Mexico</td>\n",
              "      <td>...</td>\n",
              "      <td>NaN</td>\n",
              "      <td>NaN</td>\n",
              "      <td>NaN</td>\n",
              "      <td>NaN</td>\n",
              "      <td>NaN</td>\n",
              "      <td>NaN</td>\n",
              "      <td>NaN</td>\n",
              "      <td>NaN</td>\n",
              "      <td>NaN</td>\n",
              "      <td>2.0</td>\n",
              "    </tr>\n",
              "    <tr>\n",
              "      <th>2</th>\n",
              "      <td>001C000001bVjmIIAS</td>\n",
              "      <td>Boomera</td>\n",
              "      <td>2017-12-27</td>\n",
              "      <td>2017-12-27</td>\n",
              "      <td>certified</td>\n",
              "      <td>Boomera work with cutting-edge technology and ...</td>\n",
              "      <td>Recycling Services &amp; Waste Management</td>\n",
              "      <td>Energy &amp; Environmental Services</td>\n",
              "      <td>recycling, upcycling</td>\n",
              "      <td>Brazil</td>\n",
              "      <td>...</td>\n",
              "      <td>0.2</td>\n",
              "      <td>NaN</td>\n",
              "      <td>1.8</td>\n",
              "      <td>2.3</td>\n",
              "      <td>1.6</td>\n",
              "      <td>NaN</td>\n",
              "      <td>NaN</td>\n",
              "      <td>0.9</td>\n",
              "      <td>NaN</td>\n",
              "      <td>1.0</td>\n",
              "    </tr>\n",
              "    <tr>\n",
              "      <th>3</th>\n",
              "      <td>0013b00001nESw5AAG</td>\n",
              "      <td>ekWateur</td>\n",
              "      <td>2021-02-22</td>\n",
              "      <td>2021-02-22</td>\n",
              "      <td>certified</td>\n",
              "      <td>ekWateur propose de l’électricité, du gaz et d...</td>\n",
              "      <td>Renewable Energy Generation &amp; Installation</td>\n",
              "      <td>Energy &amp; Environmental Services</td>\n",
              "      <td>Electricité, gaz et bois renouvelables.</td>\n",
              "      <td>France</td>\n",
              "      <td>...</td>\n",
              "      <td>NaN</td>\n",
              "      <td>NaN</td>\n",
              "      <td>NaN</td>\n",
              "      <td>NaN</td>\n",
              "      <td>NaN</td>\n",
              "      <td>NaN</td>\n",
              "      <td>NaN</td>\n",
              "      <td>NaN</td>\n",
              "      <td>NaN</td>\n",
              "      <td>1.0</td>\n",
              "    </tr>\n",
              "    <tr>\n",
              "      <th>4</th>\n",
              "      <td>001C000001afeGsIAI</td>\n",
              "      <td>Maker srl</td>\n",
              "      <td>2017-05-19</td>\n",
              "      <td>2021-02-19</td>\n",
              "      <td>certified</td>\n",
              "      <td>Maker srl provides mechanical parts and mainte...</td>\n",
              "      <td>Machinery &amp; Equipment</td>\n",
              "      <td>Business Products &amp; Services</td>\n",
              "      <td>Mechanical parts and maintenance services for ...</td>\n",
              "      <td>Italy</td>\n",
              "      <td>...</td>\n",
              "      <td>NaN</td>\n",
              "      <td>NaN</td>\n",
              "      <td>NaN</td>\n",
              "      <td>NaN</td>\n",
              "      <td>NaN</td>\n",
              "      <td>NaN</td>\n",
              "      <td>NaN</td>\n",
              "      <td>NaN</td>\n",
              "      <td>NaN</td>\n",
              "      <td>1.0</td>\n",
              "    </tr>\n",
              "  </tbody>\n",
              "</table>\n",
              "<p>5 rows × 127 columns</p>\n",
              "</div>"
            ],
            "text/plain": [
              "           company_id       company_name date_first_certified date_certified  \\\n",
              "0  001C000001LkZXSIA3  Someone Somewhere           2017-08-30     2021-02-26   \n",
              "1  001C000001LkZXSIA3  Someone Somewhere           2017-08-30     2017-08-30   \n",
              "2  001C000001bVjmIIAS            Boomera           2017-12-27     2017-12-27   \n",
              "3  0013b00001nESw5AAG           ekWateur           2021-02-22     2021-02-22   \n",
              "4  001C000001afeGsIAI          Maker srl           2017-05-19     2021-02-19   \n",
              "\n",
              "  current_status                                        description  \\\n",
              "0      certified  Someone Somewhere is a vertically integrated a...   \n",
              "1      certified  Someone Somewhere is a vertically integrated a...   \n",
              "2      certified  Boomera work with cutting-edge technology and ...   \n",
              "3      certified  ekWateur propose de l’électricité, du gaz et d...   \n",
              "4      certified  Maker srl provides mechanical parts and mainte...   \n",
              "\n",
              "                                     industry  \\\n",
              "0             Apparel, Footwear & Accessories   \n",
              "1             Apparel, Footwear & Accessories   \n",
              "2       Recycling Services & Waste Management   \n",
              "3  Renewable Energy Generation & Installation   \n",
              "4                       Machinery & Equipment   \n",
              "\n",
              "                 industry_category  \\\n",
              "0     Consumer Products & Services   \n",
              "1     Consumer Products & Services   \n",
              "2  Energy & Environmental Services   \n",
              "3  Energy & Environmental Services   \n",
              "4     Business Products & Services   \n",
              "\n",
              "                               products_and_services country  ...  \\\n",
              "0  Clothing and garments with artisanal textiles ...  Mexico  ...   \n",
              "1  Clothing and garments with artisanal textiles ...  Mexico  ...   \n",
              "2                               recycling, upcycling  Brazil  ...   \n",
              "3            Electricité, gaz et bois renouvelables.  France  ...   \n",
              "4  Mechanical parts and maintenance services for ...   Italy  ...   \n",
              "\n",
              "  ia_workers_it_human_rights_labor_policy  \\\n",
              "0                                     NaN   \n",
              "1                                     NaN   \n",
              "2                                     0.2   \n",
              "3                                     NaN   \n",
              "4                                     NaN   \n",
              "\n",
              "  ia_workers_it_job_flexibility_corporate_culture  \\\n",
              "0                                             NaN   \n",
              "1                                             NaN   \n",
              "2                                             NaN   \n",
              "3                                             NaN   \n",
              "4                                             NaN   \n",
              "\n",
              "  ia_workers_it_management_worker_communication  \\\n",
              "0                                           NaN   \n",
              "1                                           NaN   \n",
              "2                                           1.8   \n",
              "3                                           NaN   \n",
              "4                                           NaN   \n",
              "\n",
              "  ia_workers_it_occupational_health_safety ia_workers_it_training_education  \\\n",
              "0                                      NaN                              NaN   \n",
              "1                                      NaN                              NaN   \n",
              "2                                      2.3                              1.6   \n",
              "3                                      NaN                              NaN   \n",
              "4                                      NaN                              NaN   \n",
              "\n",
              "  ia_workers_it_worker_benefits  ia_workers_it_worker_owned  \\\n",
              "0                           NaN                         NaN   \n",
              "1                           NaN                         NaN   \n",
              "2                           NaN                         NaN   \n",
              "3                           NaN                         NaN   \n",
              "4                           NaN                         NaN   \n",
              "\n",
              "   ia_workers_it_worker_ownership  ia_workers_it_workforce_development  \\\n",
              "0                             NaN                                  NaN   \n",
              "1                             NaN                                  NaN   \n",
              "2                             0.9                                  NaN   \n",
              "3                             NaN                                  NaN   \n",
              "4                             NaN                                  NaN   \n",
              "\n",
              "   certification_cycle  \n",
              "0                  1.0  \n",
              "1                  2.0  \n",
              "2                  1.0  \n",
              "3                  1.0  \n",
              "4                  1.0  \n",
              "\n",
              "[5 rows x 127 columns]"
            ]
          },
          "metadata": {},
          "output_type": "display_data"
        }
      ],
      "source": [
        "impact[0:5]"
      ]
    },
    {
      "cell_type": "markdown",
      "metadata": {
        "id": "352ac10a"
      },
      "source": [
        "We often want to select rows that meet certain criteria. For example, this conditional statement checks if each company is currently certified or not."
      ]
    },
    {
      "cell_type": "code",
      "execution_count": null,
      "metadata": {
        "id": "0ce036df",
        "outputId": "2aca304e-ba90-492d-fffe-c3b0f426bf30"
      },
      "outputs": [
        {
          "data": {
            "text/plain": [
              "0        True\n",
              "1        True\n",
              "2        True\n",
              "3        True\n",
              "4        True\n",
              "        ...  \n",
              "8794     True\n",
              "8795     True\n",
              "8796     True\n",
              "8797    False\n",
              "8798    False\n",
              "Name: current_status, Length: 8799, dtype: bool"
            ]
          },
          "metadata": {},
          "output_type": "display_data"
        }
      ],
      "source": [
        "impact[\"current_status\"] == \"certified\""
      ]
    },
    {
      "cell_type": "markdown",
      "metadata": {
        "id": "20c878a5"
      },
      "source": [
        "The result is a boolean `Series` that we can use to filter the dataset to get only the rows where the companies are currently certified."
      ]
    },
    {
      "cell_type": "code",
      "execution_count": null,
      "metadata": {
        "id": "2d793243",
        "outputId": "4258b3bd-4f4a-4a4d-f91e-31ea2adcc80b",
        "scrolled": true
      },
      "outputs": [
        {
          "data": {
            "text/html": [
              "<div>\n",
              "<style scoped>\n",
              "    .dataframe tbody tr th:only-of-type {\n",
              "        vertical-align: middle;\n",
              "    }\n",
              "\n",
              "    .dataframe tbody tr th {\n",
              "        vertical-align: top;\n",
              "    }\n",
              "\n",
              "    .dataframe thead th {\n",
              "        text-align: right;\n",
              "    }\n",
              "</style>\n",
              "<table border=\"1\" class=\"dataframe\">\n",
              "  <thead>\n",
              "    <tr style=\"text-align: right;\">\n",
              "      <th></th>\n",
              "      <th>company_id</th>\n",
              "      <th>company_name</th>\n",
              "      <th>date_first_certified</th>\n",
              "      <th>date_certified</th>\n",
              "      <th>current_status</th>\n",
              "      <th>description</th>\n",
              "      <th>industry</th>\n",
              "      <th>industry_category</th>\n",
              "      <th>products_and_services</th>\n",
              "      <th>country</th>\n",
              "      <th>...</th>\n",
              "      <th>ia_workers_it_human_rights_labor_policy</th>\n",
              "      <th>ia_workers_it_job_flexibility_corporate_culture</th>\n",
              "      <th>ia_workers_it_management_worker_communication</th>\n",
              "      <th>ia_workers_it_occupational_health_safety</th>\n",
              "      <th>ia_workers_it_training_education</th>\n",
              "      <th>ia_workers_it_worker_benefits</th>\n",
              "      <th>ia_workers_it_worker_owned</th>\n",
              "      <th>ia_workers_it_worker_ownership</th>\n",
              "      <th>ia_workers_it_workforce_development</th>\n",
              "      <th>certification_cycle</th>\n",
              "    </tr>\n",
              "  </thead>\n",
              "  <tbody>\n",
              "    <tr>\n",
              "      <th>0</th>\n",
              "      <td>001C000001LkZXSIA3</td>\n",
              "      <td>Someone Somewhere</td>\n",
              "      <td>2017-08-30</td>\n",
              "      <td>2021-02-26</td>\n",
              "      <td>certified</td>\n",
              "      <td>Someone Somewhere is a vertically integrated a...</td>\n",
              "      <td>Apparel, Footwear &amp; Accessories</td>\n",
              "      <td>Consumer Products &amp; Services</td>\n",
              "      <td>Clothing and garments with artisanal textiles ...</td>\n",
              "      <td>Mexico</td>\n",
              "      <td>...</td>\n",
              "      <td>NaN</td>\n",
              "      <td>NaN</td>\n",
              "      <td>NaN</td>\n",
              "      <td>NaN</td>\n",
              "      <td>NaN</td>\n",
              "      <td>NaN</td>\n",
              "      <td>NaN</td>\n",
              "      <td>NaN</td>\n",
              "      <td>NaN</td>\n",
              "      <td>1.0</td>\n",
              "    </tr>\n",
              "    <tr>\n",
              "      <th>1</th>\n",
              "      <td>001C000001LkZXSIA3</td>\n",
              "      <td>Someone Somewhere</td>\n",
              "      <td>2017-08-30</td>\n",
              "      <td>2017-08-30</td>\n",
              "      <td>certified</td>\n",
              "      <td>Someone Somewhere is a vertically integrated a...</td>\n",
              "      <td>Apparel, Footwear &amp; Accessories</td>\n",
              "      <td>Consumer Products &amp; Services</td>\n",
              "      <td>Clothing and garments with artisanal textiles ...</td>\n",
              "      <td>Mexico</td>\n",
              "      <td>...</td>\n",
              "      <td>NaN</td>\n",
              "      <td>NaN</td>\n",
              "      <td>NaN</td>\n",
              "      <td>NaN</td>\n",
              "      <td>NaN</td>\n",
              "      <td>NaN</td>\n",
              "      <td>NaN</td>\n",
              "      <td>NaN</td>\n",
              "      <td>NaN</td>\n",
              "      <td>2.0</td>\n",
              "    </tr>\n",
              "    <tr>\n",
              "      <th>2</th>\n",
              "      <td>001C000001bVjmIIAS</td>\n",
              "      <td>Boomera</td>\n",
              "      <td>2017-12-27</td>\n",
              "      <td>2017-12-27</td>\n",
              "      <td>certified</td>\n",
              "      <td>Boomera work with cutting-edge technology and ...</td>\n",
              "      <td>Recycling Services &amp; Waste Management</td>\n",
              "      <td>Energy &amp; Environmental Services</td>\n",
              "      <td>recycling, upcycling</td>\n",
              "      <td>Brazil</td>\n",
              "      <td>...</td>\n",
              "      <td>0.2</td>\n",
              "      <td>NaN</td>\n",
              "      <td>1.8</td>\n",
              "      <td>2.3</td>\n",
              "      <td>1.6</td>\n",
              "      <td>NaN</td>\n",
              "      <td>NaN</td>\n",
              "      <td>0.9</td>\n",
              "      <td>NaN</td>\n",
              "      <td>1.0</td>\n",
              "    </tr>\n",
              "    <tr>\n",
              "      <th>3</th>\n",
              "      <td>0013b00001nESw5AAG</td>\n",
              "      <td>ekWateur</td>\n",
              "      <td>2021-02-22</td>\n",
              "      <td>2021-02-22</td>\n",
              "      <td>certified</td>\n",
              "      <td>ekWateur propose de l’électricité, du gaz et d...</td>\n",
              "      <td>Renewable Energy Generation &amp; Installation</td>\n",
              "      <td>Energy &amp; Environmental Services</td>\n",
              "      <td>Electricité, gaz et bois renouvelables.</td>\n",
              "      <td>France</td>\n",
              "      <td>...</td>\n",
              "      <td>NaN</td>\n",
              "      <td>NaN</td>\n",
              "      <td>NaN</td>\n",
              "      <td>NaN</td>\n",
              "      <td>NaN</td>\n",
              "      <td>NaN</td>\n",
              "      <td>NaN</td>\n",
              "      <td>NaN</td>\n",
              "      <td>NaN</td>\n",
              "      <td>1.0</td>\n",
              "    </tr>\n",
              "    <tr>\n",
              "      <th>4</th>\n",
              "      <td>001C000001afeGsIAI</td>\n",
              "      <td>Maker srl</td>\n",
              "      <td>2017-05-19</td>\n",
              "      <td>2021-02-19</td>\n",
              "      <td>certified</td>\n",
              "      <td>Maker srl provides mechanical parts and mainte...</td>\n",
              "      <td>Machinery &amp; Equipment</td>\n",
              "      <td>Business Products &amp; Services</td>\n",
              "      <td>Mechanical parts and maintenance services for ...</td>\n",
              "      <td>Italy</td>\n",
              "      <td>...</td>\n",
              "      <td>NaN</td>\n",
              "      <td>NaN</td>\n",
              "      <td>NaN</td>\n",
              "      <td>NaN</td>\n",
              "      <td>NaN</td>\n",
              "      <td>NaN</td>\n",
              "      <td>NaN</td>\n",
              "      <td>NaN</td>\n",
              "      <td>NaN</td>\n",
              "      <td>1.0</td>\n",
              "    </tr>\n",
              "    <tr>\n",
              "      <th>...</th>\n",
              "      <td>...</td>\n",
              "      <td>...</td>\n",
              "      <td>...</td>\n",
              "      <td>...</td>\n",
              "      <td>...</td>\n",
              "      <td>...</td>\n",
              "      <td>...</td>\n",
              "      <td>...</td>\n",
              "      <td>...</td>\n",
              "      <td>...</td>\n",
              "      <td>...</td>\n",
              "      <td>...</td>\n",
              "      <td>...</td>\n",
              "      <td>...</td>\n",
              "      <td>...</td>\n",
              "      <td>...</td>\n",
              "      <td>...</td>\n",
              "      <td>...</td>\n",
              "      <td>...</td>\n",
              "      <td>...</td>\n",
              "      <td>...</td>\n",
              "    </tr>\n",
              "    <tr>\n",
              "      <th>8792</th>\n",
              "      <td>001C000001TZiM4IAL</td>\n",
              "      <td>Benefit Systems</td>\n",
              "      <td>2018-07-04</td>\n",
              "      <td>2018-07-04</td>\n",
              "      <td>certified</td>\n",
              "      <td>Benefit Systems is an international company wi...</td>\n",
              "      <td>Employee Benefits</td>\n",
              "      <td>Business Products &amp; Services</td>\n",
              "      <td>Professional Services</td>\n",
              "      <td>Poland</td>\n",
              "      <td>...</td>\n",
              "      <td>0.9</td>\n",
              "      <td>NaN</td>\n",
              "      <td>2.6</td>\n",
              "      <td>1.7</td>\n",
              "      <td>4.0</td>\n",
              "      <td>NaN</td>\n",
              "      <td>NaN</td>\n",
              "      <td>1.0</td>\n",
              "      <td>NaN</td>\n",
              "      <td>1.0</td>\n",
              "    </tr>\n",
              "    <tr>\n",
              "      <th>8793</th>\n",
              "      <td>001C000001ghV6XIAU</td>\n",
              "      <td>Danone North America</td>\n",
              "      <td>2018-04-02</td>\n",
              "      <td>2021-04-07</td>\n",
              "      <td>certified</td>\n",
              "      <td>Danone North America is a purpose-driven compa...</td>\n",
              "      <td>Food &amp; Beverage</td>\n",
              "      <td>Consumer Products &amp; Services</td>\n",
              "      <td>Food &amp; Beverage</td>\n",
              "      <td>United States</td>\n",
              "      <td>...</td>\n",
              "      <td>NaN</td>\n",
              "      <td>0.0</td>\n",
              "      <td>0.0</td>\n",
              "      <td>0.0</td>\n",
              "      <td>0.0</td>\n",
              "      <td>NaN</td>\n",
              "      <td>NaN</td>\n",
              "      <td>0.0</td>\n",
              "      <td>NaN</td>\n",
              "      <td>1.0</td>\n",
              "    </tr>\n",
              "    <tr>\n",
              "      <th>8794</th>\n",
              "      <td>001C000001ghV6XIAU</td>\n",
              "      <td>Danone North America</td>\n",
              "      <td>2018-04-02</td>\n",
              "      <td>2018-03-14</td>\n",
              "      <td>certified</td>\n",
              "      <td>Danone North America is a purpose-driven compa...</td>\n",
              "      <td>Food &amp; Beverage</td>\n",
              "      <td>Consumer Products &amp; Services</td>\n",
              "      <td>Food &amp; Beverage</td>\n",
              "      <td>United States</td>\n",
              "      <td>...</td>\n",
              "      <td>0.6</td>\n",
              "      <td>1.8</td>\n",
              "      <td>1.2</td>\n",
              "      <td>0.9</td>\n",
              "      <td>1.6</td>\n",
              "      <td>NaN</td>\n",
              "      <td>NaN</td>\n",
              "      <td>1.5</td>\n",
              "      <td>NaN</td>\n",
              "      <td>2.0</td>\n",
              "    </tr>\n",
              "    <tr>\n",
              "      <th>8795</th>\n",
              "      <td>001C000001afHX8IAM</td>\n",
              "      <td>Institución Educativa SEK</td>\n",
              "      <td>2020-04-23</td>\n",
              "      <td>2020-04-23</td>\n",
              "      <td>certified</td>\n",
              "      <td>Institución Educativa SEK encompasses an educa...</td>\n",
              "      <td>Education &amp; Training Services</td>\n",
              "      <td>Education &amp; Training Services</td>\n",
              "      <td>Education/Higer Education</td>\n",
              "      <td>Spain</td>\n",
              "      <td>...</td>\n",
              "      <td>NaN</td>\n",
              "      <td>NaN</td>\n",
              "      <td>NaN</td>\n",
              "      <td>NaN</td>\n",
              "      <td>NaN</td>\n",
              "      <td>NaN</td>\n",
              "      <td>NaN</td>\n",
              "      <td>NaN</td>\n",
              "      <td>NaN</td>\n",
              "      <td>1.0</td>\n",
              "    </tr>\n",
              "    <tr>\n",
              "      <th>8796</th>\n",
              "      <td>001C000001iwbf3IAA</td>\n",
              "      <td>Envato</td>\n",
              "      <td>2020-06-22</td>\n",
              "      <td>2020-06-22</td>\n",
              "      <td>certified</td>\n",
              "      <td>At Envato, they’re all about great creative co...</td>\n",
              "      <td>IT Software &amp; Services/Web Design</td>\n",
              "      <td>Business Products &amp; Services</td>\n",
              "      <td>Digital assets marketplace, creative subscript...</td>\n",
              "      <td>Australia</td>\n",
              "      <td>...</td>\n",
              "      <td>NaN</td>\n",
              "      <td>NaN</td>\n",
              "      <td>NaN</td>\n",
              "      <td>NaN</td>\n",
              "      <td>NaN</td>\n",
              "      <td>NaN</td>\n",
              "      <td>NaN</td>\n",
              "      <td>NaN</td>\n",
              "      <td>NaN</td>\n",
              "      <td>1.0</td>\n",
              "    </tr>\n",
              "  </tbody>\n",
              "</table>\n",
              "<p>6664 rows × 127 columns</p>\n",
              "</div>"
            ],
            "text/plain": [
              "              company_id               company_name date_first_certified  \\\n",
              "0     001C000001LkZXSIA3          Someone Somewhere           2017-08-30   \n",
              "1     001C000001LkZXSIA3          Someone Somewhere           2017-08-30   \n",
              "2     001C000001bVjmIIAS                    Boomera           2017-12-27   \n",
              "3     0013b00001nESw5AAG                   ekWateur           2021-02-22   \n",
              "4     001C000001afeGsIAI                  Maker srl           2017-05-19   \n",
              "...                  ...                        ...                  ...   \n",
              "8792  001C000001TZiM4IAL            Benefit Systems           2018-07-04   \n",
              "8793  001C000001ghV6XIAU       Danone North America           2018-04-02   \n",
              "8794  001C000001ghV6XIAU       Danone North America           2018-04-02   \n",
              "8795  001C000001afHX8IAM  Institución Educativa SEK           2020-04-23   \n",
              "8796  001C000001iwbf3IAA                     Envato           2020-06-22   \n",
              "\n",
              "     date_certified current_status  \\\n",
              "0        2021-02-26      certified   \n",
              "1        2017-08-30      certified   \n",
              "2        2017-12-27      certified   \n",
              "3        2021-02-22      certified   \n",
              "4        2021-02-19      certified   \n",
              "...             ...            ...   \n",
              "8792     2018-07-04      certified   \n",
              "8793     2021-04-07      certified   \n",
              "8794     2018-03-14      certified   \n",
              "8795     2020-04-23      certified   \n",
              "8796     2020-06-22      certified   \n",
              "\n",
              "                                            description  \\\n",
              "0     Someone Somewhere is a vertically integrated a...   \n",
              "1     Someone Somewhere is a vertically integrated a...   \n",
              "2     Boomera work with cutting-edge technology and ...   \n",
              "3     ekWateur propose de l’électricité, du gaz et d...   \n",
              "4     Maker srl provides mechanical parts and mainte...   \n",
              "...                                                 ...   \n",
              "8792  Benefit Systems is an international company wi...   \n",
              "8793  Danone North America is a purpose-driven compa...   \n",
              "8794  Danone North America is a purpose-driven compa...   \n",
              "8795  Institución Educativa SEK encompasses an educa...   \n",
              "8796  At Envato, they’re all about great creative co...   \n",
              "\n",
              "                                        industry  \\\n",
              "0                Apparel, Footwear & Accessories   \n",
              "1                Apparel, Footwear & Accessories   \n",
              "2          Recycling Services & Waste Management   \n",
              "3     Renewable Energy Generation & Installation   \n",
              "4                          Machinery & Equipment   \n",
              "...                                          ...   \n",
              "8792                           Employee Benefits   \n",
              "8793                             Food & Beverage   \n",
              "8794                             Food & Beverage   \n",
              "8795               Education & Training Services   \n",
              "8796           IT Software & Services/Web Design   \n",
              "\n",
              "                    industry_category  \\\n",
              "0        Consumer Products & Services   \n",
              "1        Consumer Products & Services   \n",
              "2     Energy & Environmental Services   \n",
              "3     Energy & Environmental Services   \n",
              "4        Business Products & Services   \n",
              "...                               ...   \n",
              "8792     Business Products & Services   \n",
              "8793     Consumer Products & Services   \n",
              "8794     Consumer Products & Services   \n",
              "8795    Education & Training Services   \n",
              "8796     Business Products & Services   \n",
              "\n",
              "                                  products_and_services        country  ...  \\\n",
              "0     Clothing and garments with artisanal textiles ...         Mexico  ...   \n",
              "1     Clothing and garments with artisanal textiles ...         Mexico  ...   \n",
              "2                                  recycling, upcycling         Brazil  ...   \n",
              "3               Electricité, gaz et bois renouvelables.         France  ...   \n",
              "4     Mechanical parts and maintenance services for ...          Italy  ...   \n",
              "...                                                 ...            ...  ...   \n",
              "8792                              Professional Services         Poland  ...   \n",
              "8793                                    Food & Beverage  United States  ...   \n",
              "8794                                    Food & Beverage  United States  ...   \n",
              "8795                          Education/Higer Education          Spain  ...   \n",
              "8796  Digital assets marketplace, creative subscript...      Australia  ...   \n",
              "\n",
              "     ia_workers_it_human_rights_labor_policy  \\\n",
              "0                                        NaN   \n",
              "1                                        NaN   \n",
              "2                                        0.2   \n",
              "3                                        NaN   \n",
              "4                                        NaN   \n",
              "...                                      ...   \n",
              "8792                                     0.9   \n",
              "8793                                     NaN   \n",
              "8794                                     0.6   \n",
              "8795                                     NaN   \n",
              "8796                                     NaN   \n",
              "\n",
              "     ia_workers_it_job_flexibility_corporate_culture  \\\n",
              "0                                                NaN   \n",
              "1                                                NaN   \n",
              "2                                                NaN   \n",
              "3                                                NaN   \n",
              "4                                                NaN   \n",
              "...                                              ...   \n",
              "8792                                             NaN   \n",
              "8793                                             0.0   \n",
              "8794                                             1.8   \n",
              "8795                                             NaN   \n",
              "8796                                             NaN   \n",
              "\n",
              "     ia_workers_it_management_worker_communication  \\\n",
              "0                                              NaN   \n",
              "1                                              NaN   \n",
              "2                                              1.8   \n",
              "3                                              NaN   \n",
              "4                                              NaN   \n",
              "...                                            ...   \n",
              "8792                                           2.6   \n",
              "8793                                           0.0   \n",
              "8794                                           1.2   \n",
              "8795                                           NaN   \n",
              "8796                                           NaN   \n",
              "\n",
              "     ia_workers_it_occupational_health_safety  \\\n",
              "0                                         NaN   \n",
              "1                                         NaN   \n",
              "2                                         2.3   \n",
              "3                                         NaN   \n",
              "4                                         NaN   \n",
              "...                                       ...   \n",
              "8792                                      1.7   \n",
              "8793                                      0.0   \n",
              "8794                                      0.9   \n",
              "8795                                      NaN   \n",
              "8796                                      NaN   \n",
              "\n",
              "     ia_workers_it_training_education ia_workers_it_worker_benefits  \\\n",
              "0                                 NaN                           NaN   \n",
              "1                                 NaN                           NaN   \n",
              "2                                 1.6                           NaN   \n",
              "3                                 NaN                           NaN   \n",
              "4                                 NaN                           NaN   \n",
              "...                               ...                           ...   \n",
              "8792                              4.0                           NaN   \n",
              "8793                              0.0                           NaN   \n",
              "8794                              1.6                           NaN   \n",
              "8795                              NaN                           NaN   \n",
              "8796                              NaN                           NaN   \n",
              "\n",
              "      ia_workers_it_worker_owned  ia_workers_it_worker_ownership  \\\n",
              "0                            NaN                             NaN   \n",
              "1                            NaN                             NaN   \n",
              "2                            NaN                             0.9   \n",
              "3                            NaN                             NaN   \n",
              "4                            NaN                             NaN   \n",
              "...                          ...                             ...   \n",
              "8792                         NaN                             1.0   \n",
              "8793                         NaN                             0.0   \n",
              "8794                         NaN                             1.5   \n",
              "8795                         NaN                             NaN   \n",
              "8796                         NaN                             NaN   \n",
              "\n",
              "      ia_workers_it_workforce_development  certification_cycle  \n",
              "0                                     NaN                  1.0  \n",
              "1                                     NaN                  2.0  \n",
              "2                                     NaN                  1.0  \n",
              "3                                     NaN                  1.0  \n",
              "4                                     NaN                  1.0  \n",
              "...                                   ...                  ...  \n",
              "8792                                  NaN                  1.0  \n",
              "8793                                  NaN                  1.0  \n",
              "8794                                  NaN                  2.0  \n",
              "8795                                  NaN                  1.0  \n",
              "8796                                  NaN                  1.0  \n",
              "\n",
              "[6664 rows x 127 columns]"
            ]
          },
          "metadata": {},
          "output_type": "display_data"
        }
      ],
      "source": [
        "impact[impact[\"current_status\"] == \"certified\"]"
      ]
    },
    {
      "cell_type": "markdown",
      "metadata": {
        "id": "7ccded4b"
      },
      "source": [
        "We can also use `&` to check multiple conditions. Here we filter to get the rows where the companies are currently certified and the companies are based in the US."
      ]
    },
    {
      "cell_type": "code",
      "execution_count": null,
      "metadata": {
        "id": "ef20fd01",
        "outputId": "0656f342-6c10-4e56-fd27-d93674d0893a",
        "scrolled": true
      },
      "outputs": [
        {
          "data": {
            "text/html": [
              "<div>\n",
              "<style scoped>\n",
              "    .dataframe tbody tr th:only-of-type {\n",
              "        vertical-align: middle;\n",
              "    }\n",
              "\n",
              "    .dataframe tbody tr th {\n",
              "        vertical-align: top;\n",
              "    }\n",
              "\n",
              "    .dataframe thead th {\n",
              "        text-align: right;\n",
              "    }\n",
              "</style>\n",
              "<table border=\"1\" class=\"dataframe\">\n",
              "  <thead>\n",
              "    <tr style=\"text-align: right;\">\n",
              "      <th></th>\n",
              "      <th>company_id</th>\n",
              "      <th>company_name</th>\n",
              "      <th>date_first_certified</th>\n",
              "      <th>date_certified</th>\n",
              "      <th>current_status</th>\n",
              "      <th>description</th>\n",
              "      <th>industry</th>\n",
              "      <th>industry_category</th>\n",
              "      <th>products_and_services</th>\n",
              "      <th>country</th>\n",
              "      <th>...</th>\n",
              "      <th>ia_workers_it_human_rights_labor_policy</th>\n",
              "      <th>ia_workers_it_job_flexibility_corporate_culture</th>\n",
              "      <th>ia_workers_it_management_worker_communication</th>\n",
              "      <th>ia_workers_it_occupational_health_safety</th>\n",
              "      <th>ia_workers_it_training_education</th>\n",
              "      <th>ia_workers_it_worker_benefits</th>\n",
              "      <th>ia_workers_it_worker_owned</th>\n",
              "      <th>ia_workers_it_worker_ownership</th>\n",
              "      <th>ia_workers_it_workforce_development</th>\n",
              "      <th>certification_cycle</th>\n",
              "    </tr>\n",
              "  </thead>\n",
              "  <tbody>\n",
              "    <tr>\n",
              "      <th>8</th>\n",
              "      <td>001C000001mVesLIAS</td>\n",
              "      <td>Fig Industries</td>\n",
              "      <td>2019-07-03</td>\n",
              "      <td>2019-07-03</td>\n",
              "      <td>certified</td>\n",
              "      <td>Fig Industries believes that powerful design a...</td>\n",
              "      <td>Marketing &amp; Communications Services</td>\n",
              "      <td>Business Products &amp; Services</td>\n",
              "      <td>Branding, Marketing, Graphic Design, Photograp...</td>\n",
              "      <td>United States</td>\n",
              "      <td>...</td>\n",
              "      <td>NaN</td>\n",
              "      <td>1.3</td>\n",
              "      <td>2.2</td>\n",
              "      <td>NaN</td>\n",
              "      <td>1.3</td>\n",
              "      <td>NaN</td>\n",
              "      <td>NaN</td>\n",
              "      <td>0.0</td>\n",
              "      <td>NaN</td>\n",
              "      <td>1.0</td>\n",
              "    </tr>\n",
              "    <tr>\n",
              "      <th>11</th>\n",
              "      <td>001C000001gjJJAIA2</td>\n",
              "      <td>nextOPP Search</td>\n",
              "      <td>2019-03-06</td>\n",
              "      <td>2019-03-06</td>\n",
              "      <td>certified</td>\n",
              "      <td>NextOPP Search is a national recruiting agency...</td>\n",
              "      <td>HR Consulting &amp; Recruiting</td>\n",
              "      <td>Business Products &amp; Services</td>\n",
              "      <td>Executive Search &amp; Recruiting with purpose. Hi...</td>\n",
              "      <td>United States</td>\n",
              "      <td>...</td>\n",
              "      <td>NaN</td>\n",
              "      <td>NaN</td>\n",
              "      <td>NaN</td>\n",
              "      <td>NaN</td>\n",
              "      <td>NaN</td>\n",
              "      <td>NaN</td>\n",
              "      <td>NaN</td>\n",
              "      <td>NaN</td>\n",
              "      <td>NaN</td>\n",
              "      <td>1.0</td>\n",
              "    </tr>\n",
              "    <tr>\n",
              "      <th>19</th>\n",
              "      <td>0013b00001nF0uCAAS</td>\n",
              "      <td>Sweet Origins</td>\n",
              "      <td>2020-09-01</td>\n",
              "      <td>2020-09-01</td>\n",
              "      <td>certified</td>\n",
              "      <td>Sweet Origins sells organic coconut water and ...</td>\n",
              "      <td>Food &amp; Beverage</td>\n",
              "      <td>Consumer Products &amp; Services</td>\n",
              "      <td>Frozen Tropical Ingredients.</td>\n",
              "      <td>United States</td>\n",
              "      <td>...</td>\n",
              "      <td>NaN</td>\n",
              "      <td>NaN</td>\n",
              "      <td>NaN</td>\n",
              "      <td>NaN</td>\n",
              "      <td>NaN</td>\n",
              "      <td>NaN</td>\n",
              "      <td>NaN</td>\n",
              "      <td>NaN</td>\n",
              "      <td>NaN</td>\n",
              "      <td>1.0</td>\n",
              "    </tr>\n",
              "    <tr>\n",
              "      <th>20</th>\n",
              "      <td>001C0000019rIwWIAU</td>\n",
              "      <td>Jeni's Splendid Ice Creams</td>\n",
              "      <td>2013-12-31</td>\n",
              "      <td>2018-06-04</td>\n",
              "      <td>certified</td>\n",
              "      <td>Jeni’s Splendid Ice Creams is a modern America...</td>\n",
              "      <td>Food &amp; Beverage</td>\n",
              "      <td>Consumer Products &amp; Services</td>\n",
              "      <td>Ice Creams.</td>\n",
              "      <td>United States</td>\n",
              "      <td>...</td>\n",
              "      <td>NaN</td>\n",
              "      <td>2.2</td>\n",
              "      <td>1.0</td>\n",
              "      <td>1.1</td>\n",
              "      <td>0.9</td>\n",
              "      <td>NaN</td>\n",
              "      <td>NaN</td>\n",
              "      <td>1.3</td>\n",
              "      <td>NaN</td>\n",
              "      <td>1.0</td>\n",
              "    </tr>\n",
              "    <tr>\n",
              "      <th>21</th>\n",
              "      <td>001C0000019rIwWIAU</td>\n",
              "      <td>Jeni's Splendid Ice Creams</td>\n",
              "      <td>2013-12-31</td>\n",
              "      <td>2016-03-11</td>\n",
              "      <td>certified</td>\n",
              "      <td>Jeni’s Splendid Ice Creams is a modern America...</td>\n",
              "      <td>Food &amp; Beverage</td>\n",
              "      <td>Consumer Products &amp; Services</td>\n",
              "      <td>Ice Creams.</td>\n",
              "      <td>United States</td>\n",
              "      <td>...</td>\n",
              "      <td>NaN</td>\n",
              "      <td>2.2</td>\n",
              "      <td>0.8</td>\n",
              "      <td>1.1</td>\n",
              "      <td>0.8</td>\n",
              "      <td>5.9</td>\n",
              "      <td>NaN</td>\n",
              "      <td>2.2</td>\n",
              "      <td>NaN</td>\n",
              "      <td>2.0</td>\n",
              "    </tr>\n",
              "    <tr>\n",
              "      <th>...</th>\n",
              "      <td>...</td>\n",
              "      <td>...</td>\n",
              "      <td>...</td>\n",
              "      <td>...</td>\n",
              "      <td>...</td>\n",
              "      <td>...</td>\n",
              "      <td>...</td>\n",
              "      <td>...</td>\n",
              "      <td>...</td>\n",
              "      <td>...</td>\n",
              "      <td>...</td>\n",
              "      <td>...</td>\n",
              "      <td>...</td>\n",
              "      <td>...</td>\n",
              "      <td>...</td>\n",
              "      <td>...</td>\n",
              "      <td>...</td>\n",
              "      <td>...</td>\n",
              "      <td>...</td>\n",
              "      <td>...</td>\n",
              "      <td>...</td>\n",
              "    </tr>\n",
              "    <tr>\n",
              "      <th>8779</th>\n",
              "      <td>001C000001SzZ2LIAV</td>\n",
              "      <td>Home Leasing</td>\n",
              "      <td>2017-08-14</td>\n",
              "      <td>2017-08-17</td>\n",
              "      <td>certified</td>\n",
              "      <td>Based in Rochester, New York, Home Leasing is ...</td>\n",
              "      <td>Real Estate Development</td>\n",
              "      <td>Building</td>\n",
              "      <td>Real Estate Development, Construction, Propert...</td>\n",
              "      <td>United States</td>\n",
              "      <td>...</td>\n",
              "      <td>NaN</td>\n",
              "      <td>1.2</td>\n",
              "      <td>1.3</td>\n",
              "      <td>0.8</td>\n",
              "      <td>0.7</td>\n",
              "      <td>NaN</td>\n",
              "      <td>NaN</td>\n",
              "      <td>0.4</td>\n",
              "      <td>NaN</td>\n",
              "      <td>2.0</td>\n",
              "    </tr>\n",
              "    <tr>\n",
              "      <th>8781</th>\n",
              "      <td>001C000001YsnXSIAZ</td>\n",
              "      <td>The Bama Companies Inc.</td>\n",
              "      <td>2017-09-21</td>\n",
              "      <td>2017-09-21</td>\n",
              "      <td>certified</td>\n",
              "      <td>Bama is an innovator of wholesome bakery and s...</td>\n",
              "      <td>Food &amp; Beverage</td>\n",
              "      <td>Consumer Products &amp; Services</td>\n",
              "      <td>Frozen Bakery Products</td>\n",
              "      <td>United States</td>\n",
              "      <td>...</td>\n",
              "      <td>0.0</td>\n",
              "      <td>1.8</td>\n",
              "      <td>2.1</td>\n",
              "      <td>1.2</td>\n",
              "      <td>1.8</td>\n",
              "      <td>NaN</td>\n",
              "      <td>NaN</td>\n",
              "      <td>0.8</td>\n",
              "      <td>0.0</td>\n",
              "      <td>1.0</td>\n",
              "    </tr>\n",
              "    <tr>\n",
              "      <th>8782</th>\n",
              "      <td>001C000001lPeMQIA0</td>\n",
              "      <td>Kin and Carta Americas</td>\n",
              "      <td>2021-01-14</td>\n",
              "      <td>2021-12-06</td>\n",
              "      <td>certified</td>\n",
              "      <td>A global consulting firm built for the 2020s, ...</td>\n",
              "      <td>IT Software &amp; Services/Web Design</td>\n",
              "      <td>Business Products &amp; Services</td>\n",
              "      <td>Digital Transformation, Enterprise Modernizati...</td>\n",
              "      <td>United States</td>\n",
              "      <td>...</td>\n",
              "      <td>NaN</td>\n",
              "      <td>NaN</td>\n",
              "      <td>NaN</td>\n",
              "      <td>NaN</td>\n",
              "      <td>NaN</td>\n",
              "      <td>NaN</td>\n",
              "      <td>NaN</td>\n",
              "      <td>NaN</td>\n",
              "      <td>NaN</td>\n",
              "      <td>1.0</td>\n",
              "    </tr>\n",
              "    <tr>\n",
              "      <th>8793</th>\n",
              "      <td>001C000001ghV6XIAU</td>\n",
              "      <td>Danone North America</td>\n",
              "      <td>2018-04-02</td>\n",
              "      <td>2021-04-07</td>\n",
              "      <td>certified</td>\n",
              "      <td>Danone North America is a purpose-driven compa...</td>\n",
              "      <td>Food &amp; Beverage</td>\n",
              "      <td>Consumer Products &amp; Services</td>\n",
              "      <td>Food &amp; Beverage</td>\n",
              "      <td>United States</td>\n",
              "      <td>...</td>\n",
              "      <td>NaN</td>\n",
              "      <td>0.0</td>\n",
              "      <td>0.0</td>\n",
              "      <td>0.0</td>\n",
              "      <td>0.0</td>\n",
              "      <td>NaN</td>\n",
              "      <td>NaN</td>\n",
              "      <td>0.0</td>\n",
              "      <td>NaN</td>\n",
              "      <td>1.0</td>\n",
              "    </tr>\n",
              "    <tr>\n",
              "      <th>8794</th>\n",
              "      <td>001C000001ghV6XIAU</td>\n",
              "      <td>Danone North America</td>\n",
              "      <td>2018-04-02</td>\n",
              "      <td>2018-03-14</td>\n",
              "      <td>certified</td>\n",
              "      <td>Danone North America is a purpose-driven compa...</td>\n",
              "      <td>Food &amp; Beverage</td>\n",
              "      <td>Consumer Products &amp; Services</td>\n",
              "      <td>Food &amp; Beverage</td>\n",
              "      <td>United States</td>\n",
              "      <td>...</td>\n",
              "      <td>0.6</td>\n",
              "      <td>1.8</td>\n",
              "      <td>1.2</td>\n",
              "      <td>0.9</td>\n",
              "      <td>1.6</td>\n",
              "      <td>NaN</td>\n",
              "      <td>NaN</td>\n",
              "      <td>1.5</td>\n",
              "      <td>NaN</td>\n",
              "      <td>2.0</td>\n",
              "    </tr>\n",
              "  </tbody>\n",
              "</table>\n",
              "<p>2685 rows × 127 columns</p>\n",
              "</div>"
            ],
            "text/plain": [
              "              company_id                company_name date_first_certified  \\\n",
              "8     001C000001mVesLIAS              Fig Industries           2019-07-03   \n",
              "11    001C000001gjJJAIA2              nextOPP Search           2019-03-06   \n",
              "19    0013b00001nF0uCAAS               Sweet Origins           2020-09-01   \n",
              "20    001C0000019rIwWIAU  Jeni's Splendid Ice Creams           2013-12-31   \n",
              "21    001C0000019rIwWIAU  Jeni's Splendid Ice Creams           2013-12-31   \n",
              "...                  ...                         ...                  ...   \n",
              "8779  001C000001SzZ2LIAV                Home Leasing           2017-08-14   \n",
              "8781  001C000001YsnXSIAZ     The Bama Companies Inc.           2017-09-21   \n",
              "8782  001C000001lPeMQIA0      Kin and Carta Americas           2021-01-14   \n",
              "8793  001C000001ghV6XIAU        Danone North America           2018-04-02   \n",
              "8794  001C000001ghV6XIAU        Danone North America           2018-04-02   \n",
              "\n",
              "     date_certified current_status  \\\n",
              "8        2019-07-03      certified   \n",
              "11       2019-03-06      certified   \n",
              "19       2020-09-01      certified   \n",
              "20       2018-06-04      certified   \n",
              "21       2016-03-11      certified   \n",
              "...             ...            ...   \n",
              "8779     2017-08-17      certified   \n",
              "8781     2017-09-21      certified   \n",
              "8782     2021-12-06      certified   \n",
              "8793     2021-04-07      certified   \n",
              "8794     2018-03-14      certified   \n",
              "\n",
              "                                            description  \\\n",
              "8     Fig Industries believes that powerful design a...   \n",
              "11    NextOPP Search is a national recruiting agency...   \n",
              "19    Sweet Origins sells organic coconut water and ...   \n",
              "20    Jeni’s Splendid Ice Creams is a modern America...   \n",
              "21    Jeni’s Splendid Ice Creams is a modern America...   \n",
              "...                                                 ...   \n",
              "8779  Based in Rochester, New York, Home Leasing is ...   \n",
              "8781  Bama is an innovator of wholesome bakery and s...   \n",
              "8782  A global consulting firm built for the 2020s, ...   \n",
              "8793  Danone North America is a purpose-driven compa...   \n",
              "8794  Danone North America is a purpose-driven compa...   \n",
              "\n",
              "                                 industry             industry_category  \\\n",
              "8     Marketing & Communications Services  Business Products & Services   \n",
              "11             HR Consulting & Recruiting  Business Products & Services   \n",
              "19                        Food & Beverage  Consumer Products & Services   \n",
              "20                        Food & Beverage  Consumer Products & Services   \n",
              "21                        Food & Beverage  Consumer Products & Services   \n",
              "...                                   ...                           ...   \n",
              "8779              Real Estate Development                      Building   \n",
              "8781                      Food & Beverage  Consumer Products & Services   \n",
              "8782    IT Software & Services/Web Design  Business Products & Services   \n",
              "8793                      Food & Beverage  Consumer Products & Services   \n",
              "8794                      Food & Beverage  Consumer Products & Services   \n",
              "\n",
              "                                  products_and_services        country  ...  \\\n",
              "8     Branding, Marketing, Graphic Design, Photograp...  United States  ...   \n",
              "11    Executive Search & Recruiting with purpose. Hi...  United States  ...   \n",
              "19                         Frozen Tropical Ingredients.  United States  ...   \n",
              "20                                          Ice Creams.  United States  ...   \n",
              "21                                          Ice Creams.  United States  ...   \n",
              "...                                                 ...            ...  ...   \n",
              "8779  Real Estate Development, Construction, Propert...  United States  ...   \n",
              "8781                             Frozen Bakery Products  United States  ...   \n",
              "8782  Digital Transformation, Enterprise Modernizati...  United States  ...   \n",
              "8793                                    Food & Beverage  United States  ...   \n",
              "8794                                    Food & Beverage  United States  ...   \n",
              "\n",
              "     ia_workers_it_human_rights_labor_policy  \\\n",
              "8                                        NaN   \n",
              "11                                       NaN   \n",
              "19                                       NaN   \n",
              "20                                       NaN   \n",
              "21                                       NaN   \n",
              "...                                      ...   \n",
              "8779                                     NaN   \n",
              "8781                                     0.0   \n",
              "8782                                     NaN   \n",
              "8793                                     NaN   \n",
              "8794                                     0.6   \n",
              "\n",
              "     ia_workers_it_job_flexibility_corporate_culture  \\\n",
              "8                                                1.3   \n",
              "11                                               NaN   \n",
              "19                                               NaN   \n",
              "20                                               2.2   \n",
              "21                                               2.2   \n",
              "...                                              ...   \n",
              "8779                                             1.2   \n",
              "8781                                             1.8   \n",
              "8782                                             NaN   \n",
              "8793                                             0.0   \n",
              "8794                                             1.8   \n",
              "\n",
              "     ia_workers_it_management_worker_communication  \\\n",
              "8                                              2.2   \n",
              "11                                             NaN   \n",
              "19                                             NaN   \n",
              "20                                             1.0   \n",
              "21                                             0.8   \n",
              "...                                            ...   \n",
              "8779                                           1.3   \n",
              "8781                                           2.1   \n",
              "8782                                           NaN   \n",
              "8793                                           0.0   \n",
              "8794                                           1.2   \n",
              "\n",
              "     ia_workers_it_occupational_health_safety  \\\n",
              "8                                         NaN   \n",
              "11                                        NaN   \n",
              "19                                        NaN   \n",
              "20                                        1.1   \n",
              "21                                        1.1   \n",
              "...                                       ...   \n",
              "8779                                      0.8   \n",
              "8781                                      1.2   \n",
              "8782                                      NaN   \n",
              "8793                                      0.0   \n",
              "8794                                      0.9   \n",
              "\n",
              "     ia_workers_it_training_education ia_workers_it_worker_benefits  \\\n",
              "8                                 1.3                           NaN   \n",
              "11                                NaN                           NaN   \n",
              "19                                NaN                           NaN   \n",
              "20                                0.9                           NaN   \n",
              "21                                0.8                           5.9   \n",
              "...                               ...                           ...   \n",
              "8779                              0.7                           NaN   \n",
              "8781                              1.8                           NaN   \n",
              "8782                              NaN                           NaN   \n",
              "8793                              0.0                           NaN   \n",
              "8794                              1.6                           NaN   \n",
              "\n",
              "      ia_workers_it_worker_owned  ia_workers_it_worker_ownership  \\\n",
              "8                            NaN                             0.0   \n",
              "11                           NaN                             NaN   \n",
              "19                           NaN                             NaN   \n",
              "20                           NaN                             1.3   \n",
              "21                           NaN                             2.2   \n",
              "...                          ...                             ...   \n",
              "8779                         NaN                             0.4   \n",
              "8781                         NaN                             0.8   \n",
              "8782                         NaN                             NaN   \n",
              "8793                         NaN                             0.0   \n",
              "8794                         NaN                             1.5   \n",
              "\n",
              "      ia_workers_it_workforce_development  certification_cycle  \n",
              "8                                     NaN                  1.0  \n",
              "11                                    NaN                  1.0  \n",
              "19                                    NaN                  1.0  \n",
              "20                                    NaN                  1.0  \n",
              "21                                    NaN                  2.0  \n",
              "...                                   ...                  ...  \n",
              "8779                                  NaN                  2.0  \n",
              "8781                                  0.0                  1.0  \n",
              "8782                                  NaN                  1.0  \n",
              "8793                                  NaN                  1.0  \n",
              "8794                                  NaN                  2.0  \n",
              "\n",
              "[2685 rows x 127 columns]"
            ]
          },
          "metadata": {},
          "output_type": "display_data"
        }
      ],
      "source": [
        "impact[(impact[\"current_status\"] == \"certified\") & (impact[\"country\"] == \"United States\")]"
      ]
    },
    {
      "cell_type": "markdown",
      "metadata": {
        "id": "f502f6b4"
      },
      "source": [
        "Use `|` to check if either condition is true. Here we filter to get either the companies that are currently certified *or* the companies are based in the US."
      ]
    },
    {
      "cell_type": "code",
      "execution_count": null,
      "metadata": {
        "id": "3a3f4903",
        "outputId": "4c73f2e8-f238-4438-945f-430977ee2e0f",
        "scrolled": true
      },
      "outputs": [
        {
          "data": {
            "text/html": [
              "<div>\n",
              "<style scoped>\n",
              "    .dataframe tbody tr th:only-of-type {\n",
              "        vertical-align: middle;\n",
              "    }\n",
              "\n",
              "    .dataframe tbody tr th {\n",
              "        vertical-align: top;\n",
              "    }\n",
              "\n",
              "    .dataframe thead th {\n",
              "        text-align: right;\n",
              "    }\n",
              "</style>\n",
              "<table border=\"1\" class=\"dataframe\">\n",
              "  <thead>\n",
              "    <tr style=\"text-align: right;\">\n",
              "      <th></th>\n",
              "      <th>company_id</th>\n",
              "      <th>company_name</th>\n",
              "      <th>date_first_certified</th>\n",
              "      <th>date_certified</th>\n",
              "      <th>current_status</th>\n",
              "      <th>description</th>\n",
              "      <th>industry</th>\n",
              "      <th>industry_category</th>\n",
              "      <th>products_and_services</th>\n",
              "      <th>country</th>\n",
              "      <th>...</th>\n",
              "      <th>ia_workers_it_human_rights_labor_policy</th>\n",
              "      <th>ia_workers_it_job_flexibility_corporate_culture</th>\n",
              "      <th>ia_workers_it_management_worker_communication</th>\n",
              "      <th>ia_workers_it_occupational_health_safety</th>\n",
              "      <th>ia_workers_it_training_education</th>\n",
              "      <th>ia_workers_it_worker_benefits</th>\n",
              "      <th>ia_workers_it_worker_owned</th>\n",
              "      <th>ia_workers_it_worker_ownership</th>\n",
              "      <th>ia_workers_it_workforce_development</th>\n",
              "      <th>certification_cycle</th>\n",
              "    </tr>\n",
              "  </thead>\n",
              "  <tbody>\n",
              "    <tr>\n",
              "      <th>0</th>\n",
              "      <td>001C000001LkZXSIA3</td>\n",
              "      <td>Someone Somewhere</td>\n",
              "      <td>2017-08-30</td>\n",
              "      <td>2021-02-26</td>\n",
              "      <td>certified</td>\n",
              "      <td>Someone Somewhere is a vertically integrated a...</td>\n",
              "      <td>Apparel, Footwear &amp; Accessories</td>\n",
              "      <td>Consumer Products &amp; Services</td>\n",
              "      <td>Clothing and garments with artisanal textiles ...</td>\n",
              "      <td>Mexico</td>\n",
              "      <td>...</td>\n",
              "      <td>NaN</td>\n",
              "      <td>NaN</td>\n",
              "      <td>NaN</td>\n",
              "      <td>NaN</td>\n",
              "      <td>NaN</td>\n",
              "      <td>NaN</td>\n",
              "      <td>NaN</td>\n",
              "      <td>NaN</td>\n",
              "      <td>NaN</td>\n",
              "      <td>1.0</td>\n",
              "    </tr>\n",
              "    <tr>\n",
              "      <th>1</th>\n",
              "      <td>001C000001LkZXSIA3</td>\n",
              "      <td>Someone Somewhere</td>\n",
              "      <td>2017-08-30</td>\n",
              "      <td>2017-08-30</td>\n",
              "      <td>certified</td>\n",
              "      <td>Someone Somewhere is a vertically integrated a...</td>\n",
              "      <td>Apparel, Footwear &amp; Accessories</td>\n",
              "      <td>Consumer Products &amp; Services</td>\n",
              "      <td>Clothing and garments with artisanal textiles ...</td>\n",
              "      <td>Mexico</td>\n",
              "      <td>...</td>\n",
              "      <td>NaN</td>\n",
              "      <td>NaN</td>\n",
              "      <td>NaN</td>\n",
              "      <td>NaN</td>\n",
              "      <td>NaN</td>\n",
              "      <td>NaN</td>\n",
              "      <td>NaN</td>\n",
              "      <td>NaN</td>\n",
              "      <td>NaN</td>\n",
              "      <td>2.0</td>\n",
              "    </tr>\n",
              "    <tr>\n",
              "      <th>2</th>\n",
              "      <td>001C000001bVjmIIAS</td>\n",
              "      <td>Boomera</td>\n",
              "      <td>2017-12-27</td>\n",
              "      <td>2017-12-27</td>\n",
              "      <td>certified</td>\n",
              "      <td>Boomera work with cutting-edge technology and ...</td>\n",
              "      <td>Recycling Services &amp; Waste Management</td>\n",
              "      <td>Energy &amp; Environmental Services</td>\n",
              "      <td>recycling, upcycling</td>\n",
              "      <td>Brazil</td>\n",
              "      <td>...</td>\n",
              "      <td>0.2</td>\n",
              "      <td>NaN</td>\n",
              "      <td>1.8</td>\n",
              "      <td>2.3</td>\n",
              "      <td>1.6</td>\n",
              "      <td>NaN</td>\n",
              "      <td>NaN</td>\n",
              "      <td>0.9</td>\n",
              "      <td>NaN</td>\n",
              "      <td>1.0</td>\n",
              "    </tr>\n",
              "    <tr>\n",
              "      <th>3</th>\n",
              "      <td>0013b00001nESw5AAG</td>\n",
              "      <td>ekWateur</td>\n",
              "      <td>2021-02-22</td>\n",
              "      <td>2021-02-22</td>\n",
              "      <td>certified</td>\n",
              "      <td>ekWateur propose de l’électricité, du gaz et d...</td>\n",
              "      <td>Renewable Energy Generation &amp; Installation</td>\n",
              "      <td>Energy &amp; Environmental Services</td>\n",
              "      <td>Electricité, gaz et bois renouvelables.</td>\n",
              "      <td>France</td>\n",
              "      <td>...</td>\n",
              "      <td>NaN</td>\n",
              "      <td>NaN</td>\n",
              "      <td>NaN</td>\n",
              "      <td>NaN</td>\n",
              "      <td>NaN</td>\n",
              "      <td>NaN</td>\n",
              "      <td>NaN</td>\n",
              "      <td>NaN</td>\n",
              "      <td>NaN</td>\n",
              "      <td>1.0</td>\n",
              "    </tr>\n",
              "    <tr>\n",
              "      <th>4</th>\n",
              "      <td>001C000001afeGsIAI</td>\n",
              "      <td>Maker srl</td>\n",
              "      <td>2017-05-19</td>\n",
              "      <td>2021-02-19</td>\n",
              "      <td>certified</td>\n",
              "      <td>Maker srl provides mechanical parts and mainte...</td>\n",
              "      <td>Machinery &amp; Equipment</td>\n",
              "      <td>Business Products &amp; Services</td>\n",
              "      <td>Mechanical parts and maintenance services for ...</td>\n",
              "      <td>Italy</td>\n",
              "      <td>...</td>\n",
              "      <td>NaN</td>\n",
              "      <td>NaN</td>\n",
              "      <td>NaN</td>\n",
              "      <td>NaN</td>\n",
              "      <td>NaN</td>\n",
              "      <td>NaN</td>\n",
              "      <td>NaN</td>\n",
              "      <td>NaN</td>\n",
              "      <td>NaN</td>\n",
              "      <td>1.0</td>\n",
              "    </tr>\n",
              "    <tr>\n",
              "      <th>...</th>\n",
              "      <td>...</td>\n",
              "      <td>...</td>\n",
              "      <td>...</td>\n",
              "      <td>...</td>\n",
              "      <td>...</td>\n",
              "      <td>...</td>\n",
              "      <td>...</td>\n",
              "      <td>...</td>\n",
              "      <td>...</td>\n",
              "      <td>...</td>\n",
              "      <td>...</td>\n",
              "      <td>...</td>\n",
              "      <td>...</td>\n",
              "      <td>...</td>\n",
              "      <td>...</td>\n",
              "      <td>...</td>\n",
              "      <td>...</td>\n",
              "      <td>...</td>\n",
              "      <td>...</td>\n",
              "      <td>...</td>\n",
              "      <td>...</td>\n",
              "    </tr>\n",
              "    <tr>\n",
              "      <th>8794</th>\n",
              "      <td>001C000001ghV6XIAU</td>\n",
              "      <td>Danone North America</td>\n",
              "      <td>2018-04-02</td>\n",
              "      <td>2018-03-14</td>\n",
              "      <td>certified</td>\n",
              "      <td>Danone North America is a purpose-driven compa...</td>\n",
              "      <td>Food &amp; Beverage</td>\n",
              "      <td>Consumer Products &amp; Services</td>\n",
              "      <td>Food &amp; Beverage</td>\n",
              "      <td>United States</td>\n",
              "      <td>...</td>\n",
              "      <td>0.6</td>\n",
              "      <td>1.8</td>\n",
              "      <td>1.2</td>\n",
              "      <td>0.9</td>\n",
              "      <td>1.6</td>\n",
              "      <td>NaN</td>\n",
              "      <td>NaN</td>\n",
              "      <td>1.5</td>\n",
              "      <td>NaN</td>\n",
              "      <td>2.0</td>\n",
              "    </tr>\n",
              "    <tr>\n",
              "      <th>8795</th>\n",
              "      <td>001C000001afHX8IAM</td>\n",
              "      <td>Institución Educativa SEK</td>\n",
              "      <td>2020-04-23</td>\n",
              "      <td>2020-04-23</td>\n",
              "      <td>certified</td>\n",
              "      <td>Institución Educativa SEK encompasses an educa...</td>\n",
              "      <td>Education &amp; Training Services</td>\n",
              "      <td>Education &amp; Training Services</td>\n",
              "      <td>Education/Higer Education</td>\n",
              "      <td>Spain</td>\n",
              "      <td>...</td>\n",
              "      <td>NaN</td>\n",
              "      <td>NaN</td>\n",
              "      <td>NaN</td>\n",
              "      <td>NaN</td>\n",
              "      <td>NaN</td>\n",
              "      <td>NaN</td>\n",
              "      <td>NaN</td>\n",
              "      <td>NaN</td>\n",
              "      <td>NaN</td>\n",
              "      <td>1.0</td>\n",
              "    </tr>\n",
              "    <tr>\n",
              "      <th>8796</th>\n",
              "      <td>001C000001iwbf3IAA</td>\n",
              "      <td>Envato</td>\n",
              "      <td>2020-06-22</td>\n",
              "      <td>2020-06-22</td>\n",
              "      <td>certified</td>\n",
              "      <td>At Envato, they’re all about great creative co...</td>\n",
              "      <td>IT Software &amp; Services/Web Design</td>\n",
              "      <td>Business Products &amp; Services</td>\n",
              "      <td>Digital assets marketplace, creative subscript...</td>\n",
              "      <td>Australia</td>\n",
              "      <td>...</td>\n",
              "      <td>NaN</td>\n",
              "      <td>NaN</td>\n",
              "      <td>NaN</td>\n",
              "      <td>NaN</td>\n",
              "      <td>NaN</td>\n",
              "      <td>NaN</td>\n",
              "      <td>NaN</td>\n",
              "      <td>NaN</td>\n",
              "      <td>NaN</td>\n",
              "      <td>1.0</td>\n",
              "    </tr>\n",
              "    <tr>\n",
              "      <th>8797</th>\n",
              "      <td>001C000000zk8zuIAA</td>\n",
              "      <td>Laureate Education</td>\n",
              "      <td>2015-12-11</td>\n",
              "      <td>2017-12-01</td>\n",
              "      <td>de-certified</td>\n",
              "      <td>Laureate Education, Inc. is the largest global...</td>\n",
              "      <td>Education &amp; Training Services</td>\n",
              "      <td>Education &amp; Training Services</td>\n",
              "      <td>Higher Education Services</td>\n",
              "      <td>United States</td>\n",
              "      <td>...</td>\n",
              "      <td>0.7</td>\n",
              "      <td>0.9</td>\n",
              "      <td>2.9</td>\n",
              "      <td>1.1</td>\n",
              "      <td>3.0</td>\n",
              "      <td>NaN</td>\n",
              "      <td>NaN</td>\n",
              "      <td>1.0</td>\n",
              "      <td>0.0</td>\n",
              "      <td>1.0</td>\n",
              "    </tr>\n",
              "    <tr>\n",
              "      <th>8798</th>\n",
              "      <td>001C000000zk8zuIAA</td>\n",
              "      <td>Laureate Education</td>\n",
              "      <td>2015-12-11</td>\n",
              "      <td>2015-10-30</td>\n",
              "      <td>de-certified</td>\n",
              "      <td>Laureate Education, Inc. is the largest global...</td>\n",
              "      <td>Education &amp; Training Services</td>\n",
              "      <td>Education &amp; Training Services</td>\n",
              "      <td>Higher Education Services</td>\n",
              "      <td>United States</td>\n",
              "      <td>...</td>\n",
              "      <td>0.6</td>\n",
              "      <td>0.9</td>\n",
              "      <td>2.8</td>\n",
              "      <td>1.3</td>\n",
              "      <td>2.6</td>\n",
              "      <td>8.3</td>\n",
              "      <td>NaN</td>\n",
              "      <td>2.7</td>\n",
              "      <td>NaN</td>\n",
              "      <td>2.0</td>\n",
              "    </tr>\n",
              "  </tbody>\n",
              "</table>\n",
              "<p>7893 rows × 127 columns</p>\n",
              "</div>"
            ],
            "text/plain": [
              "              company_id               company_name date_first_certified  \\\n",
              "0     001C000001LkZXSIA3          Someone Somewhere           2017-08-30   \n",
              "1     001C000001LkZXSIA3          Someone Somewhere           2017-08-30   \n",
              "2     001C000001bVjmIIAS                    Boomera           2017-12-27   \n",
              "3     0013b00001nESw5AAG                   ekWateur           2021-02-22   \n",
              "4     001C000001afeGsIAI                  Maker srl           2017-05-19   \n",
              "...                  ...                        ...                  ...   \n",
              "8794  001C000001ghV6XIAU       Danone North America           2018-04-02   \n",
              "8795  001C000001afHX8IAM  Institución Educativa SEK           2020-04-23   \n",
              "8796  001C000001iwbf3IAA                     Envato           2020-06-22   \n",
              "8797  001C000000zk8zuIAA         Laureate Education           2015-12-11   \n",
              "8798  001C000000zk8zuIAA         Laureate Education           2015-12-11   \n",
              "\n",
              "     date_certified current_status  \\\n",
              "0        2021-02-26      certified   \n",
              "1        2017-08-30      certified   \n",
              "2        2017-12-27      certified   \n",
              "3        2021-02-22      certified   \n",
              "4        2021-02-19      certified   \n",
              "...             ...            ...   \n",
              "8794     2018-03-14      certified   \n",
              "8795     2020-04-23      certified   \n",
              "8796     2020-06-22      certified   \n",
              "8797     2017-12-01   de-certified   \n",
              "8798     2015-10-30   de-certified   \n",
              "\n",
              "                                            description  \\\n",
              "0     Someone Somewhere is a vertically integrated a...   \n",
              "1     Someone Somewhere is a vertically integrated a...   \n",
              "2     Boomera work with cutting-edge technology and ...   \n",
              "3     ekWateur propose de l’électricité, du gaz et d...   \n",
              "4     Maker srl provides mechanical parts and mainte...   \n",
              "...                                                 ...   \n",
              "8794  Danone North America is a purpose-driven compa...   \n",
              "8795  Institución Educativa SEK encompasses an educa...   \n",
              "8796  At Envato, they’re all about great creative co...   \n",
              "8797  Laureate Education, Inc. is the largest global...   \n",
              "8798  Laureate Education, Inc. is the largest global...   \n",
              "\n",
              "                                        industry  \\\n",
              "0                Apparel, Footwear & Accessories   \n",
              "1                Apparel, Footwear & Accessories   \n",
              "2          Recycling Services & Waste Management   \n",
              "3     Renewable Energy Generation & Installation   \n",
              "4                          Machinery & Equipment   \n",
              "...                                          ...   \n",
              "8794                             Food & Beverage   \n",
              "8795               Education & Training Services   \n",
              "8796           IT Software & Services/Web Design   \n",
              "8797               Education & Training Services   \n",
              "8798               Education & Training Services   \n",
              "\n",
              "                    industry_category  \\\n",
              "0        Consumer Products & Services   \n",
              "1        Consumer Products & Services   \n",
              "2     Energy & Environmental Services   \n",
              "3     Energy & Environmental Services   \n",
              "4        Business Products & Services   \n",
              "...                               ...   \n",
              "8794     Consumer Products & Services   \n",
              "8795    Education & Training Services   \n",
              "8796     Business Products & Services   \n",
              "8797    Education & Training Services   \n",
              "8798    Education & Training Services   \n",
              "\n",
              "                                  products_and_services        country  ...  \\\n",
              "0     Clothing and garments with artisanal textiles ...         Mexico  ...   \n",
              "1     Clothing and garments with artisanal textiles ...         Mexico  ...   \n",
              "2                                  recycling, upcycling         Brazil  ...   \n",
              "3               Electricité, gaz et bois renouvelables.         France  ...   \n",
              "4     Mechanical parts and maintenance services for ...          Italy  ...   \n",
              "...                                                 ...            ...  ...   \n",
              "8794                                    Food & Beverage  United States  ...   \n",
              "8795                          Education/Higer Education          Spain  ...   \n",
              "8796  Digital assets marketplace, creative subscript...      Australia  ...   \n",
              "8797                          Higher Education Services  United States  ...   \n",
              "8798                          Higher Education Services  United States  ...   \n",
              "\n",
              "     ia_workers_it_human_rights_labor_policy  \\\n",
              "0                                        NaN   \n",
              "1                                        NaN   \n",
              "2                                        0.2   \n",
              "3                                        NaN   \n",
              "4                                        NaN   \n",
              "...                                      ...   \n",
              "8794                                     0.6   \n",
              "8795                                     NaN   \n",
              "8796                                     NaN   \n",
              "8797                                     0.7   \n",
              "8798                                     0.6   \n",
              "\n",
              "     ia_workers_it_job_flexibility_corporate_culture  \\\n",
              "0                                                NaN   \n",
              "1                                                NaN   \n",
              "2                                                NaN   \n",
              "3                                                NaN   \n",
              "4                                                NaN   \n",
              "...                                              ...   \n",
              "8794                                             1.8   \n",
              "8795                                             NaN   \n",
              "8796                                             NaN   \n",
              "8797                                             0.9   \n",
              "8798                                             0.9   \n",
              "\n",
              "     ia_workers_it_management_worker_communication  \\\n",
              "0                                              NaN   \n",
              "1                                              NaN   \n",
              "2                                              1.8   \n",
              "3                                              NaN   \n",
              "4                                              NaN   \n",
              "...                                            ...   \n",
              "8794                                           1.2   \n",
              "8795                                           NaN   \n",
              "8796                                           NaN   \n",
              "8797                                           2.9   \n",
              "8798                                           2.8   \n",
              "\n",
              "     ia_workers_it_occupational_health_safety  \\\n",
              "0                                         NaN   \n",
              "1                                         NaN   \n",
              "2                                         2.3   \n",
              "3                                         NaN   \n",
              "4                                         NaN   \n",
              "...                                       ...   \n",
              "8794                                      0.9   \n",
              "8795                                      NaN   \n",
              "8796                                      NaN   \n",
              "8797                                      1.1   \n",
              "8798                                      1.3   \n",
              "\n",
              "     ia_workers_it_training_education ia_workers_it_worker_benefits  \\\n",
              "0                                 NaN                           NaN   \n",
              "1                                 NaN                           NaN   \n",
              "2                                 1.6                           NaN   \n",
              "3                                 NaN                           NaN   \n",
              "4                                 NaN                           NaN   \n",
              "...                               ...                           ...   \n",
              "8794                              1.6                           NaN   \n",
              "8795                              NaN                           NaN   \n",
              "8796                              NaN                           NaN   \n",
              "8797                              3.0                           NaN   \n",
              "8798                              2.6                           8.3   \n",
              "\n",
              "      ia_workers_it_worker_owned  ia_workers_it_worker_ownership  \\\n",
              "0                            NaN                             NaN   \n",
              "1                            NaN                             NaN   \n",
              "2                            NaN                             0.9   \n",
              "3                            NaN                             NaN   \n",
              "4                            NaN                             NaN   \n",
              "...                          ...                             ...   \n",
              "8794                         NaN                             1.5   \n",
              "8795                         NaN                             NaN   \n",
              "8796                         NaN                             NaN   \n",
              "8797                         NaN                             1.0   \n",
              "8798                         NaN                             2.7   \n",
              "\n",
              "      ia_workers_it_workforce_development  certification_cycle  \n",
              "0                                     NaN                  1.0  \n",
              "1                                     NaN                  2.0  \n",
              "2                                     NaN                  1.0  \n",
              "3                                     NaN                  1.0  \n",
              "4                                     NaN                  1.0  \n",
              "...                                   ...                  ...  \n",
              "8794                                  NaN                  2.0  \n",
              "8795                                  NaN                  1.0  \n",
              "8796                                  NaN                  1.0  \n",
              "8797                                  0.0                  1.0  \n",
              "8798                                  NaN                  2.0  \n",
              "\n",
              "[7893 rows x 127 columns]"
            ]
          },
          "metadata": {},
          "output_type": "display_data"
        }
      ],
      "source": [
        "impact[(impact[\"current_status\"] == \"certified\") | (impact[\"country\"] == \"United States\")]"
      ]
    },
    {
      "cell_type": "markdown",
      "metadata": {
        "id": "5a55aef2"
      },
      "source": [
        "A handy function is `isin()`, which returns a `True` for each row where the value is in the provided list. Here we filter to get companies that are based in the US or Italy."
      ]
    },
    {
      "cell_type": "code",
      "execution_count": null,
      "metadata": {
        "id": "e5603abc",
        "outputId": "fcb4afc8-3560-4a52-c7eb-a775117361ef",
        "scrolled": true
      },
      "outputs": [
        {
          "data": {
            "text/html": [
              "<div>\n",
              "<style scoped>\n",
              "    .dataframe tbody tr th:only-of-type {\n",
              "        vertical-align: middle;\n",
              "    }\n",
              "\n",
              "    .dataframe tbody tr th {\n",
              "        vertical-align: top;\n",
              "    }\n",
              "\n",
              "    .dataframe thead th {\n",
              "        text-align: right;\n",
              "    }\n",
              "</style>\n",
              "<table border=\"1\" class=\"dataframe\">\n",
              "  <thead>\n",
              "    <tr style=\"text-align: right;\">\n",
              "      <th></th>\n",
              "      <th>company_id</th>\n",
              "      <th>company_name</th>\n",
              "      <th>date_first_certified</th>\n",
              "      <th>date_certified</th>\n",
              "      <th>current_status</th>\n",
              "      <th>description</th>\n",
              "      <th>industry</th>\n",
              "      <th>industry_category</th>\n",
              "      <th>products_and_services</th>\n",
              "      <th>country</th>\n",
              "      <th>...</th>\n",
              "      <th>ia_workers_it_human_rights_labor_policy</th>\n",
              "      <th>ia_workers_it_job_flexibility_corporate_culture</th>\n",
              "      <th>ia_workers_it_management_worker_communication</th>\n",
              "      <th>ia_workers_it_occupational_health_safety</th>\n",
              "      <th>ia_workers_it_training_education</th>\n",
              "      <th>ia_workers_it_worker_benefits</th>\n",
              "      <th>ia_workers_it_worker_owned</th>\n",
              "      <th>ia_workers_it_worker_ownership</th>\n",
              "      <th>ia_workers_it_workforce_development</th>\n",
              "      <th>certification_cycle</th>\n",
              "    </tr>\n",
              "  </thead>\n",
              "  <tbody>\n",
              "    <tr>\n",
              "      <th>4</th>\n",
              "      <td>001C000001afeGsIAI</td>\n",
              "      <td>Maker srl</td>\n",
              "      <td>2017-05-19</td>\n",
              "      <td>2021-02-19</td>\n",
              "      <td>certified</td>\n",
              "      <td>Maker srl provides mechanical parts and mainte...</td>\n",
              "      <td>Machinery &amp; Equipment</td>\n",
              "      <td>Business Products &amp; Services</td>\n",
              "      <td>Mechanical parts and maintenance services for ...</td>\n",
              "      <td>Italy</td>\n",
              "      <td>...</td>\n",
              "      <td>NaN</td>\n",
              "      <td>NaN</td>\n",
              "      <td>NaN</td>\n",
              "      <td>NaN</td>\n",
              "      <td>NaN</td>\n",
              "      <td>NaN</td>\n",
              "      <td>NaN</td>\n",
              "      <td>NaN</td>\n",
              "      <td>NaN</td>\n",
              "      <td>1.0</td>\n",
              "    </tr>\n",
              "    <tr>\n",
              "      <th>5</th>\n",
              "      <td>001C000001afeGsIAI</td>\n",
              "      <td>Maker srl</td>\n",
              "      <td>2017-05-19</td>\n",
              "      <td>2017-05-19</td>\n",
              "      <td>certified</td>\n",
              "      <td>Maker srl provides mechanical parts and mainte...</td>\n",
              "      <td>Machinery &amp; Equipment</td>\n",
              "      <td>Business Products &amp; Services</td>\n",
              "      <td>Mechanical parts and maintenance services for ...</td>\n",
              "      <td>Italy</td>\n",
              "      <td>...</td>\n",
              "      <td>NaN</td>\n",
              "      <td>NaN</td>\n",
              "      <td>5.5</td>\n",
              "      <td>NaN</td>\n",
              "      <td>1.5</td>\n",
              "      <td>NaN</td>\n",
              "      <td>NaN</td>\n",
              "      <td>2.0</td>\n",
              "      <td>NaN</td>\n",
              "      <td>2.0</td>\n",
              "    </tr>\n",
              "    <tr>\n",
              "      <th>8</th>\n",
              "      <td>001C000001mVesLIAS</td>\n",
              "      <td>Fig Industries</td>\n",
              "      <td>2019-07-03</td>\n",
              "      <td>2019-07-03</td>\n",
              "      <td>certified</td>\n",
              "      <td>Fig Industries believes that powerful design a...</td>\n",
              "      <td>Marketing &amp; Communications Services</td>\n",
              "      <td>Business Products &amp; Services</td>\n",
              "      <td>Branding, Marketing, Graphic Design, Photograp...</td>\n",
              "      <td>United States</td>\n",
              "      <td>...</td>\n",
              "      <td>NaN</td>\n",
              "      <td>1.3</td>\n",
              "      <td>2.2</td>\n",
              "      <td>NaN</td>\n",
              "      <td>1.3</td>\n",
              "      <td>NaN</td>\n",
              "      <td>NaN</td>\n",
              "      <td>0.0</td>\n",
              "      <td>NaN</td>\n",
              "      <td>1.0</td>\n",
              "    </tr>\n",
              "    <tr>\n",
              "      <th>11</th>\n",
              "      <td>001C000001gjJJAIA2</td>\n",
              "      <td>nextOPP Search</td>\n",
              "      <td>2019-03-06</td>\n",
              "      <td>2019-03-06</td>\n",
              "      <td>certified</td>\n",
              "      <td>NextOPP Search is a national recruiting agency...</td>\n",
              "      <td>HR Consulting &amp; Recruiting</td>\n",
              "      <td>Business Products &amp; Services</td>\n",
              "      <td>Executive Search &amp; Recruiting with purpose. Hi...</td>\n",
              "      <td>United States</td>\n",
              "      <td>...</td>\n",
              "      <td>NaN</td>\n",
              "      <td>NaN</td>\n",
              "      <td>NaN</td>\n",
              "      <td>NaN</td>\n",
              "      <td>NaN</td>\n",
              "      <td>NaN</td>\n",
              "      <td>NaN</td>\n",
              "      <td>NaN</td>\n",
              "      <td>NaN</td>\n",
              "      <td>1.0</td>\n",
              "    </tr>\n",
              "    <tr>\n",
              "      <th>19</th>\n",
              "      <td>0013b00001nF0uCAAS</td>\n",
              "      <td>Sweet Origins</td>\n",
              "      <td>2020-09-01</td>\n",
              "      <td>2020-09-01</td>\n",
              "      <td>certified</td>\n",
              "      <td>Sweet Origins sells organic coconut water and ...</td>\n",
              "      <td>Food &amp; Beverage</td>\n",
              "      <td>Consumer Products &amp; Services</td>\n",
              "      <td>Frozen Tropical Ingredients.</td>\n",
              "      <td>United States</td>\n",
              "      <td>...</td>\n",
              "      <td>NaN</td>\n",
              "      <td>NaN</td>\n",
              "      <td>NaN</td>\n",
              "      <td>NaN</td>\n",
              "      <td>NaN</td>\n",
              "      <td>NaN</td>\n",
              "      <td>NaN</td>\n",
              "      <td>NaN</td>\n",
              "      <td>NaN</td>\n",
              "      <td>1.0</td>\n",
              "    </tr>\n",
              "    <tr>\n",
              "      <th>...</th>\n",
              "      <td>...</td>\n",
              "      <td>...</td>\n",
              "      <td>...</td>\n",
              "      <td>...</td>\n",
              "      <td>...</td>\n",
              "      <td>...</td>\n",
              "      <td>...</td>\n",
              "      <td>...</td>\n",
              "      <td>...</td>\n",
              "      <td>...</td>\n",
              "      <td>...</td>\n",
              "      <td>...</td>\n",
              "      <td>...</td>\n",
              "      <td>...</td>\n",
              "      <td>...</td>\n",
              "      <td>...</td>\n",
              "      <td>...</td>\n",
              "      <td>...</td>\n",
              "      <td>...</td>\n",
              "      <td>...</td>\n",
              "      <td>...</td>\n",
              "    </tr>\n",
              "    <tr>\n",
              "      <th>8790</th>\n",
              "      <td>001C000001JdMkoIAF</td>\n",
              "      <td>Aboca Group</td>\n",
              "      <td>2019-11-11</td>\n",
              "      <td>2020-01-10</td>\n",
              "      <td>certified</td>\n",
              "      <td>Aboca is the leading group in the therapeutic ...</td>\n",
              "      <td>Agricultural Services</td>\n",
              "      <td>Agriculture</td>\n",
              "      <td>Agriculture, natural food supplements and medi...</td>\n",
              "      <td>Italy</td>\n",
              "      <td>...</td>\n",
              "      <td>NaN</td>\n",
              "      <td>0.3</td>\n",
              "      <td>0.1</td>\n",
              "      <td>0.0</td>\n",
              "      <td>0.2</td>\n",
              "      <td>NaN</td>\n",
              "      <td>NaN</td>\n",
              "      <td>0.0</td>\n",
              "      <td>NaN</td>\n",
              "      <td>1.0</td>\n",
              "    </tr>\n",
              "    <tr>\n",
              "      <th>8793</th>\n",
              "      <td>001C000001ghV6XIAU</td>\n",
              "      <td>Danone North America</td>\n",
              "      <td>2018-04-02</td>\n",
              "      <td>2021-04-07</td>\n",
              "      <td>certified</td>\n",
              "      <td>Danone North America is a purpose-driven compa...</td>\n",
              "      <td>Food &amp; Beverage</td>\n",
              "      <td>Consumer Products &amp; Services</td>\n",
              "      <td>Food &amp; Beverage</td>\n",
              "      <td>United States</td>\n",
              "      <td>...</td>\n",
              "      <td>NaN</td>\n",
              "      <td>0.0</td>\n",
              "      <td>0.0</td>\n",
              "      <td>0.0</td>\n",
              "      <td>0.0</td>\n",
              "      <td>NaN</td>\n",
              "      <td>NaN</td>\n",
              "      <td>0.0</td>\n",
              "      <td>NaN</td>\n",
              "      <td>1.0</td>\n",
              "    </tr>\n",
              "    <tr>\n",
              "      <th>8794</th>\n",
              "      <td>001C000001ghV6XIAU</td>\n",
              "      <td>Danone North America</td>\n",
              "      <td>2018-04-02</td>\n",
              "      <td>2018-03-14</td>\n",
              "      <td>certified</td>\n",
              "      <td>Danone North America is a purpose-driven compa...</td>\n",
              "      <td>Food &amp; Beverage</td>\n",
              "      <td>Consumer Products &amp; Services</td>\n",
              "      <td>Food &amp; Beverage</td>\n",
              "      <td>United States</td>\n",
              "      <td>...</td>\n",
              "      <td>0.6</td>\n",
              "      <td>1.8</td>\n",
              "      <td>1.2</td>\n",
              "      <td>0.9</td>\n",
              "      <td>1.6</td>\n",
              "      <td>NaN</td>\n",
              "      <td>NaN</td>\n",
              "      <td>1.5</td>\n",
              "      <td>NaN</td>\n",
              "      <td>2.0</td>\n",
              "    </tr>\n",
              "    <tr>\n",
              "      <th>8797</th>\n",
              "      <td>001C000000zk8zuIAA</td>\n",
              "      <td>Laureate Education</td>\n",
              "      <td>2015-12-11</td>\n",
              "      <td>2017-12-01</td>\n",
              "      <td>de-certified</td>\n",
              "      <td>Laureate Education, Inc. is the largest global...</td>\n",
              "      <td>Education &amp; Training Services</td>\n",
              "      <td>Education &amp; Training Services</td>\n",
              "      <td>Higher Education Services</td>\n",
              "      <td>United States</td>\n",
              "      <td>...</td>\n",
              "      <td>0.7</td>\n",
              "      <td>0.9</td>\n",
              "      <td>2.9</td>\n",
              "      <td>1.1</td>\n",
              "      <td>3.0</td>\n",
              "      <td>NaN</td>\n",
              "      <td>NaN</td>\n",
              "      <td>1.0</td>\n",
              "      <td>0.0</td>\n",
              "      <td>1.0</td>\n",
              "    </tr>\n",
              "    <tr>\n",
              "      <th>8798</th>\n",
              "      <td>001C000000zk8zuIAA</td>\n",
              "      <td>Laureate Education</td>\n",
              "      <td>2015-12-11</td>\n",
              "      <td>2015-10-30</td>\n",
              "      <td>de-certified</td>\n",
              "      <td>Laureate Education, Inc. is the largest global...</td>\n",
              "      <td>Education &amp; Training Services</td>\n",
              "      <td>Education &amp; Training Services</td>\n",
              "      <td>Higher Education Services</td>\n",
              "      <td>United States</td>\n",
              "      <td>...</td>\n",
              "      <td>0.6</td>\n",
              "      <td>0.9</td>\n",
              "      <td>2.8</td>\n",
              "      <td>1.3</td>\n",
              "      <td>2.6</td>\n",
              "      <td>8.3</td>\n",
              "      <td>NaN</td>\n",
              "      <td>2.7</td>\n",
              "      <td>NaN</td>\n",
              "      <td>2.0</td>\n",
              "    </tr>\n",
              "  </tbody>\n",
              "</table>\n",
              "<p>4124 rows × 127 columns</p>\n",
              "</div>"
            ],
            "text/plain": [
              "              company_id          company_name date_first_certified  \\\n",
              "4     001C000001afeGsIAI             Maker srl           2017-05-19   \n",
              "5     001C000001afeGsIAI             Maker srl           2017-05-19   \n",
              "8     001C000001mVesLIAS        Fig Industries           2019-07-03   \n",
              "11    001C000001gjJJAIA2        nextOPP Search           2019-03-06   \n",
              "19    0013b00001nF0uCAAS         Sweet Origins           2020-09-01   \n",
              "...                  ...                   ...                  ...   \n",
              "8790  001C000001JdMkoIAF           Aboca Group           2019-11-11   \n",
              "8793  001C000001ghV6XIAU  Danone North America           2018-04-02   \n",
              "8794  001C000001ghV6XIAU  Danone North America           2018-04-02   \n",
              "8797  001C000000zk8zuIAA    Laureate Education           2015-12-11   \n",
              "8798  001C000000zk8zuIAA    Laureate Education           2015-12-11   \n",
              "\n",
              "     date_certified current_status  \\\n",
              "4        2021-02-19      certified   \n",
              "5        2017-05-19      certified   \n",
              "8        2019-07-03      certified   \n",
              "11       2019-03-06      certified   \n",
              "19       2020-09-01      certified   \n",
              "...             ...            ...   \n",
              "8790     2020-01-10      certified   \n",
              "8793     2021-04-07      certified   \n",
              "8794     2018-03-14      certified   \n",
              "8797     2017-12-01   de-certified   \n",
              "8798     2015-10-30   de-certified   \n",
              "\n",
              "                                            description  \\\n",
              "4     Maker srl provides mechanical parts and mainte...   \n",
              "5     Maker srl provides mechanical parts and mainte...   \n",
              "8     Fig Industries believes that powerful design a...   \n",
              "11    NextOPP Search is a national recruiting agency...   \n",
              "19    Sweet Origins sells organic coconut water and ...   \n",
              "...                                                 ...   \n",
              "8790  Aboca is the leading group in the therapeutic ...   \n",
              "8793  Danone North America is a purpose-driven compa...   \n",
              "8794  Danone North America is a purpose-driven compa...   \n",
              "8797  Laureate Education, Inc. is the largest global...   \n",
              "8798  Laureate Education, Inc. is the largest global...   \n",
              "\n",
              "                                 industry              industry_category  \\\n",
              "4                   Machinery & Equipment   Business Products & Services   \n",
              "5                   Machinery & Equipment   Business Products & Services   \n",
              "8     Marketing & Communications Services   Business Products & Services   \n",
              "11             HR Consulting & Recruiting   Business Products & Services   \n",
              "19                        Food & Beverage   Consumer Products & Services   \n",
              "...                                   ...                            ...   \n",
              "8790                Agricultural Services                    Agriculture   \n",
              "8793                      Food & Beverage   Consumer Products & Services   \n",
              "8794                      Food & Beverage   Consumer Products & Services   \n",
              "8797        Education & Training Services  Education & Training Services   \n",
              "8798        Education & Training Services  Education & Training Services   \n",
              "\n",
              "                                  products_and_services        country  ...  \\\n",
              "4     Mechanical parts and maintenance services for ...          Italy  ...   \n",
              "5     Mechanical parts and maintenance services for ...          Italy  ...   \n",
              "8     Branding, Marketing, Graphic Design, Photograp...  United States  ...   \n",
              "11    Executive Search & Recruiting with purpose. Hi...  United States  ...   \n",
              "19                         Frozen Tropical Ingredients.  United States  ...   \n",
              "...                                                 ...            ...  ...   \n",
              "8790  Agriculture, natural food supplements and medi...          Italy  ...   \n",
              "8793                                    Food & Beverage  United States  ...   \n",
              "8794                                    Food & Beverage  United States  ...   \n",
              "8797                          Higher Education Services  United States  ...   \n",
              "8798                          Higher Education Services  United States  ...   \n",
              "\n",
              "     ia_workers_it_human_rights_labor_policy  \\\n",
              "4                                        NaN   \n",
              "5                                        NaN   \n",
              "8                                        NaN   \n",
              "11                                       NaN   \n",
              "19                                       NaN   \n",
              "...                                      ...   \n",
              "8790                                     NaN   \n",
              "8793                                     NaN   \n",
              "8794                                     0.6   \n",
              "8797                                     0.7   \n",
              "8798                                     0.6   \n",
              "\n",
              "     ia_workers_it_job_flexibility_corporate_culture  \\\n",
              "4                                                NaN   \n",
              "5                                                NaN   \n",
              "8                                                1.3   \n",
              "11                                               NaN   \n",
              "19                                               NaN   \n",
              "...                                              ...   \n",
              "8790                                             0.3   \n",
              "8793                                             0.0   \n",
              "8794                                             1.8   \n",
              "8797                                             0.9   \n",
              "8798                                             0.9   \n",
              "\n",
              "     ia_workers_it_management_worker_communication  \\\n",
              "4                                              NaN   \n",
              "5                                              5.5   \n",
              "8                                              2.2   \n",
              "11                                             NaN   \n",
              "19                                             NaN   \n",
              "...                                            ...   \n",
              "8790                                           0.1   \n",
              "8793                                           0.0   \n",
              "8794                                           1.2   \n",
              "8797                                           2.9   \n",
              "8798                                           2.8   \n",
              "\n",
              "     ia_workers_it_occupational_health_safety  \\\n",
              "4                                         NaN   \n",
              "5                                         NaN   \n",
              "8                                         NaN   \n",
              "11                                        NaN   \n",
              "19                                        NaN   \n",
              "...                                       ...   \n",
              "8790                                      0.0   \n",
              "8793                                      0.0   \n",
              "8794                                      0.9   \n",
              "8797                                      1.1   \n",
              "8798                                      1.3   \n",
              "\n",
              "     ia_workers_it_training_education ia_workers_it_worker_benefits  \\\n",
              "4                                 NaN                           NaN   \n",
              "5                                 1.5                           NaN   \n",
              "8                                 1.3                           NaN   \n",
              "11                                NaN                           NaN   \n",
              "19                                NaN                           NaN   \n",
              "...                               ...                           ...   \n",
              "8790                              0.2                           NaN   \n",
              "8793                              0.0                           NaN   \n",
              "8794                              1.6                           NaN   \n",
              "8797                              3.0                           NaN   \n",
              "8798                              2.6                           8.3   \n",
              "\n",
              "      ia_workers_it_worker_owned  ia_workers_it_worker_ownership  \\\n",
              "4                            NaN                             NaN   \n",
              "5                            NaN                             2.0   \n",
              "8                            NaN                             0.0   \n",
              "11                           NaN                             NaN   \n",
              "19                           NaN                             NaN   \n",
              "...                          ...                             ...   \n",
              "8790                         NaN                             0.0   \n",
              "8793                         NaN                             0.0   \n",
              "8794                         NaN                             1.5   \n",
              "8797                         NaN                             1.0   \n",
              "8798                         NaN                             2.7   \n",
              "\n",
              "      ia_workers_it_workforce_development  certification_cycle  \n",
              "4                                     NaN                  1.0  \n",
              "5                                     NaN                  2.0  \n",
              "8                                     NaN                  1.0  \n",
              "11                                    NaN                  1.0  \n",
              "19                                    NaN                  1.0  \n",
              "...                                   ...                  ...  \n",
              "8790                                  NaN                  1.0  \n",
              "8793                                  NaN                  1.0  \n",
              "8794                                  NaN                  2.0  \n",
              "8797                                  0.0                  1.0  \n",
              "8798                                  NaN                  2.0  \n",
              "\n",
              "[4124 rows x 127 columns]"
            ]
          },
          "metadata": {},
          "output_type": "display_data"
        }
      ],
      "source": [
        "impact[impact[\"country\"].isin([\"United States\", \"Italy\"])]"
      ]
    },
    {
      "cell_type": "markdown",
      "metadata": {
        "id": "4006677c"
      },
      "source": [
        "### Select rows and columns"
      ]
    },
    {
      "cell_type": "markdown",
      "metadata": {
        "id": "cc9db292"
      },
      "source": [
        "The accessor `[]` can select an entry in the `DataFrame`. We specify the column name first, followed by the row index. For example, here we select the first (index 0) company name in the dataset."
      ]
    },
    {
      "cell_type": "code",
      "execution_count": null,
      "metadata": {
        "id": "c3afa79c",
        "outputId": "6e00d2e8-fc5f-478c-d502-ca680a35f123"
      },
      "outputs": [
        {
          "data": {
            "text/plain": [
              "'Someone Somewhere'"
            ]
          },
          "metadata": {},
          "output_type": "display_data"
        }
      ],
      "source": [
        "impact[\"company_name\"][0]"
      ]
    },
    {
      "cell_type": "markdown",
      "metadata": {
        "id": "166547f8"
      },
      "source": [
        "`iloc` and `loc` offer more flexible ways to access elements in a `DataFrame`.\n",
        "\n",
        "Using `iloc`, we specify the *index* of the elements.  For example, here we select the entries that are in the first 3 rows and the second column of the dataset.\n",
        "\n",
        "We specify the row index first, followed by a comma(`,`), then the column index. Notice how this is in opposite order of using the accessor `[]`, which was column then row."
      ]
    },
    {
      "cell_type": "code",
      "execution_count": null,
      "metadata": {
        "id": "b18fb512",
        "outputId": "61cfecdc-6b46-4214-e123-cfffef16fcd7"
      },
      "outputs": [
        {
          "data": {
            "text/plain": [
              "0    Someone Somewhere\n",
              "1    Someone Somewhere\n",
              "2              Boomera\n",
              "Name: company_name, dtype: object"
            ]
          },
          "metadata": {},
          "output_type": "display_data"
        }
      ],
      "source": [
        "impact.iloc[0:3, 1]"
      ]
    },
    {
      "cell_type": "markdown",
      "metadata": {
        "id": "6b58be83"
      },
      "source": [
        "Select the entries that are in the first 3 rows and the first 3 columns."
      ]
    },
    {
      "cell_type": "code",
      "execution_count": null,
      "metadata": {
        "id": "31963499",
        "outputId": "7a1d1e19-a9e8-4d95-fe2b-ae69629f73c9",
        "scrolled": true
      },
      "outputs": [
        {
          "data": {
            "text/html": [
              "<div>\n",
              "<style scoped>\n",
              "    .dataframe tbody tr th:only-of-type {\n",
              "        vertical-align: middle;\n",
              "    }\n",
              "\n",
              "    .dataframe tbody tr th {\n",
              "        vertical-align: top;\n",
              "    }\n",
              "\n",
              "    .dataframe thead th {\n",
              "        text-align: right;\n",
              "    }\n",
              "</style>\n",
              "<table border=\"1\" class=\"dataframe\">\n",
              "  <thead>\n",
              "    <tr style=\"text-align: right;\">\n",
              "      <th></th>\n",
              "      <th>company_id</th>\n",
              "      <th>company_name</th>\n",
              "      <th>date_first_certified</th>\n",
              "    </tr>\n",
              "  </thead>\n",
              "  <tbody>\n",
              "    <tr>\n",
              "      <th>0</th>\n",
              "      <td>001C000001LkZXSIA3</td>\n",
              "      <td>Someone Somewhere</td>\n",
              "      <td>2017-08-30</td>\n",
              "    </tr>\n",
              "    <tr>\n",
              "      <th>1</th>\n",
              "      <td>001C000001LkZXSIA3</td>\n",
              "      <td>Someone Somewhere</td>\n",
              "      <td>2017-08-30</td>\n",
              "    </tr>\n",
              "    <tr>\n",
              "      <th>2</th>\n",
              "      <td>001C000001bVjmIIAS</td>\n",
              "      <td>Boomera</td>\n",
              "      <td>2017-12-27</td>\n",
              "    </tr>\n",
              "  </tbody>\n",
              "</table>\n",
              "</div>"
            ],
            "text/plain": [
              "           company_id       company_name date_first_certified\n",
              "0  001C000001LkZXSIA3  Someone Somewhere           2017-08-30\n",
              "1  001C000001LkZXSIA3  Someone Somewhere           2017-08-30\n",
              "2  001C000001bVjmIIAS            Boomera           2017-12-27"
            ]
          },
          "metadata": {},
          "output_type": "display_data"
        }
      ],
      "source": [
        "impact.iloc[0:3, 0:3]"
      ]
    },
    {
      "cell_type": "markdown",
      "metadata": {
        "id": "979f29c5"
      },
      "source": [
        "Using `loc`, we specify the *label* of the elements. For example, select the entries that are in rows 0 to 3 and in the column `company_name`.\n",
        "\n",
        "`loc` comes in handy when we know the name of the column that we want, but not the order of that column in the dataset.\n",
        "\n",
        "Notice how `loc` includes the ending point, while `iloc` doesn't."
      ]
    },
    {
      "cell_type": "code",
      "execution_count": null,
      "metadata": {
        "id": "8f7b8880",
        "outputId": "8aa8cee9-30c5-4f9a-bbda-b56f71f4e742"
      },
      "outputs": [
        {
          "data": {
            "text/plain": [
              "0    Someone Somewhere\n",
              "1    Someone Somewhere\n",
              "2              Boomera\n",
              "3             ekWateur\n",
              "Name: company_name, dtype: object"
            ]
          },
          "metadata": {},
          "output_type": "display_data"
        }
      ],
      "source": [
        "impact.loc[0:3, \"company_name\"]"
      ]
    },
    {
      "cell_type": "markdown",
      "metadata": {
        "id": "5f64b9b6"
      },
      "source": [
        "We can use `:` (slicing) when specifying column labels with `loc` as well. Select the entries in rows 0 to 3 and in columns from `company_id` to `date_first_certified`. Notice again that `loc` includes the ending point."
      ]
    },
    {
      "cell_type": "code",
      "execution_count": null,
      "metadata": {
        "id": "f263fa71",
        "outputId": "15fdd183-d4cd-4438-b74e-81d713b74a0b",
        "scrolled": true
      },
      "outputs": [
        {
          "data": {
            "text/html": [
              "<div>\n",
              "<style scoped>\n",
              "    .dataframe tbody tr th:only-of-type {\n",
              "        vertical-align: middle;\n",
              "    }\n",
              "\n",
              "    .dataframe tbody tr th {\n",
              "        vertical-align: top;\n",
              "    }\n",
              "\n",
              "    .dataframe thead th {\n",
              "        text-align: right;\n",
              "    }\n",
              "</style>\n",
              "<table border=\"1\" class=\"dataframe\">\n",
              "  <thead>\n",
              "    <tr style=\"text-align: right;\">\n",
              "      <th></th>\n",
              "      <th>company_id</th>\n",
              "      <th>company_name</th>\n",
              "      <th>date_first_certified</th>\n",
              "    </tr>\n",
              "  </thead>\n",
              "  <tbody>\n",
              "    <tr>\n",
              "      <th>0</th>\n",
              "      <td>001C000001LkZXSIA3</td>\n",
              "      <td>Someone Somewhere</td>\n",
              "      <td>2017-08-30</td>\n",
              "    </tr>\n",
              "    <tr>\n",
              "      <th>1</th>\n",
              "      <td>001C000001LkZXSIA3</td>\n",
              "      <td>Someone Somewhere</td>\n",
              "      <td>2017-08-30</td>\n",
              "    </tr>\n",
              "    <tr>\n",
              "      <th>2</th>\n",
              "      <td>001C000001bVjmIIAS</td>\n",
              "      <td>Boomera</td>\n",
              "      <td>2017-12-27</td>\n",
              "    </tr>\n",
              "    <tr>\n",
              "      <th>3</th>\n",
              "      <td>0013b00001nESw5AAG</td>\n",
              "      <td>ekWateur</td>\n",
              "      <td>2021-02-22</td>\n",
              "    </tr>\n",
              "  </tbody>\n",
              "</table>\n",
              "</div>"
            ],
            "text/plain": [
              "           company_id       company_name date_first_certified\n",
              "0  001C000001LkZXSIA3  Someone Somewhere           2017-08-30\n",
              "1  001C000001LkZXSIA3  Someone Somewhere           2017-08-30\n",
              "2  001C000001bVjmIIAS            Boomera           2017-12-27\n",
              "3  0013b00001nESw5AAG           ekWateur           2021-02-22"
            ]
          },
          "metadata": {},
          "output_type": "display_data"
        }
      ],
      "source": [
        "impact.loc[0:3, \"company_id\": \"date_first_certified\"]"
      ]
    },
    {
      "cell_type": "markdown",
      "metadata": {
        "id": "302409af"
      },
      "source": [
        "And we can also supply a list of column labels with `loc`."
      ]
    },
    {
      "cell_type": "code",
      "execution_count": null,
      "metadata": {
        "id": "c15e1ee6",
        "outputId": "29693acf-355a-42ea-f3e7-3e48e3b96a7b",
        "scrolled": true
      },
      "outputs": [
        {
          "data": {
            "text/html": [
              "<div>\n",
              "<style scoped>\n",
              "    .dataframe tbody tr th:only-of-type {\n",
              "        vertical-align: middle;\n",
              "    }\n",
              "\n",
              "    .dataframe tbody tr th {\n",
              "        vertical-align: top;\n",
              "    }\n",
              "\n",
              "    .dataframe thead th {\n",
              "        text-align: right;\n",
              "    }\n",
              "</style>\n",
              "<table border=\"1\" class=\"dataframe\">\n",
              "  <thead>\n",
              "    <tr style=\"text-align: right;\">\n",
              "      <th></th>\n",
              "      <th>company_id</th>\n",
              "      <th>company_name</th>\n",
              "      <th>current_status</th>\n",
              "      <th>overall_score</th>\n",
              "    </tr>\n",
              "  </thead>\n",
              "  <tbody>\n",
              "    <tr>\n",
              "      <th>0</th>\n",
              "      <td>001C000001LkZXSIA3</td>\n",
              "      <td>Someone Somewhere</td>\n",
              "      <td>certified</td>\n",
              "      <td>87.1</td>\n",
              "    </tr>\n",
              "    <tr>\n",
              "      <th>1</th>\n",
              "      <td>001C000001LkZXSIA3</td>\n",
              "      <td>Someone Somewhere</td>\n",
              "      <td>certified</td>\n",
              "      <td>100.8</td>\n",
              "    </tr>\n",
              "    <tr>\n",
              "      <th>2</th>\n",
              "      <td>001C000001bVjmIIAS</td>\n",
              "      <td>Boomera</td>\n",
              "      <td>certified</td>\n",
              "      <td>96.1</td>\n",
              "    </tr>\n",
              "    <tr>\n",
              "      <th>3</th>\n",
              "      <td>0013b00001nESw5AAG</td>\n",
              "      <td>ekWateur</td>\n",
              "      <td>certified</td>\n",
              "      <td>89.0</td>\n",
              "    </tr>\n",
              "  </tbody>\n",
              "</table>\n",
              "</div>"
            ],
            "text/plain": [
              "           company_id       company_name current_status  overall_score\n",
              "0  001C000001LkZXSIA3  Someone Somewhere      certified           87.1\n",
              "1  001C000001LkZXSIA3  Someone Somewhere      certified          100.8\n",
              "2  001C000001bVjmIIAS            Boomera      certified           96.1\n",
              "3  0013b00001nESw5AAG           ekWateur      certified           89.0"
            ]
          },
          "metadata": {},
          "output_type": "display_data"
        }
      ],
      "source": [
        "impact.loc[0:3, [\"company_id\", \"company_name\", \"current_status\", \"overall_score\"]]"
      ]
    },
    {
      "cell_type": "markdown",
      "metadata": {
        "id": "ea4e6be6"
      },
      "source": [
        "Using both conditional statements and `loc` gives us a lot of flexibility in selecting subsets of the dataset. Here, select companies whose overall scores are more than 180."
      ]
    },
    {
      "cell_type": "code",
      "execution_count": null,
      "metadata": {
        "id": "3daf29b8",
        "outputId": "3e167f31-aadf-467c-917a-68007c5fe60a"
      },
      "outputs": [
        {
          "data": {
            "text/plain": [
              "4375    South Mountain Company, Inc.\n",
              "4376    South Mountain Company, Inc.\n",
              "4377    South Mountain Company, Inc.\n",
              "4378    South Mountain Company, Inc.\n",
              "5208                     ECO2LIBRIUM\n",
              "Name: company_name, dtype: object"
            ]
          },
          "metadata": {},
          "output_type": "display_data"
        }
      ],
      "source": [
        "impact.loc[impact[\"overall_score\"] > 180, \"company_name\"]"
      ]
    },
    {
      "cell_type": "markdown",
      "metadata": {
        "id": "f91348f4"
      },
      "source": [
        "For those companies that have overall score more than 180, print out the company name, the date the company was certified and the certification cycle."
      ]
    },
    {
      "cell_type": "code",
      "execution_count": null,
      "metadata": {
        "id": "ab9e837c",
        "outputId": "47a319a9-0f28-4ca0-ae7a-a321afe09e43",
        "scrolled": true
      },
      "outputs": [
        {
          "data": {
            "text/html": [
              "<div>\n",
              "<style scoped>\n",
              "    .dataframe tbody tr th:only-of-type {\n",
              "        vertical-align: middle;\n",
              "    }\n",
              "\n",
              "    .dataframe tbody tr th {\n",
              "        vertical-align: top;\n",
              "    }\n",
              "\n",
              "    .dataframe thead th {\n",
              "        text-align: right;\n",
              "    }\n",
              "</style>\n",
              "<table border=\"1\" class=\"dataframe\">\n",
              "  <thead>\n",
              "    <tr style=\"text-align: right;\">\n",
              "      <th></th>\n",
              "      <th>company_name</th>\n",
              "      <th>date_certified</th>\n",
              "      <th>certification_cycle</th>\n",
              "    </tr>\n",
              "  </thead>\n",
              "  <tbody>\n",
              "    <tr>\n",
              "      <th>4375</th>\n",
              "      <td>South Mountain Company, Inc.</td>\n",
              "      <td>2021-06-23</td>\n",
              "      <td>1.0</td>\n",
              "    </tr>\n",
              "    <tr>\n",
              "      <th>4376</th>\n",
              "      <td>South Mountain Company, Inc.</td>\n",
              "      <td>2017-09-01</td>\n",
              "      <td>2.0</td>\n",
              "    </tr>\n",
              "    <tr>\n",
              "      <th>4377</th>\n",
              "      <td>South Mountain Company, Inc.</td>\n",
              "      <td>2015-08-13</td>\n",
              "      <td>3.0</td>\n",
              "    </tr>\n",
              "    <tr>\n",
              "      <th>4378</th>\n",
              "      <td>South Mountain Company, Inc.</td>\n",
              "      <td>2013-05-10</td>\n",
              "      <td>4.0</td>\n",
              "    </tr>\n",
              "    <tr>\n",
              "      <th>5208</th>\n",
              "      <td>ECO2LIBRIUM</td>\n",
              "      <td>2016-10-27</td>\n",
              "      <td>2.0</td>\n",
              "    </tr>\n",
              "  </tbody>\n",
              "</table>\n",
              "</div>"
            ],
            "text/plain": [
              "                      company_name date_certified  certification_cycle\n",
              "4375  South Mountain Company, Inc.     2021-06-23                  1.0\n",
              "4376  South Mountain Company, Inc.     2017-09-01                  2.0\n",
              "4377  South Mountain Company, Inc.     2015-08-13                  3.0\n",
              "4378  South Mountain Company, Inc.     2013-05-10                  4.0\n",
              "5208                   ECO2LIBRIUM     2016-10-27                  2.0"
            ]
          },
          "metadata": {},
          "output_type": "display_data"
        }
      ],
      "source": [
        "impact.loc[impact[\"overall_score\"] > 180, [\"company_name\", \"date_certified\", \"certification_cycle\"]]"
      ]
    },
    {
      "cell_type": "markdown",
      "metadata": {
        "id": "2a408a26"
      },
      "source": [
        "Using `&` to combine multiple conditions and print out a few columns:"
      ]
    },
    {
      "cell_type": "code",
      "execution_count": null,
      "metadata": {
        "id": "b82ef771",
        "outputId": "189840fd-b7ae-4be5-9adc-1500f84a560e",
        "scrolled": false
      },
      "outputs": [
        {
          "data": {
            "text/html": [
              "<div>\n",
              "<style scoped>\n",
              "    .dataframe tbody tr th:only-of-type {\n",
              "        vertical-align: middle;\n",
              "    }\n",
              "\n",
              "    .dataframe tbody tr th {\n",
              "        vertical-align: top;\n",
              "    }\n",
              "\n",
              "    .dataframe thead th {\n",
              "        text-align: right;\n",
              "    }\n",
              "</style>\n",
              "<table border=\"1\" class=\"dataframe\">\n",
              "  <thead>\n",
              "    <tr style=\"text-align: right;\">\n",
              "      <th></th>\n",
              "      <th>company_name</th>\n",
              "      <th>date_certified</th>\n",
              "      <th>certification_cycle</th>\n",
              "    </tr>\n",
              "  </thead>\n",
              "  <tbody>\n",
              "    <tr>\n",
              "      <th>19</th>\n",
              "      <td>Sweet Origins</td>\n",
              "      <td>2020-09-01</td>\n",
              "      <td>1.0</td>\n",
              "    </tr>\n",
              "    <tr>\n",
              "      <th>20</th>\n",
              "      <td>Jeni's Splendid Ice Creams</td>\n",
              "      <td>2018-06-04</td>\n",
              "      <td>1.0</td>\n",
              "    </tr>\n",
              "    <tr>\n",
              "      <th>21</th>\n",
              "      <td>Jeni's Splendid Ice Creams</td>\n",
              "      <td>2016-03-11</td>\n",
              "      <td>2.0</td>\n",
              "    </tr>\n",
              "    <tr>\n",
              "      <th>22</th>\n",
              "      <td>Jeni's Splendid Ice Creams</td>\n",
              "      <td>2013-12-31</td>\n",
              "      <td>3.0</td>\n",
              "    </tr>\n",
              "    <tr>\n",
              "      <th>66</th>\n",
              "      <td>Numi</td>\n",
              "      <td>2020-10-14</td>\n",
              "      <td>1.0</td>\n",
              "    </tr>\n",
              "    <tr>\n",
              "      <th>...</th>\n",
              "      <td>...</td>\n",
              "      <td>...</td>\n",
              "      <td>...</td>\n",
              "    </tr>\n",
              "    <tr>\n",
              "      <th>8706</th>\n",
              "      <td>VeeV Spirits</td>\n",
              "      <td>2008-06-25</td>\n",
              "      <td>2.0</td>\n",
              "    </tr>\n",
              "    <tr>\n",
              "      <th>8726</th>\n",
              "      <td>Bison Brewing Company</td>\n",
              "      <td>2010-11-12</td>\n",
              "      <td>3.0</td>\n",
              "    </tr>\n",
              "    <tr>\n",
              "      <th>8781</th>\n",
              "      <td>The Bama Companies Inc.</td>\n",
              "      <td>2017-09-21</td>\n",
              "      <td>1.0</td>\n",
              "    </tr>\n",
              "    <tr>\n",
              "      <th>8793</th>\n",
              "      <td>Danone North America</td>\n",
              "      <td>2021-04-07</td>\n",
              "      <td>1.0</td>\n",
              "    </tr>\n",
              "    <tr>\n",
              "      <th>8794</th>\n",
              "      <td>Danone North America</td>\n",
              "      <td>2018-03-14</td>\n",
              "      <td>2.0</td>\n",
              "    </tr>\n",
              "  </tbody>\n",
              "</table>\n",
              "<p>504 rows × 3 columns</p>\n",
              "</div>"
            ],
            "text/plain": [
              "                    company_name date_certified  certification_cycle\n",
              "19                 Sweet Origins     2020-09-01                  1.0\n",
              "20    Jeni's Splendid Ice Creams     2018-06-04                  1.0\n",
              "21    Jeni's Splendid Ice Creams     2016-03-11                  2.0\n",
              "22    Jeni's Splendid Ice Creams     2013-12-31                  3.0\n",
              "66                          Numi     2020-10-14                  1.0\n",
              "...                          ...            ...                  ...\n",
              "8706                VeeV Spirits     2008-06-25                  2.0\n",
              "8726       Bison Brewing Company     2010-11-12                  3.0\n",
              "8781     The Bama Companies Inc.     2017-09-21                  1.0\n",
              "8793        Danone North America     2021-04-07                  1.0\n",
              "8794        Danone North America     2018-03-14                  2.0\n",
              "\n",
              "[504 rows x 3 columns]"
            ]
          },
          "metadata": {},
          "output_type": "display_data"
        }
      ],
      "source": [
        "impact.loc[(impact[\"industry\"] == \"Food & Beverage\") & (impact[\"country\"] == \"United States\"), \n",
        "           [\"company_name\", \"date_certified\", \"certification_cycle\"]]"
      ]
    },
    {
      "cell_type": "markdown",
      "metadata": {
        "id": "040e5157"
      },
      "source": [
        "Assign the filter results to a new dataset."
      ]
    },
    {
      "cell_type": "code",
      "execution_count": null,
      "metadata": {
        "id": "893a6218",
        "outputId": "8dd92b6f-c495-4da7-fa35-7d6c0130a7be",
        "scrolled": true
      },
      "outputs": [
        {
          "data": {
            "text/html": [
              "<div>\n",
              "<style scoped>\n",
              "    .dataframe tbody tr th:only-of-type {\n",
              "        vertical-align: middle;\n",
              "    }\n",
              "\n",
              "    .dataframe tbody tr th {\n",
              "        vertical-align: top;\n",
              "    }\n",
              "\n",
              "    .dataframe thead th {\n",
              "        text-align: right;\n",
              "    }\n",
              "</style>\n",
              "<table border=\"1\" class=\"dataframe\">\n",
              "  <thead>\n",
              "    <tr style=\"text-align: right;\">\n",
              "      <th></th>\n",
              "      <th>company_name</th>\n",
              "      <th>date_certified</th>\n",
              "      <th>certification_cycle</th>\n",
              "    </tr>\n",
              "  </thead>\n",
              "  <tbody>\n",
              "    <tr>\n",
              "      <th>19</th>\n",
              "      <td>Sweet Origins</td>\n",
              "      <td>2020-09-01</td>\n",
              "      <td>1.0</td>\n",
              "    </tr>\n",
              "    <tr>\n",
              "      <th>20</th>\n",
              "      <td>Jeni's Splendid Ice Creams</td>\n",
              "      <td>2018-06-04</td>\n",
              "      <td>1.0</td>\n",
              "    </tr>\n",
              "    <tr>\n",
              "      <th>21</th>\n",
              "      <td>Jeni's Splendid Ice Creams</td>\n",
              "      <td>2016-03-11</td>\n",
              "      <td>2.0</td>\n",
              "    </tr>\n",
              "    <tr>\n",
              "      <th>22</th>\n",
              "      <td>Jeni's Splendid Ice Creams</td>\n",
              "      <td>2013-12-31</td>\n",
              "      <td>3.0</td>\n",
              "    </tr>\n",
              "    <tr>\n",
              "      <th>66</th>\n",
              "      <td>Numi</td>\n",
              "      <td>2020-10-14</td>\n",
              "      <td>1.0</td>\n",
              "    </tr>\n",
              "    <tr>\n",
              "      <th>...</th>\n",
              "      <td>...</td>\n",
              "      <td>...</td>\n",
              "      <td>...</td>\n",
              "    </tr>\n",
              "    <tr>\n",
              "      <th>8706</th>\n",
              "      <td>VeeV Spirits</td>\n",
              "      <td>2008-06-25</td>\n",
              "      <td>2.0</td>\n",
              "    </tr>\n",
              "    <tr>\n",
              "      <th>8726</th>\n",
              "      <td>Bison Brewing Company</td>\n",
              "      <td>2010-11-12</td>\n",
              "      <td>3.0</td>\n",
              "    </tr>\n",
              "    <tr>\n",
              "      <th>8781</th>\n",
              "      <td>The Bama Companies Inc.</td>\n",
              "      <td>2017-09-21</td>\n",
              "      <td>1.0</td>\n",
              "    </tr>\n",
              "    <tr>\n",
              "      <th>8793</th>\n",
              "      <td>Danone North America</td>\n",
              "      <td>2021-04-07</td>\n",
              "      <td>1.0</td>\n",
              "    </tr>\n",
              "    <tr>\n",
              "      <th>8794</th>\n",
              "      <td>Danone North America</td>\n",
              "      <td>2018-03-14</td>\n",
              "      <td>2.0</td>\n",
              "    </tr>\n",
              "  </tbody>\n",
              "</table>\n",
              "<p>504 rows × 3 columns</p>\n",
              "</div>"
            ],
            "text/plain": [
              "                    company_name date_certified  certification_cycle\n",
              "19                 Sweet Origins     2020-09-01                  1.0\n",
              "20    Jeni's Splendid Ice Creams     2018-06-04                  1.0\n",
              "21    Jeni's Splendid Ice Creams     2016-03-11                  2.0\n",
              "22    Jeni's Splendid Ice Creams     2013-12-31                  3.0\n",
              "66                          Numi     2020-10-14                  1.0\n",
              "...                          ...            ...                  ...\n",
              "8706                VeeV Spirits     2008-06-25                  2.0\n",
              "8726       Bison Brewing Company     2010-11-12                  3.0\n",
              "8781     The Bama Companies Inc.     2017-09-21                  1.0\n",
              "8793        Danone North America     2021-04-07                  1.0\n",
              "8794        Danone North America     2018-03-14                  2.0\n",
              "\n",
              "[504 rows x 3 columns]"
            ]
          },
          "metadata": {},
          "output_type": "display_data"
        }
      ],
      "source": [
        "impact_us_food_drink = impact.loc[(impact[\"industry\"] == \"Food & Beverage\") & (impact[\"country\"] == \"United States\"), \n",
        "           [\"company_name\", \"date_certified\", \"certification_cycle\"]]\n",
        "\n",
        "impact_us_food_drink"
      ]
    },
    {
      "cell_type": "markdown",
      "metadata": {
        "id": "a69a0404"
      },
      "source": [
        "Notice how the new dataset retains the row index of the original dataset. We can reset the row index of the new dataset with `reset_index()`.\n",
        "\n",
        "The `inplace = True` argument tells `pandas` to modify the `DataFrame` in place and not to create a new object. The `drop = True` tells `pandas` not to insert index into dataframe columns."
      ]
    },
    {
      "cell_type": "code",
      "execution_count": null,
      "metadata": {
        "id": "3953a165",
        "outputId": "b8be6eee-0082-43e5-af58-9f36d85d596a"
      },
      "outputs": [
        {
          "data": {
            "text/html": [
              "<div>\n",
              "<style scoped>\n",
              "    .dataframe tbody tr th:only-of-type {\n",
              "        vertical-align: middle;\n",
              "    }\n",
              "\n",
              "    .dataframe tbody tr th {\n",
              "        vertical-align: top;\n",
              "    }\n",
              "\n",
              "    .dataframe thead th {\n",
              "        text-align: right;\n",
              "    }\n",
              "</style>\n",
              "<table border=\"1\" class=\"dataframe\">\n",
              "  <thead>\n",
              "    <tr style=\"text-align: right;\">\n",
              "      <th></th>\n",
              "      <th>company_name</th>\n",
              "      <th>date_certified</th>\n",
              "      <th>certification_cycle</th>\n",
              "    </tr>\n",
              "  </thead>\n",
              "  <tbody>\n",
              "    <tr>\n",
              "      <th>0</th>\n",
              "      <td>Sweet Origins</td>\n",
              "      <td>2020-09-01</td>\n",
              "      <td>1.0</td>\n",
              "    </tr>\n",
              "    <tr>\n",
              "      <th>1</th>\n",
              "      <td>Jeni's Splendid Ice Creams</td>\n",
              "      <td>2018-06-04</td>\n",
              "      <td>1.0</td>\n",
              "    </tr>\n",
              "    <tr>\n",
              "      <th>2</th>\n",
              "      <td>Jeni's Splendid Ice Creams</td>\n",
              "      <td>2016-03-11</td>\n",
              "      <td>2.0</td>\n",
              "    </tr>\n",
              "    <tr>\n",
              "      <th>3</th>\n",
              "      <td>Jeni's Splendid Ice Creams</td>\n",
              "      <td>2013-12-31</td>\n",
              "      <td>3.0</td>\n",
              "    </tr>\n",
              "    <tr>\n",
              "      <th>4</th>\n",
              "      <td>Numi</td>\n",
              "      <td>2020-10-14</td>\n",
              "      <td>1.0</td>\n",
              "    </tr>\n",
              "  </tbody>\n",
              "</table>\n",
              "</div>"
            ],
            "text/plain": [
              "                 company_name date_certified  certification_cycle\n",
              "0               Sweet Origins     2020-09-01                  1.0\n",
              "1  Jeni's Splendid Ice Creams     2018-06-04                  1.0\n",
              "2  Jeni's Splendid Ice Creams     2016-03-11                  2.0\n",
              "3  Jeni's Splendid Ice Creams     2013-12-31                  3.0\n",
              "4                        Numi     2020-10-14                  1.0"
            ]
          },
          "metadata": {},
          "output_type": "display_data"
        }
      ],
      "source": [
        "impact_us_food_drink.reset_index(inplace = True, drop = True)\n",
        "\n",
        "impact_us_food_drink.head()"
      ]
    },
    {
      "cell_type": "markdown",
      "metadata": {
        "id": "f4941cb4"
      },
      "source": [
        "### Delete columns"
      ]
    },
    {
      "cell_type": "markdown",
      "metadata": {
        "id": "b47e2643"
      },
      "source": [
        "As you can tell from the above exercises, it is handy to know the column names in a dataset. Often when you download your data from an external source, the source will also have information about the columns that you can look up. The `columns` property is a handy way to see what columns your dataset has."
      ]
    },
    {
      "cell_type": "code",
      "execution_count": null,
      "metadata": {
        "id": "bd3bc025",
        "outputId": "f04b502b-39ac-4dcc-ba94-260d4e0b0db0",
        "scrolled": true
      },
      "outputs": [
        {
          "data": {
            "text/plain": [
              "Index(['company_id', 'company_name', 'date_first_certified', 'date_certified',\n",
              "       'current_status', 'description', 'industry', 'industry_category',\n",
              "       'products_and_services', 'country',\n",
              "       ...\n",
              "       'ia_workers_it_human_rights_labor_policy',\n",
              "       'ia_workers_it_job_flexibility_corporate_culture',\n",
              "       'ia_workers_it_management_worker_communication',\n",
              "       'ia_workers_it_occupational_health_safety',\n",
              "       'ia_workers_it_training_education', 'ia_workers_it_worker_benefits',\n",
              "       'ia_workers_it_worker_owned', 'ia_workers_it_worker_ownership',\n",
              "       'ia_workers_it_workforce_development', 'certification_cycle'],\n",
              "      dtype='object', length=127)"
            ]
          },
          "metadata": {},
          "output_type": "display_data"
        }
      ],
      "source": [
        "impact.columns"
      ]
    },
    {
      "cell_type": "markdown",
      "metadata": {
        "id": "14e3faef"
      },
      "source": [
        "See what column is in the 22nd position:"
      ]
    },
    {
      "cell_type": "code",
      "execution_count": null,
      "metadata": {
        "id": "fc3b3236",
        "outputId": "0e5ebf57-b75f-4d4c-fa8a-9025442357d7",
        "scrolled": true
      },
      "outputs": [
        {
          "data": {
            "text/plain": [
              "'impact_area_workers'"
            ]
          },
          "metadata": {},
          "output_type": "display_data"
        }
      ],
      "source": [
        "impact.columns[22]"
      ]
    },
    {
      "cell_type": "markdown",
      "metadata": {
        "id": "eae5d974"
      },
      "source": [
        "See what columns are in the 23th to 133th positions:"
      ]
    },
    {
      "cell_type": "code",
      "execution_count": null,
      "metadata": {
        "id": "7369d128",
        "outputId": "77fcaddb-8966-4f7a-9d36-980a821373e0",
        "scrolled": true
      },
      "outputs": [
        {
          "data": {
            "text/plain": [
              "Index(['impact_area_community_na_score', 'impact_area_customers_na_score',\n",
              "       'impact_area_environment_na_score', 'impact_area_governance_na_score',\n",
              "       'impact_area_workers_na_score',\n",
              "       'ia_community_it_civic_engagement_giving',\n",
              "       'ia_community_it_designed_for_charitable_giving',\n",
              "       'ia_community_it_designed_to_give',\n",
              "       'ia_community_it_diversity_equity_inclusion',\n",
              "       'ia_community_it_diversity_inclusion',\n",
              "       ...\n",
              "       'ia_workers_it_human_rights_labor_policy',\n",
              "       'ia_workers_it_job_flexibility_corporate_culture',\n",
              "       'ia_workers_it_management_worker_communication',\n",
              "       'ia_workers_it_occupational_health_safety',\n",
              "       'ia_workers_it_training_education', 'ia_workers_it_worker_benefits',\n",
              "       'ia_workers_it_worker_owned', 'ia_workers_it_worker_ownership',\n",
              "       'ia_workers_it_workforce_development', 'certification_cycle'],\n",
              "      dtype='object', length=104)"
            ]
          },
          "metadata": {},
          "output_type": "display_data"
        }
      ],
      "source": [
        "impact.columns[23:133]"
      ]
    },
    {
      "cell_type": "markdown",
      "metadata": {
        "id": "5027017d"
      },
      "source": [
        "This comes in handy when we want to delete a range of columns. For example, here we use the `drop()` method to delete columns in the 23th to 133th position. The `axis = 1` argument means drop the columns (`axis = 0` for rows). The `inplace = True` argument means do the operation inplace and not to return a copy."
      ]
    },
    {
      "cell_type": "code",
      "execution_count": null,
      "metadata": {
        "id": "7473c1dd"
      },
      "outputs": [],
      "source": [
        "impact.drop(impact.columns[23:133], axis = 1, inplace = True)"
      ]
    },
    {
      "cell_type": "markdown",
      "metadata": {
        "id": "0c9a35a1"
      },
      "source": [
        "We can also specify the names of the columns directly using `drop()`."
      ]
    },
    {
      "cell_type": "code",
      "execution_count": null,
      "metadata": {
        "id": "f158624d"
      },
      "outputs": [],
      "source": [
        "impact.drop(columns = [\"b_corp_profile\", \"website\"], inplace = True)"
      ]
    },
    {
      "cell_type": "markdown",
      "metadata": {
        "id": "3b977dad"
      },
      "source": [
        "Our `impact` dataset now has fewer columns. We'll proceed with this new copy to calculate some summary statistics in the section below."
      ]
    },
    {
      "cell_type": "code",
      "execution_count": null,
      "metadata": {
        "id": "8cca61b9",
        "outputId": "e3b2c6de-50df-414a-818d-a33ed97118ee",
        "scrolled": true
      },
      "outputs": [
        {
          "data": {
            "text/html": [
              "<div>\n",
              "<style scoped>\n",
              "    .dataframe tbody tr th:only-of-type {\n",
              "        vertical-align: middle;\n",
              "    }\n",
              "\n",
              "    .dataframe tbody tr th {\n",
              "        vertical-align: top;\n",
              "    }\n",
              "\n",
              "    .dataframe thead th {\n",
              "        text-align: right;\n",
              "    }\n",
              "</style>\n",
              "<table border=\"1\" class=\"dataframe\">\n",
              "  <thead>\n",
              "    <tr style=\"text-align: right;\">\n",
              "      <th></th>\n",
              "      <th>company_id</th>\n",
              "      <th>company_name</th>\n",
              "      <th>date_first_certified</th>\n",
              "      <th>date_certified</th>\n",
              "      <th>current_status</th>\n",
              "      <th>description</th>\n",
              "      <th>industry</th>\n",
              "      <th>industry_category</th>\n",
              "      <th>products_and_services</th>\n",
              "      <th>country</th>\n",
              "      <th>...</th>\n",
              "      <th>city</th>\n",
              "      <th>sector</th>\n",
              "      <th>size</th>\n",
              "      <th>assessment_year</th>\n",
              "      <th>overall_score</th>\n",
              "      <th>impact_area_community</th>\n",
              "      <th>impact_area_customers</th>\n",
              "      <th>impact_area_environment</th>\n",
              "      <th>impact_area_governance</th>\n",
              "      <th>impact_area_workers</th>\n",
              "    </tr>\n",
              "  </thead>\n",
              "  <tbody>\n",
              "    <tr>\n",
              "      <th>0</th>\n",
              "      <td>001C000001LkZXSIA3</td>\n",
              "      <td>Someone Somewhere</td>\n",
              "      <td>2017-08-30</td>\n",
              "      <td>2021-02-26</td>\n",
              "      <td>certified</td>\n",
              "      <td>Someone Somewhere is a vertically integrated a...</td>\n",
              "      <td>Apparel, Footwear &amp; Accessories</td>\n",
              "      <td>Consumer Products &amp; Services</td>\n",
              "      <td>Clothing and garments with artisanal textiles ...</td>\n",
              "      <td>Mexico</td>\n",
              "      <td>...</td>\n",
              "      <td>Ciudad Mexico</td>\n",
              "      <td>Wholesale/Retail</td>\n",
              "      <td>10-49</td>\n",
              "      <td>2020</td>\n",
              "      <td>87.1</td>\n",
              "      <td>27.1</td>\n",
              "      <td>14.2</td>\n",
              "      <td>11.9</td>\n",
              "      <td>14.4</td>\n",
              "      <td>19.3</td>\n",
              "    </tr>\n",
              "    <tr>\n",
              "      <th>1</th>\n",
              "      <td>001C000001LkZXSIA3</td>\n",
              "      <td>Someone Somewhere</td>\n",
              "      <td>2017-08-30</td>\n",
              "      <td>2017-08-30</td>\n",
              "      <td>certified</td>\n",
              "      <td>Someone Somewhere is a vertically integrated a...</td>\n",
              "      <td>Apparel, Footwear &amp; Accessories</td>\n",
              "      <td>Consumer Products &amp; Services</td>\n",
              "      <td>Clothing and garments with artisanal textiles ...</td>\n",
              "      <td>Mexico</td>\n",
              "      <td>...</td>\n",
              "      <td>Ciudad Mexico</td>\n",
              "      <td>Wholesale/Retail</td>\n",
              "      <td>0</td>\n",
              "      <td>2017</td>\n",
              "      <td>100.8</td>\n",
              "      <td>74.0</td>\n",
              "      <td>8.3</td>\n",
              "      <td>5.8</td>\n",
              "      <td>12.7</td>\n",
              "      <td>NaN</td>\n",
              "    </tr>\n",
              "    <tr>\n",
              "      <th>2</th>\n",
              "      <td>001C000001bVjmIIAS</td>\n",
              "      <td>Boomera</td>\n",
              "      <td>2017-12-27</td>\n",
              "      <td>2017-12-27</td>\n",
              "      <td>certified</td>\n",
              "      <td>Boomera work with cutting-edge technology and ...</td>\n",
              "      <td>Recycling Services &amp; Waste Management</td>\n",
              "      <td>Energy &amp; Environmental Services</td>\n",
              "      <td>recycling, upcycling</td>\n",
              "      <td>Brazil</td>\n",
              "      <td>...</td>\n",
              "      <td>São Paulo</td>\n",
              "      <td>Manufacturing</td>\n",
              "      <td>50-249</td>\n",
              "      <td>2017</td>\n",
              "      <td>96.1</td>\n",
              "      <td>15.1</td>\n",
              "      <td>0.0</td>\n",
              "      <td>52.4</td>\n",
              "      <td>7.9</td>\n",
              "      <td>20.7</td>\n",
              "    </tr>\n",
              "    <tr>\n",
              "      <th>3</th>\n",
              "      <td>0013b00001nESw5AAG</td>\n",
              "      <td>ekWateur</td>\n",
              "      <td>2021-02-22</td>\n",
              "      <td>2021-02-22</td>\n",
              "      <td>certified</td>\n",
              "      <td>ekWateur propose de l’électricité, du gaz et d...</td>\n",
              "      <td>Renewable Energy Generation &amp; Installation</td>\n",
              "      <td>Energy &amp; Environmental Services</td>\n",
              "      <td>Electricité, gaz et bois renouvelables.</td>\n",
              "      <td>France</td>\n",
              "      <td>...</td>\n",
              "      <td>Paris</td>\n",
              "      <td>Service with Significant Environmental Footprint</td>\n",
              "      <td>50-249</td>\n",
              "      <td>2019</td>\n",
              "      <td>89.0</td>\n",
              "      <td>17.2</td>\n",
              "      <td>5.0</td>\n",
              "      <td>28.4</td>\n",
              "      <td>8.2</td>\n",
              "      <td>30.1</td>\n",
              "    </tr>\n",
              "    <tr>\n",
              "      <th>4</th>\n",
              "      <td>001C000001afeGsIAI</td>\n",
              "      <td>Maker srl</td>\n",
              "      <td>2017-05-19</td>\n",
              "      <td>2021-02-19</td>\n",
              "      <td>certified</td>\n",
              "      <td>Maker srl provides mechanical parts and mainte...</td>\n",
              "      <td>Machinery &amp; Equipment</td>\n",
              "      <td>Business Products &amp; Services</td>\n",
              "      <td>Mechanical parts and maintenance services for ...</td>\n",
              "      <td>Italy</td>\n",
              "      <td>...</td>\n",
              "      <td>Berbenno di Valtellina</td>\n",
              "      <td>Manufacturing</td>\n",
              "      <td>10-49</td>\n",
              "      <td>2019</td>\n",
              "      <td>80.4</td>\n",
              "      <td>18.3</td>\n",
              "      <td>4.3</td>\n",
              "      <td>18.3</td>\n",
              "      <td>17.1</td>\n",
              "      <td>22.2</td>\n",
              "    </tr>\n",
              "    <tr>\n",
              "      <th>...</th>\n",
              "      <td>...</td>\n",
              "      <td>...</td>\n",
              "      <td>...</td>\n",
              "      <td>...</td>\n",
              "      <td>...</td>\n",
              "      <td>...</td>\n",
              "      <td>...</td>\n",
              "      <td>...</td>\n",
              "      <td>...</td>\n",
              "      <td>...</td>\n",
              "      <td>...</td>\n",
              "      <td>...</td>\n",
              "      <td>...</td>\n",
              "      <td>...</td>\n",
              "      <td>...</td>\n",
              "      <td>...</td>\n",
              "      <td>...</td>\n",
              "      <td>...</td>\n",
              "      <td>...</td>\n",
              "      <td>...</td>\n",
              "      <td>...</td>\n",
              "    </tr>\n",
              "    <tr>\n",
              "      <th>8794</th>\n",
              "      <td>001C000001ghV6XIAU</td>\n",
              "      <td>Danone North America</td>\n",
              "      <td>2018-04-02</td>\n",
              "      <td>2018-03-14</td>\n",
              "      <td>certified</td>\n",
              "      <td>Danone North America is a purpose-driven compa...</td>\n",
              "      <td>Food &amp; Beverage</td>\n",
              "      <td>Consumer Products &amp; Services</td>\n",
              "      <td>Food &amp; Beverage</td>\n",
              "      <td>United States</td>\n",
              "      <td>...</td>\n",
              "      <td>Broomfield</td>\n",
              "      <td>Manufacturing</td>\n",
              "      <td>1000+</td>\n",
              "      <td>2018</td>\n",
              "      <td>84.9</td>\n",
              "      <td>21.7</td>\n",
              "      <td>0.2</td>\n",
              "      <td>22.8</td>\n",
              "      <td>16.6</td>\n",
              "      <td>23.4</td>\n",
              "    </tr>\n",
              "    <tr>\n",
              "      <th>8795</th>\n",
              "      <td>001C000001afHX8IAM</td>\n",
              "      <td>Institución Educativa SEK</td>\n",
              "      <td>2020-04-23</td>\n",
              "      <td>2020-04-23</td>\n",
              "      <td>certified</td>\n",
              "      <td>Institución Educativa SEK encompasses an educa...</td>\n",
              "      <td>Education &amp; Training Services</td>\n",
              "      <td>Education &amp; Training Services</td>\n",
              "      <td>Education/Higer Education</td>\n",
              "      <td>Spain</td>\n",
              "      <td>...</td>\n",
              "      <td>Madrid</td>\n",
              "      <td>Service with Significant Environmental Footprint</td>\n",
              "      <td>250-999</td>\n",
              "      <td>2020</td>\n",
              "      <td>82.1</td>\n",
              "      <td>12.2</td>\n",
              "      <td>23.2</td>\n",
              "      <td>15.7</td>\n",
              "      <td>12.9</td>\n",
              "      <td>18.0</td>\n",
              "    </tr>\n",
              "    <tr>\n",
              "      <th>8796</th>\n",
              "      <td>001C000001iwbf3IAA</td>\n",
              "      <td>Envato</td>\n",
              "      <td>2020-06-22</td>\n",
              "      <td>2020-06-22</td>\n",
              "      <td>certified</td>\n",
              "      <td>At Envato, they’re all about great creative co...</td>\n",
              "      <td>IT Software &amp; Services/Web Design</td>\n",
              "      <td>Business Products &amp; Services</td>\n",
              "      <td>Digital assets marketplace, creative subscript...</td>\n",
              "      <td>Australia</td>\n",
              "      <td>...</td>\n",
              "      <td>Melbourne</td>\n",
              "      <td>Service with Minor Environmental Footprint</td>\n",
              "      <td>250-999</td>\n",
              "      <td>2020</td>\n",
              "      <td>85.3</td>\n",
              "      <td>23.4</td>\n",
              "      <td>3.4</td>\n",
              "      <td>12.1</td>\n",
              "      <td>9.2</td>\n",
              "      <td>37.0</td>\n",
              "    </tr>\n",
              "    <tr>\n",
              "      <th>8797</th>\n",
              "      <td>001C000000zk8zuIAA</td>\n",
              "      <td>Laureate Education</td>\n",
              "      <td>2015-12-11</td>\n",
              "      <td>2017-12-01</td>\n",
              "      <td>de-certified</td>\n",
              "      <td>Laureate Education, Inc. is the largest global...</td>\n",
              "      <td>Education &amp; Training Services</td>\n",
              "      <td>Education &amp; Training Services</td>\n",
              "      <td>Higher Education Services</td>\n",
              "      <td>United States</td>\n",
              "      <td>...</td>\n",
              "      <td>Baltimore</td>\n",
              "      <td>Service with Significant Environmental Footprint</td>\n",
              "      <td>1000+</td>\n",
              "      <td>2017</td>\n",
              "      <td>104.2</td>\n",
              "      <td>24.0</td>\n",
              "      <td>23.7</td>\n",
              "      <td>10.0</td>\n",
              "      <td>21.0</td>\n",
              "      <td>25.3</td>\n",
              "    </tr>\n",
              "    <tr>\n",
              "      <th>8798</th>\n",
              "      <td>001C000000zk8zuIAA</td>\n",
              "      <td>Laureate Education</td>\n",
              "      <td>2015-12-11</td>\n",
              "      <td>2015-10-30</td>\n",
              "      <td>de-certified</td>\n",
              "      <td>Laureate Education, Inc. is the largest global...</td>\n",
              "      <td>Education &amp; Training Services</td>\n",
              "      <td>Education &amp; Training Services</td>\n",
              "      <td>Higher Education Services</td>\n",
              "      <td>United States</td>\n",
              "      <td>...</td>\n",
              "      <td>Baltimore</td>\n",
              "      <td>Service with Significant Environmental Footprint</td>\n",
              "      <td>1000+</td>\n",
              "      <td>2015</td>\n",
              "      <td>95.8</td>\n",
              "      <td>23.0</td>\n",
              "      <td>18.8</td>\n",
              "      <td>8.3</td>\n",
              "      <td>19.7</td>\n",
              "      <td>25.9</td>\n",
              "    </tr>\n",
              "  </tbody>\n",
              "</table>\n",
              "<p>8799 rows × 21 columns</p>\n",
              "</div>"
            ],
            "text/plain": [
              "              company_id               company_name date_first_certified  \\\n",
              "0     001C000001LkZXSIA3          Someone Somewhere           2017-08-30   \n",
              "1     001C000001LkZXSIA3          Someone Somewhere           2017-08-30   \n",
              "2     001C000001bVjmIIAS                    Boomera           2017-12-27   \n",
              "3     0013b00001nESw5AAG                   ekWateur           2021-02-22   \n",
              "4     001C000001afeGsIAI                  Maker srl           2017-05-19   \n",
              "...                  ...                        ...                  ...   \n",
              "8794  001C000001ghV6XIAU       Danone North America           2018-04-02   \n",
              "8795  001C000001afHX8IAM  Institución Educativa SEK           2020-04-23   \n",
              "8796  001C000001iwbf3IAA                     Envato           2020-06-22   \n",
              "8797  001C000000zk8zuIAA         Laureate Education           2015-12-11   \n",
              "8798  001C000000zk8zuIAA         Laureate Education           2015-12-11   \n",
              "\n",
              "     date_certified current_status  \\\n",
              "0        2021-02-26      certified   \n",
              "1        2017-08-30      certified   \n",
              "2        2017-12-27      certified   \n",
              "3        2021-02-22      certified   \n",
              "4        2021-02-19      certified   \n",
              "...             ...            ...   \n",
              "8794     2018-03-14      certified   \n",
              "8795     2020-04-23      certified   \n",
              "8796     2020-06-22      certified   \n",
              "8797     2017-12-01   de-certified   \n",
              "8798     2015-10-30   de-certified   \n",
              "\n",
              "                                            description  \\\n",
              "0     Someone Somewhere is a vertically integrated a...   \n",
              "1     Someone Somewhere is a vertically integrated a...   \n",
              "2     Boomera work with cutting-edge technology and ...   \n",
              "3     ekWateur propose de l’électricité, du gaz et d...   \n",
              "4     Maker srl provides mechanical parts and mainte...   \n",
              "...                                                 ...   \n",
              "8794  Danone North America is a purpose-driven compa...   \n",
              "8795  Institución Educativa SEK encompasses an educa...   \n",
              "8796  At Envato, they’re all about great creative co...   \n",
              "8797  Laureate Education, Inc. is the largest global...   \n",
              "8798  Laureate Education, Inc. is the largest global...   \n",
              "\n",
              "                                        industry  \\\n",
              "0                Apparel, Footwear & Accessories   \n",
              "1                Apparel, Footwear & Accessories   \n",
              "2          Recycling Services & Waste Management   \n",
              "3     Renewable Energy Generation & Installation   \n",
              "4                          Machinery & Equipment   \n",
              "...                                          ...   \n",
              "8794                             Food & Beverage   \n",
              "8795               Education & Training Services   \n",
              "8796           IT Software & Services/Web Design   \n",
              "8797               Education & Training Services   \n",
              "8798               Education & Training Services   \n",
              "\n",
              "                    industry_category  \\\n",
              "0        Consumer Products & Services   \n",
              "1        Consumer Products & Services   \n",
              "2     Energy & Environmental Services   \n",
              "3     Energy & Environmental Services   \n",
              "4        Business Products & Services   \n",
              "...                               ...   \n",
              "8794     Consumer Products & Services   \n",
              "8795    Education & Training Services   \n",
              "8796     Business Products & Services   \n",
              "8797    Education & Training Services   \n",
              "8798    Education & Training Services   \n",
              "\n",
              "                                  products_and_services        country  ...  \\\n",
              "0     Clothing and garments with artisanal textiles ...         Mexico  ...   \n",
              "1     Clothing and garments with artisanal textiles ...         Mexico  ...   \n",
              "2                                  recycling, upcycling         Brazil  ...   \n",
              "3               Electricité, gaz et bois renouvelables.         France  ...   \n",
              "4     Mechanical parts and maintenance services for ...          Italy  ...   \n",
              "...                                                 ...            ...  ...   \n",
              "8794                                    Food & Beverage  United States  ...   \n",
              "8795                          Education/Higer Education          Spain  ...   \n",
              "8796  Digital assets marketplace, creative subscript...      Australia  ...   \n",
              "8797                          Higher Education Services  United States  ...   \n",
              "8798                          Higher Education Services  United States  ...   \n",
              "\n",
              "                        city  \\\n",
              "0              Ciudad Mexico   \n",
              "1              Ciudad Mexico   \n",
              "2                  São Paulo   \n",
              "3                      Paris   \n",
              "4     Berbenno di Valtellina   \n",
              "...                      ...   \n",
              "8794              Broomfield   \n",
              "8795                  Madrid   \n",
              "8796               Melbourne   \n",
              "8797               Baltimore   \n",
              "8798               Baltimore   \n",
              "\n",
              "                                                sector      size  \\\n",
              "0                                     Wholesale/Retail     10-49   \n",
              "1                                     Wholesale/Retail         0   \n",
              "2                                        Manufacturing    50-249   \n",
              "3     Service with Significant Environmental Footprint    50-249   \n",
              "4                                        Manufacturing     10-49   \n",
              "...                                                ...       ...   \n",
              "8794                                     Manufacturing     1000+   \n",
              "8795  Service with Significant Environmental Footprint   250-999   \n",
              "8796        Service with Minor Environmental Footprint   250-999   \n",
              "8797  Service with Significant Environmental Footprint     1000+   \n",
              "8798  Service with Significant Environmental Footprint     1000+   \n",
              "\n",
              "     assessment_year  overall_score  impact_area_community  \\\n",
              "0               2020           87.1                   27.1   \n",
              "1               2017          100.8                   74.0   \n",
              "2               2017           96.1                   15.1   \n",
              "3               2019           89.0                   17.2   \n",
              "4               2019           80.4                   18.3   \n",
              "...              ...            ...                    ...   \n",
              "8794            2018           84.9                   21.7   \n",
              "8795            2020           82.1                   12.2   \n",
              "8796            2020           85.3                   23.4   \n",
              "8797            2017          104.2                   24.0   \n",
              "8798            2015           95.8                   23.0   \n",
              "\n",
              "      impact_area_customers  impact_area_environment  impact_area_governance  \\\n",
              "0                      14.2                     11.9                    14.4   \n",
              "1                       8.3                      5.8                    12.7   \n",
              "2                       0.0                     52.4                     7.9   \n",
              "3                       5.0                     28.4                     8.2   \n",
              "4                       4.3                     18.3                    17.1   \n",
              "...                     ...                      ...                     ...   \n",
              "8794                    0.2                     22.8                    16.6   \n",
              "8795                   23.2                     15.7                    12.9   \n",
              "8796                    3.4                     12.1                     9.2   \n",
              "8797                   23.7                     10.0                    21.0   \n",
              "8798                   18.8                      8.3                    19.7   \n",
              "\n",
              "      impact_area_workers  \n",
              "0                    19.3  \n",
              "1                     NaN  \n",
              "2                    20.7  \n",
              "3                    30.1  \n",
              "4                    22.2  \n",
              "...                   ...  \n",
              "8794                 23.4  \n",
              "8795                 18.0  \n",
              "8796                 37.0  \n",
              "8797                 25.3  \n",
              "8798                 25.9  \n",
              "\n",
              "[8799 rows x 21 columns]"
            ]
          },
          "metadata": {},
          "output_type": "display_data"
        }
      ],
      "source": [
        "impact"
      ]
    },
    {
      "cell_type": "markdown",
      "metadata": {
        "id": "b8FFTS3oxF3C"
      },
      "source": [
        "## Exercises - Select a subset of a dataframe"
      ]
    },
    {
      "cell_type": "markdown",
      "metadata": {
        "id": "Czjn28DBxcNJ"
      },
      "source": [
        "Given the above 'impact' dataframe, select and display the 7th column using the column name alone (square bracket notation)"
      ]
    },
    {
      "cell_type": "code",
      "execution_count": null,
      "metadata": {
        "id": "MzVDb086xtm9"
      },
      "outputs": [],
      "source": [
        "# Your answer here"
      ]
    },
    {
      "cell_type": "markdown",
      "metadata": {
        "id": "4765k57hxv4J"
      },
      "source": [
        "...using ```iloc```\n",
        "\n"
      ]
    },
    {
      "cell_type": "code",
      "execution_count": null,
      "metadata": {
        "id": "L-AR3Xwmx5Bm"
      },
      "outputs": [],
      "source": [
        "# Your answer here"
      ]
    },
    {
      "cell_type": "markdown",
      "metadata": {
        "id": "rONPdM2jx7PF"
      },
      "source": [
        "...using ```loc```"
      ]
    },
    {
      "cell_type": "code",
      "execution_count": null,
      "metadata": {
        "id": "icXVJ7iTx_Sh"
      },
      "outputs": [],
      "source": [
        "# Your answer here"
      ]
    },
    {
      "cell_type": "markdown",
      "metadata": {
        "id": "5E-42UwkyDDP"
      },
      "source": [
        "Given the above 'impact' dataframe, select rows 7 and 8 and display them using ```iloc```"
      ]
    },
    {
      "cell_type": "code",
      "execution_count": null,
      "metadata": {
        "id": "YWsmRi1Iyi-Z"
      },
      "outputs": [],
      "source": [
        "# Your answer here"
      ]
    },
    {
      "cell_type": "markdown",
      "metadata": {
        "id": "1FC3VKDRylCE"
      },
      "source": [
        "...using ```loc```"
      ]
    },
    {
      "cell_type": "code",
      "execution_count": null,
      "metadata": {
        "id": "_sTPXksGyp2E"
      },
      "outputs": [],
      "source": [
        "# Your answer here"
      ]
    },
    {
      "cell_type": "markdown",
      "metadata": {},
      "source": [
        "Create a new dataframe consisting of all rows of `impact` where `overall_score` is above 80. Then reset the row indices of this new dataframe inplace (i.e. don't create another new dataframe)."
      ]
    },
    {
      "cell_type": "markdown",
      "metadata": {
        "id": "34e6c1cc"
      },
      "source": [
        "## Summary statistics"
      ]
    },
    {
      "cell_type": "markdown",
      "metadata": {
        "id": "bdacf33f"
      },
      "source": [
        "For text data, it's often handy to see all the unique values of a column."
      ]
    },
    {
      "cell_type": "code",
      "execution_count": null,
      "metadata": {
        "id": "1086a649",
        "outputId": "020dce7f-ad04-4780-d36e-1e80504cb14d",
        "scrolled": true
      },
      "outputs": [
        {
          "data": {
            "text/plain": [
              "array(['certified', 'de-certified'], dtype=object)"
            ]
          },
          "metadata": {},
          "output_type": "display_data"
        }
      ],
      "source": [
        "impact[\"current_status\"].unique()"
      ]
    },
    {
      "cell_type": "code",
      "execution_count": null,
      "metadata": {
        "id": "414672fc",
        "outputId": "8cc8882f-577d-4033-c952-fc37cf8abde9",
        "scrolled": false
      },
      "outputs": [
        {
          "data": {
            "text/plain": [
              "array(['Mexico', 'Brazil', 'France', 'Italy', 'Argentina',\n",
              "       'United Kingdom', 'United States', 'Chile', 'Venezuela',\n",
              "       'Australia', 'Germany', 'Hong Kong S.A.R.', 'Paraguay', 'Colombia',\n",
              "       'Uruguay', 'Canada', 'Netherlands The', 'Guatemala', 'Rwanda',\n",
              "       'Japan', 'Singapore', 'Kenya', 'Nicaragua', 'Senegal',\n",
              "       'Switzerland', 'Spain', 'Taiwan', 'Benin', 'New Zealand', 'Egypt',\n",
              "       'Belgium', 'Peru', 'South Korea', 'Ecuador', 'Dominican Republic',\n",
              "       'Thailand', 'China', 'Sweden', 'Panama', 'Denmark', 'India',\n",
              "       'South Africa', 'Luxembourg', 'Poland', 'Malaysia', 'Cyprus',\n",
              "       'Czech Republic', 'Israel', 'Finland', 'Norway', 'Portugal',\n",
              "       'Zambia', 'Myanmar', 'Costa Rica', 'Greece', 'Turkey', 'Russia',\n",
              "       'Bolivia', 'Indonesia', 'Ireland', 'Vietnam', 'Belize', 'Iceland',\n",
              "       'Bangladesh', 'Mauritius', 'Honduras', 'Austria', 'Uganda',\n",
              "       'Philippines', 'Ghana', 'United Arab Emirates', 'Burkina Faso',\n",
              "       'Sierra Leone', 'Tanzania', 'Mozambique', 'Hungary', 'Haiti',\n",
              "       'Serbia', 'Bulgaria', 'Malta', 'Bahamas The', 'Afghanistan',\n",
              "       'Lebanon', 'Puerto Rico', 'Nigeria', 'Mongolia'], dtype=object)"
            ]
          },
          "metadata": {},
          "output_type": "display_data"
        }
      ],
      "source": [
        "impact[\"country\"].unique()"
      ]
    },
    {
      "cell_type": "markdown",
      "metadata": {
        "id": "2d47af2e"
      },
      "source": [
        "To see the unique values plus the counts, use `value_counts()`."
      ]
    },
    {
      "cell_type": "code",
      "execution_count": null,
      "metadata": {
        "id": "4da6b03d",
        "outputId": "ef706cca-1bf2-49c9-d8b7-a856390e2c5a"
      },
      "outputs": [
        {
          "data": {
            "text/plain": [
              "certified       6664\n",
              "de-certified    2135\n",
              "Name: current_status, dtype: int64"
            ]
          },
          "metadata": {},
          "output_type": "display_data"
        }
      ],
      "source": [
        "impact[\"current_status\"].value_counts()"
      ]
    },
    {
      "cell_type": "code",
      "execution_count": null,
      "metadata": {
        "id": "aeee7146",
        "outputId": "52543660-2157-4b6d-a40a-36d746a48472"
      },
      "outputs": [
        {
          "data": {
            "text/plain": [
              "Service with Minor Environmental Footprint          5007\n",
              "Wholesale/Retail                                    1731\n",
              "Manufacturing                                       1101\n",
              "Service with Significant Environmental Footprint     713\n",
              "Agriculture/Growers                                  225\n",
              "Service                                               22\n",
              "Name: sector, dtype: int64"
            ]
          },
          "metadata": {},
          "output_type": "display_data"
        }
      ],
      "source": [
        "impact[\"sector\"].value_counts()"
      ]
    },
    {
      "cell_type": "markdown",
      "metadata": {
        "id": "2af18fbc"
      },
      "source": [
        "We can also use `value_counts()` with more than 1 column. *Later, we'll see how we can also use `groupby` to get summaries of text data.*"
      ]
    },
    {
      "cell_type": "code",
      "execution_count": null,
      "metadata": {
        "id": "56d4c4a9",
        "outputId": "795c7660-537f-4dea-cff5-b3b93fd5f86d",
        "scrolled": false
      },
      "outputs": [
        {
          "data": {
            "text/plain": [
              "current_status  sector                                          \n",
              "certified       Service with Minor Environmental Footprint          3734\n",
              "de-certified    Service with Minor Environmental Footprint          1273\n",
              "certified       Wholesale/Retail                                    1267\n",
              "                Manufacturing                                        902\n",
              "                Service with Significant Environmental Footprint     565\n",
              "de-certified    Wholesale/Retail                                     464\n",
              "                Manufacturing                                        199\n",
              "certified       Agriculture/Growers                                  182\n",
              "de-certified    Service with Significant Environmental Footprint     148\n",
              "                Agriculture/Growers                                   43\n",
              "certified       Service                                               14\n",
              "de-certified    Service                                                8\n",
              "dtype: int64"
            ]
          },
          "metadata": {},
          "output_type": "display_data"
        }
      ],
      "source": [
        "impact[[\"current_status\", \"sector\"]].value_counts()"
      ]
    },
    {
      "cell_type": "markdown",
      "metadata": {
        "id": "df8c5110"
      },
      "source": [
        "For numeric data, `describe()` gives common summary statistics such as mean, standard deviation, min, and max."
      ]
    },
    {
      "cell_type": "code",
      "execution_count": null,
      "metadata": {
        "id": "6027e953",
        "outputId": "da5cb623-16e7-487b-8f05-cfff6dde2ed3",
        "scrolled": false
      },
      "outputs": [
        {
          "data": {
            "text/plain": [
              "count    8799.000000\n",
              "mean       95.988669\n",
              "std        16.125190\n",
              "min        78.200000\n",
              "25%        83.600000\n",
              "50%        90.900000\n",
              "75%       103.300000\n",
              "max       184.100000\n",
              "Name: overall_score, dtype: float64"
            ]
          },
          "metadata": {},
          "output_type": "display_data"
        }
      ],
      "source": [
        "impact[\"overall_score\"].describe()"
      ]
    },
    {
      "cell_type": "markdown",
      "metadata": {
        "id": "7b15086d"
      },
      "source": [
        "Other methods to get summary statistics include: `count()`, `mean()`, `min()`, `max()`, `sum()`."
      ]
    },
    {
      "cell_type": "markdown",
      "metadata": {
        "id": "6cbc461d"
      },
      "source": [
        "Get the average score across the dataset."
      ]
    },
    {
      "cell_type": "code",
      "execution_count": null,
      "metadata": {
        "id": "35391158",
        "outputId": "426337b2-9157-4f2f-ebb3-3fdfdb9ff1e8",
        "scrolled": true
      },
      "outputs": [
        {
          "data": {
            "text/plain": [
              "95.98866916695079"
            ]
          },
          "metadata": {},
          "output_type": "display_data"
        }
      ],
      "source": [
        "impact[\"overall_score\"].mean()"
      ]
    },
    {
      "cell_type": "markdown",
      "metadata": {
        "id": "971eb43a"
      },
      "source": [
        "Get the median score across the dataset."
      ]
    },
    {
      "cell_type": "code",
      "execution_count": null,
      "metadata": {
        "id": "7b3fe3cd",
        "outputId": "ab825416-33f5-46a2-fbd8-192ee8586236"
      },
      "outputs": [
        {
          "data": {
            "text/plain": [
              "90.9"
            ]
          },
          "metadata": {},
          "output_type": "display_data"
        }
      ],
      "source": [
        "impact[\"overall_score\"].median()"
      ]
    },
    {
      "cell_type": "markdown",
      "metadata": {
        "id": "a213c26c"
      },
      "source": [
        "Get summary statistics for more than 1 column."
      ]
    },
    {
      "cell_type": "code",
      "execution_count": null,
      "metadata": {
        "id": "5876476e",
        "outputId": "1c25f42a-f2a4-405f-8c65-9a017d5ae871",
        "scrolled": true
      },
      "outputs": [
        {
          "data": {
            "text/html": [
              "<div>\n",
              "<style scoped>\n",
              "    .dataframe tbody tr th:only-of-type {\n",
              "        vertical-align: middle;\n",
              "    }\n",
              "\n",
              "    .dataframe tbody tr th {\n",
              "        vertical-align: top;\n",
              "    }\n",
              "\n",
              "    .dataframe thead th {\n",
              "        text-align: right;\n",
              "    }\n",
              "</style>\n",
              "<table border=\"1\" class=\"dataframe\">\n",
              "  <thead>\n",
              "    <tr style=\"text-align: right;\">\n",
              "      <th></th>\n",
              "      <th>overall_score</th>\n",
              "      <th>assessment_year</th>\n",
              "    </tr>\n",
              "  </thead>\n",
              "  <tbody>\n",
              "    <tr>\n",
              "      <th>count</th>\n",
              "      <td>8799.000000</td>\n",
              "      <td>8799.000000</td>\n",
              "    </tr>\n",
              "    <tr>\n",
              "      <th>mean</th>\n",
              "      <td>95.988669</td>\n",
              "      <td>2016.715763</td>\n",
              "    </tr>\n",
              "    <tr>\n",
              "      <th>std</th>\n",
              "      <td>16.125190</td>\n",
              "      <td>2.679393</td>\n",
              "    </tr>\n",
              "    <tr>\n",
              "      <th>min</th>\n",
              "      <td>78.200000</td>\n",
              "      <td>2007.000000</td>\n",
              "    </tr>\n",
              "    <tr>\n",
              "      <th>25%</th>\n",
              "      <td>83.600000</td>\n",
              "      <td>2015.000000</td>\n",
              "    </tr>\n",
              "    <tr>\n",
              "      <th>50%</th>\n",
              "      <td>90.900000</td>\n",
              "      <td>2017.000000</td>\n",
              "    </tr>\n",
              "    <tr>\n",
              "      <th>75%</th>\n",
              "      <td>103.300000</td>\n",
              "      <td>2019.000000</td>\n",
              "    </tr>\n",
              "    <tr>\n",
              "      <th>max</th>\n",
              "      <td>184.100000</td>\n",
              "      <td>2021.000000</td>\n",
              "    </tr>\n",
              "  </tbody>\n",
              "</table>\n",
              "</div>"
            ],
            "text/plain": [
              "       overall_score  assessment_year\n",
              "count    8799.000000      8799.000000\n",
              "mean       95.988669      2016.715763\n",
              "std        16.125190         2.679393\n",
              "min        78.200000      2007.000000\n",
              "25%        83.600000      2015.000000\n",
              "50%        90.900000      2017.000000\n",
              "75%       103.300000      2019.000000\n",
              "max       184.100000      2021.000000"
            ]
          },
          "metadata": {},
          "output_type": "display_data"
        }
      ],
      "source": [
        "impact[[\"overall_score\", \"assessment_year\"]].describe()"
      ]
    },
    {
      "cell_type": "markdown",
      "metadata": {
        "id": "5d0dcf90"
      },
      "source": [
        "Use `agg()` to supply multiple summary statistics functions."
      ]
    },
    {
      "cell_type": "code",
      "execution_count": null,
      "metadata": {
        "id": "161b0622",
        "outputId": "3dc3e029-cf74-4690-a93e-10b5857f6f89",
        "scrolled": true
      },
      "outputs": [
        {
          "data": {
            "text/html": [
              "<div>\n",
              "<style scoped>\n",
              "    .dataframe tbody tr th:only-of-type {\n",
              "        vertical-align: middle;\n",
              "    }\n",
              "\n",
              "    .dataframe tbody tr th {\n",
              "        vertical-align: top;\n",
              "    }\n",
              "\n",
              "    .dataframe thead th {\n",
              "        text-align: right;\n",
              "    }\n",
              "</style>\n",
              "<table border=\"1\" class=\"dataframe\">\n",
              "  <thead>\n",
              "    <tr style=\"text-align: right;\">\n",
              "      <th></th>\n",
              "      <th>overall_score</th>\n",
              "      <th>assessment_year</th>\n",
              "    </tr>\n",
              "  </thead>\n",
              "  <tbody>\n",
              "    <tr>\n",
              "      <th>min</th>\n",
              "      <td>78.2</td>\n",
              "      <td>2007.0</td>\n",
              "    </tr>\n",
              "    <tr>\n",
              "      <th>median</th>\n",
              "      <td>90.9</td>\n",
              "      <td>2017.0</td>\n",
              "    </tr>\n",
              "    <tr>\n",
              "      <th>max</th>\n",
              "      <td>184.1</td>\n",
              "      <td>2021.0</td>\n",
              "    </tr>\n",
              "  </tbody>\n",
              "</table>\n",
              "</div>"
            ],
            "text/plain": [
              "        overall_score  assessment_year\n",
              "min              78.2           2007.0\n",
              "median           90.9           2017.0\n",
              "max             184.1           2021.0"
            ]
          },
          "metadata": {},
          "output_type": "display_data"
        }
      ],
      "source": [
        "impact[[\"overall_score\", \"assessment_year\"]].agg([\"min\", \"median\", \"max\"])"
      ]
    },
    {
      "cell_type": "markdown",
      "metadata": {
        "id": "ca93eaeb"
      },
      "source": [
        "### Add a new column"
      ]
    },
    {
      "cell_type": "markdown",
      "metadata": {
        "id": "wBKFtt7_n2sI"
      },
      "source": [
        "Let's look at the head of our `dataset` using `pandas`."
      ]
    },
    {
      "cell_type": "code",
      "execution_count": null,
      "metadata": {
        "id": "c89T2Iqsn2sI",
        "outputId": "ed5ffafa-bf99-44f2-c3a0-f00654361c47",
        "scrolled": true
      },
      "outputs": [
        {
          "data": {
            "text/html": [
              "<div>\n",
              "<style scoped>\n",
              "    .dataframe tbody tr th:only-of-type {\n",
              "        vertical-align: middle;\n",
              "    }\n",
              "\n",
              "    .dataframe tbody tr th {\n",
              "        vertical-align: top;\n",
              "    }\n",
              "\n",
              "    .dataframe thead th {\n",
              "        text-align: right;\n",
              "    }\n",
              "</style>\n",
              "<table border=\"1\" class=\"dataframe\">\n",
              "  <thead>\n",
              "    <tr style=\"text-align: right;\">\n",
              "      <th></th>\n",
              "      <th>company_id</th>\n",
              "      <th>company_name</th>\n",
              "      <th>date_first_certified</th>\n",
              "      <th>date_certified</th>\n",
              "      <th>current_status</th>\n",
              "      <th>description</th>\n",
              "      <th>industry</th>\n",
              "      <th>industry_category</th>\n",
              "      <th>products_and_services</th>\n",
              "      <th>country</th>\n",
              "      <th>...</th>\n",
              "      <th>city</th>\n",
              "      <th>sector</th>\n",
              "      <th>size</th>\n",
              "      <th>assessment_year</th>\n",
              "      <th>overall_score</th>\n",
              "      <th>impact_area_community</th>\n",
              "      <th>impact_area_customers</th>\n",
              "      <th>impact_area_environment</th>\n",
              "      <th>impact_area_governance</th>\n",
              "      <th>impact_area_workers</th>\n",
              "    </tr>\n",
              "  </thead>\n",
              "  <tbody>\n",
              "    <tr>\n",
              "      <th>0</th>\n",
              "      <td>001C000001LkZXSIA3</td>\n",
              "      <td>Someone Somewhere</td>\n",
              "      <td>2017-08-30</td>\n",
              "      <td>2021-02-26</td>\n",
              "      <td>certified</td>\n",
              "      <td>Someone Somewhere is a vertically integrated a...</td>\n",
              "      <td>Apparel, Footwear &amp; Accessories</td>\n",
              "      <td>Consumer Products &amp; Services</td>\n",
              "      <td>Clothing and garments with artisanal textiles ...</td>\n",
              "      <td>Mexico</td>\n",
              "      <td>...</td>\n",
              "      <td>Ciudad Mexico</td>\n",
              "      <td>Wholesale/Retail</td>\n",
              "      <td>10-49</td>\n",
              "      <td>2020</td>\n",
              "      <td>87.1</td>\n",
              "      <td>27.1</td>\n",
              "      <td>14.2</td>\n",
              "      <td>11.9</td>\n",
              "      <td>14.4</td>\n",
              "      <td>19.3</td>\n",
              "    </tr>\n",
              "    <tr>\n",
              "      <th>1</th>\n",
              "      <td>001C000001LkZXSIA3</td>\n",
              "      <td>Someone Somewhere</td>\n",
              "      <td>2017-08-30</td>\n",
              "      <td>2017-08-30</td>\n",
              "      <td>certified</td>\n",
              "      <td>Someone Somewhere is a vertically integrated a...</td>\n",
              "      <td>Apparel, Footwear &amp; Accessories</td>\n",
              "      <td>Consumer Products &amp; Services</td>\n",
              "      <td>Clothing and garments with artisanal textiles ...</td>\n",
              "      <td>Mexico</td>\n",
              "      <td>...</td>\n",
              "      <td>Ciudad Mexico</td>\n",
              "      <td>Wholesale/Retail</td>\n",
              "      <td>0</td>\n",
              "      <td>2017</td>\n",
              "      <td>100.8</td>\n",
              "      <td>74.0</td>\n",
              "      <td>8.3</td>\n",
              "      <td>5.8</td>\n",
              "      <td>12.7</td>\n",
              "      <td>NaN</td>\n",
              "    </tr>\n",
              "    <tr>\n",
              "      <th>2</th>\n",
              "      <td>001C000001bVjmIIAS</td>\n",
              "      <td>Boomera</td>\n",
              "      <td>2017-12-27</td>\n",
              "      <td>2017-12-27</td>\n",
              "      <td>certified</td>\n",
              "      <td>Boomera work with cutting-edge technology and ...</td>\n",
              "      <td>Recycling Services &amp; Waste Management</td>\n",
              "      <td>Energy &amp; Environmental Services</td>\n",
              "      <td>recycling, upcycling</td>\n",
              "      <td>Brazil</td>\n",
              "      <td>...</td>\n",
              "      <td>São Paulo</td>\n",
              "      <td>Manufacturing</td>\n",
              "      <td>50-249</td>\n",
              "      <td>2017</td>\n",
              "      <td>96.1</td>\n",
              "      <td>15.1</td>\n",
              "      <td>0.0</td>\n",
              "      <td>52.4</td>\n",
              "      <td>7.9</td>\n",
              "      <td>20.7</td>\n",
              "    </tr>\n",
              "    <tr>\n",
              "      <th>3</th>\n",
              "      <td>0013b00001nESw5AAG</td>\n",
              "      <td>ekWateur</td>\n",
              "      <td>2021-02-22</td>\n",
              "      <td>2021-02-22</td>\n",
              "      <td>certified</td>\n",
              "      <td>ekWateur propose de l’électricité, du gaz et d...</td>\n",
              "      <td>Renewable Energy Generation &amp; Installation</td>\n",
              "      <td>Energy &amp; Environmental Services</td>\n",
              "      <td>Electricité, gaz et bois renouvelables.</td>\n",
              "      <td>France</td>\n",
              "      <td>...</td>\n",
              "      <td>Paris</td>\n",
              "      <td>Service with Significant Environmental Footprint</td>\n",
              "      <td>50-249</td>\n",
              "      <td>2019</td>\n",
              "      <td>89.0</td>\n",
              "      <td>17.2</td>\n",
              "      <td>5.0</td>\n",
              "      <td>28.4</td>\n",
              "      <td>8.2</td>\n",
              "      <td>30.1</td>\n",
              "    </tr>\n",
              "    <tr>\n",
              "      <th>4</th>\n",
              "      <td>001C000001afeGsIAI</td>\n",
              "      <td>Maker srl</td>\n",
              "      <td>2017-05-19</td>\n",
              "      <td>2021-02-19</td>\n",
              "      <td>certified</td>\n",
              "      <td>Maker srl provides mechanical parts and mainte...</td>\n",
              "      <td>Machinery &amp; Equipment</td>\n",
              "      <td>Business Products &amp; Services</td>\n",
              "      <td>Mechanical parts and maintenance services for ...</td>\n",
              "      <td>Italy</td>\n",
              "      <td>...</td>\n",
              "      <td>Berbenno di Valtellina</td>\n",
              "      <td>Manufacturing</td>\n",
              "      <td>10-49</td>\n",
              "      <td>2019</td>\n",
              "      <td>80.4</td>\n",
              "      <td>18.3</td>\n",
              "      <td>4.3</td>\n",
              "      <td>18.3</td>\n",
              "      <td>17.1</td>\n",
              "      <td>22.2</td>\n",
              "    </tr>\n",
              "  </tbody>\n",
              "</table>\n",
              "<p>5 rows × 21 columns</p>\n",
              "</div>"
            ],
            "text/plain": [
              "           company_id       company_name date_first_certified date_certified  \\\n",
              "0  001C000001LkZXSIA3  Someone Somewhere           2017-08-30     2021-02-26   \n",
              "1  001C000001LkZXSIA3  Someone Somewhere           2017-08-30     2017-08-30   \n",
              "2  001C000001bVjmIIAS            Boomera           2017-12-27     2017-12-27   \n",
              "3  0013b00001nESw5AAG           ekWateur           2021-02-22     2021-02-22   \n",
              "4  001C000001afeGsIAI          Maker srl           2017-05-19     2021-02-19   \n",
              "\n",
              "  current_status                                        description  \\\n",
              "0      certified  Someone Somewhere is a vertically integrated a...   \n",
              "1      certified  Someone Somewhere is a vertically integrated a...   \n",
              "2      certified  Boomera work with cutting-edge technology and ...   \n",
              "3      certified  ekWateur propose de l’électricité, du gaz et d...   \n",
              "4      certified  Maker srl provides mechanical parts and mainte...   \n",
              "\n",
              "                                     industry  \\\n",
              "0             Apparel, Footwear & Accessories   \n",
              "1             Apparel, Footwear & Accessories   \n",
              "2       Recycling Services & Waste Management   \n",
              "3  Renewable Energy Generation & Installation   \n",
              "4                       Machinery & Equipment   \n",
              "\n",
              "                 industry_category  \\\n",
              "0     Consumer Products & Services   \n",
              "1     Consumer Products & Services   \n",
              "2  Energy & Environmental Services   \n",
              "3  Energy & Environmental Services   \n",
              "4     Business Products & Services   \n",
              "\n",
              "                               products_and_services country  ...  \\\n",
              "0  Clothing and garments with artisanal textiles ...  Mexico  ...   \n",
              "1  Clothing and garments with artisanal textiles ...  Mexico  ...   \n",
              "2                               recycling, upcycling  Brazil  ...   \n",
              "3            Electricité, gaz et bois renouvelables.  France  ...   \n",
              "4  Mechanical parts and maintenance services for ...   Italy  ...   \n",
              "\n",
              "                     city                                            sector  \\\n",
              "0           Ciudad Mexico                                  Wholesale/Retail   \n",
              "1           Ciudad Mexico                                  Wholesale/Retail   \n",
              "2               São Paulo                                     Manufacturing   \n",
              "3                   Paris  Service with Significant Environmental Footprint   \n",
              "4  Berbenno di Valtellina                                     Manufacturing   \n",
              "\n",
              "      size assessment_year  overall_score  impact_area_community  \\\n",
              "0    10-49            2020           87.1                   27.1   \n",
              "1        0            2017          100.8                   74.0   \n",
              "2   50-249            2017           96.1                   15.1   \n",
              "3   50-249            2019           89.0                   17.2   \n",
              "4    10-49            2019           80.4                   18.3   \n",
              "\n",
              "   impact_area_customers  impact_area_environment  impact_area_governance  \\\n",
              "0                   14.2                     11.9                    14.4   \n",
              "1                    8.3                      5.8                    12.7   \n",
              "2                    0.0                     52.4                     7.9   \n",
              "3                    5.0                     28.4                     8.2   \n",
              "4                    4.3                     18.3                    17.1   \n",
              "\n",
              "   impact_area_workers  \n",
              "0                 19.3  \n",
              "1                  NaN  \n",
              "2                 20.7  \n",
              "3                 30.1  \n",
              "4                 22.2  \n",
              "\n",
              "[5 rows x 21 columns]"
            ]
          },
          "metadata": {},
          "output_type": "display_data"
        }
      ],
      "source": [
        "impact.head()"
      ]
    },
    {
      "cell_type": "markdown",
      "metadata": {
        "id": "65745326"
      },
      "source": [
        "We can create a new column like so:"
      ]
    },
    {
      "cell_type": "code",
      "execution_count": null,
      "metadata": {
        "id": "140b656b"
      },
      "outputs": [],
      "source": [
        "impact[\"new_col\"] = \"hello I'm new\""
      ]
    },
    {
      "cell_type": "code",
      "execution_count": null,
      "metadata": {
        "id": "fd3e4615",
        "outputId": "a6569f7d-e936-4918-8ba5-bc6f35a36308",
        "scrolled": true
      },
      "outputs": [
        {
          "data": {
            "text/html": [
              "<div>\n",
              "<style scoped>\n",
              "    .dataframe tbody tr th:only-of-type {\n",
              "        vertical-align: middle;\n",
              "    }\n",
              "\n",
              "    .dataframe tbody tr th {\n",
              "        vertical-align: top;\n",
              "    }\n",
              "\n",
              "    .dataframe thead th {\n",
              "        text-align: right;\n",
              "    }\n",
              "</style>\n",
              "<table border=\"1\" class=\"dataframe\">\n",
              "  <thead>\n",
              "    <tr style=\"text-align: right;\">\n",
              "      <th></th>\n",
              "      <th>company_id</th>\n",
              "      <th>company_name</th>\n",
              "      <th>date_first_certified</th>\n",
              "      <th>date_certified</th>\n",
              "      <th>current_status</th>\n",
              "      <th>description</th>\n",
              "      <th>industry</th>\n",
              "      <th>industry_category</th>\n",
              "      <th>products_and_services</th>\n",
              "      <th>country</th>\n",
              "      <th>...</th>\n",
              "      <th>sector</th>\n",
              "      <th>size</th>\n",
              "      <th>assessment_year</th>\n",
              "      <th>overall_score</th>\n",
              "      <th>impact_area_community</th>\n",
              "      <th>impact_area_customers</th>\n",
              "      <th>impact_area_environment</th>\n",
              "      <th>impact_area_governance</th>\n",
              "      <th>impact_area_workers</th>\n",
              "      <th>new_col</th>\n",
              "    </tr>\n",
              "  </thead>\n",
              "  <tbody>\n",
              "    <tr>\n",
              "      <th>0</th>\n",
              "      <td>001C000001LkZXSIA3</td>\n",
              "      <td>Someone Somewhere</td>\n",
              "      <td>2017-08-30</td>\n",
              "      <td>2021-02-26</td>\n",
              "      <td>certified</td>\n",
              "      <td>Someone Somewhere is a vertically integrated a...</td>\n",
              "      <td>Apparel, Footwear &amp; Accessories</td>\n",
              "      <td>Consumer Products &amp; Services</td>\n",
              "      <td>Clothing and garments with artisanal textiles ...</td>\n",
              "      <td>Mexico</td>\n",
              "      <td>...</td>\n",
              "      <td>Wholesale/Retail</td>\n",
              "      <td>10-49</td>\n",
              "      <td>2020</td>\n",
              "      <td>87.1</td>\n",
              "      <td>27.1</td>\n",
              "      <td>14.2</td>\n",
              "      <td>11.9</td>\n",
              "      <td>14.4</td>\n",
              "      <td>19.3</td>\n",
              "      <td>hello I'm new</td>\n",
              "    </tr>\n",
              "    <tr>\n",
              "      <th>1</th>\n",
              "      <td>001C000001LkZXSIA3</td>\n",
              "      <td>Someone Somewhere</td>\n",
              "      <td>2017-08-30</td>\n",
              "      <td>2017-08-30</td>\n",
              "      <td>certified</td>\n",
              "      <td>Someone Somewhere is a vertically integrated a...</td>\n",
              "      <td>Apparel, Footwear &amp; Accessories</td>\n",
              "      <td>Consumer Products &amp; Services</td>\n",
              "      <td>Clothing and garments with artisanal textiles ...</td>\n",
              "      <td>Mexico</td>\n",
              "      <td>...</td>\n",
              "      <td>Wholesale/Retail</td>\n",
              "      <td>0</td>\n",
              "      <td>2017</td>\n",
              "      <td>100.8</td>\n",
              "      <td>74.0</td>\n",
              "      <td>8.3</td>\n",
              "      <td>5.8</td>\n",
              "      <td>12.7</td>\n",
              "      <td>NaN</td>\n",
              "      <td>hello I'm new</td>\n",
              "    </tr>\n",
              "    <tr>\n",
              "      <th>2</th>\n",
              "      <td>001C000001bVjmIIAS</td>\n",
              "      <td>Boomera</td>\n",
              "      <td>2017-12-27</td>\n",
              "      <td>2017-12-27</td>\n",
              "      <td>certified</td>\n",
              "      <td>Boomera work with cutting-edge technology and ...</td>\n",
              "      <td>Recycling Services &amp; Waste Management</td>\n",
              "      <td>Energy &amp; Environmental Services</td>\n",
              "      <td>recycling, upcycling</td>\n",
              "      <td>Brazil</td>\n",
              "      <td>...</td>\n",
              "      <td>Manufacturing</td>\n",
              "      <td>50-249</td>\n",
              "      <td>2017</td>\n",
              "      <td>96.1</td>\n",
              "      <td>15.1</td>\n",
              "      <td>0.0</td>\n",
              "      <td>52.4</td>\n",
              "      <td>7.9</td>\n",
              "      <td>20.7</td>\n",
              "      <td>hello I'm new</td>\n",
              "    </tr>\n",
              "    <tr>\n",
              "      <th>3</th>\n",
              "      <td>0013b00001nESw5AAG</td>\n",
              "      <td>ekWateur</td>\n",
              "      <td>2021-02-22</td>\n",
              "      <td>2021-02-22</td>\n",
              "      <td>certified</td>\n",
              "      <td>ekWateur propose de l’électricité, du gaz et d...</td>\n",
              "      <td>Renewable Energy Generation &amp; Installation</td>\n",
              "      <td>Energy &amp; Environmental Services</td>\n",
              "      <td>Electricité, gaz et bois renouvelables.</td>\n",
              "      <td>France</td>\n",
              "      <td>...</td>\n",
              "      <td>Service with Significant Environmental Footprint</td>\n",
              "      <td>50-249</td>\n",
              "      <td>2019</td>\n",
              "      <td>89.0</td>\n",
              "      <td>17.2</td>\n",
              "      <td>5.0</td>\n",
              "      <td>28.4</td>\n",
              "      <td>8.2</td>\n",
              "      <td>30.1</td>\n",
              "      <td>hello I'm new</td>\n",
              "    </tr>\n",
              "    <tr>\n",
              "      <th>4</th>\n",
              "      <td>001C000001afeGsIAI</td>\n",
              "      <td>Maker srl</td>\n",
              "      <td>2017-05-19</td>\n",
              "      <td>2021-02-19</td>\n",
              "      <td>certified</td>\n",
              "      <td>Maker srl provides mechanical parts and mainte...</td>\n",
              "      <td>Machinery &amp; Equipment</td>\n",
              "      <td>Business Products &amp; Services</td>\n",
              "      <td>Mechanical parts and maintenance services for ...</td>\n",
              "      <td>Italy</td>\n",
              "      <td>...</td>\n",
              "      <td>Manufacturing</td>\n",
              "      <td>10-49</td>\n",
              "      <td>2019</td>\n",
              "      <td>80.4</td>\n",
              "      <td>18.3</td>\n",
              "      <td>4.3</td>\n",
              "      <td>18.3</td>\n",
              "      <td>17.1</td>\n",
              "      <td>22.2</td>\n",
              "      <td>hello I'm new</td>\n",
              "    </tr>\n",
              "  </tbody>\n",
              "</table>\n",
              "<p>5 rows × 22 columns</p>\n",
              "</div>"
            ],
            "text/plain": [
              "           company_id       company_name date_first_certified date_certified  \\\n",
              "0  001C000001LkZXSIA3  Someone Somewhere           2017-08-30     2021-02-26   \n",
              "1  001C000001LkZXSIA3  Someone Somewhere           2017-08-30     2017-08-30   \n",
              "2  001C000001bVjmIIAS            Boomera           2017-12-27     2017-12-27   \n",
              "3  0013b00001nESw5AAG           ekWateur           2021-02-22     2021-02-22   \n",
              "4  001C000001afeGsIAI          Maker srl           2017-05-19     2021-02-19   \n",
              "\n",
              "  current_status                                        description  \\\n",
              "0      certified  Someone Somewhere is a vertically integrated a...   \n",
              "1      certified  Someone Somewhere is a vertically integrated a...   \n",
              "2      certified  Boomera work with cutting-edge technology and ...   \n",
              "3      certified  ekWateur propose de l’électricité, du gaz et d...   \n",
              "4      certified  Maker srl provides mechanical parts and mainte...   \n",
              "\n",
              "                                     industry  \\\n",
              "0             Apparel, Footwear & Accessories   \n",
              "1             Apparel, Footwear & Accessories   \n",
              "2       Recycling Services & Waste Management   \n",
              "3  Renewable Energy Generation & Installation   \n",
              "4                       Machinery & Equipment   \n",
              "\n",
              "                 industry_category  \\\n",
              "0     Consumer Products & Services   \n",
              "1     Consumer Products & Services   \n",
              "2  Energy & Environmental Services   \n",
              "3  Energy & Environmental Services   \n",
              "4     Business Products & Services   \n",
              "\n",
              "                               products_and_services country  ...  \\\n",
              "0  Clothing and garments with artisanal textiles ...  Mexico  ...   \n",
              "1  Clothing and garments with artisanal textiles ...  Mexico  ...   \n",
              "2                               recycling, upcycling  Brazil  ...   \n",
              "3            Electricité, gaz et bois renouvelables.  France  ...   \n",
              "4  Mechanical parts and maintenance services for ...   Italy  ...   \n",
              "\n",
              "                                             sector     size assessment_year  \\\n",
              "0                                  Wholesale/Retail    10-49            2020   \n",
              "1                                  Wholesale/Retail        0            2017   \n",
              "2                                     Manufacturing   50-249            2017   \n",
              "3  Service with Significant Environmental Footprint   50-249            2019   \n",
              "4                                     Manufacturing    10-49            2019   \n",
              "\n",
              "  overall_score  impact_area_community  impact_area_customers  \\\n",
              "0          87.1                   27.1                   14.2   \n",
              "1         100.8                   74.0                    8.3   \n",
              "2          96.1                   15.1                    0.0   \n",
              "3          89.0                   17.2                    5.0   \n",
              "4          80.4                   18.3                    4.3   \n",
              "\n",
              "   impact_area_environment  impact_area_governance  impact_area_workers  \\\n",
              "0                     11.9                    14.4                 19.3   \n",
              "1                      5.8                    12.7                  NaN   \n",
              "2                     52.4                     7.9                 20.7   \n",
              "3                     28.4                     8.2                 30.1   \n",
              "4                     18.3                    17.1                 22.2   \n",
              "\n",
              "         new_col  \n",
              "0  hello I'm new  \n",
              "1  hello I'm new  \n",
              "2  hello I'm new  \n",
              "3  hello I'm new  \n",
              "4  hello I'm new  \n",
              "\n",
              "[5 rows x 22 columns]"
            ]
          },
          "metadata": {},
          "output_type": "display_data"
        }
      ],
      "source": [
        "impact.head()"
      ]
    },
    {
      "cell_type": "markdown",
      "metadata": {
        "id": "16f9715c"
      },
      "source": [
        "### Modify an existing column"
      ]
    },
    {
      "cell_type": "markdown",
      "metadata": {
        "id": "797ff5a0"
      },
      "source": [
        "We can use similar syntax to modify an existing column. Note that this overwrites the values in that column."
      ]
    },
    {
      "cell_type": "code",
      "execution_count": null,
      "metadata": {
        "id": "affa3142",
        "scrolled": true
      },
      "outputs": [],
      "source": [
        "impact[\"new_col\"] = impact[\"overall_score\"].max()"
      ]
    },
    {
      "cell_type": "code",
      "execution_count": null,
      "metadata": {
        "id": "9ff42e7a",
        "outputId": "9cfe786b-9463-4703-a972-158759c79bbb"
      },
      "outputs": [
        {
          "data": {
            "text/html": [
              "<div>\n",
              "<style scoped>\n",
              "    .dataframe tbody tr th:only-of-type {\n",
              "        vertical-align: middle;\n",
              "    }\n",
              "\n",
              "    .dataframe tbody tr th {\n",
              "        vertical-align: top;\n",
              "    }\n",
              "\n",
              "    .dataframe thead th {\n",
              "        text-align: right;\n",
              "    }\n",
              "</style>\n",
              "<table border=\"1\" class=\"dataframe\">\n",
              "  <thead>\n",
              "    <tr style=\"text-align: right;\">\n",
              "      <th></th>\n",
              "      <th>company_id</th>\n",
              "      <th>company_name</th>\n",
              "      <th>date_first_certified</th>\n",
              "      <th>date_certified</th>\n",
              "      <th>current_status</th>\n",
              "      <th>description</th>\n",
              "      <th>industry</th>\n",
              "      <th>industry_category</th>\n",
              "      <th>products_and_services</th>\n",
              "      <th>country</th>\n",
              "      <th>...</th>\n",
              "      <th>sector</th>\n",
              "      <th>size</th>\n",
              "      <th>assessment_year</th>\n",
              "      <th>overall_score</th>\n",
              "      <th>impact_area_community</th>\n",
              "      <th>impact_area_customers</th>\n",
              "      <th>impact_area_environment</th>\n",
              "      <th>impact_area_governance</th>\n",
              "      <th>impact_area_workers</th>\n",
              "      <th>new_col</th>\n",
              "    </tr>\n",
              "  </thead>\n",
              "  <tbody>\n",
              "    <tr>\n",
              "      <th>0</th>\n",
              "      <td>001C000001LkZXSIA3</td>\n",
              "      <td>Someone Somewhere</td>\n",
              "      <td>2017-08-30</td>\n",
              "      <td>2021-02-26</td>\n",
              "      <td>certified</td>\n",
              "      <td>Someone Somewhere is a vertically integrated a...</td>\n",
              "      <td>Apparel, Footwear &amp; Accessories</td>\n",
              "      <td>Consumer Products &amp; Services</td>\n",
              "      <td>Clothing and garments with artisanal textiles ...</td>\n",
              "      <td>Mexico</td>\n",
              "      <td>...</td>\n",
              "      <td>Wholesale/Retail</td>\n",
              "      <td>10-49</td>\n",
              "      <td>2020</td>\n",
              "      <td>87.1</td>\n",
              "      <td>27.1</td>\n",
              "      <td>14.2</td>\n",
              "      <td>11.9</td>\n",
              "      <td>14.4</td>\n",
              "      <td>19.3</td>\n",
              "      <td>184.1</td>\n",
              "    </tr>\n",
              "    <tr>\n",
              "      <th>1</th>\n",
              "      <td>001C000001LkZXSIA3</td>\n",
              "      <td>Someone Somewhere</td>\n",
              "      <td>2017-08-30</td>\n",
              "      <td>2017-08-30</td>\n",
              "      <td>certified</td>\n",
              "      <td>Someone Somewhere is a vertically integrated a...</td>\n",
              "      <td>Apparel, Footwear &amp; Accessories</td>\n",
              "      <td>Consumer Products &amp; Services</td>\n",
              "      <td>Clothing and garments with artisanal textiles ...</td>\n",
              "      <td>Mexico</td>\n",
              "      <td>...</td>\n",
              "      <td>Wholesale/Retail</td>\n",
              "      <td>0</td>\n",
              "      <td>2017</td>\n",
              "      <td>100.8</td>\n",
              "      <td>74.0</td>\n",
              "      <td>8.3</td>\n",
              "      <td>5.8</td>\n",
              "      <td>12.7</td>\n",
              "      <td>NaN</td>\n",
              "      <td>184.1</td>\n",
              "    </tr>\n",
              "    <tr>\n",
              "      <th>2</th>\n",
              "      <td>001C000001bVjmIIAS</td>\n",
              "      <td>Boomera</td>\n",
              "      <td>2017-12-27</td>\n",
              "      <td>2017-12-27</td>\n",
              "      <td>certified</td>\n",
              "      <td>Boomera work with cutting-edge technology and ...</td>\n",
              "      <td>Recycling Services &amp; Waste Management</td>\n",
              "      <td>Energy &amp; Environmental Services</td>\n",
              "      <td>recycling, upcycling</td>\n",
              "      <td>Brazil</td>\n",
              "      <td>...</td>\n",
              "      <td>Manufacturing</td>\n",
              "      <td>50-249</td>\n",
              "      <td>2017</td>\n",
              "      <td>96.1</td>\n",
              "      <td>15.1</td>\n",
              "      <td>0.0</td>\n",
              "      <td>52.4</td>\n",
              "      <td>7.9</td>\n",
              "      <td>20.7</td>\n",
              "      <td>184.1</td>\n",
              "    </tr>\n",
              "    <tr>\n",
              "      <th>3</th>\n",
              "      <td>0013b00001nESw5AAG</td>\n",
              "      <td>ekWateur</td>\n",
              "      <td>2021-02-22</td>\n",
              "      <td>2021-02-22</td>\n",
              "      <td>certified</td>\n",
              "      <td>ekWateur propose de l’électricité, du gaz et d...</td>\n",
              "      <td>Renewable Energy Generation &amp; Installation</td>\n",
              "      <td>Energy &amp; Environmental Services</td>\n",
              "      <td>Electricité, gaz et bois renouvelables.</td>\n",
              "      <td>France</td>\n",
              "      <td>...</td>\n",
              "      <td>Service with Significant Environmental Footprint</td>\n",
              "      <td>50-249</td>\n",
              "      <td>2019</td>\n",
              "      <td>89.0</td>\n",
              "      <td>17.2</td>\n",
              "      <td>5.0</td>\n",
              "      <td>28.4</td>\n",
              "      <td>8.2</td>\n",
              "      <td>30.1</td>\n",
              "      <td>184.1</td>\n",
              "    </tr>\n",
              "    <tr>\n",
              "      <th>4</th>\n",
              "      <td>001C000001afeGsIAI</td>\n",
              "      <td>Maker srl</td>\n",
              "      <td>2017-05-19</td>\n",
              "      <td>2021-02-19</td>\n",
              "      <td>certified</td>\n",
              "      <td>Maker srl provides mechanical parts and mainte...</td>\n",
              "      <td>Machinery &amp; Equipment</td>\n",
              "      <td>Business Products &amp; Services</td>\n",
              "      <td>Mechanical parts and maintenance services for ...</td>\n",
              "      <td>Italy</td>\n",
              "      <td>...</td>\n",
              "      <td>Manufacturing</td>\n",
              "      <td>10-49</td>\n",
              "      <td>2019</td>\n",
              "      <td>80.4</td>\n",
              "      <td>18.3</td>\n",
              "      <td>4.3</td>\n",
              "      <td>18.3</td>\n",
              "      <td>17.1</td>\n",
              "      <td>22.2</td>\n",
              "      <td>184.1</td>\n",
              "    </tr>\n",
              "  </tbody>\n",
              "</table>\n",
              "<p>5 rows × 22 columns</p>\n",
              "</div>"
            ],
            "text/plain": [
              "           company_id       company_name date_first_certified date_certified  \\\n",
              "0  001C000001LkZXSIA3  Someone Somewhere           2017-08-30     2021-02-26   \n",
              "1  001C000001LkZXSIA3  Someone Somewhere           2017-08-30     2017-08-30   \n",
              "2  001C000001bVjmIIAS            Boomera           2017-12-27     2017-12-27   \n",
              "3  0013b00001nESw5AAG           ekWateur           2021-02-22     2021-02-22   \n",
              "4  001C000001afeGsIAI          Maker srl           2017-05-19     2021-02-19   \n",
              "\n",
              "  current_status                                        description  \\\n",
              "0      certified  Someone Somewhere is a vertically integrated a...   \n",
              "1      certified  Someone Somewhere is a vertically integrated a...   \n",
              "2      certified  Boomera work with cutting-edge technology and ...   \n",
              "3      certified  ekWateur propose de l’électricité, du gaz et d...   \n",
              "4      certified  Maker srl provides mechanical parts and mainte...   \n",
              "\n",
              "                                     industry  \\\n",
              "0             Apparel, Footwear & Accessories   \n",
              "1             Apparel, Footwear & Accessories   \n",
              "2       Recycling Services & Waste Management   \n",
              "3  Renewable Energy Generation & Installation   \n",
              "4                       Machinery & Equipment   \n",
              "\n",
              "                 industry_category  \\\n",
              "0     Consumer Products & Services   \n",
              "1     Consumer Products & Services   \n",
              "2  Energy & Environmental Services   \n",
              "3  Energy & Environmental Services   \n",
              "4     Business Products & Services   \n",
              "\n",
              "                               products_and_services country  ...  \\\n",
              "0  Clothing and garments with artisanal textiles ...  Mexico  ...   \n",
              "1  Clothing and garments with artisanal textiles ...  Mexico  ...   \n",
              "2                               recycling, upcycling  Brazil  ...   \n",
              "3            Electricité, gaz et bois renouvelables.  France  ...   \n",
              "4  Mechanical parts and maintenance services for ...   Italy  ...   \n",
              "\n",
              "                                             sector     size assessment_year  \\\n",
              "0                                  Wholesale/Retail    10-49            2020   \n",
              "1                                  Wholesale/Retail        0            2017   \n",
              "2                                     Manufacturing   50-249            2017   \n",
              "3  Service with Significant Environmental Footprint   50-249            2019   \n",
              "4                                     Manufacturing    10-49            2019   \n",
              "\n",
              "  overall_score  impact_area_community  impact_area_customers  \\\n",
              "0          87.1                   27.1                   14.2   \n",
              "1         100.8                   74.0                    8.3   \n",
              "2          96.1                   15.1                    0.0   \n",
              "3          89.0                   17.2                    5.0   \n",
              "4          80.4                   18.3                    4.3   \n",
              "\n",
              "   impact_area_environment  impact_area_governance  impact_area_workers  \\\n",
              "0                     11.9                    14.4                 19.3   \n",
              "1                      5.8                    12.7                  NaN   \n",
              "2                     52.4                     7.9                 20.7   \n",
              "3                     28.4                     8.2                 30.1   \n",
              "4                     18.3                    17.1                 22.2   \n",
              "\n",
              "   new_col  \n",
              "0    184.1  \n",
              "1    184.1  \n",
              "2    184.1  \n",
              "3    184.1  \n",
              "4    184.1  \n",
              "\n",
              "[5 rows x 22 columns]"
            ]
          },
          "metadata": {},
          "output_type": "display_data"
        }
      ],
      "source": [
        "impact.head()"
      ]
    },
    {
      "cell_type": "markdown",
      "metadata": {
        "id": "c19daf63"
      },
      "source": [
        "Create a new column for the scaled version of `overall_score`."
      ]
    },
    {
      "cell_type": "code",
      "execution_count": null,
      "metadata": {
        "id": "a114bb29"
      },
      "outputs": [],
      "source": [
        "impact[\"overall_score_scaled\"] = impact[\"overall_score\"] / impact[\"overall_score\"].max() * 100"
      ]
    },
    {
      "cell_type": "code",
      "execution_count": null,
      "metadata": {
        "id": "e540844b",
        "outputId": "39d4edd9-9ad3-4705-abb6-e9cda0f2c490"
      },
      "outputs": [
        {
          "data": {
            "text/html": [
              "<div>\n",
              "<style scoped>\n",
              "    .dataframe tbody tr th:only-of-type {\n",
              "        vertical-align: middle;\n",
              "    }\n",
              "\n",
              "    .dataframe tbody tr th {\n",
              "        vertical-align: top;\n",
              "    }\n",
              "\n",
              "    .dataframe thead th {\n",
              "        text-align: right;\n",
              "    }\n",
              "</style>\n",
              "<table border=\"1\" class=\"dataframe\">\n",
              "  <thead>\n",
              "    <tr style=\"text-align: right;\">\n",
              "      <th></th>\n",
              "      <th>company_id</th>\n",
              "      <th>company_name</th>\n",
              "      <th>date_first_certified</th>\n",
              "      <th>date_certified</th>\n",
              "      <th>current_status</th>\n",
              "      <th>description</th>\n",
              "      <th>industry</th>\n",
              "      <th>industry_category</th>\n",
              "      <th>products_and_services</th>\n",
              "      <th>country</th>\n",
              "      <th>...</th>\n",
              "      <th>size</th>\n",
              "      <th>assessment_year</th>\n",
              "      <th>overall_score</th>\n",
              "      <th>impact_area_community</th>\n",
              "      <th>impact_area_customers</th>\n",
              "      <th>impact_area_environment</th>\n",
              "      <th>impact_area_governance</th>\n",
              "      <th>impact_area_workers</th>\n",
              "      <th>new_col</th>\n",
              "      <th>overall_score_scaled</th>\n",
              "    </tr>\n",
              "  </thead>\n",
              "  <tbody>\n",
              "    <tr>\n",
              "      <th>0</th>\n",
              "      <td>001C000001LkZXSIA3</td>\n",
              "      <td>Someone Somewhere</td>\n",
              "      <td>2017-08-30</td>\n",
              "      <td>2021-02-26</td>\n",
              "      <td>certified</td>\n",
              "      <td>Someone Somewhere is a vertically integrated a...</td>\n",
              "      <td>Apparel, Footwear &amp; Accessories</td>\n",
              "      <td>Consumer Products &amp; Services</td>\n",
              "      <td>Clothing and garments with artisanal textiles ...</td>\n",
              "      <td>Mexico</td>\n",
              "      <td>...</td>\n",
              "      <td>10-49</td>\n",
              "      <td>2020</td>\n",
              "      <td>87.1</td>\n",
              "      <td>27.1</td>\n",
              "      <td>14.2</td>\n",
              "      <td>11.9</td>\n",
              "      <td>14.4</td>\n",
              "      <td>19.3</td>\n",
              "      <td>184.1</td>\n",
              "      <td>47.311244</td>\n",
              "    </tr>\n",
              "    <tr>\n",
              "      <th>1</th>\n",
              "      <td>001C000001LkZXSIA3</td>\n",
              "      <td>Someone Somewhere</td>\n",
              "      <td>2017-08-30</td>\n",
              "      <td>2017-08-30</td>\n",
              "      <td>certified</td>\n",
              "      <td>Someone Somewhere is a vertically integrated a...</td>\n",
              "      <td>Apparel, Footwear &amp; Accessories</td>\n",
              "      <td>Consumer Products &amp; Services</td>\n",
              "      <td>Clothing and garments with artisanal textiles ...</td>\n",
              "      <td>Mexico</td>\n",
              "      <td>...</td>\n",
              "      <td>0</td>\n",
              "      <td>2017</td>\n",
              "      <td>100.8</td>\n",
              "      <td>74.0</td>\n",
              "      <td>8.3</td>\n",
              "      <td>5.8</td>\n",
              "      <td>12.7</td>\n",
              "      <td>NaN</td>\n",
              "      <td>184.1</td>\n",
              "      <td>54.752852</td>\n",
              "    </tr>\n",
              "    <tr>\n",
              "      <th>2</th>\n",
              "      <td>001C000001bVjmIIAS</td>\n",
              "      <td>Boomera</td>\n",
              "      <td>2017-12-27</td>\n",
              "      <td>2017-12-27</td>\n",
              "      <td>certified</td>\n",
              "      <td>Boomera work with cutting-edge technology and ...</td>\n",
              "      <td>Recycling Services &amp; Waste Management</td>\n",
              "      <td>Energy &amp; Environmental Services</td>\n",
              "      <td>recycling, upcycling</td>\n",
              "      <td>Brazil</td>\n",
              "      <td>...</td>\n",
              "      <td>50-249</td>\n",
              "      <td>2017</td>\n",
              "      <td>96.1</td>\n",
              "      <td>15.1</td>\n",
              "      <td>0.0</td>\n",
              "      <td>52.4</td>\n",
              "      <td>7.9</td>\n",
              "      <td>20.7</td>\n",
              "      <td>184.1</td>\n",
              "      <td>52.199891</td>\n",
              "    </tr>\n",
              "    <tr>\n",
              "      <th>3</th>\n",
              "      <td>0013b00001nESw5AAG</td>\n",
              "      <td>ekWateur</td>\n",
              "      <td>2021-02-22</td>\n",
              "      <td>2021-02-22</td>\n",
              "      <td>certified</td>\n",
              "      <td>ekWateur propose de l’électricité, du gaz et d...</td>\n",
              "      <td>Renewable Energy Generation &amp; Installation</td>\n",
              "      <td>Energy &amp; Environmental Services</td>\n",
              "      <td>Electricité, gaz et bois renouvelables.</td>\n",
              "      <td>France</td>\n",
              "      <td>...</td>\n",
              "      <td>50-249</td>\n",
              "      <td>2019</td>\n",
              "      <td>89.0</td>\n",
              "      <td>17.2</td>\n",
              "      <td>5.0</td>\n",
              "      <td>28.4</td>\n",
              "      <td>8.2</td>\n",
              "      <td>30.1</td>\n",
              "      <td>184.1</td>\n",
              "      <td>48.343292</td>\n",
              "    </tr>\n",
              "    <tr>\n",
              "      <th>4</th>\n",
              "      <td>001C000001afeGsIAI</td>\n",
              "      <td>Maker srl</td>\n",
              "      <td>2017-05-19</td>\n",
              "      <td>2021-02-19</td>\n",
              "      <td>certified</td>\n",
              "      <td>Maker srl provides mechanical parts and mainte...</td>\n",
              "      <td>Machinery &amp; Equipment</td>\n",
              "      <td>Business Products &amp; Services</td>\n",
              "      <td>Mechanical parts and maintenance services for ...</td>\n",
              "      <td>Italy</td>\n",
              "      <td>...</td>\n",
              "      <td>10-49</td>\n",
              "      <td>2019</td>\n",
              "      <td>80.4</td>\n",
              "      <td>18.3</td>\n",
              "      <td>4.3</td>\n",
              "      <td>18.3</td>\n",
              "      <td>17.1</td>\n",
              "      <td>22.2</td>\n",
              "      <td>184.1</td>\n",
              "      <td>43.671917</td>\n",
              "    </tr>\n",
              "  </tbody>\n",
              "</table>\n",
              "<p>5 rows × 23 columns</p>\n",
              "</div>"
            ],
            "text/plain": [
              "           company_id       company_name date_first_certified date_certified  \\\n",
              "0  001C000001LkZXSIA3  Someone Somewhere           2017-08-30     2021-02-26   \n",
              "1  001C000001LkZXSIA3  Someone Somewhere           2017-08-30     2017-08-30   \n",
              "2  001C000001bVjmIIAS            Boomera           2017-12-27     2017-12-27   \n",
              "3  0013b00001nESw5AAG           ekWateur           2021-02-22     2021-02-22   \n",
              "4  001C000001afeGsIAI          Maker srl           2017-05-19     2021-02-19   \n",
              "\n",
              "  current_status                                        description  \\\n",
              "0      certified  Someone Somewhere is a vertically integrated a...   \n",
              "1      certified  Someone Somewhere is a vertically integrated a...   \n",
              "2      certified  Boomera work with cutting-edge technology and ...   \n",
              "3      certified  ekWateur propose de l’électricité, du gaz et d...   \n",
              "4      certified  Maker srl provides mechanical parts and mainte...   \n",
              "\n",
              "                                     industry  \\\n",
              "0             Apparel, Footwear & Accessories   \n",
              "1             Apparel, Footwear & Accessories   \n",
              "2       Recycling Services & Waste Management   \n",
              "3  Renewable Energy Generation & Installation   \n",
              "4                       Machinery & Equipment   \n",
              "\n",
              "                 industry_category  \\\n",
              "0     Consumer Products & Services   \n",
              "1     Consumer Products & Services   \n",
              "2  Energy & Environmental Services   \n",
              "3  Energy & Environmental Services   \n",
              "4     Business Products & Services   \n",
              "\n",
              "                               products_and_services country  ...     size  \\\n",
              "0  Clothing and garments with artisanal textiles ...  Mexico  ...    10-49   \n",
              "1  Clothing and garments with artisanal textiles ...  Mexico  ...        0   \n",
              "2                               recycling, upcycling  Brazil  ...   50-249   \n",
              "3            Electricité, gaz et bois renouvelables.  France  ...   50-249   \n",
              "4  Mechanical parts and maintenance services for ...   Italy  ...    10-49   \n",
              "\n",
              "  assessment_year overall_score impact_area_community  impact_area_customers  \\\n",
              "0            2020          87.1                  27.1                   14.2   \n",
              "1            2017         100.8                  74.0                    8.3   \n",
              "2            2017          96.1                  15.1                    0.0   \n",
              "3            2019          89.0                  17.2                    5.0   \n",
              "4            2019          80.4                  18.3                    4.3   \n",
              "\n",
              "   impact_area_environment  impact_area_governance  impact_area_workers  \\\n",
              "0                     11.9                    14.4                 19.3   \n",
              "1                      5.8                    12.7                  NaN   \n",
              "2                     52.4                     7.9                 20.7   \n",
              "3                     28.4                     8.2                 30.1   \n",
              "4                     18.3                    17.1                 22.2   \n",
              "\n",
              "   new_col  overall_score_scaled  \n",
              "0    184.1             47.311244  \n",
              "1    184.1             54.752852  \n",
              "2    184.1             52.199891  \n",
              "3    184.1             48.343292  \n",
              "4    184.1             43.671917  \n",
              "\n",
              "[5 rows x 23 columns]"
            ]
          },
          "metadata": {},
          "output_type": "display_data"
        }
      ],
      "source": [
        "impact.head()"
      ]
    },
    {
      "cell_type": "markdown",
      "metadata": {
        "id": "75e51f8c"
      },
      "source": [
        "`overall_score_scaled` is now on the 100-point scale."
      ]
    },
    {
      "cell_type": "code",
      "execution_count": null,
      "metadata": {
        "id": "0eed89bf",
        "outputId": "8a886b33-0286-43b5-f6a5-50e23159ac36",
        "scrolled": true
      },
      "outputs": [
        {
          "data": {
            "text/plain": [
              "count    8799.000000\n",
              "mean       52.139418\n",
              "std         8.758930\n",
              "min        42.476915\n",
              "25%        45.410103\n",
              "50%        49.375339\n",
              "75%        56.110809\n",
              "max       100.000000\n",
              "Name: overall_score_scaled, dtype: float64"
            ]
          },
          "metadata": {},
          "output_type": "display_data"
        }
      ],
      "source": [
        "impact[\"overall_score_scaled\"].describe()"
      ]
    },
    {
      "cell_type": "markdown",
      "metadata": {
        "id": "cb16b5bf"
      },
      "source": [
        "### Rename columns"
      ]
    },
    {
      "cell_type": "markdown",
      "metadata": {
        "id": "4ca5a981"
      },
      "source": [
        "Use `rename()` to change the names of columns. Use the `inplace = True` argument to modify the columns of the existing dataset and not to create a copy."
      ]
    },
    {
      "cell_type": "code",
      "execution_count": null,
      "metadata": {
        "id": "249312cc"
      },
      "outputs": [],
      "source": [
        "impact.rename(columns = {\"new_col\": \"not_needed\", \"overall_score_scaled\": \"overall_score_100\"}, inplace = True)"
      ]
    },
    {
      "cell_type": "markdown",
      "metadata": {
        "id": "110c0cce"
      },
      "source": [
        "Check the names of the columns of `impact` after the change:"
      ]
    },
    {
      "cell_type": "code",
      "execution_count": null,
      "metadata": {
        "id": "83d7ee13",
        "outputId": "4f32567b-eb4b-4e06-c4fb-f2cc78593437",
        "scrolled": true
      },
      "outputs": [
        {
          "data": {
            "text/plain": [
              "Index(['company_id', 'company_name', 'date_first_certified', 'date_certified',\n",
              "       'current_status', 'description', 'industry', 'industry_category',\n",
              "       'products_and_services', 'country', 'state', 'city', 'sector', 'size',\n",
              "       'assessment_year', 'overall_score', 'impact_area_community',\n",
              "       'impact_area_customers', 'impact_area_environment',\n",
              "       'impact_area_governance', 'impact_area_workers', 'not_needed',\n",
              "       'overall_score_100'],\n",
              "      dtype='object')"
            ]
          },
          "metadata": {},
          "output_type": "display_data"
        }
      ],
      "source": [
        "impact.columns"
      ]
    },
    {
      "cell_type": "markdown",
      "metadata": {
        "id": "7e7d00e5"
      },
      "source": [
        "Drop the `not_needed` and `overall_score` columns since we no longer need them."
      ]
    },
    {
      "cell_type": "code",
      "execution_count": null,
      "metadata": {
        "id": "11dbb42c"
      },
      "outputs": [],
      "source": [
        "impact.drop(columns = [\"not_needed\", \"overall_score\"], inplace = True)"
      ]
    },
    {
      "cell_type": "code",
      "execution_count": null,
      "metadata": {
        "id": "e20f6496",
        "outputId": "9dd716bd-663e-4cb5-ac38-f56ba63da23b"
      },
      "outputs": [
        {
          "data": {
            "text/html": [
              "<div>\n",
              "<style scoped>\n",
              "    .dataframe tbody tr th:only-of-type {\n",
              "        vertical-align: middle;\n",
              "    }\n",
              "\n",
              "    .dataframe tbody tr th {\n",
              "        vertical-align: top;\n",
              "    }\n",
              "\n",
              "    .dataframe thead th {\n",
              "        text-align: right;\n",
              "    }\n",
              "</style>\n",
              "<table border=\"1\" class=\"dataframe\">\n",
              "  <thead>\n",
              "    <tr style=\"text-align: right;\">\n",
              "      <th></th>\n",
              "      <th>company_id</th>\n",
              "      <th>company_name</th>\n",
              "      <th>date_first_certified</th>\n",
              "      <th>date_certified</th>\n",
              "      <th>current_status</th>\n",
              "      <th>description</th>\n",
              "      <th>industry</th>\n",
              "      <th>industry_category</th>\n",
              "      <th>products_and_services</th>\n",
              "      <th>country</th>\n",
              "      <th>...</th>\n",
              "      <th>city</th>\n",
              "      <th>sector</th>\n",
              "      <th>size</th>\n",
              "      <th>assessment_year</th>\n",
              "      <th>impact_area_community</th>\n",
              "      <th>impact_area_customers</th>\n",
              "      <th>impact_area_environment</th>\n",
              "      <th>impact_area_governance</th>\n",
              "      <th>impact_area_workers</th>\n",
              "      <th>overall_score_100</th>\n",
              "    </tr>\n",
              "  </thead>\n",
              "  <tbody>\n",
              "    <tr>\n",
              "      <th>0</th>\n",
              "      <td>001C000001LkZXSIA3</td>\n",
              "      <td>Someone Somewhere</td>\n",
              "      <td>2017-08-30</td>\n",
              "      <td>2021-02-26</td>\n",
              "      <td>certified</td>\n",
              "      <td>Someone Somewhere is a vertically integrated a...</td>\n",
              "      <td>Apparel, Footwear &amp; Accessories</td>\n",
              "      <td>Consumer Products &amp; Services</td>\n",
              "      <td>Clothing and garments with artisanal textiles ...</td>\n",
              "      <td>Mexico</td>\n",
              "      <td>...</td>\n",
              "      <td>Ciudad Mexico</td>\n",
              "      <td>Wholesale/Retail</td>\n",
              "      <td>10-49</td>\n",
              "      <td>2020</td>\n",
              "      <td>27.1</td>\n",
              "      <td>14.2</td>\n",
              "      <td>11.9</td>\n",
              "      <td>14.4</td>\n",
              "      <td>19.3</td>\n",
              "      <td>47.311244</td>\n",
              "    </tr>\n",
              "    <tr>\n",
              "      <th>1</th>\n",
              "      <td>001C000001LkZXSIA3</td>\n",
              "      <td>Someone Somewhere</td>\n",
              "      <td>2017-08-30</td>\n",
              "      <td>2017-08-30</td>\n",
              "      <td>certified</td>\n",
              "      <td>Someone Somewhere is a vertically integrated a...</td>\n",
              "      <td>Apparel, Footwear &amp; Accessories</td>\n",
              "      <td>Consumer Products &amp; Services</td>\n",
              "      <td>Clothing and garments with artisanal textiles ...</td>\n",
              "      <td>Mexico</td>\n",
              "      <td>...</td>\n",
              "      <td>Ciudad Mexico</td>\n",
              "      <td>Wholesale/Retail</td>\n",
              "      <td>0</td>\n",
              "      <td>2017</td>\n",
              "      <td>74.0</td>\n",
              "      <td>8.3</td>\n",
              "      <td>5.8</td>\n",
              "      <td>12.7</td>\n",
              "      <td>NaN</td>\n",
              "      <td>54.752852</td>\n",
              "    </tr>\n",
              "    <tr>\n",
              "      <th>2</th>\n",
              "      <td>001C000001bVjmIIAS</td>\n",
              "      <td>Boomera</td>\n",
              "      <td>2017-12-27</td>\n",
              "      <td>2017-12-27</td>\n",
              "      <td>certified</td>\n",
              "      <td>Boomera work with cutting-edge technology and ...</td>\n",
              "      <td>Recycling Services &amp; Waste Management</td>\n",
              "      <td>Energy &amp; Environmental Services</td>\n",
              "      <td>recycling, upcycling</td>\n",
              "      <td>Brazil</td>\n",
              "      <td>...</td>\n",
              "      <td>São Paulo</td>\n",
              "      <td>Manufacturing</td>\n",
              "      <td>50-249</td>\n",
              "      <td>2017</td>\n",
              "      <td>15.1</td>\n",
              "      <td>0.0</td>\n",
              "      <td>52.4</td>\n",
              "      <td>7.9</td>\n",
              "      <td>20.7</td>\n",
              "      <td>52.199891</td>\n",
              "    </tr>\n",
              "    <tr>\n",
              "      <th>3</th>\n",
              "      <td>0013b00001nESw5AAG</td>\n",
              "      <td>ekWateur</td>\n",
              "      <td>2021-02-22</td>\n",
              "      <td>2021-02-22</td>\n",
              "      <td>certified</td>\n",
              "      <td>ekWateur propose de l’électricité, du gaz et d...</td>\n",
              "      <td>Renewable Energy Generation &amp; Installation</td>\n",
              "      <td>Energy &amp; Environmental Services</td>\n",
              "      <td>Electricité, gaz et bois renouvelables.</td>\n",
              "      <td>France</td>\n",
              "      <td>...</td>\n",
              "      <td>Paris</td>\n",
              "      <td>Service with Significant Environmental Footprint</td>\n",
              "      <td>50-249</td>\n",
              "      <td>2019</td>\n",
              "      <td>17.2</td>\n",
              "      <td>5.0</td>\n",
              "      <td>28.4</td>\n",
              "      <td>8.2</td>\n",
              "      <td>30.1</td>\n",
              "      <td>48.343292</td>\n",
              "    </tr>\n",
              "    <tr>\n",
              "      <th>4</th>\n",
              "      <td>001C000001afeGsIAI</td>\n",
              "      <td>Maker srl</td>\n",
              "      <td>2017-05-19</td>\n",
              "      <td>2021-02-19</td>\n",
              "      <td>certified</td>\n",
              "      <td>Maker srl provides mechanical parts and mainte...</td>\n",
              "      <td>Machinery &amp; Equipment</td>\n",
              "      <td>Business Products &amp; Services</td>\n",
              "      <td>Mechanical parts and maintenance services for ...</td>\n",
              "      <td>Italy</td>\n",
              "      <td>...</td>\n",
              "      <td>Berbenno di Valtellina</td>\n",
              "      <td>Manufacturing</td>\n",
              "      <td>10-49</td>\n",
              "      <td>2019</td>\n",
              "      <td>18.3</td>\n",
              "      <td>4.3</td>\n",
              "      <td>18.3</td>\n",
              "      <td>17.1</td>\n",
              "      <td>22.2</td>\n",
              "      <td>43.671917</td>\n",
              "    </tr>\n",
              "  </tbody>\n",
              "</table>\n",
              "<p>5 rows × 21 columns</p>\n",
              "</div>"
            ],
            "text/plain": [
              "           company_id       company_name date_first_certified date_certified  \\\n",
              "0  001C000001LkZXSIA3  Someone Somewhere           2017-08-30     2021-02-26   \n",
              "1  001C000001LkZXSIA3  Someone Somewhere           2017-08-30     2017-08-30   \n",
              "2  001C000001bVjmIIAS            Boomera           2017-12-27     2017-12-27   \n",
              "3  0013b00001nESw5AAG           ekWateur           2021-02-22     2021-02-22   \n",
              "4  001C000001afeGsIAI          Maker srl           2017-05-19     2021-02-19   \n",
              "\n",
              "  current_status                                        description  \\\n",
              "0      certified  Someone Somewhere is a vertically integrated a...   \n",
              "1      certified  Someone Somewhere is a vertically integrated a...   \n",
              "2      certified  Boomera work with cutting-edge technology and ...   \n",
              "3      certified  ekWateur propose de l’électricité, du gaz et d...   \n",
              "4      certified  Maker srl provides mechanical parts and mainte...   \n",
              "\n",
              "                                     industry  \\\n",
              "0             Apparel, Footwear & Accessories   \n",
              "1             Apparel, Footwear & Accessories   \n",
              "2       Recycling Services & Waste Management   \n",
              "3  Renewable Energy Generation & Installation   \n",
              "4                       Machinery & Equipment   \n",
              "\n",
              "                 industry_category  \\\n",
              "0     Consumer Products & Services   \n",
              "1     Consumer Products & Services   \n",
              "2  Energy & Environmental Services   \n",
              "3  Energy & Environmental Services   \n",
              "4     Business Products & Services   \n",
              "\n",
              "                               products_and_services country  ...  \\\n",
              "0  Clothing and garments with artisanal textiles ...  Mexico  ...   \n",
              "1  Clothing and garments with artisanal textiles ...  Mexico  ...   \n",
              "2                               recycling, upcycling  Brazil  ...   \n",
              "3            Electricité, gaz et bois renouvelables.  France  ...   \n",
              "4  Mechanical parts and maintenance services for ...   Italy  ...   \n",
              "\n",
              "                     city                                            sector  \\\n",
              "0           Ciudad Mexico                                  Wholesale/Retail   \n",
              "1           Ciudad Mexico                                  Wholesale/Retail   \n",
              "2               São Paulo                                     Manufacturing   \n",
              "3                   Paris  Service with Significant Environmental Footprint   \n",
              "4  Berbenno di Valtellina                                     Manufacturing   \n",
              "\n",
              "      size assessment_year  impact_area_community  impact_area_customers  \\\n",
              "0    10-49            2020                   27.1                   14.2   \n",
              "1        0            2017                   74.0                    8.3   \n",
              "2   50-249            2017                   15.1                    0.0   \n",
              "3   50-249            2019                   17.2                    5.0   \n",
              "4    10-49            2019                   18.3                    4.3   \n",
              "\n",
              "   impact_area_environment  impact_area_governance  impact_area_workers  \\\n",
              "0                     11.9                    14.4                 19.3   \n",
              "1                      5.8                    12.7                  NaN   \n",
              "2                     52.4                     7.9                 20.7   \n",
              "3                     28.4                     8.2                 30.1   \n",
              "4                     18.3                    17.1                 22.2   \n",
              "\n",
              "   overall_score_100  \n",
              "0          47.311244  \n",
              "1          54.752852  \n",
              "2          52.199891  \n",
              "3          48.343292  \n",
              "4          43.671917  \n",
              "\n",
              "[5 rows x 21 columns]"
            ]
          },
          "metadata": {},
          "output_type": "display_data"
        }
      ],
      "source": [
        "impact.head()"
      ]
    },
    {
      "cell_type": "markdown",
      "metadata": {
        "id": "c2400229"
      },
      "source": [
        "## Create groups with `groupby`"
      ]
    },
    {
      "cell_type": "markdown",
      "metadata": {
        "id": "deadbbaf"
      },
      "source": [
        "Recall from the \"Summary statistics\" section that we can get the average overall score like so:"
      ]
    },
    {
      "cell_type": "code",
      "execution_count": null,
      "metadata": {
        "id": "f532b193",
        "outputId": "c8f249ea-85f9-436f-d0f0-d6d9ab1332ad",
        "scrolled": true
      },
      "outputs": [
        {
          "data": {
            "text/plain": [
              "52.13941834163541"
            ]
          },
          "metadata": {},
          "output_type": "display_data"
        }
      ],
      "source": [
        "impact[\"overall_score_100\"].mean()"
      ]
    },
    {
      "cell_type": "markdown",
      "metadata": {
        "id": "ff7e9209"
      },
      "source": [
        "The average score can vary for each sector. We can use `groupby` to divide the dataset into groups, 1 group for each sector, then calculate the average score for each group.\n",
        "\n",
        "The command below doesn't modify the dataset directly. It only creates groups in order to calculate the average score for each group."
      ]
    },
    {
      "cell_type": "code",
      "execution_count": null,
      "metadata": {
        "id": "b4cf8205",
        "outputId": "9417f548-f285-40c4-f109-da429aab3d26"
      },
      "outputs": [
        {
          "data": {
            "text/plain": [
              "sector\n",
              "Agriculture/Growers                                 53.981290\n",
              "Manufacturing                                       51.571062\n",
              "Service                                             49.888894\n",
              "Service with Minor Environmental Footprint          52.452932\n",
              "Service with Significant Environmental Footprint    52.379683\n",
              "Wholesale/Retail                                    51.284294\n",
              "Name: overall_score_100, dtype: float64"
            ]
          },
          "metadata": {},
          "output_type": "display_data"
        }
      ],
      "source": [
        "impact.groupby(\"sector\")[\"overall_score_100\"].mean()"
      ]
    },
    {
      "cell_type": "markdown",
      "metadata": {
        "id": "2909f609"
      },
      "source": [
        "We can also create groups based on more than 1 column. For example, calculate the average score for each group of `current_status` and `sector`:"
      ]
    },
    {
      "cell_type": "code",
      "execution_count": null,
      "metadata": {
        "id": "6dedbbd6",
        "outputId": "b173baaf-bc61-47b1-ba85-20b48e9ffaba"
      },
      "outputs": [
        {
          "data": {
            "text/plain": [
              "current_status  sector                                          \n",
              "certified       Agriculture/Growers                                 53.458763\n",
              "                Manufacturing                                       51.395896\n",
              "                Service                                             48.129898\n",
              "                Service with Minor Environmental Footprint          52.522368\n",
              "                Service with Significant Environmental Footprint    52.077603\n",
              "                Wholesale/Retail                                    51.132646\n",
              "de-certified    Agriculture/Growers                                 56.192918\n",
              "                Manufacturing                                       52.365030\n",
              "                Service                                             52.967137\n",
              "                Service with Minor Environmental Footprint          52.249260\n",
              "                Service with Significant Environmental Footprint    53.532892\n",
              "                Wholesale/Retail                                    51.698384\n",
              "Name: overall_score_100, dtype: float64"
            ]
          },
          "metadata": {},
          "output_type": "display_data"
        }
      ],
      "source": [
        "impact.groupby([\"current_status\", \"sector\"])[\"overall_score_100\"].mean()"
      ]
    },
    {
      "cell_type": "markdown",
      "metadata": {
        "id": "f3d1a4f0"
      },
      "source": [
        "The `size()` method computes the size for each group. This is essentially the number of rows in each group."
      ]
    },
    {
      "cell_type": "code",
      "execution_count": null,
      "metadata": {
        "id": "5f7ec1b2",
        "outputId": "c44fbcbc-cb5b-4aae-f5af-3f49471f9b2e",
        "scrolled": false
      },
      "outputs": [
        {
          "data": {
            "text/plain": [
              "current_status  sector                                          \n",
              "certified       Agriculture/Growers                                  182\n",
              "                Manufacturing                                        902\n",
              "                Service                                               14\n",
              "                Service with Minor Environmental Footprint          3734\n",
              "                Service with Significant Environmental Footprint     565\n",
              "                Wholesale/Retail                                    1267\n",
              "de-certified    Agriculture/Growers                                   43\n",
              "                Manufacturing                                        199\n",
              "                Service                                                8\n",
              "                Service with Minor Environmental Footprint          1273\n",
              "                Service with Significant Environmental Footprint     148\n",
              "                Wholesale/Retail                                     464\n",
              "dtype: int64"
            ]
          },
          "metadata": {},
          "output_type": "display_data"
        }
      ],
      "source": [
        "impact.groupby([\"current_status\", \"sector\"]).size()"
      ]
    },
    {
      "cell_type": "markdown",
      "metadata": {
        "id": "e1a49d0b"
      },
      "source": [
        "The `count()` method also computes the group size, but `count()` excludes missing values."
      ]
    },
    {
      "cell_type": "code",
      "execution_count": null,
      "metadata": {
        "id": "dec6767e",
        "outputId": "4fe0f6a1-f379-49e8-8ea4-f0645cc2aada",
        "scrolled": true
      },
      "outputs": [
        {
          "data": {
            "text/html": [
              "<div>\n",
              "<style scoped>\n",
              "    .dataframe tbody tr th:only-of-type {\n",
              "        vertical-align: middle;\n",
              "    }\n",
              "\n",
              "    .dataframe tbody tr th {\n",
              "        vertical-align: top;\n",
              "    }\n",
              "\n",
              "    .dataframe thead th {\n",
              "        text-align: right;\n",
              "    }\n",
              "</style>\n",
              "<table border=\"1\" class=\"dataframe\">\n",
              "  <thead>\n",
              "    <tr style=\"text-align: right;\">\n",
              "      <th></th>\n",
              "      <th></th>\n",
              "      <th>company_id</th>\n",
              "      <th>company_name</th>\n",
              "      <th>date_first_certified</th>\n",
              "      <th>date_certified</th>\n",
              "      <th>description</th>\n",
              "      <th>industry</th>\n",
              "      <th>industry_category</th>\n",
              "      <th>products_and_services</th>\n",
              "      <th>country</th>\n",
              "      <th>state</th>\n",
              "      <th>city</th>\n",
              "      <th>size</th>\n",
              "      <th>assessment_year</th>\n",
              "      <th>impact_area_community</th>\n",
              "      <th>impact_area_customers</th>\n",
              "      <th>impact_area_environment</th>\n",
              "      <th>impact_area_governance</th>\n",
              "      <th>impact_area_workers</th>\n",
              "      <th>overall_score_100</th>\n",
              "    </tr>\n",
              "    <tr>\n",
              "      <th>current_status</th>\n",
              "      <th>sector</th>\n",
              "      <th></th>\n",
              "      <th></th>\n",
              "      <th></th>\n",
              "      <th></th>\n",
              "      <th></th>\n",
              "      <th></th>\n",
              "      <th></th>\n",
              "      <th></th>\n",
              "      <th></th>\n",
              "      <th></th>\n",
              "      <th></th>\n",
              "      <th></th>\n",
              "      <th></th>\n",
              "      <th></th>\n",
              "      <th></th>\n",
              "      <th></th>\n",
              "      <th></th>\n",
              "      <th></th>\n",
              "      <th></th>\n",
              "    </tr>\n",
              "  </thead>\n",
              "  <tbody>\n",
              "    <tr>\n",
              "      <th rowspan=\"6\" valign=\"top\">certified</th>\n",
              "      <th>Agriculture/Growers</th>\n",
              "      <td>182</td>\n",
              "      <td>182</td>\n",
              "      <td>182</td>\n",
              "      <td>182</td>\n",
              "      <td>182</td>\n",
              "      <td>182</td>\n",
              "      <td>182</td>\n",
              "      <td>178</td>\n",
              "      <td>182</td>\n",
              "      <td>182</td>\n",
              "      <td>182</td>\n",
              "      <td>182</td>\n",
              "      <td>182</td>\n",
              "      <td>182</td>\n",
              "      <td>160</td>\n",
              "      <td>182</td>\n",
              "      <td>182</td>\n",
              "      <td>179</td>\n",
              "      <td>182</td>\n",
              "    </tr>\n",
              "    <tr>\n",
              "      <th>Manufacturing</th>\n",
              "      <td>902</td>\n",
              "      <td>902</td>\n",
              "      <td>902</td>\n",
              "      <td>902</td>\n",
              "      <td>898</td>\n",
              "      <td>899</td>\n",
              "      <td>902</td>\n",
              "      <td>870</td>\n",
              "      <td>902</td>\n",
              "      <td>900</td>\n",
              "      <td>901</td>\n",
              "      <td>902</td>\n",
              "      <td>902</td>\n",
              "      <td>902</td>\n",
              "      <td>797</td>\n",
              "      <td>902</td>\n",
              "      <td>902</td>\n",
              "      <td>875</td>\n",
              "      <td>902</td>\n",
              "    </tr>\n",
              "    <tr>\n",
              "      <th>Service</th>\n",
              "      <td>14</td>\n",
              "      <td>14</td>\n",
              "      <td>14</td>\n",
              "      <td>14</td>\n",
              "      <td>14</td>\n",
              "      <td>14</td>\n",
              "      <td>14</td>\n",
              "      <td>14</td>\n",
              "      <td>14</td>\n",
              "      <td>14</td>\n",
              "      <td>14</td>\n",
              "      <td>14</td>\n",
              "      <td>14</td>\n",
              "      <td>14</td>\n",
              "      <td>14</td>\n",
              "      <td>14</td>\n",
              "      <td>14</td>\n",
              "      <td>13</td>\n",
              "      <td>14</td>\n",
              "    </tr>\n",
              "    <tr>\n",
              "      <th>Service with Minor Environmental Footprint</th>\n",
              "      <td>3734</td>\n",
              "      <td>3734</td>\n",
              "      <td>3734</td>\n",
              "      <td>3734</td>\n",
              "      <td>3734</td>\n",
              "      <td>3676</td>\n",
              "      <td>3683</td>\n",
              "      <td>3615</td>\n",
              "      <td>3734</td>\n",
              "      <td>3730</td>\n",
              "      <td>3734</td>\n",
              "      <td>3734</td>\n",
              "      <td>3734</td>\n",
              "      <td>3734</td>\n",
              "      <td>3678</td>\n",
              "      <td>3734</td>\n",
              "      <td>3734</td>\n",
              "      <td>3290</td>\n",
              "      <td>3734</td>\n",
              "    </tr>\n",
              "    <tr>\n",
              "      <th>Service with Significant Environmental Footprint</th>\n",
              "      <td>565</td>\n",
              "      <td>565</td>\n",
              "      <td>565</td>\n",
              "      <td>565</td>\n",
              "      <td>565</td>\n",
              "      <td>560</td>\n",
              "      <td>560</td>\n",
              "      <td>554</td>\n",
              "      <td>565</td>\n",
              "      <td>565</td>\n",
              "      <td>565</td>\n",
              "      <td>565</td>\n",
              "      <td>565</td>\n",
              "      <td>565</td>\n",
              "      <td>517</td>\n",
              "      <td>565</td>\n",
              "      <td>565</td>\n",
              "      <td>549</td>\n",
              "      <td>565</td>\n",
              "    </tr>\n",
              "    <tr>\n",
              "      <th>Wholesale/Retail</th>\n",
              "      <td>1267</td>\n",
              "      <td>1267</td>\n",
              "      <td>1267</td>\n",
              "      <td>1267</td>\n",
              "      <td>1267</td>\n",
              "      <td>1266</td>\n",
              "      <td>1267</td>\n",
              "      <td>1220</td>\n",
              "      <td>1267</td>\n",
              "      <td>1266</td>\n",
              "      <td>1266</td>\n",
              "      <td>1267</td>\n",
              "      <td>1267</td>\n",
              "      <td>1267</td>\n",
              "      <td>1176</td>\n",
              "      <td>1267</td>\n",
              "      <td>1267</td>\n",
              "      <td>1121</td>\n",
              "      <td>1267</td>\n",
              "    </tr>\n",
              "    <tr>\n",
              "      <th rowspan=\"6\" valign=\"top\">de-certified</th>\n",
              "      <th>Agriculture/Growers</th>\n",
              "      <td>43</td>\n",
              "      <td>43</td>\n",
              "      <td>43</td>\n",
              "      <td>43</td>\n",
              "      <td>43</td>\n",
              "      <td>43</td>\n",
              "      <td>43</td>\n",
              "      <td>43</td>\n",
              "      <td>43</td>\n",
              "      <td>42</td>\n",
              "      <td>43</td>\n",
              "      <td>43</td>\n",
              "      <td>43</td>\n",
              "      <td>43</td>\n",
              "      <td>41</td>\n",
              "      <td>43</td>\n",
              "      <td>43</td>\n",
              "      <td>40</td>\n",
              "      <td>43</td>\n",
              "    </tr>\n",
              "    <tr>\n",
              "      <th>Manufacturing</th>\n",
              "      <td>199</td>\n",
              "      <td>199</td>\n",
              "      <td>199</td>\n",
              "      <td>197</td>\n",
              "      <td>199</td>\n",
              "      <td>199</td>\n",
              "      <td>199</td>\n",
              "      <td>197</td>\n",
              "      <td>199</td>\n",
              "      <td>197</td>\n",
              "      <td>199</td>\n",
              "      <td>198</td>\n",
              "      <td>199</td>\n",
              "      <td>199</td>\n",
              "      <td>191</td>\n",
              "      <td>199</td>\n",
              "      <td>199</td>\n",
              "      <td>180</td>\n",
              "      <td>199</td>\n",
              "    </tr>\n",
              "    <tr>\n",
              "      <th>Service</th>\n",
              "      <td>8</td>\n",
              "      <td>8</td>\n",
              "      <td>8</td>\n",
              "      <td>8</td>\n",
              "      <td>8</td>\n",
              "      <td>8</td>\n",
              "      <td>8</td>\n",
              "      <td>8</td>\n",
              "      <td>8</td>\n",
              "      <td>8</td>\n",
              "      <td>8</td>\n",
              "      <td>8</td>\n",
              "      <td>8</td>\n",
              "      <td>8</td>\n",
              "      <td>8</td>\n",
              "      <td>8</td>\n",
              "      <td>8</td>\n",
              "      <td>8</td>\n",
              "      <td>8</td>\n",
              "    </tr>\n",
              "    <tr>\n",
              "      <th>Service with Minor Environmental Footprint</th>\n",
              "      <td>1273</td>\n",
              "      <td>1272</td>\n",
              "      <td>1273</td>\n",
              "      <td>1265</td>\n",
              "      <td>1273</td>\n",
              "      <td>1270</td>\n",
              "      <td>1271</td>\n",
              "      <td>1251</td>\n",
              "      <td>1273</td>\n",
              "      <td>1250</td>\n",
              "      <td>1264</td>\n",
              "      <td>1271</td>\n",
              "      <td>1273</td>\n",
              "      <td>1273</td>\n",
              "      <td>1266</td>\n",
              "      <td>1273</td>\n",
              "      <td>1273</td>\n",
              "      <td>1118</td>\n",
              "      <td>1273</td>\n",
              "    </tr>\n",
              "    <tr>\n",
              "      <th>Service with Significant Environmental Footprint</th>\n",
              "      <td>148</td>\n",
              "      <td>148</td>\n",
              "      <td>148</td>\n",
              "      <td>148</td>\n",
              "      <td>148</td>\n",
              "      <td>148</td>\n",
              "      <td>148</td>\n",
              "      <td>146</td>\n",
              "      <td>148</td>\n",
              "      <td>145</td>\n",
              "      <td>146</td>\n",
              "      <td>148</td>\n",
              "      <td>148</td>\n",
              "      <td>148</td>\n",
              "      <td>144</td>\n",
              "      <td>148</td>\n",
              "      <td>148</td>\n",
              "      <td>136</td>\n",
              "      <td>148</td>\n",
              "    </tr>\n",
              "    <tr>\n",
              "      <th>Wholesale/Retail</th>\n",
              "      <td>464</td>\n",
              "      <td>464</td>\n",
              "      <td>464</td>\n",
              "      <td>461</td>\n",
              "      <td>464</td>\n",
              "      <td>464</td>\n",
              "      <td>464</td>\n",
              "      <td>456</td>\n",
              "      <td>464</td>\n",
              "      <td>457</td>\n",
              "      <td>461</td>\n",
              "      <td>464</td>\n",
              "      <td>464</td>\n",
              "      <td>464</td>\n",
              "      <td>459</td>\n",
              "      <td>464</td>\n",
              "      <td>464</td>\n",
              "      <td>406</td>\n",
              "      <td>464</td>\n",
              "    </tr>\n",
              "  </tbody>\n",
              "</table>\n",
              "</div>"
            ],
            "text/plain": [
              "                                                                 company_id  \\\n",
              "current_status sector                                                         \n",
              "certified      Agriculture/Growers                                      182   \n",
              "               Manufacturing                                            902   \n",
              "               Service                                                   14   \n",
              "               Service with Minor Environmental Footprint              3734   \n",
              "               Service with Significant Environmental Footprint         565   \n",
              "               Wholesale/Retail                                        1267   \n",
              "de-certified   Agriculture/Growers                                       43   \n",
              "               Manufacturing                                            199   \n",
              "               Service                                                    8   \n",
              "               Service with Minor Environmental Footprint              1273   \n",
              "               Service with Significant Environmental Footprint         148   \n",
              "               Wholesale/Retail                                         464   \n",
              "\n",
              "                                                                 company_name  \\\n",
              "current_status sector                                                           \n",
              "certified      Agriculture/Growers                                        182   \n",
              "               Manufacturing                                              902   \n",
              "               Service                                                     14   \n",
              "               Service with Minor Environmental Footprint                3734   \n",
              "               Service with Significant Environmental Footprint           565   \n",
              "               Wholesale/Retail                                          1267   \n",
              "de-certified   Agriculture/Growers                                         43   \n",
              "               Manufacturing                                              199   \n",
              "               Service                                                      8   \n",
              "               Service with Minor Environmental Footprint                1272   \n",
              "               Service with Significant Environmental Footprint           148   \n",
              "               Wholesale/Retail                                           464   \n",
              "\n",
              "                                                                 date_first_certified  \\\n",
              "current_status sector                                                                   \n",
              "certified      Agriculture/Growers                                                182   \n",
              "               Manufacturing                                                      902   \n",
              "               Service                                                             14   \n",
              "               Service with Minor Environmental Footprint                        3734   \n",
              "               Service with Significant Environmental Footprint                   565   \n",
              "               Wholesale/Retail                                                  1267   \n",
              "de-certified   Agriculture/Growers                                                 43   \n",
              "               Manufacturing                                                      199   \n",
              "               Service                                                              8   \n",
              "               Service with Minor Environmental Footprint                        1273   \n",
              "               Service with Significant Environmental Footprint                   148   \n",
              "               Wholesale/Retail                                                   464   \n",
              "\n",
              "                                                                 date_certified  \\\n",
              "current_status sector                                                             \n",
              "certified      Agriculture/Growers                                          182   \n",
              "               Manufacturing                                                902   \n",
              "               Service                                                       14   \n",
              "               Service with Minor Environmental Footprint                  3734   \n",
              "               Service with Significant Environmental Footprint             565   \n",
              "               Wholesale/Retail                                            1267   \n",
              "de-certified   Agriculture/Growers                                           43   \n",
              "               Manufacturing                                                197   \n",
              "               Service                                                        8   \n",
              "               Service with Minor Environmental Footprint                  1265   \n",
              "               Service with Significant Environmental Footprint             148   \n",
              "               Wholesale/Retail                                             461   \n",
              "\n",
              "                                                                 description  \\\n",
              "current_status sector                                                          \n",
              "certified      Agriculture/Growers                                       182   \n",
              "               Manufacturing                                             898   \n",
              "               Service                                                    14   \n",
              "               Service with Minor Environmental Footprint               3734   \n",
              "               Service with Significant Environmental Footprint          565   \n",
              "               Wholesale/Retail                                         1267   \n",
              "de-certified   Agriculture/Growers                                        43   \n",
              "               Manufacturing                                             199   \n",
              "               Service                                                     8   \n",
              "               Service with Minor Environmental Footprint               1273   \n",
              "               Service with Significant Environmental Footprint          148   \n",
              "               Wholesale/Retail                                          464   \n",
              "\n",
              "                                                                 industry  \\\n",
              "current_status sector                                                       \n",
              "certified      Agriculture/Growers                                    182   \n",
              "               Manufacturing                                          899   \n",
              "               Service                                                 14   \n",
              "               Service with Minor Environmental Footprint            3676   \n",
              "               Service with Significant Environmental Footprint       560   \n",
              "               Wholesale/Retail                                      1266   \n",
              "de-certified   Agriculture/Growers                                     43   \n",
              "               Manufacturing                                          199   \n",
              "               Service                                                  8   \n",
              "               Service with Minor Environmental Footprint            1270   \n",
              "               Service with Significant Environmental Footprint       148   \n",
              "               Wholesale/Retail                                       464   \n",
              "\n",
              "                                                                 industry_category  \\\n",
              "current_status sector                                                                \n",
              "certified      Agriculture/Growers                                             182   \n",
              "               Manufacturing                                                   902   \n",
              "               Service                                                          14   \n",
              "               Service with Minor Environmental Footprint                     3683   \n",
              "               Service with Significant Environmental Footprint                560   \n",
              "               Wholesale/Retail                                               1267   \n",
              "de-certified   Agriculture/Growers                                              43   \n",
              "               Manufacturing                                                   199   \n",
              "               Service                                                           8   \n",
              "               Service with Minor Environmental Footprint                     1271   \n",
              "               Service with Significant Environmental Footprint                148   \n",
              "               Wholesale/Retail                                                464   \n",
              "\n",
              "                                                                 products_and_services  \\\n",
              "current_status sector                                                                    \n",
              "certified      Agriculture/Growers                                                 178   \n",
              "               Manufacturing                                                       870   \n",
              "               Service                                                              14   \n",
              "               Service with Minor Environmental Footprint                         3615   \n",
              "               Service with Significant Environmental Footprint                    554   \n",
              "               Wholesale/Retail                                                   1220   \n",
              "de-certified   Agriculture/Growers                                                  43   \n",
              "               Manufacturing                                                       197   \n",
              "               Service                                                               8   \n",
              "               Service with Minor Environmental Footprint                         1251   \n",
              "               Service with Significant Environmental Footprint                    146   \n",
              "               Wholesale/Retail                                                    456   \n",
              "\n",
              "                                                                 country  \\\n",
              "current_status sector                                                      \n",
              "certified      Agriculture/Growers                                   182   \n",
              "               Manufacturing                                         902   \n",
              "               Service                                                14   \n",
              "               Service with Minor Environmental Footprint           3734   \n",
              "               Service with Significant Environmental Footprint      565   \n",
              "               Wholesale/Retail                                     1267   \n",
              "de-certified   Agriculture/Growers                                    43   \n",
              "               Manufacturing                                         199   \n",
              "               Service                                                 8   \n",
              "               Service with Minor Environmental Footprint           1273   \n",
              "               Service with Significant Environmental Footprint      148   \n",
              "               Wholesale/Retail                                      464   \n",
              "\n",
              "                                                                 state  city  \\\n",
              "current_status sector                                                          \n",
              "certified      Agriculture/Growers                                 182   182   \n",
              "               Manufacturing                                       900   901   \n",
              "               Service                                              14    14   \n",
              "               Service with Minor Environmental Footprint         3730  3734   \n",
              "               Service with Significant Environmental Footprint    565   565   \n",
              "               Wholesale/Retail                                   1266  1266   \n",
              "de-certified   Agriculture/Growers                                  42    43   \n",
              "               Manufacturing                                       197   199   \n",
              "               Service                                               8     8   \n",
              "               Service with Minor Environmental Footprint         1250  1264   \n",
              "               Service with Significant Environmental Footprint    145   146   \n",
              "               Wholesale/Retail                                    457   461   \n",
              "\n",
              "                                                                 size  \\\n",
              "current_status sector                                                   \n",
              "certified      Agriculture/Growers                                182   \n",
              "               Manufacturing                                      902   \n",
              "               Service                                             14   \n",
              "               Service with Minor Environmental Footprint        3734   \n",
              "               Service with Significant Environmental Footprint   565   \n",
              "               Wholesale/Retail                                  1267   \n",
              "de-certified   Agriculture/Growers                                 43   \n",
              "               Manufacturing                                      198   \n",
              "               Service                                              8   \n",
              "               Service with Minor Environmental Footprint        1271   \n",
              "               Service with Significant Environmental Footprint   148   \n",
              "               Wholesale/Retail                                   464   \n",
              "\n",
              "                                                                 assessment_year  \\\n",
              "current_status sector                                                              \n",
              "certified      Agriculture/Growers                                           182   \n",
              "               Manufacturing                                                 902   \n",
              "               Service                                                        14   \n",
              "               Service with Minor Environmental Footprint                   3734   \n",
              "               Service with Significant Environmental Footprint              565   \n",
              "               Wholesale/Retail                                             1267   \n",
              "de-certified   Agriculture/Growers                                            43   \n",
              "               Manufacturing                                                 199   \n",
              "               Service                                                         8   \n",
              "               Service with Minor Environmental Footprint                   1273   \n",
              "               Service with Significant Environmental Footprint              148   \n",
              "               Wholesale/Retail                                              464   \n",
              "\n",
              "                                                                 impact_area_community  \\\n",
              "current_status sector                                                                    \n",
              "certified      Agriculture/Growers                                                 182   \n",
              "               Manufacturing                                                       902   \n",
              "               Service                                                              14   \n",
              "               Service with Minor Environmental Footprint                         3734   \n",
              "               Service with Significant Environmental Footprint                    565   \n",
              "               Wholesale/Retail                                                   1267   \n",
              "de-certified   Agriculture/Growers                                                  43   \n",
              "               Manufacturing                                                       199   \n",
              "               Service                                                               8   \n",
              "               Service with Minor Environmental Footprint                         1273   \n",
              "               Service with Significant Environmental Footprint                    148   \n",
              "               Wholesale/Retail                                                    464   \n",
              "\n",
              "                                                                 impact_area_customers  \\\n",
              "current_status sector                                                                    \n",
              "certified      Agriculture/Growers                                                 160   \n",
              "               Manufacturing                                                       797   \n",
              "               Service                                                              14   \n",
              "               Service with Minor Environmental Footprint                         3678   \n",
              "               Service with Significant Environmental Footprint                    517   \n",
              "               Wholesale/Retail                                                   1176   \n",
              "de-certified   Agriculture/Growers                                                  41   \n",
              "               Manufacturing                                                       191   \n",
              "               Service                                                               8   \n",
              "               Service with Minor Environmental Footprint                         1266   \n",
              "               Service with Significant Environmental Footprint                    144   \n",
              "               Wholesale/Retail                                                    459   \n",
              "\n",
              "                                                                 impact_area_environment  \\\n",
              "current_status sector                                                                      \n",
              "certified      Agriculture/Growers                                                   182   \n",
              "               Manufacturing                                                         902   \n",
              "               Service                                                                14   \n",
              "               Service with Minor Environmental Footprint                           3734   \n",
              "               Service with Significant Environmental Footprint                      565   \n",
              "               Wholesale/Retail                                                     1267   \n",
              "de-certified   Agriculture/Growers                                                    43   \n",
              "               Manufacturing                                                         199   \n",
              "               Service                                                                 8   \n",
              "               Service with Minor Environmental Footprint                           1273   \n",
              "               Service with Significant Environmental Footprint                      148   \n",
              "               Wholesale/Retail                                                      464   \n",
              "\n",
              "                                                                 impact_area_governance  \\\n",
              "current_status sector                                                                     \n",
              "certified      Agriculture/Growers                                                  182   \n",
              "               Manufacturing                                                        902   \n",
              "               Service                                                               14   \n",
              "               Service with Minor Environmental Footprint                          3734   \n",
              "               Service with Significant Environmental Footprint                     565   \n",
              "               Wholesale/Retail                                                    1267   \n",
              "de-certified   Agriculture/Growers                                                   43   \n",
              "               Manufacturing                                                        199   \n",
              "               Service                                                                8   \n",
              "               Service with Minor Environmental Footprint                          1273   \n",
              "               Service with Significant Environmental Footprint                     148   \n",
              "               Wholesale/Retail                                                     464   \n",
              "\n",
              "                                                                 impact_area_workers  \\\n",
              "current_status sector                                                                  \n",
              "certified      Agriculture/Growers                                               179   \n",
              "               Manufacturing                                                     875   \n",
              "               Service                                                            13   \n",
              "               Service with Minor Environmental Footprint                       3290   \n",
              "               Service with Significant Environmental Footprint                  549   \n",
              "               Wholesale/Retail                                                 1121   \n",
              "de-certified   Agriculture/Growers                                                40   \n",
              "               Manufacturing                                                     180   \n",
              "               Service                                                             8   \n",
              "               Service with Minor Environmental Footprint                       1118   \n",
              "               Service with Significant Environmental Footprint                  136   \n",
              "               Wholesale/Retail                                                  406   \n",
              "\n",
              "                                                                 overall_score_100  \n",
              "current_status sector                                                               \n",
              "certified      Agriculture/Growers                                             182  \n",
              "               Manufacturing                                                   902  \n",
              "               Service                                                          14  \n",
              "               Service with Minor Environmental Footprint                     3734  \n",
              "               Service with Significant Environmental Footprint                565  \n",
              "               Wholesale/Retail                                               1267  \n",
              "de-certified   Agriculture/Growers                                              43  \n",
              "               Manufacturing                                                   199  \n",
              "               Service                                                           8  \n",
              "               Service with Minor Environmental Footprint                     1273  \n",
              "               Service with Significant Environmental Footprint                148  \n",
              "               Wholesale/Retail                                                464  "
            ]
          },
          "metadata": {},
          "output_type": "display_data"
        }
      ],
      "source": [
        "impact.groupby([\"current_status\", \"sector\"]).count()"
      ]
    },
    {
      "cell_type": "markdown",
      "metadata": {
        "id": "5cdc42ef"
      },
      "source": [
        "For a comprehensive list of methods that an be used with `groupby()`, see https://pandas.pydata.org/docs/reference/groupby.html"
      ]
    },
    {
      "cell_type": "markdown",
      "metadata": {
        "id": "bf3384ec"
      },
      "source": [
        "## Sort values"
      ]
    },
    {
      "cell_type": "markdown",
      "metadata": {
        "id": "bbcf5465"
      },
      "source": [
        "The `sort_values()` method sorts the dataset based on the values of specified columns."
      ]
    },
    {
      "cell_type": "code",
      "execution_count": null,
      "metadata": {
        "id": "96a1b490",
        "outputId": "85849f6c-6843-4456-bb77-d3768b32dfad"
      },
      "outputs": [
        {
          "data": {
            "text/html": [
              "<div>\n",
              "<style scoped>\n",
              "    .dataframe tbody tr th:only-of-type {\n",
              "        vertical-align: middle;\n",
              "    }\n",
              "\n",
              "    .dataframe tbody tr th {\n",
              "        vertical-align: top;\n",
              "    }\n",
              "\n",
              "    .dataframe thead th {\n",
              "        text-align: right;\n",
              "    }\n",
              "</style>\n",
              "<table border=\"1\" class=\"dataframe\">\n",
              "  <thead>\n",
              "    <tr style=\"text-align: right;\">\n",
              "      <th></th>\n",
              "      <th>company_id</th>\n",
              "      <th>company_name</th>\n",
              "      <th>date_first_certified</th>\n",
              "      <th>date_certified</th>\n",
              "      <th>current_status</th>\n",
              "      <th>description</th>\n",
              "      <th>industry</th>\n",
              "      <th>industry_category</th>\n",
              "      <th>products_and_services</th>\n",
              "      <th>country</th>\n",
              "      <th>...</th>\n",
              "      <th>city</th>\n",
              "      <th>sector</th>\n",
              "      <th>size</th>\n",
              "      <th>assessment_year</th>\n",
              "      <th>impact_area_community</th>\n",
              "      <th>impact_area_customers</th>\n",
              "      <th>impact_area_environment</th>\n",
              "      <th>impact_area_governance</th>\n",
              "      <th>impact_area_workers</th>\n",
              "      <th>overall_score_100</th>\n",
              "    </tr>\n",
              "  </thead>\n",
              "  <tbody>\n",
              "    <tr>\n",
              "      <th>2505</th>\n",
              "      <td>001C000001fiNFuIAM</td>\n",
              "      <td>Pure Ground Ingredients</td>\n",
              "      <td>2019-05-17</td>\n",
              "      <td>2019-05-17</td>\n",
              "      <td>certified</td>\n",
              "      <td>Pure Ground Ingredients is the premier supplie...</td>\n",
              "      <td>Agricultural Services</td>\n",
              "      <td>Agriculture</td>\n",
              "      <td>Organic Herbs, Spices, Botanicals and Chilis.</td>\n",
              "      <td>United States</td>\n",
              "      <td>...</td>\n",
              "      <td>Minden</td>\n",
              "      <td>Agriculture/Growers</td>\n",
              "      <td>50-249</td>\n",
              "      <td>2018</td>\n",
              "      <td>27.3</td>\n",
              "      <td>NaN</td>\n",
              "      <td>26.2</td>\n",
              "      <td>7.9</td>\n",
              "      <td>16.7</td>\n",
              "      <td>42.476915</td>\n",
              "    </tr>\n",
              "    <tr>\n",
              "      <th>502</th>\n",
              "      <td>001C000001Fh2ehIAB</td>\n",
              "      <td>Sokol Blosser Winery</td>\n",
              "      <td>2015-04-16</td>\n",
              "      <td>2015-04-16</td>\n",
              "      <td>certified</td>\n",
              "      <td>Producer of high quality wines with distributi...</td>\n",
              "      <td>Food &amp; Beverage</td>\n",
              "      <td>Consumer Products &amp; Services</td>\n",
              "      <td>Winery</td>\n",
              "      <td>United States</td>\n",
              "      <td>...</td>\n",
              "      <td>Dayton</td>\n",
              "      <td>Agriculture/Growers</td>\n",
              "      <td>10-49</td>\n",
              "      <td>2014</td>\n",
              "      <td>24.9</td>\n",
              "      <td>0.0</td>\n",
              "      <td>23.0</td>\n",
              "      <td>8.3</td>\n",
              "      <td>23.9</td>\n",
              "      <td>43.454644</td>\n",
              "    </tr>\n",
              "    <tr>\n",
              "      <th>3366</th>\n",
              "      <td>0013b00001p4C9WAAU</td>\n",
              "      <td>Villa Andina SAC</td>\n",
              "      <td>2021-03-29</td>\n",
              "      <td>2021-03-29</td>\n",
              "      <td>certified</td>\n",
              "      <td>We founded Villa Andina in 2007 with the goal ...</td>\n",
              "      <td>Agricultural Services</td>\n",
              "      <td>Agriculture</td>\n",
              "      <td>Superfoods, granos andinos y derivados de cacao</td>\n",
              "      <td>Peru</td>\n",
              "      <td>...</td>\n",
              "      <td>Cajamarca</td>\n",
              "      <td>Agriculture/Growers</td>\n",
              "      <td>250-999</td>\n",
              "      <td>2019</td>\n",
              "      <td>19.8</td>\n",
              "      <td>2.8</td>\n",
              "      <td>24.1</td>\n",
              "      <td>13.2</td>\n",
              "      <td>19.8</td>\n",
              "      <td>43.454644</td>\n",
              "    </tr>\n",
              "    <tr>\n",
              "      <th>441</th>\n",
              "      <td>0013b00001nEY0JAAW</td>\n",
              "      <td>Tamoa</td>\n",
              "      <td>2021-07-21</td>\n",
              "      <td>2021-07-21</td>\n",
              "      <td>certified</td>\n",
              "      <td>TAMOA es un proyecto dedicado al abasto respon...</td>\n",
              "      <td>Agricultural Services</td>\n",
              "      <td>Agriculture</td>\n",
              "      <td>Abasto responsable de alimentos regionales mex...</td>\n",
              "      <td>Mexico</td>\n",
              "      <td>...</td>\n",
              "      <td>Mexico</td>\n",
              "      <td>Agriculture/Growers</td>\n",
              "      <td>1-9</td>\n",
              "      <td>2020</td>\n",
              "      <td>32.6</td>\n",
              "      <td>1.6</td>\n",
              "      <td>19.1</td>\n",
              "      <td>12.3</td>\n",
              "      <td>14.4</td>\n",
              "      <td>43.563281</td>\n",
              "    </tr>\n",
              "    <tr>\n",
              "      <th>2344</th>\n",
              "      <td>001C000001GrVOlIAN</td>\n",
              "      <td>Fetzer Vineyards</td>\n",
              "      <td>2015-05-22</td>\n",
              "      <td>2015-05-22</td>\n",
              "      <td>certified</td>\n",
              "      <td>Fetzer Vineyards is the United States’ largest...</td>\n",
              "      <td>Food &amp; Beverage</td>\n",
              "      <td>Consumer Products &amp; Services</td>\n",
              "      <td>Wine</td>\n",
              "      <td>United States</td>\n",
              "      <td>...</td>\n",
              "      <td>Hopland</td>\n",
              "      <td>Agriculture/Growers</td>\n",
              "      <td>250-999</td>\n",
              "      <td>2015</td>\n",
              "      <td>18.3</td>\n",
              "      <td>0.0</td>\n",
              "      <td>35.6</td>\n",
              "      <td>7.7</td>\n",
              "      <td>18.4</td>\n",
              "      <td>43.563281</td>\n",
              "    </tr>\n",
              "    <tr>\n",
              "      <th>...</th>\n",
              "      <td>...</td>\n",
              "      <td>...</td>\n",
              "      <td>...</td>\n",
              "      <td>...</td>\n",
              "      <td>...</td>\n",
              "      <td>...</td>\n",
              "      <td>...</td>\n",
              "      <td>...</td>\n",
              "      <td>...</td>\n",
              "      <td>...</td>\n",
              "      <td>...</td>\n",
              "      <td>...</td>\n",
              "      <td>...</td>\n",
              "      <td>...</td>\n",
              "      <td>...</td>\n",
              "      <td>...</td>\n",
              "      <td>...</td>\n",
              "      <td>...</td>\n",
              "      <td>...</td>\n",
              "      <td>...</td>\n",
              "      <td>...</td>\n",
              "    </tr>\n",
              "    <tr>\n",
              "      <th>7847</th>\n",
              "      <td>001C000000r5b31IAA</td>\n",
              "      <td>Give Something Back Workplace Solutions</td>\n",
              "      <td>2007-05-22</td>\n",
              "      <td>2012-12-21</td>\n",
              "      <td>de-certified</td>\n",
              "      <td>Give Something Back certainly wasn't fooling a...</td>\n",
              "      <td>Office Products &amp; Printing</td>\n",
              "      <td>Business Products &amp; Services</td>\n",
              "      <td>Office Products, Furniture, Printing Services,...</td>\n",
              "      <td>United States</td>\n",
              "      <td>...</td>\n",
              "      <td>Oakland</td>\n",
              "      <td>Wholesale/Retail</td>\n",
              "      <td>50-249</td>\n",
              "      <td>2012</td>\n",
              "      <td>90.7</td>\n",
              "      <td>2.0</td>\n",
              "      <td>24.6</td>\n",
              "      <td>14.4</td>\n",
              "      <td>24.6</td>\n",
              "      <td>85.008148</td>\n",
              "    </tr>\n",
              "    <tr>\n",
              "      <th>8691</th>\n",
              "      <td>001C000000yiothIAA</td>\n",
              "      <td>Hives for Lives</td>\n",
              "      <td>2009-12-21</td>\n",
              "      <td>2009-12-21</td>\n",
              "      <td>de-certified</td>\n",
              "      <td>Hives for Lives, a honey company, was started ...</td>\n",
              "      <td>Food &amp; Beverage</td>\n",
              "      <td>Consumer Products &amp; Services</td>\n",
              "      <td>Honey</td>\n",
              "      <td>United States</td>\n",
              "      <td>...</td>\n",
              "      <td>Devon</td>\n",
              "      <td>Wholesale/Retail</td>\n",
              "      <td>10-49</td>\n",
              "      <td>2009</td>\n",
              "      <td>59.8</td>\n",
              "      <td>75.2</td>\n",
              "      <td>6.6</td>\n",
              "      <td>18.6</td>\n",
              "      <td>NaN</td>\n",
              "      <td>87.017925</td>\n",
              "    </tr>\n",
              "    <tr>\n",
              "      <th>7423</th>\n",
              "      <td>001C0000012Gug4IAC</td>\n",
              "      <td>One Earth Designs</td>\n",
              "      <td>2012-12-14</td>\n",
              "      <td>2016-02-16</td>\n",
              "      <td>de-certified</td>\n",
              "      <td>One Earth Designs makes SolSource, a solar pow...</td>\n",
              "      <td>Machinery &amp; Equipment</td>\n",
              "      <td>Business Products &amp; Services</td>\n",
              "      <td>Resources/support for sustainable growth</td>\n",
              "      <td>United States</td>\n",
              "      <td>...</td>\n",
              "      <td>Boston</td>\n",
              "      <td>Wholesale/Retail</td>\n",
              "      <td>0</td>\n",
              "      <td>2016</td>\n",
              "      <td>49.6</td>\n",
              "      <td>51.6</td>\n",
              "      <td>45.2</td>\n",
              "      <td>16.7</td>\n",
              "      <td>0.0</td>\n",
              "      <td>88.593156</td>\n",
              "    </tr>\n",
              "    <tr>\n",
              "      <th>7424</th>\n",
              "      <td>001C0000012Gug4IAC</td>\n",
              "      <td>One Earth Designs</td>\n",
              "      <td>2012-12-14</td>\n",
              "      <td>2012-12-14</td>\n",
              "      <td>de-certified</td>\n",
              "      <td>One Earth Designs makes SolSource, a solar pow...</td>\n",
              "      <td>Machinery &amp; Equipment</td>\n",
              "      <td>Business Products &amp; Services</td>\n",
              "      <td>Resources/support for sustainable growth</td>\n",
              "      <td>United States</td>\n",
              "      <td>...</td>\n",
              "      <td>Boston</td>\n",
              "      <td>Wholesale/Retail</td>\n",
              "      <td>1-9</td>\n",
              "      <td>2012</td>\n",
              "      <td>22.6</td>\n",
              "      <td>74.8</td>\n",
              "      <td>31.0</td>\n",
              "      <td>9.4</td>\n",
              "      <td>26.8</td>\n",
              "      <td>89.462249</td>\n",
              "    </tr>\n",
              "    <tr>\n",
              "      <th>7530</th>\n",
              "      <td>001C000001E9E2VIAV</td>\n",
              "      <td>Conscious Company Media</td>\n",
              "      <td>2015-10-08</td>\n",
              "      <td>2015-10-08</td>\n",
              "      <td>de-certified</td>\n",
              "      <td>Conscious Company Media is a community dedicat...</td>\n",
              "      <td>Print Publications</td>\n",
              "      <td>Media</td>\n",
              "      <td>CCM is a print and digital magazine about sust...</td>\n",
              "      <td>United States</td>\n",
              "      <td>...</td>\n",
              "      <td>Boulder</td>\n",
              "      <td>Wholesale/Retail</td>\n",
              "      <td>0</td>\n",
              "      <td>2015</td>\n",
              "      <td>94.9</td>\n",
              "      <td>30.0</td>\n",
              "      <td>30.5</td>\n",
              "      <td>11.2</td>\n",
              "      <td>0.0</td>\n",
              "      <td>90.439978</td>\n",
              "    </tr>\n",
              "  </tbody>\n",
              "</table>\n",
              "<p>8799 rows × 21 columns</p>\n",
              "</div>"
            ],
            "text/plain": [
              "              company_id                             company_name  \\\n",
              "2505  001C000001fiNFuIAM                  Pure Ground Ingredients   \n",
              "502   001C000001Fh2ehIAB                     Sokol Blosser Winery   \n",
              "3366  0013b00001p4C9WAAU                         Villa Andina SAC   \n",
              "441   0013b00001nEY0JAAW                                    Tamoa   \n",
              "2344  001C000001GrVOlIAN                         Fetzer Vineyards   \n",
              "...                  ...                                      ...   \n",
              "7847  001C000000r5b31IAA  Give Something Back Workplace Solutions   \n",
              "8691  001C000000yiothIAA                          Hives for Lives   \n",
              "7423  001C0000012Gug4IAC                        One Earth Designs   \n",
              "7424  001C0000012Gug4IAC                        One Earth Designs   \n",
              "7530  001C000001E9E2VIAV                  Conscious Company Media   \n",
              "\n",
              "     date_first_certified date_certified current_status  \\\n",
              "2505           2019-05-17     2019-05-17      certified   \n",
              "502            2015-04-16     2015-04-16      certified   \n",
              "3366           2021-03-29     2021-03-29      certified   \n",
              "441            2021-07-21     2021-07-21      certified   \n",
              "2344           2015-05-22     2015-05-22      certified   \n",
              "...                   ...            ...            ...   \n",
              "7847           2007-05-22     2012-12-21   de-certified   \n",
              "8691           2009-12-21     2009-12-21   de-certified   \n",
              "7423           2012-12-14     2016-02-16   de-certified   \n",
              "7424           2012-12-14     2012-12-14   de-certified   \n",
              "7530           2015-10-08     2015-10-08   de-certified   \n",
              "\n",
              "                                            description  \\\n",
              "2505  Pure Ground Ingredients is the premier supplie...   \n",
              "502   Producer of high quality wines with distributi...   \n",
              "3366  We founded Villa Andina in 2007 with the goal ...   \n",
              "441   TAMOA es un proyecto dedicado al abasto respon...   \n",
              "2344  Fetzer Vineyards is the United States’ largest...   \n",
              "...                                                 ...   \n",
              "7847  Give Something Back certainly wasn't fooling a...   \n",
              "8691  Hives for Lives, a honey company, was started ...   \n",
              "7423  One Earth Designs makes SolSource, a solar pow...   \n",
              "7424  One Earth Designs makes SolSource, a solar pow...   \n",
              "7530  Conscious Company Media is a community dedicat...   \n",
              "\n",
              "                        industry             industry_category  \\\n",
              "2505       Agricultural Services                   Agriculture   \n",
              "502              Food & Beverage  Consumer Products & Services   \n",
              "3366       Agricultural Services                   Agriculture   \n",
              "441        Agricultural Services                   Agriculture   \n",
              "2344             Food & Beverage  Consumer Products & Services   \n",
              "...                          ...                           ...   \n",
              "7847  Office Products & Printing  Business Products & Services   \n",
              "8691             Food & Beverage  Consumer Products & Services   \n",
              "7423       Machinery & Equipment  Business Products & Services   \n",
              "7424       Machinery & Equipment  Business Products & Services   \n",
              "7530          Print Publications                         Media   \n",
              "\n",
              "                                  products_and_services        country  ...  \\\n",
              "2505      Organic Herbs, Spices, Botanicals and Chilis.  United States  ...   \n",
              "502                                              Winery  United States  ...   \n",
              "3366    Superfoods, granos andinos y derivados de cacao           Peru  ...   \n",
              "441   Abasto responsable de alimentos regionales mex...         Mexico  ...   \n",
              "2344                                               Wine  United States  ...   \n",
              "...                                                 ...            ...  ...   \n",
              "7847  Office Products, Furniture, Printing Services,...  United States  ...   \n",
              "8691                                              Honey  United States  ...   \n",
              "7423           Resources/support for sustainable growth  United States  ...   \n",
              "7424           Resources/support for sustainable growth  United States  ...   \n",
              "7530  CCM is a print and digital magazine about sust...  United States  ...   \n",
              "\n",
              "           city               sector      size assessment_year  \\\n",
              "2505     Minden  Agriculture/Growers    50-249            2018   \n",
              "502      Dayton  Agriculture/Growers     10-49            2014   \n",
              "3366  Cajamarca  Agriculture/Growers   250-999            2019   \n",
              "441      Mexico  Agriculture/Growers       1-9            2020   \n",
              "2344    Hopland  Agriculture/Growers   250-999            2015   \n",
              "...         ...                  ...       ...             ...   \n",
              "7847    Oakland     Wholesale/Retail    50-249            2012   \n",
              "8691      Devon     Wholesale/Retail     10-49            2009   \n",
              "7423     Boston     Wholesale/Retail         0            2016   \n",
              "7424     Boston     Wholesale/Retail       1-9            2012   \n",
              "7530    Boulder     Wholesale/Retail         0            2015   \n",
              "\n",
              "      impact_area_community  impact_area_customers  impact_area_environment  \\\n",
              "2505                   27.3                    NaN                     26.2   \n",
              "502                    24.9                    0.0                     23.0   \n",
              "3366                   19.8                    2.8                     24.1   \n",
              "441                    32.6                    1.6                     19.1   \n",
              "2344                   18.3                    0.0                     35.6   \n",
              "...                     ...                    ...                      ...   \n",
              "7847                   90.7                    2.0                     24.6   \n",
              "8691                   59.8                   75.2                      6.6   \n",
              "7423                   49.6                   51.6                     45.2   \n",
              "7424                   22.6                   74.8                     31.0   \n",
              "7530                   94.9                   30.0                     30.5   \n",
              "\n",
              "      impact_area_governance  impact_area_workers  overall_score_100  \n",
              "2505                     7.9                 16.7          42.476915  \n",
              "502                      8.3                 23.9          43.454644  \n",
              "3366                    13.2                 19.8          43.454644  \n",
              "441                     12.3                 14.4          43.563281  \n",
              "2344                     7.7                 18.4          43.563281  \n",
              "...                      ...                  ...                ...  \n",
              "7847                    14.4                 24.6          85.008148  \n",
              "8691                    18.6                  NaN          87.017925  \n",
              "7423                    16.7                  0.0          88.593156  \n",
              "7424                     9.4                 26.8          89.462249  \n",
              "7530                    11.2                  0.0          90.439978  \n",
              "\n",
              "[8799 rows x 21 columns]"
            ]
          },
          "metadata": {},
          "output_type": "display_data"
        }
      ],
      "source": [
        "impact.sort_values(by = [\"current_status\", \"sector\", \"overall_score_100\"])"
      ]
    },
    {
      "cell_type": "markdown",
      "metadata": {
        "id": "a4LFKCHtzAZp"
      },
      "source": [
        "## Exercises - Sort values"
      ]
    },
    {
      "cell_type": "markdown",
      "metadata": {
        "id": "fcTPF8pRzEkt"
      },
      "source": [
        "Sort the above dataframe 'impact' by it's (custom) index."
      ]
    },
    {
      "cell_type": "code",
      "execution_count": null,
      "metadata": {
        "id": "-P5eegCizNsy"
      },
      "outputs": [],
      "source": [
        "# Your answer here"
      ]
    },
    {
      "cell_type": "markdown",
      "metadata": {
        "id": "A3clj8m0zPt9"
      },
      "source": [
        "Sort the above dataframe 'impact' by the columns 'industry' and 'industry_category'."
      ]
    },
    {
      "cell_type": "code",
      "execution_count": null,
      "metadata": {
        "id": "GB8ashqsz0nG"
      },
      "outputs": [],
      "source": [
        "# Your answer here"
      ]
    },
    {
      "cell_type": "markdown",
      "metadata": {
        "id": "babd1b72"
      },
      "source": [
        "## Merge datasets"
      ]
    },
    {
      "cell_type": "markdown",
      "metadata": {
        "id": "41b182e5"
      },
      "source": [
        "Read the **Best for the World Lists** dataset to merge with our existing impact dataset."
      ]
    },
    {
      "cell_type": "code",
      "execution_count": 43,
      "metadata": {
        "id": "dd77e978",
        "outputId": "569c8879-5102-4d31-c7b0-ed06e552ee03",
        "scrolled": true
      },
      "outputs": [
        {
          "data": {
            "text/plain": [
              "Index(['company_id', 'company_name', 'date_first_certified', 'date_certified',\n",
              "       'current_status', 'description', 'industry', 'industry_category',\n",
              "       'products_and_services', 'country',\n",
              "       ...\n",
              "       'ia_workers_it_human_rights_labor_policy',\n",
              "       'ia_workers_it_job_flexibility_corporate_culture',\n",
              "       'ia_workers_it_management_worker_communication',\n",
              "       'ia_workers_it_occupational_health_safety',\n",
              "       'ia_workers_it_training_education', 'ia_workers_it_worker_benefits',\n",
              "       'ia_workers_it_worker_owned', 'ia_workers_it_worker_ownership',\n",
              "       'ia_workers_it_workforce_development', 'certification_cycle'],\n",
              "      dtype='object', length=127)"
            ]
          },
          "execution_count": 43,
          "metadata": {},
          "output_type": "execute_result"
        }
      ],
      "source": [
        "best = pd.read_csv(\"Best for the World Lists.csv\", encoding = \"latin_1\", \n",
        "                   usecols = [\"company\", \"year\", \"country\", \"award_category\"])\n",
        "\n",
        "best.head()\n",
        "impact.columns"
      ]
    },
    {
      "cell_type": "markdown",
      "metadata": {
        "id": "cbd29aa1"
      },
      "source": [
        "Use the `merge()` function to merge 2 datasets. `left_on` and `right_on` specify the common columns to merge on."
      ]
    },
    {
      "cell_type": "code",
      "execution_count": 39,
      "metadata": {
        "id": "a9a8c87a"
      },
      "outputs": [],
      "source": [
        "merged = pd.merge(impact, best, left_on = \"company_name\", right_on = \"company\")"
      ]
    },
    {
      "cell_type": "code",
      "execution_count": 40,
      "metadata": {
        "id": "9da77130",
        "outputId": "30be61f4-34bb-4bad-cc9e-0f4ee0eae880",
        "scrolled": true
      },
      "outputs": [
        {
          "data": {
            "text/html": [
              "<div>\n",
              "<style scoped>\n",
              "    .dataframe tbody tr th:only-of-type {\n",
              "        vertical-align: middle;\n",
              "    }\n",
              "\n",
              "    .dataframe tbody tr th {\n",
              "        vertical-align: top;\n",
              "    }\n",
              "\n",
              "    .dataframe thead th {\n",
              "        text-align: right;\n",
              "    }\n",
              "</style>\n",
              "<table border=\"1\" class=\"dataframe\">\n",
              "  <thead>\n",
              "    <tr style=\"text-align: right;\">\n",
              "      <th></th>\n",
              "      <th>company_id</th>\n",
              "      <th>company_name</th>\n",
              "      <th>date_first_certified</th>\n",
              "      <th>date_certified</th>\n",
              "      <th>current_status</th>\n",
              "      <th>description</th>\n",
              "      <th>industry</th>\n",
              "      <th>industry_category</th>\n",
              "      <th>products_and_services</th>\n",
              "      <th>country_x</th>\n",
              "      <th>...</th>\n",
              "      <th>ia_workers_it_training_education</th>\n",
              "      <th>ia_workers_it_worker_benefits</th>\n",
              "      <th>ia_workers_it_worker_owned</th>\n",
              "      <th>ia_workers_it_worker_ownership</th>\n",
              "      <th>ia_workers_it_workforce_development</th>\n",
              "      <th>certification_cycle</th>\n",
              "      <th>company</th>\n",
              "      <th>year</th>\n",
              "      <th>award_category</th>\n",
              "      <th>country_y</th>\n",
              "    </tr>\n",
              "  </thead>\n",
              "  <tbody>\n",
              "    <tr>\n",
              "      <th>0</th>\n",
              "      <td>001C000001LkZXSIA3</td>\n",
              "      <td>Someone Somewhere</td>\n",
              "      <td>2017-08-30</td>\n",
              "      <td>2021-02-26</td>\n",
              "      <td>certified</td>\n",
              "      <td>Someone Somewhere is a vertically integrated a...</td>\n",
              "      <td>Apparel, Footwear &amp; Accessories</td>\n",
              "      <td>Consumer Products &amp; Services</td>\n",
              "      <td>Clothing and garments with artisanal textiles ...</td>\n",
              "      <td>Mexico</td>\n",
              "      <td>...</td>\n",
              "      <td>NaN</td>\n",
              "      <td>NaN</td>\n",
              "      <td>NaN</td>\n",
              "      <td>NaN</td>\n",
              "      <td>NaN</td>\n",
              "      <td>1.0</td>\n",
              "      <td>Someone Somewhere</td>\n",
              "      <td>2018</td>\n",
              "      <td>Community</td>\n",
              "      <td>Mexico</td>\n",
              "    </tr>\n",
              "    <tr>\n",
              "      <th>1</th>\n",
              "      <td>001C000001LkZXSIA3</td>\n",
              "      <td>Someone Somewhere</td>\n",
              "      <td>2017-08-30</td>\n",
              "      <td>2017-08-30</td>\n",
              "      <td>certified</td>\n",
              "      <td>Someone Somewhere is a vertically integrated a...</td>\n",
              "      <td>Apparel, Footwear &amp; Accessories</td>\n",
              "      <td>Consumer Products &amp; Services</td>\n",
              "      <td>Clothing and garments with artisanal textiles ...</td>\n",
              "      <td>Mexico</td>\n",
              "      <td>...</td>\n",
              "      <td>NaN</td>\n",
              "      <td>NaN</td>\n",
              "      <td>NaN</td>\n",
              "      <td>NaN</td>\n",
              "      <td>NaN</td>\n",
              "      <td>2.0</td>\n",
              "      <td>Someone Somewhere</td>\n",
              "      <td>2018</td>\n",
              "      <td>Community</td>\n",
              "      <td>Mexico</td>\n",
              "    </tr>\n",
              "    <tr>\n",
              "      <th>2</th>\n",
              "      <td>001C000001bVjmIIAS</td>\n",
              "      <td>Boomera</td>\n",
              "      <td>2017-12-27</td>\n",
              "      <td>2017-12-27</td>\n",
              "      <td>certified</td>\n",
              "      <td>Boomera work with cutting-edge technology and ...</td>\n",
              "      <td>Recycling Services &amp; Waste Management</td>\n",
              "      <td>Energy &amp; Environmental Services</td>\n",
              "      <td>recycling, upcycling</td>\n",
              "      <td>Brazil</td>\n",
              "      <td>...</td>\n",
              "      <td>1.6</td>\n",
              "      <td>NaN</td>\n",
              "      <td>NaN</td>\n",
              "      <td>0.9</td>\n",
              "      <td>NaN</td>\n",
              "      <td>1.0</td>\n",
              "      <td>Boomera</td>\n",
              "      <td>2019</td>\n",
              "      <td>Environment</td>\n",
              "      <td>Brazil</td>\n",
              "    </tr>\n",
              "    <tr>\n",
              "      <th>3</th>\n",
              "      <td>001C000001bVjmIIAS</td>\n",
              "      <td>Boomera</td>\n",
              "      <td>2017-12-27</td>\n",
              "      <td>2017-12-27</td>\n",
              "      <td>certified</td>\n",
              "      <td>Boomera work with cutting-edge technology and ...</td>\n",
              "      <td>Recycling Services &amp; Waste Management</td>\n",
              "      <td>Energy &amp; Environmental Services</td>\n",
              "      <td>recycling, upcycling</td>\n",
              "      <td>Brazil</td>\n",
              "      <td>...</td>\n",
              "      <td>1.6</td>\n",
              "      <td>NaN</td>\n",
              "      <td>NaN</td>\n",
              "      <td>0.9</td>\n",
              "      <td>NaN</td>\n",
              "      <td>1.0</td>\n",
              "      <td>Boomera</td>\n",
              "      <td>2018</td>\n",
              "      <td>Environment</td>\n",
              "      <td>Brazil</td>\n",
              "    </tr>\n",
              "    <tr>\n",
              "      <th>4</th>\n",
              "      <td>001C000001afqFpIAI</td>\n",
              "      <td>Nodo Chile</td>\n",
              "      <td>2017-10-17</td>\n",
              "      <td>2017-10-17</td>\n",
              "      <td>certified</td>\n",
              "      <td>NodoChile provides advisory services in matter...</td>\n",
              "      <td>Management and Financial Consulting</td>\n",
              "      <td>Business Products &amp; Services</td>\n",
              "      <td>Advisory Services</td>\n",
              "      <td>Chile</td>\n",
              "      <td>...</td>\n",
              "      <td>NaN</td>\n",
              "      <td>NaN</td>\n",
              "      <td>NaN</td>\n",
              "      <td>NaN</td>\n",
              "      <td>NaN</td>\n",
              "      <td>1.0</td>\n",
              "      <td>Nodo Chile</td>\n",
              "      <td>2019</td>\n",
              "      <td>Customers</td>\n",
              "      <td>Chile</td>\n",
              "    </tr>\n",
              "    <tr>\n",
              "      <th>...</th>\n",
              "      <td>...</td>\n",
              "      <td>...</td>\n",
              "      <td>...</td>\n",
              "      <td>...</td>\n",
              "      <td>...</td>\n",
              "      <td>...</td>\n",
              "      <td>...</td>\n",
              "      <td>...</td>\n",
              "      <td>...</td>\n",
              "      <td>...</td>\n",
              "      <td>...</td>\n",
              "      <td>...</td>\n",
              "      <td>...</td>\n",
              "      <td>...</td>\n",
              "      <td>...</td>\n",
              "      <td>...</td>\n",
              "      <td>...</td>\n",
              "      <td>...</td>\n",
              "      <td>...</td>\n",
              "      <td>...</td>\n",
              "      <td>...</td>\n",
              "    </tr>\n",
              "    <tr>\n",
              "      <th>10154</th>\n",
              "      <td>001C000001bTPidIAG</td>\n",
              "      <td>Hortifrut Chile</td>\n",
              "      <td>2018-10-04</td>\n",
              "      <td>2018-10-04</td>\n",
              "      <td>certified</td>\n",
              "      <td>Touching &amp; enlightening the life of the people...</td>\n",
              "      <td>Agricultural Services</td>\n",
              "      <td>Agriculture</td>\n",
              "      <td>Blueberries organics and conventionals</td>\n",
              "      <td>Chile</td>\n",
              "      <td>...</td>\n",
              "      <td>2.4</td>\n",
              "      <td>NaN</td>\n",
              "      <td>NaN</td>\n",
              "      <td>0.8</td>\n",
              "      <td>NaN</td>\n",
              "      <td>1.0</td>\n",
              "      <td>Hortifrut Chile</td>\n",
              "      <td>2019</td>\n",
              "      <td>Environment</td>\n",
              "      <td>Chile</td>\n",
              "    </tr>\n",
              "    <tr>\n",
              "      <th>10155</th>\n",
              "      <td>001C000000zk8zuIAA</td>\n",
              "      <td>Laureate Education</td>\n",
              "      <td>2015-12-11</td>\n",
              "      <td>2017-12-01</td>\n",
              "      <td>de-certified</td>\n",
              "      <td>Laureate Education, Inc. is the largest global...</td>\n",
              "      <td>Education &amp; Training Services</td>\n",
              "      <td>Education &amp; Training Services</td>\n",
              "      <td>Higher Education Services</td>\n",
              "      <td>United States</td>\n",
              "      <td>...</td>\n",
              "      <td>3.0</td>\n",
              "      <td>NaN</td>\n",
              "      <td>NaN</td>\n",
              "      <td>1.0</td>\n",
              "      <td>0.0</td>\n",
              "      <td>1.0</td>\n",
              "      <td>Laureate Education</td>\n",
              "      <td>2019</td>\n",
              "      <td>Customers; Governance</td>\n",
              "      <td>United States</td>\n",
              "    </tr>\n",
              "    <tr>\n",
              "      <th>10156</th>\n",
              "      <td>001C000000zk8zuIAA</td>\n",
              "      <td>Laureate Education</td>\n",
              "      <td>2015-12-11</td>\n",
              "      <td>2017-12-01</td>\n",
              "      <td>de-certified</td>\n",
              "      <td>Laureate Education, Inc. is the largest global...</td>\n",
              "      <td>Education &amp; Training Services</td>\n",
              "      <td>Education &amp; Training Services</td>\n",
              "      <td>Higher Education Services</td>\n",
              "      <td>United States</td>\n",
              "      <td>...</td>\n",
              "      <td>3.0</td>\n",
              "      <td>NaN</td>\n",
              "      <td>NaN</td>\n",
              "      <td>1.0</td>\n",
              "      <td>0.0</td>\n",
              "      <td>1.0</td>\n",
              "      <td>Laureate Education</td>\n",
              "      <td>2018</td>\n",
              "      <td>Governance</td>\n",
              "      <td>United States</td>\n",
              "    </tr>\n",
              "    <tr>\n",
              "      <th>10157</th>\n",
              "      <td>001C000000zk8zuIAA</td>\n",
              "      <td>Laureate Education</td>\n",
              "      <td>2015-12-11</td>\n",
              "      <td>2015-10-30</td>\n",
              "      <td>de-certified</td>\n",
              "      <td>Laureate Education, Inc. is the largest global...</td>\n",
              "      <td>Education &amp; Training Services</td>\n",
              "      <td>Education &amp; Training Services</td>\n",
              "      <td>Higher Education Services</td>\n",
              "      <td>United States</td>\n",
              "      <td>...</td>\n",
              "      <td>2.6</td>\n",
              "      <td>8.3</td>\n",
              "      <td>NaN</td>\n",
              "      <td>2.7</td>\n",
              "      <td>NaN</td>\n",
              "      <td>2.0</td>\n",
              "      <td>Laureate Education</td>\n",
              "      <td>2019</td>\n",
              "      <td>Customers; Governance</td>\n",
              "      <td>United States</td>\n",
              "    </tr>\n",
              "    <tr>\n",
              "      <th>10158</th>\n",
              "      <td>001C000000zk8zuIAA</td>\n",
              "      <td>Laureate Education</td>\n",
              "      <td>2015-12-11</td>\n",
              "      <td>2015-10-30</td>\n",
              "      <td>de-certified</td>\n",
              "      <td>Laureate Education, Inc. is the largest global...</td>\n",
              "      <td>Education &amp; Training Services</td>\n",
              "      <td>Education &amp; Training Services</td>\n",
              "      <td>Higher Education Services</td>\n",
              "      <td>United States</td>\n",
              "      <td>...</td>\n",
              "      <td>2.6</td>\n",
              "      <td>8.3</td>\n",
              "      <td>NaN</td>\n",
              "      <td>2.7</td>\n",
              "      <td>NaN</td>\n",
              "      <td>2.0</td>\n",
              "      <td>Laureate Education</td>\n",
              "      <td>2018</td>\n",
              "      <td>Governance</td>\n",
              "      <td>United States</td>\n",
              "    </tr>\n",
              "  </tbody>\n",
              "</table>\n",
              "<p>10159 rows × 131 columns</p>\n",
              "</div>"
            ],
            "text/plain": [
              "               company_id        company_name date_first_certified  \\\n",
              "0      001C000001LkZXSIA3   Someone Somewhere           2017-08-30   \n",
              "1      001C000001LkZXSIA3   Someone Somewhere           2017-08-30   \n",
              "2      001C000001bVjmIIAS             Boomera           2017-12-27   \n",
              "3      001C000001bVjmIIAS             Boomera           2017-12-27   \n",
              "4      001C000001afqFpIAI          Nodo Chile           2017-10-17   \n",
              "...                   ...                 ...                  ...   \n",
              "10154  001C000001bTPidIAG     Hortifrut Chile           2018-10-04   \n",
              "10155  001C000000zk8zuIAA  Laureate Education           2015-12-11   \n",
              "10156  001C000000zk8zuIAA  Laureate Education           2015-12-11   \n",
              "10157  001C000000zk8zuIAA  Laureate Education           2015-12-11   \n",
              "10158  001C000000zk8zuIAA  Laureate Education           2015-12-11   \n",
              "\n",
              "      date_certified current_status  \\\n",
              "0         2021-02-26      certified   \n",
              "1         2017-08-30      certified   \n",
              "2         2017-12-27      certified   \n",
              "3         2017-12-27      certified   \n",
              "4         2017-10-17      certified   \n",
              "...              ...            ...   \n",
              "10154     2018-10-04      certified   \n",
              "10155     2017-12-01   de-certified   \n",
              "10156     2017-12-01   de-certified   \n",
              "10157     2015-10-30   de-certified   \n",
              "10158     2015-10-30   de-certified   \n",
              "\n",
              "                                             description  \\\n",
              "0      Someone Somewhere is a vertically integrated a...   \n",
              "1      Someone Somewhere is a vertically integrated a...   \n",
              "2      Boomera work with cutting-edge technology and ...   \n",
              "3      Boomera work with cutting-edge technology and ...   \n",
              "4      NodoChile provides advisory services in matter...   \n",
              "...                                                  ...   \n",
              "10154  Touching & enlightening the life of the people...   \n",
              "10155  Laureate Education, Inc. is the largest global...   \n",
              "10156  Laureate Education, Inc. is the largest global...   \n",
              "10157  Laureate Education, Inc. is the largest global...   \n",
              "10158  Laureate Education, Inc. is the largest global...   \n",
              "\n",
              "                                    industry                industry_category  \\\n",
              "0            Apparel, Footwear & Accessories     Consumer Products & Services   \n",
              "1            Apparel, Footwear & Accessories     Consumer Products & Services   \n",
              "2      Recycling Services & Waste Management  Energy & Environmental Services   \n",
              "3      Recycling Services & Waste Management  Energy & Environmental Services   \n",
              "4        Management and Financial Consulting     Business Products & Services   \n",
              "...                                      ...                              ...   \n",
              "10154                  Agricultural Services                      Agriculture   \n",
              "10155          Education & Training Services    Education & Training Services   \n",
              "10156          Education & Training Services    Education & Training Services   \n",
              "10157          Education & Training Services    Education & Training Services   \n",
              "10158          Education & Training Services    Education & Training Services   \n",
              "\n",
              "                                   products_and_services      country_x  ...  \\\n",
              "0      Clothing and garments with artisanal textiles ...         Mexico  ...   \n",
              "1      Clothing and garments with artisanal textiles ...         Mexico  ...   \n",
              "2                                   recycling, upcycling         Brazil  ...   \n",
              "3                                   recycling, upcycling         Brazil  ...   \n",
              "4                                      Advisory Services          Chile  ...   \n",
              "...                                                  ...            ...  ...   \n",
              "10154             Blueberries organics and conventionals          Chile  ...   \n",
              "10155                          Higher Education Services  United States  ...   \n",
              "10156                          Higher Education Services  United States  ...   \n",
              "10157                          Higher Education Services  United States  ...   \n",
              "10158                          Higher Education Services  United States  ...   \n",
              "\n",
              "      ia_workers_it_training_education ia_workers_it_worker_benefits  \\\n",
              "0                                  NaN                           NaN   \n",
              "1                                  NaN                           NaN   \n",
              "2                                  1.6                           NaN   \n",
              "3                                  1.6                           NaN   \n",
              "4                                  NaN                           NaN   \n",
              "...                                ...                           ...   \n",
              "10154                              2.4                           NaN   \n",
              "10155                              3.0                           NaN   \n",
              "10156                              3.0                           NaN   \n",
              "10157                              2.6                           8.3   \n",
              "10158                              2.6                           8.3   \n",
              "\n",
              "      ia_workers_it_worker_owned ia_workers_it_worker_ownership  \\\n",
              "0                            NaN                            NaN   \n",
              "1                            NaN                            NaN   \n",
              "2                            NaN                            0.9   \n",
              "3                            NaN                            0.9   \n",
              "4                            NaN                            NaN   \n",
              "...                          ...                            ...   \n",
              "10154                        NaN                            0.8   \n",
              "10155                        NaN                            1.0   \n",
              "10156                        NaN                            1.0   \n",
              "10157                        NaN                            2.7   \n",
              "10158                        NaN                            2.7   \n",
              "\n",
              "      ia_workers_it_workforce_development certification_cycle  \\\n",
              "0                                     NaN                 1.0   \n",
              "1                                     NaN                 2.0   \n",
              "2                                     NaN                 1.0   \n",
              "3                                     NaN                 1.0   \n",
              "4                                     NaN                 1.0   \n",
              "...                                   ...                 ...   \n",
              "10154                                 NaN                 1.0   \n",
              "10155                                 0.0                 1.0   \n",
              "10156                                 0.0                 1.0   \n",
              "10157                                 NaN                 2.0   \n",
              "10158                                 NaN                 2.0   \n",
              "\n",
              "                  company  year         award_category      country_y  \n",
              "0       Someone Somewhere  2018              Community         Mexico  \n",
              "1       Someone Somewhere  2018              Community         Mexico  \n",
              "2                 Boomera  2019            Environment         Brazil  \n",
              "3                 Boomera  2018            Environment         Brazil  \n",
              "4              Nodo Chile  2019              Customers          Chile  \n",
              "...                   ...   ...                    ...            ...  \n",
              "10154     Hortifrut Chile  2019            Environment          Chile  \n",
              "10155  Laureate Education  2019  Customers; Governance  United States  \n",
              "10156  Laureate Education  2018             Governance  United States  \n",
              "10157  Laureate Education  2019  Customers; Governance  United States  \n",
              "10158  Laureate Education  2018             Governance  United States  \n",
              "\n",
              "[10159 rows x 131 columns]"
            ]
          },
          "execution_count": 40,
          "metadata": {},
          "output_type": "execute_result"
        }
      ],
      "source": [
        "merged"
      ]
    },
    {
      "cell_type": "markdown",
      "metadata": {
        "id": "75a796f5"
      },
      "source": [
        "Select a few columns to see the results more clearly"
      ]
    },
    {
      "cell_type": "code",
      "execution_count": 41,
      "metadata": {
        "id": "87cdc2d4",
        "outputId": "14e55a39-641b-47c2-bfd9-9aaec8aa2087"
      },
      "outputs": [
        {
          "data": {
            "text/html": [
              "<div>\n",
              "<style scoped>\n",
              "    .dataframe tbody tr th:only-of-type {\n",
              "        vertical-align: middle;\n",
              "    }\n",
              "\n",
              "    .dataframe tbody tr th {\n",
              "        vertical-align: top;\n",
              "    }\n",
              "\n",
              "    .dataframe thead th {\n",
              "        text-align: right;\n",
              "    }\n",
              "</style>\n",
              "<table border=\"1\" class=\"dataframe\">\n",
              "  <thead>\n",
              "    <tr style=\"text-align: right;\">\n",
              "      <th></th>\n",
              "      <th>company_name</th>\n",
              "      <th>state</th>\n",
              "      <th>sector</th>\n",
              "      <th>certification_cycle</th>\n",
              "      <th>year</th>\n",
              "      <th>award_category</th>\n",
              "    </tr>\n",
              "  </thead>\n",
              "  <tbody>\n",
              "    <tr>\n",
              "      <th>0</th>\n",
              "      <td>Someone Somewhere</td>\n",
              "      <td>Ciudad de Mexico</td>\n",
              "      <td>Wholesale/Retail</td>\n",
              "      <td>1.0</td>\n",
              "      <td>2018</td>\n",
              "      <td>Community</td>\n",
              "    </tr>\n",
              "    <tr>\n",
              "      <th>1</th>\n",
              "      <td>Someone Somewhere</td>\n",
              "      <td>Ciudad de Mexico</td>\n",
              "      <td>Wholesale/Retail</td>\n",
              "      <td>2.0</td>\n",
              "      <td>2018</td>\n",
              "      <td>Community</td>\n",
              "    </tr>\n",
              "    <tr>\n",
              "      <th>2</th>\n",
              "      <td>Boomera</td>\n",
              "      <td>São Paulo</td>\n",
              "      <td>Manufacturing</td>\n",
              "      <td>1.0</td>\n",
              "      <td>2019</td>\n",
              "      <td>Environment</td>\n",
              "    </tr>\n",
              "    <tr>\n",
              "      <th>3</th>\n",
              "      <td>Boomera</td>\n",
              "      <td>São Paulo</td>\n",
              "      <td>Manufacturing</td>\n",
              "      <td>1.0</td>\n",
              "      <td>2018</td>\n",
              "      <td>Environment</td>\n",
              "    </tr>\n",
              "    <tr>\n",
              "      <th>4</th>\n",
              "      <td>Nodo Chile</td>\n",
              "      <td>X región Los Lagos</td>\n",
              "      <td>Service with Minor Environmental Footprint</td>\n",
              "      <td>1.0</td>\n",
              "      <td>2019</td>\n",
              "      <td>Customers</td>\n",
              "    </tr>\n",
              "    <tr>\n",
              "      <th>...</th>\n",
              "      <td>...</td>\n",
              "      <td>...</td>\n",
              "      <td>...</td>\n",
              "      <td>...</td>\n",
              "      <td>...</td>\n",
              "      <td>...</td>\n",
              "    </tr>\n",
              "    <tr>\n",
              "      <th>10154</th>\n",
              "      <td>Hortifrut Chile</td>\n",
              "      <td>Santiago Metropolitan Region</td>\n",
              "      <td>Agriculture/Growers</td>\n",
              "      <td>1.0</td>\n",
              "      <td>2019</td>\n",
              "      <td>Environment</td>\n",
              "    </tr>\n",
              "    <tr>\n",
              "      <th>10155</th>\n",
              "      <td>Laureate Education</td>\n",
              "      <td>Maryland</td>\n",
              "      <td>Service with Significant Environmental Footprint</td>\n",
              "      <td>1.0</td>\n",
              "      <td>2019</td>\n",
              "      <td>Customers; Governance</td>\n",
              "    </tr>\n",
              "    <tr>\n",
              "      <th>10156</th>\n",
              "      <td>Laureate Education</td>\n",
              "      <td>Maryland</td>\n",
              "      <td>Service with Significant Environmental Footprint</td>\n",
              "      <td>1.0</td>\n",
              "      <td>2018</td>\n",
              "      <td>Governance</td>\n",
              "    </tr>\n",
              "    <tr>\n",
              "      <th>10157</th>\n",
              "      <td>Laureate Education</td>\n",
              "      <td>Maryland</td>\n",
              "      <td>Service with Significant Environmental Footprint</td>\n",
              "      <td>2.0</td>\n",
              "      <td>2019</td>\n",
              "      <td>Customers; Governance</td>\n",
              "    </tr>\n",
              "    <tr>\n",
              "      <th>10158</th>\n",
              "      <td>Laureate Education</td>\n",
              "      <td>Maryland</td>\n",
              "      <td>Service with Significant Environmental Footprint</td>\n",
              "      <td>2.0</td>\n",
              "      <td>2018</td>\n",
              "      <td>Governance</td>\n",
              "    </tr>\n",
              "  </tbody>\n",
              "</table>\n",
              "<p>10159 rows × 6 columns</p>\n",
              "</div>"
            ],
            "text/plain": [
              "             company_name                         state  \\\n",
              "0       Someone Somewhere              Ciudad de Mexico   \n",
              "1       Someone Somewhere              Ciudad de Mexico   \n",
              "2                 Boomera                     São Paulo   \n",
              "3                 Boomera                     São Paulo   \n",
              "4              Nodo Chile            X región Los Lagos   \n",
              "...                   ...                           ...   \n",
              "10154     Hortifrut Chile  Santiago Metropolitan Region   \n",
              "10155  Laureate Education                      Maryland   \n",
              "10156  Laureate Education                      Maryland   \n",
              "10157  Laureate Education                      Maryland   \n",
              "10158  Laureate Education                      Maryland   \n",
              "\n",
              "                                                 sector  certification_cycle  \\\n",
              "0                                      Wholesale/Retail                  1.0   \n",
              "1                                      Wholesale/Retail                  2.0   \n",
              "2                                         Manufacturing                  1.0   \n",
              "3                                         Manufacturing                  1.0   \n",
              "4            Service with Minor Environmental Footprint                  1.0   \n",
              "...                                                 ...                  ...   \n",
              "10154                               Agriculture/Growers                  1.0   \n",
              "10155  Service with Significant Environmental Footprint                  1.0   \n",
              "10156  Service with Significant Environmental Footprint                  1.0   \n",
              "10157  Service with Significant Environmental Footprint                  2.0   \n",
              "10158  Service with Significant Environmental Footprint                  2.0   \n",
              "\n",
              "       year         award_category  \n",
              "0      2018              Community  \n",
              "1      2018              Community  \n",
              "2      2019            Environment  \n",
              "3      2018            Environment  \n",
              "4      2019              Customers  \n",
              "...     ...                    ...  \n",
              "10154  2019            Environment  \n",
              "10155  2019  Customers; Governance  \n",
              "10156  2018             Governance  \n",
              "10157  2019  Customers; Governance  \n",
              "10158  2018             Governance  \n",
              "\n",
              "[10159 rows x 6 columns]"
            ]
          },
          "execution_count": 41,
          "metadata": {},
          "output_type": "execute_result"
        }
      ],
      "source": [
        "merged = merged[[\"company_name\", \"state\", \"sector\", \"certification_cycle\", \"year\", \"award_category\"]]\n",
        "merged"
      ]
    },
    {
      "cell_type": "markdown",
      "metadata": {
        "id": "37c5cd92"
      },
      "source": [
        "By merging, we got information from both datasets. The `best_us` dataset has company name, year, and award category. The rest of the columns come from the `impact` dataset.\n",
        "\n",
        "Sort by company name and year. We can see that some companies won awards multiple years."
      ]
    }
  ],
  "metadata": {
    "colab": {
      "name": "PythonDataScience.ipynb",
      "provenance": []
    },
    "interpreter": {
      "hash": "aee8b7b246df8f9039afb4144a1f6fd8d2ca17a180786b69acc140d282b71a49"
    },
    "kernelspec": {
      "display_name": "Python 3.9.6 64-bit",
      "language": "python",
      "name": "python3"
    },
    "language_info": {
      "codemirror_mode": {
        "name": "ipython",
        "version": 3
      },
      "file_extension": ".py",
      "mimetype": "text/x-python",
      "name": "python",
      "nbconvert_exporter": "python",
      "pygments_lexer": "ipython3",
      "version": "3.9.6"
    },
    "orig_nbformat": 4
  },
  "nbformat": 4,
  "nbformat_minor": 0
}
