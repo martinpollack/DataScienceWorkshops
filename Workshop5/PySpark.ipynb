{
  "cells": [
    {
      "cell_type": "markdown",
      "metadata": {
        "id": "PnWTYa1f3ptN"
      },
      "source": [
        "# Introduction to Pyspark Tutorial\n",
        "\n",
        "Authors: Yusen He & Martin Pollack"
      ]
    },
    {
      "cell_type": "markdown",
      "metadata": {
        "id": "W42ofBJWjhBJ"
      },
      "source": [
        "## Setting up Pyspark"
      ]
    },
    {
      "cell_type": "markdown",
      "metadata": {
        "id": "FxoHfY1F32ah"
      },
      "source": [
        "First we have to install the Pyspark package to our environment before we can even import.\n",
        "\n",
        "To do so we actually have to step outside of Python for a second. Instead we have to write a terminal comand to install a Python package. If you're not familiar with a computer's terminal, it is basically a place where you can talk directly to your computer.\n",
        "\n",
        "To exit Python and communicate with the terminal in a Jupyter notebook, type a `!` as the first character of the code cell. Then we run the `pip install pyspark` command in the terminal to install the PySpark package."
      ]
    },
    {
      "cell_type": "code",
      "execution_count": 1,
      "metadata": {
        "colab": {
          "base_uri": "https://localhost:8080/"
        },
        "id": "YD_GCSzwQle7",
        "outputId": "156567a5-0464-4754-88d5-c123384138bc"
      },
      "outputs": [
        {
          "output_type": "stream",
          "name": "stdout",
          "text": [
            "Collecting pyspark\n",
            "  Downloading pyspark-3.2.1.tar.gz (281.4 MB)\n",
            "\u001b[K     |████████████████████████████████| 281.4 MB 34 kB/s \n",
            "\u001b[?25hCollecting py4j==0.10.9.3\n",
            "  Downloading py4j-0.10.9.3-py2.py3-none-any.whl (198 kB)\n",
            "\u001b[K     |████████████████████████████████| 198 kB 49.8 MB/s \n",
            "\u001b[?25hBuilding wheels for collected packages: pyspark\n",
            "  Building wheel for pyspark (setup.py) ... \u001b[?25l\u001b[?25hdone\n",
            "  Created wheel for pyspark: filename=pyspark-3.2.1-py2.py3-none-any.whl size=281853642 sha256=db3bce47e0f77e61689f14156fefc1dd0883e6ae6a5c670aa8cbbe1cc52e4787\n",
            "  Stored in directory: /root/.cache/pip/wheels/9f/f5/07/7cd8017084dce4e93e84e92efd1e1d5334db05f2e83bcef74f\n",
            "Successfully built pyspark\n",
            "Installing collected packages: py4j, pyspark\n",
            "Successfully installed py4j-0.10.9.3 pyspark-3.2.1\n"
          ]
        }
      ],
      "source": [
        "!pip install pyspark"
      ]
    },
    {
      "cell_type": "markdown",
      "metadata": {
        "id": "J0bwVDiAYjnH"
      },
      "source": [
        "Now we can import objects and functions from the PySpark package as we normally do.\n",
        "\n",
        "We can then start using the package by creating a Spark session. This means we are substantiating a Spark Driver that communicates with us humans, doing so through a SparkContext. \n",
        "\n",
        "Note that for this example the Spark cluster we are connecting to will only include one node, the computer you are using. But normally our cluster would have lots of nodes."
      ]
    },
    {
      "cell_type": "code",
      "execution_count": 2,
      "metadata": {
        "colab": {
          "base_uri": "https://localhost:8080/",
          "height": 219
        },
        "id": "wAUPr3l8yydi",
        "outputId": "c6358a44-925d-4c0f-8a3c-8a4cf854f201"
      },
      "outputs": [
        {
          "output_type": "execute_result",
          "data": {
            "text/plain": [
              "<pyspark.sql.session.SparkSession at 0x7f9c059fb190>"
            ],
            "text/html": [
              "\n",
              "            <div>\n",
              "                <p><b>SparkSession - in-memory</b></p>\n",
              "                \n",
              "        <div>\n",
              "            <p><b>SparkContext</b></p>\n",
              "\n",
              "            <p><a href=\"http://b6352a6189cb:4040\">Spark UI</a></p>\n",
              "\n",
              "            <dl>\n",
              "              <dt>Version</dt>\n",
              "                <dd><code>v3.2.1</code></dd>\n",
              "              <dt>Master</dt>\n",
              "                <dd><code>local[*]</code></dd>\n",
              "              <dt>AppName</dt>\n",
              "                <dd><code>Dataframe</code></dd>\n",
              "            </dl>\n",
              "        </div>\n",
              "        \n",
              "            </div>\n",
              "        "
            ]
          },
          "metadata": {},
          "execution_count": 2
        }
      ],
      "source": [
        "from pyspark.sql import SparkSession\n",
        "\n",
        "SparkConnection = SparkSession.builder.appName('Dataframe').getOrCreate()\n",
        "SparkConnection"
      ]
    },
    {
      "cell_type": "markdown",
      "metadata": {
        "id": "REzO33324Boy"
      },
      "source": [
        "Next we read in/load our data into our Spark cluster.\n",
        "\n",
        "To do so, we take our `SparkConnection` and use its `read` method. We specify some options to make sure everything goes smoothly and then give a `csv` file path.\n",
        "\n",
        "An important thing in Spark is the \"schema\" of the data. This just means the data types of the various columns. By telling Spark to `inferSchema`, we just let it makes its best guess on what the data types of our columns are.\n",
        "\n",
        "We can see that it does a pretty good job of doing so. `Name` was read as a string, and the others as an integer."
      ]
    },
    {
      "cell_type": "code",
      "execution_count": 4,
      "metadata": {
        "colab": {
          "base_uri": "https://localhost:8080/"
        },
        "id": "ZqqubbHpRChC",
        "outputId": "9cbefb88-3f28-491a-8cdc-1ae747110df4"
      },
      "outputs": [
        {
          "output_type": "stream",
          "name": "stdout",
          "text": [
            "root\n",
            " |-- Name: string (nullable = true)\n",
            " |-- age: integer (nullable = true)\n",
            " |-- Experience: integer (nullable = true)\n",
            " |-- Salary: integer (nullable = true)\n",
            "\n"
          ]
        }
      ],
      "source": [
        "df_pyspark = SparkConnection.read.option('header','true').csv('/content/salary.csv',inferSchema=True)\n",
        "df_pyspark.printSchema()"
      ]
    },
    {
      "cell_type": "markdown",
      "metadata": {
        "id": "zftM3KUYi5B9"
      },
      "source": [
        "A connection to our data stored in our cluster is stored in `df_pyspark`.\n",
        "\n",
        "To actually see the data, we can use the `show()` method."
      ]
    },
    {
      "cell_type": "code",
      "execution_count": 5,
      "metadata": {
        "colab": {
          "base_uri": "https://localhost:8080/"
        },
        "id": "bMf02CBai4UC",
        "outputId": "72174c35-ddab-4a28-9b0a-6e7e87d74828"
      },
      "outputs": [
        {
          "output_type": "stream",
          "name": "stdout",
          "text": [
            "+---------+----+----------+------+\n",
            "|     Name| age|Experience|Salary|\n",
            "+---------+----+----------+------+\n",
            "|    Krish|  31|        10| 30000|\n",
            "|Sudhanshu|  30|         8| 25000|\n",
            "|    Sunny|  29|         4| 20000|\n",
            "|     Paul|  24|         3| 20000|\n",
            "|   Harsha|  21|         1| 15000|\n",
            "|  Shubham|  23|         2| 18000|\n",
            "|   Mahesh|null|      null| 40000|\n",
            "|     null|  34|        10| 38000|\n",
            "|     null|  36|      null|  null|\n",
            "+---------+----+----------+------+\n",
            "\n"
          ]
        }
      ],
      "source": [
        "df_pyspark.show()"
      ]
    },
    {
      "cell_type": "markdown",
      "metadata": {
        "id": "zOB4RvOfkRSg"
      },
      "source": [
        "## Manipulating Data in Pyspark"
      ]
    },
    {
      "cell_type": "markdown",
      "metadata": {
        "id": "NS3ivyqglOXo"
      },
      "source": [
        "Getting rid of an unneeded column is easy. Just use the `drop()` method.\n",
        "\n",
        "But notice that the column is not permanently dropped. If we want to have data without the `Name` column, we would have to assign our line of code to a new name."
      ]
    },
    {
      "cell_type": "code",
      "execution_count": 6,
      "metadata": {
        "colab": {
          "base_uri": "https://localhost:8080/"
        },
        "id": "nH-5Oa9RlN78",
        "outputId": "93aa05f5-5765-434b-fb7a-b666b7a04060"
      },
      "outputs": [
        {
          "output_type": "stream",
          "name": "stdout",
          "text": [
            "+----+----------+------+\n",
            "| age|Experience|Salary|\n",
            "+----+----------+------+\n",
            "|  31|        10| 30000|\n",
            "|  30|         8| 25000|\n",
            "|  29|         4| 20000|\n",
            "|  24|         3| 20000|\n",
            "|  21|         1| 15000|\n",
            "|  23|         2| 18000|\n",
            "|null|      null| 40000|\n",
            "|  34|        10| 38000|\n",
            "|  36|      null|  null|\n",
            "+----+----------+------+\n",
            "\n",
            "+---------+----+----------+------+\n",
            "|     Name| age|Experience|Salary|\n",
            "+---------+----+----------+------+\n",
            "|    Krish|  31|        10| 30000|\n",
            "|Sudhanshu|  30|         8| 25000|\n",
            "|    Sunny|  29|         4| 20000|\n",
            "|     Paul|  24|         3| 20000|\n",
            "|   Harsha|  21|         1| 15000|\n",
            "|  Shubham|  23|         2| 18000|\n",
            "|   Mahesh|null|      null| 40000|\n",
            "|     null|  34|        10| 38000|\n",
            "|     null|  36|      null|  null|\n",
            "+---------+----+----------+------+\n",
            "\n"
          ]
        }
      ],
      "source": [
        "#Drop the name column\n",
        "df_pyspark.drop('Name').show()\n",
        "\n",
        "#But notice that it is not dropped forever\n",
        "df_pyspark.show()"
      ]
    },
    {
      "cell_type": "markdown",
      "metadata": {
        "id": "BPUFK9NzYjnN"
      },
      "source": [
        "Instead we can also specify the columns we want to keep. The `select()` method allows us to do this. Sounds a lot like SQL, doesn't it?"
      ]
    },
    {
      "cell_type": "code",
      "execution_count": 10,
      "metadata": {
        "colab": {
          "base_uri": "https://localhost:8080/"
        },
        "id": "xScUMdfGYjnN",
        "outputId": "19dacd64-a531-4ce2-b57a-f5c07c0eab13"
      },
      "outputs": [
        {
          "output_type": "stream",
          "name": "stdout",
          "text": [
            "+----+------+\n",
            "| age|Salary|\n",
            "+----+------+\n",
            "|  31| 30000|\n",
            "|  30| 25000|\n",
            "|  29| 20000|\n",
            "|  24| 20000|\n",
            "|  21| 15000|\n",
            "|  23| 18000|\n",
            "|null| 40000|\n",
            "|  34| 38000|\n",
            "|  36|  null|\n",
            "+----+------+\n",
            "\n"
          ]
        }
      ],
      "source": [
        "df_pyspark.select([\"age\", \"Salary\"]).show()"
      ]
    },
    {
      "cell_type": "markdown",
      "metadata": {
        "id": "dz90R5zhpqjW"
      },
      "source": [
        "Selecting certain rows is just as easy with the `filter()` method. \n",
        "\n",
        "Just write out your conditional in a string, or surrounded by quotation marks."
      ]
    },
    {
      "cell_type": "code",
      "execution_count": 11,
      "metadata": {
        "colab": {
          "base_uri": "https://localhost:8080/"
        },
        "id": "WA1iZlcapvL_",
        "outputId": "efc54475-b839-4171-b0fd-ceb21ee2ff52"
      },
      "outputs": [
        {
          "output_type": "stream",
          "name": "stdout",
          "text": [
            "+-------+---+----------+------+\n",
            "|   Name|age|Experience|Salary|\n",
            "+-------+---+----------+------+\n",
            "|  Sunny| 29|         4| 20000|\n",
            "|   Paul| 24|         3| 20000|\n",
            "| Harsha| 21|         1| 15000|\n",
            "|Shubham| 23|         2| 18000|\n",
            "+-------+---+----------+------+\n",
            "\n"
          ]
        }
      ],
      "source": [
        "df_pyspark.filter(\"Salary<=20000\").show()"
      ]
    },
    {
      "cell_type": "markdown",
      "metadata": {
        "id": "58CGcVvxqCE_"
      },
      "source": [
        "Instead of writing our conditional in a string, we can also use a \"boolean column\", or a column of trues and falses.\n",
        "\n",
        "Multiple conditions can also be chained together using \"and\" logic with the `&` symbol, exactly as we did in pandas."
      ]
    },
    {
      "cell_type": "code",
      "execution_count": 12,
      "metadata": {
        "colab": {
          "base_uri": "https://localhost:8080/"
        },
        "id": "C_zyFUeVqI4v",
        "outputId": "a33b81d8-ba42-452d-9a15-eb5e1d32114b"
      },
      "outputs": [
        {
          "output_type": "stream",
          "name": "stdout",
          "text": [
            "+-------+---+----------+------+\n",
            "|   Name|age|Experience|Salary|\n",
            "+-------+---+----------+------+\n",
            "|  Sunny| 29|         4| 20000|\n",
            "|   Paul| 24|         3| 20000|\n",
            "|Shubham| 23|         2| 18000|\n",
            "+-------+---+----------+------+\n",
            "\n"
          ]
        }
      ],
      "source": [
        "df_pyspark.filter((df_pyspark['Salary']<=20000) & (df_pyspark['Salary']>=18000)).show()"
      ]
    },
    {
      "cell_type": "markdown",
      "metadata": {
        "id": "VeOy1kJdp1s_"
      },
      "source": [
        "We can also chain multiple of these commands together.\n",
        "\n",
        "For example, below we filter and then select certain columns."
      ]
    },
    {
      "cell_type": "code",
      "execution_count": 13,
      "metadata": {
        "colab": {
          "base_uri": "https://localhost:8080/"
        },
        "id": "4lqDmnprp897",
        "outputId": "e5c89228-f86b-4d63-ace3-46ebda253594"
      },
      "outputs": [
        {
          "output_type": "stream",
          "name": "stdout",
          "text": [
            "+-------+---+\n",
            "|   Name|age|\n",
            "+-------+---+\n",
            "|  Sunny| 29|\n",
            "|   Paul| 24|\n",
            "| Harsha| 21|\n",
            "|Shubham| 23|\n",
            "+-------+---+\n",
            "\n"
          ]
        }
      ],
      "source": [
        "df_pyspark.filter(\"Salary<=20000\").select(['Name','age']).show()"
      ]
    },
    {
      "cell_type": "markdown",
      "metadata": {
        "id": "pKPnMaNZooHn"
      },
      "source": [
        "Sometimes we want to drop all rows with missing values. This is done with `.na.drop()`"
      ]
    },
    {
      "cell_type": "code",
      "execution_count": 14,
      "metadata": {
        "colab": {
          "base_uri": "https://localhost:8080/"
        },
        "id": "cbtdzalEor5Y",
        "outputId": "94ba70ba-2109-407f-f08c-7f04d87c0efa"
      },
      "outputs": [
        {
          "output_type": "stream",
          "name": "stdout",
          "text": [
            "+---------+---+----------+------+\n",
            "|     Name|age|Experience|Salary|\n",
            "+---------+---+----------+------+\n",
            "|    Krish| 31|        10| 30000|\n",
            "|Sudhanshu| 30|         8| 25000|\n",
            "|    Sunny| 29|         4| 20000|\n",
            "|     Paul| 24|         3| 20000|\n",
            "|   Harsha| 21|         1| 15000|\n",
            "|  Shubham| 23|         2| 18000|\n",
            "+---------+---+----------+------+\n",
            "\n"
          ]
        }
      ],
      "source": [
        "df_pyspark.na.drop().show()"
      ]
    },
    {
      "cell_type": "markdown",
      "metadata": {
        "id": "NRZttiZRlQpN"
      },
      "source": [
        "Or maybe missing values are just code for a 0 or another value in our dataset.\n",
        "\n",
        "To subsitute a specific value for missing values use `na.fill()`, specifying first the value you want to put in, and then the columns where you want to make this substitution."
      ]
    },
    {
      "cell_type": "code",
      "execution_count": 15,
      "metadata": {
        "colab": {
          "base_uri": "https://localhost:8080/"
        },
        "id": "kOb9kewdlU-d",
        "outputId": "206d5181-c6c1-44d0-c4e0-eb210481dbdc"
      },
      "outputs": [
        {
          "output_type": "stream",
          "name": "stdout",
          "text": [
            "+---------+---+----------+------+\n",
            "|     Name|age|Experience|Salary|\n",
            "+---------+---+----------+------+\n",
            "|    Krish| 31|        10| 30000|\n",
            "|Sudhanshu| 30|         8| 25000|\n",
            "|    Sunny| 29|         4| 20000|\n",
            "|     Paul| 24|         3| 20000|\n",
            "|   Harsha| 21|         1| 15000|\n",
            "|  Shubham| 23|         2| 18000|\n",
            "|   Mahesh|  0|         0| 40000|\n",
            "|     null| 34|        10| 38000|\n",
            "|     null| 36|         0|     0|\n",
            "+---------+---+----------+------+\n",
            "\n"
          ]
        }
      ],
      "source": [
        "df_pyspark.na.fill(0,['age','Experience','Salary']).show()"
      ]
    },
    {
      "cell_type": "markdown",
      "metadata": {
        "id": "WB01sXy-YjnT"
      },
      "source": [
        "Since for our later steps we cannot have missing values, we are going to remove them forever here."
      ]
    },
    {
      "cell_type": "code",
      "execution_count": 16,
      "metadata": {
        "id": "73d5zeIaYjnT"
      },
      "outputs": [],
      "source": [
        "df_pyspark = df_pyspark.na.drop()"
      ]
    },
    {
      "cell_type": "markdown",
      "metadata": {
        "id": "ojvaIRHrq4zW"
      },
      "source": [
        "## Pyspark Groupby and Aggregate Functions"
      ]
    },
    {
      "cell_type": "markdown",
      "metadata": {
        "id": "WWvKrbM3rSrW"
      },
      "source": [
        "Like in pandas and SQL, we may want to look at summary statistics by various groups.\n",
        "\n",
        "To do this in PySpark, we first call the `groupBy()` method with a column name. Then we say how we want to aggregate our groups together, or what summary statistic we are interested in.\n",
        "\n",
        "Here we look at sums. Notice that it sums each numeric column."
      ]
    },
    {
      "cell_type": "code",
      "execution_count": 19,
      "metadata": {
        "colab": {
          "base_uri": "https://localhost:8080/"
        },
        "id": "vOhUaI4YrXPF",
        "outputId": "65959c9b-0cfb-4be0-84c8-d9d35e14629f"
      },
      "outputs": [
        {
          "output_type": "stream",
          "name": "stdout",
          "text": [
            "+---------+--------+---------------+-----------+\n",
            "|     Name|sum(age)|sum(Experience)|sum(Salary)|\n",
            "+---------+--------+---------------+-----------+\n",
            "|Sudhanshu|      30|              8|      25000|\n",
            "|    Sunny|      29|              4|      20000|\n",
            "|    Krish|      31|             10|      30000|\n",
            "|   Harsha|      21|              1|      15000|\n",
            "|     Paul|      24|              3|      20000|\n",
            "|  Shubham|      23|              2|      18000|\n",
            "+---------+--------+---------------+-----------+\n",
            "\n"
          ]
        }
      ],
      "source": [
        "df_pyspark.groupBy('Name').sum().show()"
      ]
    },
    {
      "cell_type": "markdown",
      "metadata": {
        "id": "J9A_jf_ErqN2"
      },
      "source": [
        "But we can also look at group means. Notice that the mean of Name is not shown since it is stored as a string."
      ]
    },
    {
      "cell_type": "code",
      "execution_count": 18,
      "metadata": {
        "colab": {
          "base_uri": "https://localhost:8080/"
        },
        "id": "fqgrhBU2rw02",
        "outputId": "29f84fde-bd15-455f-e5b7-8e44eba5c37d"
      },
      "outputs": [
        {
          "output_type": "stream",
          "name": "stdout",
          "text": [
            "+----------+--------+---------------+-----------+\n",
            "|Experience|avg(age)|avg(Experience)|avg(Salary)|\n",
            "+----------+--------+---------------+-----------+\n",
            "|         1|    21.0|            1.0|    15000.0|\n",
            "|         3|    24.0|            3.0|    20000.0|\n",
            "|         4|    29.0|            4.0|    20000.0|\n",
            "|         8|    30.0|            8.0|    25000.0|\n",
            "|        10|    31.0|           10.0|    30000.0|\n",
            "|         2|    23.0|            2.0|    18000.0|\n",
            "+----------+--------+---------------+-----------+\n",
            "\n"
          ]
        }
      ],
      "source": [
        "df_pyspark.groupBy('Experience').mean().show()"
      ]
    },
    {
      "cell_type": "markdown",
      "metadata": {
        "id": "Kbsml7BOr3qV"
      },
      "source": [
        "Or look at how many observations are in each group."
      ]
    },
    {
      "cell_type": "code",
      "execution_count": 20,
      "metadata": {
        "colab": {
          "base_uri": "https://localhost:8080/"
        },
        "id": "LQtFT_Efr75V",
        "outputId": "2e96e02e-f895-48e9-a92a-cb325d21b0de"
      },
      "outputs": [
        {
          "output_type": "stream",
          "name": "stdout",
          "text": [
            "+----------+-----+\n",
            "|Experience|count|\n",
            "+----------+-----+\n",
            "|         1|    1|\n",
            "|         3|    1|\n",
            "|         4|    1|\n",
            "|         8|    1|\n",
            "|        10|    1|\n",
            "|         2|    1|\n",
            "+----------+-----+\n",
            "\n"
          ]
        }
      ],
      "source": [
        "df_pyspark.groupBy('Experience').count().show()"
      ]
    },
    {
      "cell_type": "markdown",
      "metadata": {
        "id": "AYRGLYZjYjnW"
      },
      "source": [
        "## SQL-like queries in PySpark"
      ]
    },
    {
      "cell_type": "markdown",
      "metadata": {
        "id": "rG8PXCxVYjnX"
      },
      "source": [
        "Spark DataFrames are actually within \"Spark SQL.\" This means that we interact with a DataFrame and its functions, but really behind the scenes SQL is being run to interact with data in Spark.\n",
        "\n",
        "But we can also directly interact with our Spark data using SQL.\n",
        "\n",
        "First we create something called a \"temporary view\", and give it a name. This is basically a snapshot of our data that will be thought of as a relational database table we can interact with."
      ]
    },
    {
      "cell_type": "code",
      "execution_count": 21,
      "metadata": {
        "id": "xx36rnDqYjnX"
      },
      "outputs": [],
      "source": [
        "df_pyspark.createOrReplaceTempView(\"SalaryTable\")"
      ]
    },
    {
      "cell_type": "markdown",
      "metadata": {
        "id": "LSEUuixtYjni"
      },
      "source": [
        "Now we can just query from our SalaryTable!"
      ]
    },
    {
      "cell_type": "code",
      "execution_count": 22,
      "metadata": {
        "colab": {
          "base_uri": "https://localhost:8080/"
        },
        "id": "1rDf9_o0Yjni",
        "outputId": "2c11bd2f-fb1f-4967-a119-b4248563261a"
      },
      "outputs": [
        {
          "output_type": "stream",
          "name": "stdout",
          "text": [
            "+---------+---+----------+------+\n",
            "|     Name|age|Experience|Salary|\n",
            "+---------+---+----------+------+\n",
            "|    Krish| 31|        10| 30000|\n",
            "|Sudhanshu| 30|         8| 25000|\n",
            "|    Sunny| 29|         4| 20000|\n",
            "|     Paul| 24|         3| 20000|\n",
            "|   Harsha| 21|         1| 15000|\n",
            "|  Shubham| 23|         2| 18000|\n",
            "+---------+---+----------+------+\n",
            "\n"
          ]
        }
      ],
      "source": [
        "sql_df = SparkConnection.sql(\"SELECT * FROM SalaryTable\")\n",
        "sql_df.show()"
      ]
    },
    {
      "cell_type": "markdown",
      "metadata": {
        "id": "28wgq7txYjnj"
      },
      "source": [
        "Any SQL query, no matter how complicated, can be done."
      ]
    },
    {
      "cell_type": "code",
      "execution_count": 23,
      "metadata": {
        "colab": {
          "base_uri": "https://localhost:8080/"
        },
        "id": "btHrd4pKYjnj",
        "outputId": "62ae2308-7f91-4229-9f90-cac362795094"
      },
      "outputs": [
        {
          "output_type": "stream",
          "name": "stdout",
          "text": [
            "+------+------+\n",
            "|  Name|Salary|\n",
            "+------+------+\n",
            "|Harsha| 15000|\n",
            "+------+------+\n",
            "\n"
          ]
        }
      ],
      "source": [
        "sql_highest_salary_df = SparkConnection.sql(\"SELECT Name, Salary FROM SalaryTable ORDER BY Salary LIMIT 1\")\n",
        "sql_highest_salary_df.show()"
      ]
    },
    {
      "cell_type": "markdown",
      "metadata": {
        "id": "ao52F020kV5p"
      },
      "source": [
        "## Machine Learning with Pyspark"
      ]
    },
    {
      "cell_type": "markdown",
      "metadata": {
        "id": "p1y0xYzKt6TG"
      },
      "source": [
        "### Prepare Dataset"
      ]
    },
    {
      "cell_type": "markdown",
      "metadata": {
        "id": "8H3o-rYhsdOO"
      },
      "source": [
        "To set up our data to do machine learning, we need to create one column with our outcome variable, and one column that for each row has a list, or a \"vector,\" of potential predictors.\n",
        "\n",
        "We create our column of vectors with the `VectorAssembler` object. We tell the object what predictors we want put into the vector with `inputCols` and the name of the resulting column with `outputCol`.\n",
        "\n",
        "Then we call the `transform()` method on our `VectorAssembler` object, giving our DataFrame as a parameter. This will actually give us the data we want, and we save the data to a new variable called `output`."
      ]
    },
    {
      "cell_type": "code",
      "execution_count": 24,
      "metadata": {
        "colab": {
          "base_uri": "https://localhost:8080/"
        },
        "id": "yckzTBquslHM",
        "outputId": "f71ce4b6-0134-42a6-d254-8132e112b471"
      },
      "outputs": [
        {
          "output_type": "stream",
          "name": "stdout",
          "text": [
            "+---------+---+----------+------+--------------------+\n",
            "|     Name|age|Experience|Salary|Independent Features|\n",
            "+---------+---+----------+------+--------------------+\n",
            "|    Krish| 31|        10| 30000|         [31.0,10.0]|\n",
            "|Sudhanshu| 30|         8| 25000|          [30.0,8.0]|\n",
            "|    Sunny| 29|         4| 20000|          [29.0,4.0]|\n",
            "|     Paul| 24|         3| 20000|          [24.0,3.0]|\n",
            "|   Harsha| 21|         1| 15000|          [21.0,1.0]|\n",
            "|  Shubham| 23|         2| 18000|          [23.0,2.0]|\n",
            "+---------+---+----------+------+--------------------+\n",
            "\n"
          ]
        }
      ],
      "source": [
        "from pyspark.ml.feature import VectorAssembler\n",
        "featureassembler = VectorAssembler(inputCols=[\"age\",\"Experience\"],outputCol=\"Independent Features\")\n",
        "#Conduct transfrom operation on MLdata\n",
        "output = featureassembler.transform(df_pyspark)\n",
        "#Display the transformation\n",
        "output.show()"
      ]
    },
    {
      "cell_type": "markdown",
      "metadata": {
        "id": "BzqalcxQs-R_"
      },
      "source": [
        "Now to do machine learning we only need our \"Independent Features\", or predictors, and \"Salary,\" or outcome, columns."
      ]
    },
    {
      "cell_type": "code",
      "execution_count": 25,
      "metadata": {
        "colab": {
          "base_uri": "https://localhost:8080/"
        },
        "id": "uBCWpjYEtGlx",
        "outputId": "58522fab-b0d5-4883-cf03-3e00619b050f"
      },
      "outputs": [
        {
          "output_type": "stream",
          "name": "stdout",
          "text": [
            "+--------------------+------+\n",
            "|Independent Features|Salary|\n",
            "+--------------------+------+\n",
            "|         [31.0,10.0]| 30000|\n",
            "|          [30.0,8.0]| 25000|\n",
            "|          [29.0,4.0]| 20000|\n",
            "|          [24.0,3.0]| 20000|\n",
            "|          [21.0,1.0]| 15000|\n",
            "|          [23.0,2.0]| 18000|\n",
            "+--------------------+------+\n",
            "\n"
          ]
        }
      ],
      "source": [
        "finalized_data = output.select(\"Independent Features\",\"Salary\")\n",
        "finalized_data.show()"
      ]
    },
    {
      "cell_type": "markdown",
      "metadata": {
        "id": "7lzZZWxVYjno"
      },
      "source": [
        "We can then create our training and testing datasets.\n",
        "\n",
        "This is done with the `randomSplit()` method of our DataFrame. We just tell the method the proportion of data we want in each dataset."
      ]
    },
    {
      "cell_type": "code",
      "execution_count": 50,
      "metadata": {
        "id": "Cka6cGcsYjno"
      },
      "outputs": [],
      "source": [
        "train_data,test_data = finalized_data.randomSplit([0.6,0.4])"
      ]
    },
    {
      "cell_type": "markdown",
      "metadata": {
        "id": "934Gvd-duAId"
      },
      "source": [
        "### Linear Regression in Pyspark"
      ]
    },
    {
      "cell_type": "markdown",
      "metadata": {
        "id": "ph0jc_SFtPum"
      },
      "source": [
        "PySpark has lots of machine learning algorithms in its `ml` sub-package. You'll soon see that the process for doing machine learning in Spark is very similar to what we did in scikit-learn.\n",
        "\n",
        "We start by importing the `LinearRegression` object from this sub-package.\n",
        "\n",
        "Like scikit-learn, we first specifiy the specifics of the model, like what column has our features and which has our labels or outcome. Then we use the `fit()` method."
      ]
    },
    {
      "cell_type": "code",
      "execution_count": 27,
      "metadata": {
        "id": "Sy522sZatpee"
      },
      "outputs": [],
      "source": [
        "from pyspark.ml.regression import LinearRegression\n",
        "\n",
        "LRregressor = LinearRegression(featuresCol='Independent Features', labelCol='Salary')\n",
        "LRregressor = LRregressor.fit(train_data)"
      ]
    },
    {
      "cell_type": "markdown",
      "metadata": {
        "id": "wmeqdOF0tt-N"
      },
      "source": [
        "We can then use our model to make predictions on the testing dataset. We use the `evaluate()` method, then getting the actual prediction values with the `predictions` field of the resulting object."
      ]
    },
    {
      "cell_type": "code",
      "execution_count": 52,
      "metadata": {
        "colab": {
          "base_uri": "https://localhost:8080/"
        },
        "id": "19gir_n4tyA1",
        "outputId": "16e97689-eba9-4286-8091-6550aed003cf"
      },
      "outputs": [
        {
          "output_type": "stream",
          "name": "stdout",
          "text": [
            "+--------------------+------+------------------+\n",
            "|Independent Features|Salary|        prediction|\n",
            "+--------------------+------+------------------+\n",
            "|          [21.0,1.0]| 15000|16074.553727686383|\n",
            "|          [23.0,2.0]| 18000| 17445.57227861393|\n",
            "|          [24.0,3.0]| 20000|18932.446622331114|\n",
            "|          [30.0,8.0]| 25000|26250.962548127405|\n",
            "+--------------------+------+------------------+\n",
            "\n"
          ]
        },
        {
          "output_type": "stream",
          "name": "stderr",
          "text": [
            "/usr/local/lib/python3.7/dist-packages/pyspark/sql/context.py:127: FutureWarning: Deprecated in 3.0.0. Use SparkSession.builder.getOrCreate() instead.\n",
            "  FutureWarning\n"
          ]
        }
      ],
      "source": [
        "### Prediction\n",
        "LR_pred = LRregressor.evaluate(test_data)\n",
        "LR_pred.predictions.show()"
      ]
    },
    {
      "cell_type": "markdown",
      "metadata": {
        "id": "fDV4myEwuD90"
      },
      "source": [
        "Evaluation metrics can also be calculated with, for example, the `meanAbsoluteError` and `meanSquaredError` fields."
      ]
    },
    {
      "cell_type": "code",
      "execution_count": 53,
      "metadata": {
        "colab": {
          "base_uri": "https://localhost:8080/"
        },
        "id": "Hqx3A36euSlM",
        "outputId": "900544fc-1c33-47be-b2a4-2681ad77852b"
      },
      "outputs": [
        {
          "output_type": "stream",
          "name": "stdout",
          "text": [
            "The MAE is: 986.8743437171861\n",
            "The MSE is: 1041658.3307289273\n"
          ]
        }
      ],
      "source": [
        "print('The MAE is:',LR_pred.meanAbsoluteError)\n",
        "print('The MSE is:',LR_pred.meanSquaredError)"
      ]
    },
    {
      "cell_type": "markdown",
      "metadata": {
        "id": "_alJ-faMuhBj"
      },
      "source": [
        "### XGBoost Regression in Pyspark"
      ]
    },
    {
      "cell_type": "markdown",
      "metadata": {
        "id": "hlV5O6hyurNN"
      },
      "source": [
        "But of course we can fit other models too. Next we make an XGBoost model.\n",
        "\n",
        "Below we import the model we want `GradientBoostedTrees`."
      ]
    },
    {
      "cell_type": "code",
      "execution_count": 54,
      "metadata": {
        "id": "yqHRZajQu9JU"
      },
      "outputs": [],
      "source": [
        "from pyspark.ml.regression import GBTRegressor"
      ]
    },
    {
      "cell_type": "markdown",
      "metadata": {
        "id": "ujlfp2DQYjns"
      },
      "source": [
        "Now it's your turn!\n",
        "\n",
        "Create the `GBTRegressor` model and then fit it to your training dataset.\n",
        "\n",
        "Use your model to make predictions on the testing dataset, and find the mean absolute error."
      ]
    }
  ],
  "metadata": {
    "colab": {
      "collapsed_sections": [],
      "name": "PySpark.ipynb",
      "provenance": []
    },
    "kernelspec": {
      "display_name": "Python 3",
      "name": "python3"
    },
    "language_info": {
      "codemirror_mode": {
        "name": "ipython",
        "version": 3
      },
      "file_extension": ".py",
      "mimetype": "text/x-python",
      "name": "python",
      "nbconvert_exporter": "python",
      "pygments_lexer": "ipython3",
      "version": "3.9.6"
    }
  },
  "nbformat": 4,
  "nbformat_minor": 0
}