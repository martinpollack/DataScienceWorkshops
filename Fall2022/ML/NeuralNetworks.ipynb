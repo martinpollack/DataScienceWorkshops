{
  "cells": [
    {
      "cell_type": "markdown",
      "metadata": {
        "id": "3JPYaq5eWQ4n"
      },
      "source": [
        "# Neural Networks\n",
        "### Workshop 3 of DASIL's series on \"Introduction to Machine Learning\"\n",
        "### Created by Martin Pollack, Yusen He, and Declan O'Reilly"
      ]
    },
    {
      "cell_type": "markdown",
      "metadata": {
        "id": "t0FGuCgcWQ4p"
      },
      "source": [
        "In this Jupyter notebook we will teach you how to do deep learning using the `scikit-learn` package in Python."
      ]
    },
    {
      "cell_type": "markdown",
      "metadata": {
        "id": "2B4_h-5j_Wqc"
      },
      "source": [
        "Today we will use imported datasets again pertaining to Brexit."
      ]
    },
    {
      "cell_type": "code",
      "execution_count": 4,
      "metadata": {
        "id": "UiT01kfZWQ4q"
      },
      "outputs": [],
      "source": [
        "import pandas as pd\n",
        "\n",
        "training = pd.read_csv(\"brexit_training_data.csv\")\n",
        "testing = pd.read_csv(\"brexit_test_data.csv\")"
      ]
    },
    {
      "cell_type": "markdown",
      "metadata": {
        "id": "SarBlYm2WQ4x"
      },
      "source": [
        "## Artificial Neural Networks"
      ]
    },
    {
      "cell_type": "markdown",
      "metadata": {
        "id": "ULypkTWU9hEp"
      },
      "source": [
        "#### Dataset Introduction"
      ]
    },
    {
      "cell_type": "markdown",
      "metadata": {
        "id": "29YqLUpTWQ4z"
      },
      "source": [
        "Again, we will look at a classification problem, where the outcome can only take on 2 or more discrete values. But of course our predictors can be either continuous or discrete.\n",
        "\n",
        "In our dataset, a 0 means someone wants the UK to stay in the EU, and a 1 means someone wants the UK to leave the EU.\n",
        "\n",
        "So in this case we actually have a *binary classification* problem, meaning our category can only take on 2 discrete values. In most binary classification problems, like in this case, the categories are 0 and 1 indiciating the presence or absence of some trait."
      ]
    },
    {
      "cell_type": "markdown",
      "source": [
        "We start by separating our two datasets into inputs and outputs."
      ],
      "metadata": {
        "id": "KcKVnTygwZ84"
      }
    },
    {
      "cell_type": "code",
      "source": [
        "X_training = training.drop(columns=\"Vote\")\n",
        "Y_training = training.Vote\n",
        "\n",
        "X_testing = testing.drop(columns=\"Vote\")\n",
        "Y_testing = testing.Vote"
      ],
      "metadata": {
        "id": "vLQwMqGQwZQ6"
      },
      "execution_count": 12,
      "outputs": []
    },
    {
      "cell_type": "code",
      "source": [
        "X_training.head()"
      ],
      "metadata": {
        "colab": {
          "base_uri": "https://localhost:8080/",
          "height": 206
        },
        "id": "9pNpOj0EzyLm",
        "outputId": "d7460f4a-e6a9-4bea-e741-238feea68550"
      },
      "execution_count": 19,
      "outputs": [
        {
          "output_type": "execute_result",
          "data": {
            "text/plain": [
              "     Education Gross Household Income    Skill        Age Marrital Status  \\\n",
              "0        17-19         Level 2 20~39k  Level 2  AgeOver85          Single   \n",
              "1  16 or under          Level 1 0~19k  Level 6   Age66-85         Married   \n",
              "2  20 or above         Level 3 40~59k  Level 8   Age66-85         Married   \n",
              "3  16 or under          Level 1 0~19k  Level 1   Age46-65         Married   \n",
              "4  16 or under          Level 1 0~19k  Level 6   Age36-45          Single   \n",
              "\n",
              "    Country  Gender  WeightedAIS  \n",
              "0   England  Female     0.524659  \n",
              "1   England    Male     0.465145  \n",
              "2   England    Male     0.047585  \n",
              "3  Scotland    Male    -0.246023  \n",
              "4   England  Female    -0.220175  "
            ],
            "text/html": [
              "\n",
              "  <div id=\"df-112d687e-72bf-4384-9973-ae2644132b98\">\n",
              "    <div class=\"colab-df-container\">\n",
              "      <div>\n",
              "<style scoped>\n",
              "    .dataframe tbody tr th:only-of-type {\n",
              "        vertical-align: middle;\n",
              "    }\n",
              "\n",
              "    .dataframe tbody tr th {\n",
              "        vertical-align: top;\n",
              "    }\n",
              "\n",
              "    .dataframe thead th {\n",
              "        text-align: right;\n",
              "    }\n",
              "</style>\n",
              "<table border=\"1\" class=\"dataframe\">\n",
              "  <thead>\n",
              "    <tr style=\"text-align: right;\">\n",
              "      <th></th>\n",
              "      <th>Education</th>\n",
              "      <th>Gross Household Income</th>\n",
              "      <th>Skill</th>\n",
              "      <th>Age</th>\n",
              "      <th>Marrital Status</th>\n",
              "      <th>Country</th>\n",
              "      <th>Gender</th>\n",
              "      <th>WeightedAIS</th>\n",
              "    </tr>\n",
              "  </thead>\n",
              "  <tbody>\n",
              "    <tr>\n",
              "      <th>0</th>\n",
              "      <td>17-19</td>\n",
              "      <td>Level 2 20~39k</td>\n",
              "      <td>Level 2</td>\n",
              "      <td>AgeOver85</td>\n",
              "      <td>Single</td>\n",
              "      <td>England</td>\n",
              "      <td>Female</td>\n",
              "      <td>0.524659</td>\n",
              "    </tr>\n",
              "    <tr>\n",
              "      <th>1</th>\n",
              "      <td>16 or under</td>\n",
              "      <td>Level 1 0~19k</td>\n",
              "      <td>Level 6</td>\n",
              "      <td>Age66-85</td>\n",
              "      <td>Married</td>\n",
              "      <td>England</td>\n",
              "      <td>Male</td>\n",
              "      <td>0.465145</td>\n",
              "    </tr>\n",
              "    <tr>\n",
              "      <th>2</th>\n",
              "      <td>20 or above</td>\n",
              "      <td>Level 3 40~59k</td>\n",
              "      <td>Level 8</td>\n",
              "      <td>Age66-85</td>\n",
              "      <td>Married</td>\n",
              "      <td>England</td>\n",
              "      <td>Male</td>\n",
              "      <td>0.047585</td>\n",
              "    </tr>\n",
              "    <tr>\n",
              "      <th>3</th>\n",
              "      <td>16 or under</td>\n",
              "      <td>Level 1 0~19k</td>\n",
              "      <td>Level 1</td>\n",
              "      <td>Age46-65</td>\n",
              "      <td>Married</td>\n",
              "      <td>Scotland</td>\n",
              "      <td>Male</td>\n",
              "      <td>-0.246023</td>\n",
              "    </tr>\n",
              "    <tr>\n",
              "      <th>4</th>\n",
              "      <td>16 or under</td>\n",
              "      <td>Level 1 0~19k</td>\n",
              "      <td>Level 6</td>\n",
              "      <td>Age36-45</td>\n",
              "      <td>Single</td>\n",
              "      <td>England</td>\n",
              "      <td>Female</td>\n",
              "      <td>-0.220175</td>\n",
              "    </tr>\n",
              "  </tbody>\n",
              "</table>\n",
              "</div>\n",
              "      <button class=\"colab-df-convert\" onclick=\"convertToInteractive('df-112d687e-72bf-4384-9973-ae2644132b98')\"\n",
              "              title=\"Convert this dataframe to an interactive table.\"\n",
              "              style=\"display:none;\">\n",
              "        \n",
              "  <svg xmlns=\"http://www.w3.org/2000/svg\" height=\"24px\"viewBox=\"0 0 24 24\"\n",
              "       width=\"24px\">\n",
              "    <path d=\"M0 0h24v24H0V0z\" fill=\"none\"/>\n",
              "    <path d=\"M18.56 5.44l.94 2.06.94-2.06 2.06-.94-2.06-.94-.94-2.06-.94 2.06-2.06.94zm-11 1L8.5 8.5l.94-2.06 2.06-.94-2.06-.94L8.5 2.5l-.94 2.06-2.06.94zm10 10l.94 2.06.94-2.06 2.06-.94-2.06-.94-.94-2.06-.94 2.06-2.06.94z\"/><path d=\"M17.41 7.96l-1.37-1.37c-.4-.4-.92-.59-1.43-.59-.52 0-1.04.2-1.43.59L10.3 9.45l-7.72 7.72c-.78.78-.78 2.05 0 2.83L4 21.41c.39.39.9.59 1.41.59.51 0 1.02-.2 1.41-.59l7.78-7.78 2.81-2.81c.8-.78.8-2.07 0-2.86zM5.41 20L4 18.59l7.72-7.72 1.47 1.35L5.41 20z\"/>\n",
              "  </svg>\n",
              "      </button>\n",
              "      \n",
              "  <style>\n",
              "    .colab-df-container {\n",
              "      display:flex;\n",
              "      flex-wrap:wrap;\n",
              "      gap: 12px;\n",
              "    }\n",
              "\n",
              "    .colab-df-convert {\n",
              "      background-color: #E8F0FE;\n",
              "      border: none;\n",
              "      border-radius: 50%;\n",
              "      cursor: pointer;\n",
              "      display: none;\n",
              "      fill: #1967D2;\n",
              "      height: 32px;\n",
              "      padding: 0 0 0 0;\n",
              "      width: 32px;\n",
              "    }\n",
              "\n",
              "    .colab-df-convert:hover {\n",
              "      background-color: #E2EBFA;\n",
              "      box-shadow: 0px 1px 2px rgba(60, 64, 67, 0.3), 0px 1px 3px 1px rgba(60, 64, 67, 0.15);\n",
              "      fill: #174EA6;\n",
              "    }\n",
              "\n",
              "    [theme=dark] .colab-df-convert {\n",
              "      background-color: #3B4455;\n",
              "      fill: #D2E3FC;\n",
              "    }\n",
              "\n",
              "    [theme=dark] .colab-df-convert:hover {\n",
              "      background-color: #434B5C;\n",
              "      box-shadow: 0px 1px 3px 1px rgba(0, 0, 0, 0.15);\n",
              "      filter: drop-shadow(0px 1px 2px rgba(0, 0, 0, 0.3));\n",
              "      fill: #FFFFFF;\n",
              "    }\n",
              "  </style>\n",
              "\n",
              "      <script>\n",
              "        const buttonEl =\n",
              "          document.querySelector('#df-112d687e-72bf-4384-9973-ae2644132b98 button.colab-df-convert');\n",
              "        buttonEl.style.display =\n",
              "          google.colab.kernel.accessAllowed ? 'block' : 'none';\n",
              "\n",
              "        async function convertToInteractive(key) {\n",
              "          const element = document.querySelector('#df-112d687e-72bf-4384-9973-ae2644132b98');\n",
              "          const dataTable =\n",
              "            await google.colab.kernel.invokeFunction('convertToInteractive',\n",
              "                                                     [key], {});\n",
              "          if (!dataTable) return;\n",
              "\n",
              "          const docLinkHtml = 'Like what you see? Visit the ' +\n",
              "            '<a target=\"_blank\" href=https://colab.research.google.com/notebooks/data_table.ipynb>data table notebook</a>'\n",
              "            + ' to learn more about interactive tables.';\n",
              "          element.innerHTML = '';\n",
              "          dataTable['output_type'] = 'display_data';\n",
              "          await google.colab.output.renderOutput(dataTable, element);\n",
              "          const docLink = document.createElement('div');\n",
              "          docLink.innerHTML = docLinkHtml;\n",
              "          element.appendChild(docLink);\n",
              "        }\n",
              "      </script>\n",
              "    </div>\n",
              "  </div>\n",
              "  "
            ]
          },
          "metadata": {},
          "execution_count": 19
        }
      ]
    },
    {
      "cell_type": "code",
      "source": [
        "Y_training.value_counts()"
      ],
      "metadata": {
        "colab": {
          "base_uri": "https://localhost:8080/"
        },
        "id": "bmy7DVo2w-oG",
        "outputId": "ae114fa3-43ea-4fe7-d0bb-27af0e4843d1"
      },
      "execution_count": 13,
      "outputs": [
        {
          "output_type": "execute_result",
          "data": {
            "text/plain": [
              "0    3870\n",
              "1    3630\n",
              "Name: Vote, dtype: int64"
            ]
          },
          "metadata": {},
          "execution_count": 13
        }
      ]
    },
    {
      "cell_type": "code",
      "source": [
        "Y_testing.value_counts()"
      ],
      "metadata": {
        "colab": {
          "base_uri": "https://localhost:8080/"
        },
        "id": "cjrsTnf_xUFo",
        "outputId": "329dabb3-2099-4dee-9b30-25c87d2062b8"
      },
      "execution_count": 14,
      "outputs": [
        {
          "output_type": "execute_result",
          "data": {
            "text/plain": [
              "0    773\n",
              "1    727\n",
              "Name: Vote, dtype: int64"
            ]
          },
          "metadata": {},
          "execution_count": 14
        }
      ]
    },
    {
      "cell_type": "markdown",
      "source": [
        "But to fit a neural network, all variables have to be numerical.\n",
        "\n",
        "This means that we have to create *dummy* variables for our categorical outputs like education level and income. For each category, we create a column with 0's and 1's specifying if that row belongs to that category or not.\n",
        "\n",
        "But if we know the dummy values for all but one category, we will know what the last dummy value is. For example, if we know that a person in a row is not single, then they must be married. Or if a person is from Scotland and not from Wales, then they cannot also be from England. Thus, we can specify `drop_first=True` to get rid of one dummy variable for each category group."
      ],
      "metadata": {
        "id": "WvGZuJkD0XKO"
      }
    },
    {
      "cell_type": "code",
      "source": [
        "X_training = pd.get_dummies(X_training, drop_first = True)\n",
        "X_testing = pd.get_dummies(X_testing, drop_first = True)"
      ],
      "metadata": {
        "id": "cwpKSMjW0iVL"
      },
      "execution_count": 21,
      "outputs": []
    },
    {
      "cell_type": "code",
      "source": [
        "X_training.head()"
      ],
      "metadata": {
        "colab": {
          "base_uri": "https://localhost:8080/",
          "height": 369
        },
        "id": "gqZvkVnY01qP",
        "outputId": "e0b156a4-cb5d-409c-eb93-304ce818e574"
      },
      "execution_count": 22,
      "outputs": [
        {
          "output_type": "execute_result",
          "data": {
            "text/plain": [
              "   WeightedAIS  Education_17-19  Education_20 or above  \\\n",
              "0     0.524659                1                      0   \n",
              "1     0.465145                0                      0   \n",
              "2     0.047585                0                      1   \n",
              "3    -0.246023                0                      0   \n",
              "4    -0.220175                0                      0   \n",
              "\n",
              "   Gross Household Income_Level 2 20~39k  \\\n",
              "0                                      1   \n",
              "1                                      0   \n",
              "2                                      0   \n",
              "3                                      0   \n",
              "4                                      0   \n",
              "\n",
              "   Gross Household Income_Level 3 40~59k  \\\n",
              "0                                      0   \n",
              "1                                      0   \n",
              "2                                      1   \n",
              "3                                      0   \n",
              "4                                      0   \n",
              "\n",
              "   Gross Household Income_Level 4 60~99k  \\\n",
              "0                                      0   \n",
              "1                                      0   \n",
              "2                                      0   \n",
              "3                                      0   \n",
              "4                                      0   \n",
              "\n",
              "   Gross Household Income_Level 5 100k or above  Skill_Level 2  Skill_Level 3  \\\n",
              "0                                             0              1              0   \n",
              "1                                             0              0              0   \n",
              "2                                             0              0              0   \n",
              "3                                             0              0              0   \n",
              "4                                             0              0              0   \n",
              "\n",
              "   Skill_Level 4  ...  Skill_Level 7  Skill_Level 8  Age_Age36-45  \\\n",
              "0              0  ...              0              0             0   \n",
              "1              0  ...              0              0             0   \n",
              "2              0  ...              0              1             0   \n",
              "3              0  ...              0              0             0   \n",
              "4              0  ...              0              0             1   \n",
              "\n",
              "   Age_Age46-65  Age_Age66-85  Age_AgeOver85  Marrital Status_Single  \\\n",
              "0             0             0              1                       1   \n",
              "1             0             1              0                       0   \n",
              "2             0             1              0                       0   \n",
              "3             1             0              0                       0   \n",
              "4             0             0              0                       1   \n",
              "\n",
              "   Country_Scotland  Country_Wales  Gender_Male  \n",
              "0                 0              0            0  \n",
              "1                 0              0            1  \n",
              "2                 0              0            1  \n",
              "3                 1              0            1  \n",
              "4                 0              0            0  \n",
              "\n",
              "[5 rows x 22 columns]"
            ],
            "text/html": [
              "\n",
              "  <div id=\"df-a6b590cd-4f6d-4fd3-ac69-974d7e27b523\">\n",
              "    <div class=\"colab-df-container\">\n",
              "      <div>\n",
              "<style scoped>\n",
              "    .dataframe tbody tr th:only-of-type {\n",
              "        vertical-align: middle;\n",
              "    }\n",
              "\n",
              "    .dataframe tbody tr th {\n",
              "        vertical-align: top;\n",
              "    }\n",
              "\n",
              "    .dataframe thead th {\n",
              "        text-align: right;\n",
              "    }\n",
              "</style>\n",
              "<table border=\"1\" class=\"dataframe\">\n",
              "  <thead>\n",
              "    <tr style=\"text-align: right;\">\n",
              "      <th></th>\n",
              "      <th>WeightedAIS</th>\n",
              "      <th>Education_17-19</th>\n",
              "      <th>Education_20 or above</th>\n",
              "      <th>Gross Household Income_Level 2 20~39k</th>\n",
              "      <th>Gross Household Income_Level 3 40~59k</th>\n",
              "      <th>Gross Household Income_Level 4 60~99k</th>\n",
              "      <th>Gross Household Income_Level 5 100k or above</th>\n",
              "      <th>Skill_Level 2</th>\n",
              "      <th>Skill_Level 3</th>\n",
              "      <th>Skill_Level 4</th>\n",
              "      <th>...</th>\n",
              "      <th>Skill_Level 7</th>\n",
              "      <th>Skill_Level 8</th>\n",
              "      <th>Age_Age36-45</th>\n",
              "      <th>Age_Age46-65</th>\n",
              "      <th>Age_Age66-85</th>\n",
              "      <th>Age_AgeOver85</th>\n",
              "      <th>Marrital Status_Single</th>\n",
              "      <th>Country_Scotland</th>\n",
              "      <th>Country_Wales</th>\n",
              "      <th>Gender_Male</th>\n",
              "    </tr>\n",
              "  </thead>\n",
              "  <tbody>\n",
              "    <tr>\n",
              "      <th>0</th>\n",
              "      <td>0.524659</td>\n",
              "      <td>1</td>\n",
              "      <td>0</td>\n",
              "      <td>1</td>\n",
              "      <td>0</td>\n",
              "      <td>0</td>\n",
              "      <td>0</td>\n",
              "      <td>1</td>\n",
              "      <td>0</td>\n",
              "      <td>0</td>\n",
              "      <td>...</td>\n",
              "      <td>0</td>\n",
              "      <td>0</td>\n",
              "      <td>0</td>\n",
              "      <td>0</td>\n",
              "      <td>0</td>\n",
              "      <td>1</td>\n",
              "      <td>1</td>\n",
              "      <td>0</td>\n",
              "      <td>0</td>\n",
              "      <td>0</td>\n",
              "    </tr>\n",
              "    <tr>\n",
              "      <th>1</th>\n",
              "      <td>0.465145</td>\n",
              "      <td>0</td>\n",
              "      <td>0</td>\n",
              "      <td>0</td>\n",
              "      <td>0</td>\n",
              "      <td>0</td>\n",
              "      <td>0</td>\n",
              "      <td>0</td>\n",
              "      <td>0</td>\n",
              "      <td>0</td>\n",
              "      <td>...</td>\n",
              "      <td>0</td>\n",
              "      <td>0</td>\n",
              "      <td>0</td>\n",
              "      <td>0</td>\n",
              "      <td>1</td>\n",
              "      <td>0</td>\n",
              "      <td>0</td>\n",
              "      <td>0</td>\n",
              "      <td>0</td>\n",
              "      <td>1</td>\n",
              "    </tr>\n",
              "    <tr>\n",
              "      <th>2</th>\n",
              "      <td>0.047585</td>\n",
              "      <td>0</td>\n",
              "      <td>1</td>\n",
              "      <td>0</td>\n",
              "      <td>1</td>\n",
              "      <td>0</td>\n",
              "      <td>0</td>\n",
              "      <td>0</td>\n",
              "      <td>0</td>\n",
              "      <td>0</td>\n",
              "      <td>...</td>\n",
              "      <td>0</td>\n",
              "      <td>1</td>\n",
              "      <td>0</td>\n",
              "      <td>0</td>\n",
              "      <td>1</td>\n",
              "      <td>0</td>\n",
              "      <td>0</td>\n",
              "      <td>0</td>\n",
              "      <td>0</td>\n",
              "      <td>1</td>\n",
              "    </tr>\n",
              "    <tr>\n",
              "      <th>3</th>\n",
              "      <td>-0.246023</td>\n",
              "      <td>0</td>\n",
              "      <td>0</td>\n",
              "      <td>0</td>\n",
              "      <td>0</td>\n",
              "      <td>0</td>\n",
              "      <td>0</td>\n",
              "      <td>0</td>\n",
              "      <td>0</td>\n",
              "      <td>0</td>\n",
              "      <td>...</td>\n",
              "      <td>0</td>\n",
              "      <td>0</td>\n",
              "      <td>0</td>\n",
              "      <td>1</td>\n",
              "      <td>0</td>\n",
              "      <td>0</td>\n",
              "      <td>0</td>\n",
              "      <td>1</td>\n",
              "      <td>0</td>\n",
              "      <td>1</td>\n",
              "    </tr>\n",
              "    <tr>\n",
              "      <th>4</th>\n",
              "      <td>-0.220175</td>\n",
              "      <td>0</td>\n",
              "      <td>0</td>\n",
              "      <td>0</td>\n",
              "      <td>0</td>\n",
              "      <td>0</td>\n",
              "      <td>0</td>\n",
              "      <td>0</td>\n",
              "      <td>0</td>\n",
              "      <td>0</td>\n",
              "      <td>...</td>\n",
              "      <td>0</td>\n",
              "      <td>0</td>\n",
              "      <td>1</td>\n",
              "      <td>0</td>\n",
              "      <td>0</td>\n",
              "      <td>0</td>\n",
              "      <td>1</td>\n",
              "      <td>0</td>\n",
              "      <td>0</td>\n",
              "      <td>0</td>\n",
              "    </tr>\n",
              "  </tbody>\n",
              "</table>\n",
              "<p>5 rows × 22 columns</p>\n",
              "</div>\n",
              "      <button class=\"colab-df-convert\" onclick=\"convertToInteractive('df-a6b590cd-4f6d-4fd3-ac69-974d7e27b523')\"\n",
              "              title=\"Convert this dataframe to an interactive table.\"\n",
              "              style=\"display:none;\">\n",
              "        \n",
              "  <svg xmlns=\"http://www.w3.org/2000/svg\" height=\"24px\"viewBox=\"0 0 24 24\"\n",
              "       width=\"24px\">\n",
              "    <path d=\"M0 0h24v24H0V0z\" fill=\"none\"/>\n",
              "    <path d=\"M18.56 5.44l.94 2.06.94-2.06 2.06-.94-2.06-.94-.94-2.06-.94 2.06-2.06.94zm-11 1L8.5 8.5l.94-2.06 2.06-.94-2.06-.94L8.5 2.5l-.94 2.06-2.06.94zm10 10l.94 2.06.94-2.06 2.06-.94-2.06-.94-.94-2.06-.94 2.06-2.06.94z\"/><path d=\"M17.41 7.96l-1.37-1.37c-.4-.4-.92-.59-1.43-.59-.52 0-1.04.2-1.43.59L10.3 9.45l-7.72 7.72c-.78.78-.78 2.05 0 2.83L4 21.41c.39.39.9.59 1.41.59.51 0 1.02-.2 1.41-.59l7.78-7.78 2.81-2.81c.8-.78.8-2.07 0-2.86zM5.41 20L4 18.59l7.72-7.72 1.47 1.35L5.41 20z\"/>\n",
              "  </svg>\n",
              "      </button>\n",
              "      \n",
              "  <style>\n",
              "    .colab-df-container {\n",
              "      display:flex;\n",
              "      flex-wrap:wrap;\n",
              "      gap: 12px;\n",
              "    }\n",
              "\n",
              "    .colab-df-convert {\n",
              "      background-color: #E8F0FE;\n",
              "      border: none;\n",
              "      border-radius: 50%;\n",
              "      cursor: pointer;\n",
              "      display: none;\n",
              "      fill: #1967D2;\n",
              "      height: 32px;\n",
              "      padding: 0 0 0 0;\n",
              "      width: 32px;\n",
              "    }\n",
              "\n",
              "    .colab-df-convert:hover {\n",
              "      background-color: #E2EBFA;\n",
              "      box-shadow: 0px 1px 2px rgba(60, 64, 67, 0.3), 0px 1px 3px 1px rgba(60, 64, 67, 0.15);\n",
              "      fill: #174EA6;\n",
              "    }\n",
              "\n",
              "    [theme=dark] .colab-df-convert {\n",
              "      background-color: #3B4455;\n",
              "      fill: #D2E3FC;\n",
              "    }\n",
              "\n",
              "    [theme=dark] .colab-df-convert:hover {\n",
              "      background-color: #434B5C;\n",
              "      box-shadow: 0px 1px 3px 1px rgba(0, 0, 0, 0.15);\n",
              "      filter: drop-shadow(0px 1px 2px rgba(0, 0, 0, 0.3));\n",
              "      fill: #FFFFFF;\n",
              "    }\n",
              "  </style>\n",
              "\n",
              "      <script>\n",
              "        const buttonEl =\n",
              "          document.querySelector('#df-a6b590cd-4f6d-4fd3-ac69-974d7e27b523 button.colab-df-convert');\n",
              "        buttonEl.style.display =\n",
              "          google.colab.kernel.accessAllowed ? 'block' : 'none';\n",
              "\n",
              "        async function convertToInteractive(key) {\n",
              "          const element = document.querySelector('#df-a6b590cd-4f6d-4fd3-ac69-974d7e27b523');\n",
              "          const dataTable =\n",
              "            await google.colab.kernel.invokeFunction('convertToInteractive',\n",
              "                                                     [key], {});\n",
              "          if (!dataTable) return;\n",
              "\n",
              "          const docLinkHtml = 'Like what you see? Visit the ' +\n",
              "            '<a target=\"_blank\" href=https://colab.research.google.com/notebooks/data_table.ipynb>data table notebook</a>'\n",
              "            + ' to learn more about interactive tables.';\n",
              "          element.innerHTML = '';\n",
              "          dataTable['output_type'] = 'display_data';\n",
              "          await google.colab.output.renderOutput(dataTable, element);\n",
              "          const docLink = document.createElement('div');\n",
              "          docLink.innerHTML = docLinkHtml;\n",
              "          element.appendChild(docLink);\n",
              "        }\n",
              "      </script>\n",
              "    </div>\n",
              "  </div>\n",
              "  "
            ]
          },
          "metadata": {},
          "execution_count": 22
        }
      ]
    },
    {
      "cell_type": "markdown",
      "source": [
        "#### Review: Creating and fitting a model"
      ],
      "metadata": {
        "id": "w3p6WpHu-xBo"
      }
    },
    {
      "cell_type": "markdown",
      "source": [
        "We start by importing the model we want.\n",
        "\n",
        "Then, let's see what hyperparameters we have to consider when creating our neural network."
      ],
      "metadata": {
        "id": "luF3cD_n-6p4"
      }
    },
    {
      "cell_type": "code",
      "source": [
        "from sklearn.neural_network import MLPClassifier\n",
        "\n",
        "MLPClassifier().get_params()"
      ],
      "metadata": {
        "id": "AKAWMkYL_R45",
        "colab": {
          "base_uri": "https://localhost:8080/"
        },
        "outputId": "998f2450-38c1-4180-97c1-6af84d58788f"
      },
      "execution_count": 15,
      "outputs": [
        {
          "output_type": "execute_result",
          "data": {
            "text/plain": [
              "{'activation': 'relu',\n",
              " 'alpha': 0.0001,\n",
              " 'batch_size': 'auto',\n",
              " 'beta_1': 0.9,\n",
              " 'beta_2': 0.999,\n",
              " 'early_stopping': False,\n",
              " 'epsilon': 1e-08,\n",
              " 'hidden_layer_sizes': (100,),\n",
              " 'learning_rate': 'constant',\n",
              " 'learning_rate_init': 0.001,\n",
              " 'max_fun': 15000,\n",
              " 'max_iter': 200,\n",
              " 'momentum': 0.9,\n",
              " 'n_iter_no_change': 10,\n",
              " 'nesterovs_momentum': True,\n",
              " 'power_t': 0.5,\n",
              " 'random_state': None,\n",
              " 'shuffle': True,\n",
              " 'solver': 'adam',\n",
              " 'tol': 0.0001,\n",
              " 'validation_fraction': 0.1,\n",
              " 'verbose': False,\n",
              " 'warm_start': False}"
            ]
          },
          "metadata": {},
          "execution_count": 15
        }
      ]
    },
    {
      "cell_type": "markdown",
      "source": [
        "We then again are going to do some hyperparameter tuning."
      ],
      "metadata": {
        "id": "hTBPA008_gy6"
      }
    },
    {
      "cell_type": "code",
      "source": [
        "from sklearn.model_selection import GridSearchCV\n",
        "\n",
        "classifier_ann = MLPClassifier(random_state=0)\n",
        "\n",
        "hyperparameters = {\"hidden_layer_sizes\" : [ (5,), (10,), (25,)], \n",
        "                   \"activation\" : [\"relu\", \"logistic\"],\n",
        "                   \"learning_rate_init\": [0.0001, 0.001, 0.01]}\n",
        "\n",
        "tuned_ann = GridSearchCV(classifier_ann, hyperparameters)\n",
        "\n",
        "tuned_ann.fit(X_training, Y_training)"
      ],
      "metadata": {
        "id": "vhCEP4IJ_etI",
        "colab": {
          "base_uri": "https://localhost:8080/"
        },
        "outputId": "16ef1906-cf12-4b84-a7ee-9600de44254b"
      },
      "execution_count": 23,
      "outputs": [
        {
          "output_type": "stream",
          "name": "stderr",
          "text": [
            "/usr/local/lib/python3.7/dist-packages/sklearn/neural_network/_multilayer_perceptron.py:696: ConvergenceWarning: Stochastic Optimizer: Maximum iterations (200) reached and the optimization hasn't converged yet.\n",
            "  ConvergenceWarning,\n",
            "/usr/local/lib/python3.7/dist-packages/sklearn/neural_network/_multilayer_perceptron.py:696: ConvergenceWarning: Stochastic Optimizer: Maximum iterations (200) reached and the optimization hasn't converged yet.\n",
            "  ConvergenceWarning,\n",
            "/usr/local/lib/python3.7/dist-packages/sklearn/neural_network/_multilayer_perceptron.py:696: ConvergenceWarning: Stochastic Optimizer: Maximum iterations (200) reached and the optimization hasn't converged yet.\n",
            "  ConvergenceWarning,\n",
            "/usr/local/lib/python3.7/dist-packages/sklearn/neural_network/_multilayer_perceptron.py:696: ConvergenceWarning: Stochastic Optimizer: Maximum iterations (200) reached and the optimization hasn't converged yet.\n",
            "  ConvergenceWarning,\n",
            "/usr/local/lib/python3.7/dist-packages/sklearn/neural_network/_multilayer_perceptron.py:696: ConvergenceWarning: Stochastic Optimizer: Maximum iterations (200) reached and the optimization hasn't converged yet.\n",
            "  ConvergenceWarning,\n",
            "/usr/local/lib/python3.7/dist-packages/sklearn/neural_network/_multilayer_perceptron.py:696: ConvergenceWarning: Stochastic Optimizer: Maximum iterations (200) reached and the optimization hasn't converged yet.\n",
            "  ConvergenceWarning,\n",
            "/usr/local/lib/python3.7/dist-packages/sklearn/neural_network/_multilayer_perceptron.py:696: ConvergenceWarning: Stochastic Optimizer: Maximum iterations (200) reached and the optimization hasn't converged yet.\n",
            "  ConvergenceWarning,\n",
            "/usr/local/lib/python3.7/dist-packages/sklearn/neural_network/_multilayer_perceptron.py:696: ConvergenceWarning: Stochastic Optimizer: Maximum iterations (200) reached and the optimization hasn't converged yet.\n",
            "  ConvergenceWarning,\n",
            "/usr/local/lib/python3.7/dist-packages/sklearn/neural_network/_multilayer_perceptron.py:696: ConvergenceWarning: Stochastic Optimizer: Maximum iterations (200) reached and the optimization hasn't converged yet.\n",
            "  ConvergenceWarning,\n",
            "/usr/local/lib/python3.7/dist-packages/sklearn/neural_network/_multilayer_perceptron.py:696: ConvergenceWarning: Stochastic Optimizer: Maximum iterations (200) reached and the optimization hasn't converged yet.\n",
            "  ConvergenceWarning,\n",
            "/usr/local/lib/python3.7/dist-packages/sklearn/neural_network/_multilayer_perceptron.py:696: ConvergenceWarning: Stochastic Optimizer: Maximum iterations (200) reached and the optimization hasn't converged yet.\n",
            "  ConvergenceWarning,\n",
            "/usr/local/lib/python3.7/dist-packages/sklearn/neural_network/_multilayer_perceptron.py:696: ConvergenceWarning: Stochastic Optimizer: Maximum iterations (200) reached and the optimization hasn't converged yet.\n",
            "  ConvergenceWarning,\n"
          ]
        },
        {
          "output_type": "execute_result",
          "data": {
            "text/plain": [
              "GridSearchCV(estimator=MLPClassifier(random_state=0),\n",
              "             param_grid={'activation': ['relu', 'logistic'],\n",
              "                         'hidden_layer_sizes': [(5,), (10,), (25,)],\n",
              "                         'learning_rate_init': [0.0001, 0.001, 0.01]})"
            ]
          },
          "metadata": {},
          "execution_count": 23
        }
      ]
    },
    {
      "cell_type": "code",
      "source": [
        "print(tuned_ann.best_params_)\n",
        "print(\"Training R-squared:\")\n",
        "print(tuned_ann.score(X_training, Y_training))\n",
        "print(\"Testing R-squared:\")\n",
        "print(tuned_ann.score(X_testing, Y_testing))"
      ],
      "metadata": {
        "colab": {
          "base_uri": "https://localhost:8080/"
        },
        "id": "3n8EczhU2lq3",
        "outputId": "3e6ded73-9b53-4a03-8791-d03b9fe467ad"
      },
      "execution_count": 27,
      "outputs": [
        {
          "output_type": "stream",
          "name": "stdout",
          "text": [
            "{'activation': 'logistic', 'hidden_layer_sizes': (25,), 'learning_rate_init': 0.001}\n",
            "Training R-squared:\n",
            "0.7632\n",
            "Testing R-squared:\n",
            "0.748\n"
          ]
        }
      ]
    },
    {
      "cell_type": "markdown",
      "source": [
        "We can then predict using our model, and remember that Python does this with the best combination of hyperparameters considered."
      ],
      "metadata": {
        "id": "eIcTIgGOEK-g"
      }
    },
    {
      "cell_type": "code",
      "source": [
        "pred_ann = tuned_ann.predict(X_testing)"
      ],
      "metadata": {
        "id": "KRCC89HNEQcU"
      },
      "execution_count": 24,
      "outputs": []
    },
    {
      "cell_type": "markdown",
      "metadata": {
        "id": "c1fxh88pvQzj"
      },
      "source": [
        "#### Further Performance Assessment using Testing Data\n",
        "\n",
        "*   Confusion Matrix\n",
        "*   Accuracy\n",
        "*   Sensitivity\n",
        "*   Specificity\n",
        "*   AUC"
      ]
    },
    {
      "cell_type": "markdown",
      "metadata": {
        "id": "lzFKn04NEh3e"
      },
      "source": [
        "We now further asses our neural network."
      ]
    },
    {
      "cell_type": "code",
      "execution_count": 28,
      "metadata": {
        "colab": {
          "base_uri": "https://localhost:8080/",
          "height": 334
        },
        "outputId": "997b451c-e050-4c30-a254-3fc65d5cffc5",
        "id": "peGYi4BZEh3f"
      },
      "outputs": [
        {
          "output_type": "stream",
          "name": "stdout",
          "text": [
            "Confusion Matrix for rf: \n",
            " [[585 188]\n",
            " [190 537]]\n"
          ]
        },
        {
          "output_type": "execute_result",
          "data": {
            "text/plain": [
              "<matplotlib.axes._subplots.AxesSubplot at 0x7fd069a69810>"
            ]
          },
          "metadata": {},
          "execution_count": 28
        },
        {
          "output_type": "display_data",
          "data": {
            "text/plain": [
              "<Figure size 432x288 with 2 Axes>"
            ],
            "image/png": "[encoded data removed]"
          },
          "metadata": {
            "needs_background": "light"
          }
        }
      ],
      "source": [
        "from sklearn.metrics import confusion_matrix\n",
        "#Compute the confusion matrix\n",
        "cm_ann = confusion_matrix(Y_testing, pred_ann)\n",
        "print('Confusion Matrix for rf: \\n', cm_ann)\n",
        "\n",
        "#Plot the confusion matrix using seaborn\n",
        "import seaborn as sns\n",
        "sns.heatmap(cm_ann, annot=True,fmt=\"d\", cmap=\"YlGnBu\")"
      ]
    },
    {
      "cell_type": "code",
      "execution_count": 29,
      "metadata": {
        "colab": {
          "base_uri": "https://localhost:8080/"
        },
        "outputId": "daa7c408-e936-40e2-bd8c-f282cabd0899",
        "id": "Z6v5FuhhEh3g"
      },
      "outputs": [
        {
          "output_type": "stream",
          "name": "stdout",
          "text": [
            "Accuracy for Neural Network:  0.748\n",
            "Specificity for Neural Network:  0.7386519944979367\n",
            "Sensitivity for Neural Network:  0.7567917205692108\n"
          ]
        }
      ],
      "source": [
        "#Compute total test cases\n",
        "totalRF=sum(sum(cm_ann))\n",
        "#####from confusion matrix calculate accuracy\n",
        "accuracy_ann=(cm_ann[0,0]+cm_ann[1,1])/totalRF\n",
        "print ('Accuracy for Neural Network: ', accuracy_ann)\n",
        "\n",
        "sensitivity_ann = cm_ann[1,1]/(cm_ann[1,0]+cm_ann[1,1])\n",
        "print('Specificity for Neural Network: ', sensitivity_ann)\n",
        "\n",
        "specificity_ann = cm_ann[0,0]/(cm_ann[0,0]+cm_ann[0,1])\n",
        "print('Sensitivity for Neural Network: ', specificity_ann)"
      ]
    },
    {
      "cell_type": "markdown",
      "metadata": {
        "id": "-S68sfWmEh3g"
      },
      "source": [
        "Then, we compute the AUC. We use the `roc_auc_score` from `sklearn`"
      ]
    },
    {
      "cell_type": "code",
      "execution_count": 30,
      "metadata": {
        "colab": {
          "base_uri": "https://localhost:8080/"
        },
        "outputId": "62e956b8-0c1a-45d4-96aa-3ae2c90f0ffb",
        "id": "LHVfQ2O_Eh3g"
      },
      "outputs": [
        {
          "output_type": "stream",
          "name": "stdout",
          "text": [
            "AUC for Neural Network:  0.8120178799261883\n"
          ]
        }
      ],
      "source": [
        "from sklearn.metrics import roc_auc_score\n",
        "\n",
        "#We first compute the probability output from the Random Forest classifier\n",
        "prob_ann = tuned_ann.predict_proba(X_testing)\n",
        "\n",
        "#We compute the AUC score\n",
        "auc_ann = roc_auc_score(Y_testing, prob_ann[:,1])\n",
        "print('AUC for Neural Network: ', auc_ann)"
      ]
    }
  ],
  "metadata": {
    "colab": {
      "collapsed_sections": [],
      "provenance": []
    },
    "interpreter": {
      "hash": "aee8b7b246df8f9039afb4144a1f6fd8d2ca17a180786b69acc140d282b71a49"
    },
    "kernelspec": {
      "display_name": "Python 3.9.6 64-bit",
      "language": "python",
      "name": "python3"
    },
    "language_info": {
      "codemirror_mode": {
        "name": "ipython",
        "version": 3
      },
      "file_extension": ".py",
      "mimetype": "text/x-python",
      "name": "python",
      "nbconvert_exporter": "python",
      "pygments_lexer": "ipython3",
      "version": "3.9.6"
    },
    "orig_nbformat": 4
  },
  "nbformat": 4,
  "nbformat_minor": 0
}