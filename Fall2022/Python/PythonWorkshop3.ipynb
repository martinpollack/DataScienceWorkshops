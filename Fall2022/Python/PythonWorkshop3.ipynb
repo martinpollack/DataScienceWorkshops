{
  "nbformat": 4,
  "nbformat_minor": 0,
  "metadata": {
    "colab": {
      "provenance": []
    },
    "kernelspec": {
      "name": "python3",
      "display_name": "Python 3"
    },
    "language_info": {
      "name": "python"
    }
  },
  "cells": [
    {
      "cell_type": "markdown",
      "metadata": {
        "id": "nmoqoyLDn2pI"
      },
      "source": [
        "# Complex Data: Dictionaries and NumPy\n",
        "### Workshop 3 of DASIL's Series on \"Introduction to Python\"\n",
        "### Created by Linh Tang, Britney He, Christopher Moppel, Sergio Martelo, Martin Pollack, Nandika Jhunjhunwala, and Anil Alper"
      ]
    },
    {
      "cell_type": "markdown",
      "metadata": {
        "id": "Vnjt7BtJ4y-M"
      },
      "source": [
        "# Dictionaries"
      ]
    },
    {
      "cell_type": "markdown",
      "metadata": {
        "id": "bxOj2i9L4y-M"
      },
      "source": [
        "Like a list, a dictionary is a collection of things. But instead of individual values being listed with associated indices, we can give each value in our collection a name, or a \"key\".\n",
        "\n",
        "Key-value groups are unordered, mutable (changeable), and written with curly brackets {} instead of square brackets []. If you look up a key in the dictionary, it returns its value similar to looking up a value using an index. But you cannot use a value to identify a key. Dictionaries also do not allow duplicate keys."
      ]
    },
    {
      "cell_type": "markdown",
      "metadata": {
        "id": "nit2VGw84y-M"
      },
      "source": [
        "When designing a dictionary, you should think about what should be the key and what should be the value. It depends on the purpose of the dictionary."
      ]
    },
    {
      "cell_type": "code",
      "execution_count": null,
      "metadata": {
        "id": "7A_FWSa64y-M",
        "outputId": "8cf20c4e-9116-4bd7-d85e-68e191fa14e1"
      },
      "outputs": [
        {
          "name": "stdout",
          "output_type": "stream",
          "text": [
            "{} <class 'dict'>\n"
          ]
        }
      ],
      "source": [
        "d = {}\n",
        "print(d, type(d))"
      ]
    },
    {
      "cell_type": "markdown",
      "metadata": {
        "id": "ZarihDNV4y-N"
      },
      "source": [
        "`buildings` is a dictionary for University of Iowa building name abbreviations. If you look up an abbreviation, it returns its full name."
      ]
    },
    {
      "cell_type": "code",
      "execution_count": null,
      "metadata": {
        "id": "nN5PXm3P4y-N",
        "outputId": "2988e755-7604-42d1-858f-eaa9152bc956"
      },
      "outputs": [
        {
          "name": "stdout",
          "output_type": "stream",
          "text": [
            "{'UCC': 'University Capitol Center', 'PBB': 'Pappajohn Business Building'} <class 'dict'>\n"
          ]
        }
      ],
      "source": [
        "buildings = {\"UCC\": \"University Capitol Center\", \"PBB\": \"Pappajohn Business Building\"}\n",
        "print(buildings, type(buildings))"
      ]
    },
    {
      "cell_type": "markdown",
      "metadata": {
        "id": "q_421kxG4y-N"
      },
      "source": [
        "If you look up a key in a dictionary, it returns, if any, its value. "
      ]
    },
    {
      "cell_type": "code",
      "execution_count": null,
      "metadata": {
        "id": "mW973b414y-O",
        "outputId": "4c7ad2d2-e7fe-4907-dff1-e9d8ed2be824"
      },
      "outputs": [
        {
          "data": {
            "text/plain": [
              "'University Capitol Center'"
            ]
          },
          "metadata": {},
          "output_type": "display_data"
        }
      ],
      "source": [
        "buildings[\"UCC\"]"
      ]
    },
    {
      "cell_type": "code",
      "execution_count": null,
      "metadata": {
        "id": "FLTIlimu4y-O",
        "outputId": "1a99c688-556f-48e2-a69e-3b8b1df924cc"
      },
      "outputs": [
        {
          "data": {
            "text/plain": [
              "'Pappajohn Business Building'"
            ]
          },
          "metadata": {},
          "output_type": "display_data"
        }
      ],
      "source": [
        "buildings[\"PBB\"]"
      ]
    },
    {
      "cell_type": "markdown",
      "metadata": {
        "id": "N6jHkzeo4y-O"
      },
      "source": [
        "If there is not the key in the dictionary, it returns KeyError."
      ]
    },
    {
      "cell_type": "code",
      "execution_count": null,
      "metadata": {
        "id": "TBUcQ90K4y-O",
        "outputId": "9e146238-11e7-49c3-e950-6f5be8ccb952",
        "scrolled": true
      },
      "outputs": [
        {
          "ename": "KeyError",
          "evalue": "'IMU'",
          "output_type": "error",
          "traceback": [
            "\u001b[0;31m---------------------------------------------------------------------------\u001b[0m\n",
            "\u001b[0;31mKeyError\u001b[0m                                  Traceback (most recent call last)\n",
            "\u001b[1;32m/Users/linhtang/Downloads/DASIL Python/Python Basics 2.ipynb Cell 87'\u001b[0m in \u001b[0;36m<cell line: 1>\u001b[0;34m()\u001b[0m\n",
            "\u001b[0;32m----> <a href='vscode-notebook-cell:/Users/linhtang/Downloads/DASIL%20Python/Python%20Basics%202.ipynb#ch0000286?line=0'>1</a>\u001b[0m buildings[\u001b[39m\"\u001b[39;49m\u001b[39mIMU\u001b[39;49m\u001b[39m\"\u001b[39;49m]\n",
            "\n",
            "\u001b[0;31mKeyError\u001b[0m: 'IMU'"
          ]
        }
      ],
      "source": [
        "buildings[\"IMU\"]"
      ]
    },
    {
      "cell_type": "code",
      "execution_count": null,
      "metadata": {
        "id": "skA1oO_84y-O",
        "outputId": "84427a85-8ac2-46b6-ddbf-1792d5d9a15e"
      },
      "outputs": [
        {
          "data": {
            "text/plain": [
              "dict_keys(['UCC', 'PBB'])"
            ]
          },
          "metadata": {},
          "output_type": "display_data"
        }
      ],
      "source": [
        "buildings.keys()"
      ]
    },
    {
      "cell_type": "code",
      "execution_count": null,
      "metadata": {
        "id": "eFi19nEK4y-O",
        "outputId": "4b721c24-e0ef-4de6-8d10-fb895b498186"
      },
      "outputs": [
        {
          "data": {
            "text/plain": [
              "dict_values(['University Capitol Center', 'Pappajohn Business Building'])"
            ]
          },
          "metadata": {},
          "output_type": "display_data"
        }
      ],
      "source": [
        "buildings.values()"
      ]
    },
    {
      "cell_type": "code",
      "execution_count": null,
      "metadata": {
        "id": "XE-ewAYP4y-P",
        "outputId": "28fa5a5a-4026-4221-8c46-df78879fa8a8"
      },
      "outputs": [
        {
          "data": {
            "text/plain": [
              "{'UCC': 'University Capitol Center',\n",
              " 'PBB': 'Pappajohn Business Building',\n",
              " 'IMU': 'Iowa Memorial Union'}"
            ]
          },
          "metadata": {},
          "output_type": "display_data"
        }
      ],
      "source": [
        "buildings[\"IMU\"] = \"Iowa Memorial Union\"\n",
        "buildings"
      ]
    },
    {
      "cell_type": "markdown",
      "metadata": {
        "id": "GN4of3Ne4y-P"
      },
      "source": [
        "You can check if a key is in a dictionary using the <b>in</b> operator."
      ]
    },
    {
      "cell_type": "code",
      "execution_count": null,
      "metadata": {
        "id": "70wd7_q54y-P",
        "outputId": "61f34945-fda7-4dd9-8626-37926dbc6e66"
      },
      "outputs": [
        {
          "data": {
            "text/plain": [
              "True"
            ]
          },
          "metadata": {},
          "output_type": "display_data"
        }
      ],
      "source": [
        "\"IMU\" in buildings"
      ]
    },
    {
      "cell_type": "code",
      "execution_count": null,
      "metadata": {
        "id": "lp2UQpRl4y-P",
        "outputId": "25c77342-5158-4da5-8e22-652df9778256"
      },
      "outputs": [
        {
          "data": {
            "text/plain": [
              "False"
            ]
          },
          "metadata": {},
          "output_type": "display_data"
        }
      ],
      "source": [
        "\"SH\" in buildings"
      ]
    },
    {
      "cell_type": "markdown",
      "metadata": {
        "id": "1lzM_M9U4y-Q"
      },
      "source": [
        "The length of a dictionary is the number of key-value mappings in the dictionary. "
      ]
    },
    {
      "cell_type": "code",
      "execution_count": null,
      "metadata": {
        "id": "mqyJJo5p4y-Q",
        "outputId": "14208ef4-413d-4c9a-b4c7-f3103fb1e751",
        "scrolled": true
      },
      "outputs": [
        {
          "data": {
            "text/plain": [
              "3"
            ]
          },
          "metadata": {},
          "output_type": "display_data"
        }
      ],
      "source": [
        "len(buildings)"
      ]
    },
    {
      "cell_type": "markdown",
      "source": [
        "## Exercises - Dictionaries"
      ],
      "metadata": {
        "id": "tTM5t9IuuqlQ"
      }
    },
    {
      "cell_type": "markdown",
      "source": [
        "Create a dictionary that represents your shopping list.\n",
        "\n",
        "You want to buy 5 carrots, 2 onions, and 10 peas.\n",
        "\n",
        "Think carefully about what your keys should be, and what your values should be. Which thing do you want to use to search?"
      ],
      "metadata": {
        "id": "DCq3RJ0puzXr"
      }
    },
    {
      "cell_type": "code",
      "source": [
        "# Your code here"
      ],
      "metadata": {
        "id": "nFVoRUZlvMFj"
      },
      "execution_count": null,
      "outputs": []
    },
    {
      "cell_type": "markdown",
      "source": [
        "You need to quickly know where to go in the grocery store. Print out the types of items you need."
      ],
      "metadata": {
        "id": "KcTKGa3IvNSI"
      }
    },
    {
      "cell_type": "code",
      "source": [
        "# Your code here"
      ],
      "metadata": {
        "id": "TnqjOQN9vcYQ"
      },
      "execution_count": null,
      "outputs": []
    },
    {
      "cell_type": "markdown",
      "source": [
        "What is the greatest quantity you are buying? You do not need to know what item it is that you are buying in this quantity."
      ],
      "metadata": {
        "id": "EGOn9riFvdWQ"
      }
    },
    {
      "cell_type": "markdown",
      "metadata": {
        "id": "4EvnFjvqn2rD"
      },
      "source": [
        "# NumPy"
      ]
    },
    {
      "cell_type": "markdown",
      "metadata": {
        "id": "lZMyAdqhL9hY"
      },
      "source": [
        "To use Numpy, we first need to import the `numpy` package:"
      ]
    },
    {
      "cell_type": "code",
      "execution_count": null,
      "metadata": {
        "id": "58QdX8BLL9hZ"
      },
      "outputs": [],
      "source": [
        "import numpy as np"
      ]
    },
    {
      "cell_type": "markdown",
      "metadata": {
        "id": "TAjzyI7jn2rE"
      },
      "source": [
        "## Arrays"
      ]
    },
    {
      "cell_type": "markdown",
      "metadata": {
        "id": "f-Zv3f7LL9hc"
      },
      "source": [
        "A numpy array is a grid of values, all of the same type. This is different from a list, which can have elements of various types.\n",
        "\n",
        "The number of dimensions is the rank of the array; the shape of an array is a tuple of integers giving the size of the array along each dimension."
      ]
    },
    {
      "cell_type": "markdown",
      "metadata": {
        "id": "xztDNL0DFvG4"
      },
      "source": [
        "We can initialize numpy arrays from nested Python lists, and access elements using square brackets:"
      ]
    },
    {
      "cell_type": "code",
      "execution_count": null,
      "metadata": {
        "id": "FB_N7ywbFvG4",
        "outputId": "f6825525-76e6-49bc-a5d8-14b82869f155"
      },
      "outputs": [
        {
          "name": "stdout",
          "output_type": "stream",
          "text": [
            "1 2 3\n",
            "5\n"
          ]
        }
      ],
      "source": [
        "a = np.array([1, 2, 3])  # Create a rank 1 array\n",
        "print(a[0], a[1], a[2])\n",
        "\n",
        "a[0] = 5                 # Change an element of the array\n",
        "print(a[0])"
      ]
    },
    {
      "cell_type": "markdown",
      "metadata": {
        "id": "_eMTRnZRL9hc"
      },
      "source": [
        "The `shape()` array method gives the shape of the array (the width by the height), as shown in the following example."
      ]
    },
    {
      "cell_type": "code",
      "execution_count": null,
      "metadata": {
        "colab": {
          "base_uri": "https://localhost:8080/",
          "height": 52
        },
        "id": "-l3JrGxCL9hc",
        "outputId": "8d9dad18-c734-4a8a-ca8c-44060a40fb79"
      },
      "outputs": [
        {
          "data": {
            "text/plain": [
              "(3,)"
            ]
          },
          "execution_count": 10,
          "metadata": {},
          "output_type": "execute_result"
        }
      ],
      "source": [
        "a.shape"
      ]
    },
    {
      "cell_type": "markdown",
      "metadata": {
        "id": "oI4q_QsbFvG4"
      },
      "source": [
        "We can also create a 2-dimensional NumPy array."
      ]
    },
    {
      "cell_type": "code",
      "execution_count": null,
      "metadata": {
        "colab": {
          "base_uri": "https://localhost:8080/",
          "height": 52
        },
        "id": "ma6mk-kdL9hh",
        "outputId": "0b54ff2f-e7f1-4b30-c653-9bf81cb8fbb0"
      },
      "outputs": [
        {
          "name": "stdout",
          "output_type": "stream",
          "text": [
            "[[1 2 3]\n",
            " [4 5 6]]\n"
          ]
        }
      ],
      "source": [
        "b = np.array([[1,2,3],[4,5,6]])   # Create a rank 2 array\n",
        "print(b)"
      ]
    },
    {
      "cell_type": "code",
      "execution_count": null,
      "metadata": {
        "colab": {
          "base_uri": "https://localhost:8080/",
          "height": 52
        },
        "id": "ymfSHAwtL9hj",
        "outputId": "5bd292d8-c751-43b9-d480-f357dde52342"
      },
      "outputs": [
        {
          "name": "stdout",
          "output_type": "stream",
          "text": [
            "(2, 3)\n",
            "1 2 4\n"
          ]
        }
      ],
      "source": [
        "print(b.shape)\n",
        "print(b[0, 0], b[0, 1], b[1, 0])"
      ]
    },
    {
      "cell_type": "markdown",
      "metadata": {
        "id": "F2qwdyvuL9hn"
      },
      "source": [
        "Numpy also provides many functions to create arrays:"
      ]
    },
    {
      "cell_type": "code",
      "execution_count": null,
      "metadata": {
        "colab": {
          "base_uri": "https://localhost:8080/",
          "height": 52
        },
        "id": "mVTN_EBqL9hn",
        "outputId": "d267c65f-ba90-4043-cedb-f468ab1bcc5d"
      },
      "outputs": [
        {
          "name": "stdout",
          "output_type": "stream",
          "text": [
            "[[0. 0.]\n",
            " [0. 0.]]\n"
          ]
        }
      ],
      "source": [
        "a = np.zeros((2,2))  # Create an array of all zeros\n",
        "print(a)"
      ]
    },
    {
      "cell_type": "code",
      "execution_count": null,
      "metadata": {
        "colab": {
          "base_uri": "https://localhost:8080/",
          "height": 34
        },
        "id": "skiKlNmlL9h5",
        "outputId": "7d1ec1b5-a1fe-4f44-cbe3-cdeacad425f1"
      },
      "outputs": [
        {
          "name": "stdout",
          "output_type": "stream",
          "text": [
            "[[1. 1.]]\n"
          ]
        }
      ],
      "source": [
        "b = np.ones((1,2))   # Create an array of all ones\n",
        "print(b)"
      ]
    },
    {
      "cell_type": "code",
      "execution_count": null,
      "metadata": {
        "colab": {
          "base_uri": "https://localhost:8080/",
          "height": 52
        },
        "id": "HtFsr03bL9h7",
        "outputId": "2688b157-2fad-4fc6-f20b-8633207f0326"
      },
      "outputs": [
        {
          "name": "stdout",
          "output_type": "stream",
          "text": [
            "[[7 7]\n",
            " [7 7]]\n"
          ]
        }
      ],
      "source": [
        "c = np.full((2,2), 7) # Create a constant array\n",
        "print(c)"
      ]
    },
    {
      "cell_type": "code",
      "execution_count": null,
      "metadata": {
        "colab": {
          "base_uri": "https://localhost:8080/",
          "height": 52
        },
        "id": "-QcALHvkL9h9",
        "outputId": "5035d6fe-cb7e-4222-c972-55fe23c9d4c0"
      },
      "outputs": [
        {
          "name": "stdout",
          "output_type": "stream",
          "text": [
            "[[1. 0.]\n",
            " [0. 1.]]\n"
          ]
        }
      ],
      "source": [
        "d = np.eye(2)        # Create a 2x2 identity matrix\n",
        "print(d)"
      ]
    },
    {
      "cell_type": "code",
      "execution_count": null,
      "metadata": {
        "colab": {
          "base_uri": "https://localhost:8080/",
          "height": 52
        },
        "id": "RCpaYg9qL9iA",
        "outputId": "25f0b387-39cf-42f3-8701-de860cc75e2e"
      },
      "outputs": [
        {
          "name": "stdout",
          "output_type": "stream",
          "text": [
            "[[0.8690054  0.57244319]\n",
            " [0.29647245 0.81464494]]\n"
          ]
        }
      ],
      "source": [
        "e = np.random.random((2,2)) # Create an array filled with random values\n",
        "print(e)"
      ]
    },
    {
      "cell_type": "code",
      "execution_count": null,
      "metadata": {
        "id": "HF3oqepeFvG6",
        "outputId": "878e9389-a5b1-4701-8d62-4443de0dda31"
      },
      "outputs": [
        {
          "name": "stdout",
          "output_type": "stream",
          "text": [
            "[0 3 6 9]\n"
          ]
        }
      ],
      "source": [
        "f = np.arange(0, 10, 3) # Create an array from 0 to 10 (exclusive) by increments of 3\n",
        "print(f)"
      ]
    },
    {
      "cell_type": "markdown",
      "metadata": {
        "id": "YZsi-WS2pUyW"
      },
      "source": [
        "## Exercises - Arrays"
      ]
    },
    {
      "cell_type": "markdown",
      "metadata": {
        "id": "Ony3B8NKq3Xb"
      },
      "source": [
        "Create an identity matrix of dimension 4-by-4"
      ]
    },
    {
      "cell_type": "code",
      "execution_count": null,
      "metadata": {
        "id": "5Svu54bLrEuN"
      },
      "outputs": [],
      "source": [
        "# Your answer here"
      ]
    },
    {
      "cell_type": "markdown",
      "metadata": {
        "id": "BbgD7yLPsehC"
      },
      "source": [
        "Generate a sequence of numbers in the form of a numpy array from 0 to 100 with gaps of 2 numbers, for example: 0, 2, 4,..."
      ]
    },
    {
      "cell_type": "code",
      "execution_count": null,
      "metadata": {
        "id": "qlOG5GL2shNm"
      },
      "outputs": [],
      "source": [
        "# Your answer here"
      ]
    },
    {
      "cell_type": "markdown",
      "metadata": {
        "id": "jI5qcSDfL9iC"
      },
      "source": [
        "## Array indexing"
      ]
    },
    {
      "cell_type": "markdown",
      "metadata": {
        "id": "M-E4MUeVL9iC"
      },
      "source": [
        "Numpy offers several ways to index into arrays."
      ]
    },
    {
      "cell_type": "markdown",
      "metadata": {
        "id": "QYv4JyIEL9iD"
      },
      "source": [
        "Slicing: Similar to Python lists, numpy arrays can be sliced. Since arrays may be multidimensional, you must specify a slice for each dimension of the array:"
      ]
    },
    {
      "cell_type": "code",
      "execution_count": null,
      "metadata": {
        "colab": {
          "base_uri": "https://localhost:8080/",
          "height": 52
        },
        "id": "wLWA0udwL9iD",
        "outputId": "99f08618-c513-4982-8982-b146fc72dab3"
      },
      "outputs": [
        {
          "name": "stdout",
          "output_type": "stream",
          "text": [
            "[[ 1  2  3  4]\n",
            " [ 5  6  7  8]\n",
            " [ 9 10 11 12]]\n",
            "[[2 3]\n",
            " [6 7]]\n"
          ]
        }
      ],
      "source": [
        "# Create the following rank 2 array with shape (3, 4)\n",
        "# [[ 1  2  3  4]\n",
        "#  [ 5  6  7  8]\n",
        "#  [ 9 10 11 12]]\n",
        "a = np.array([[1,2,3,4], [5,6,7,8], [9,10,11,12]])\n",
        "print(a)\n",
        "\n",
        "# Use slicing to pull out the subarray consisting of the first 2 rows\n",
        "# and columns 1 and 2; b is the following array of shape (2, 2):\n",
        "# [[2 3]\n",
        "#  [6 7]]\n",
        "b = a[:2, 1:3]\n",
        "print(b)"
      ]
    },
    {
      "cell_type": "markdown",
      "metadata": {
        "id": "KahhtZKYL9iF"
      },
      "source": [
        "A slice of an array is a view into the same data, or a \"shallow copy\", so modifying it will change the original array."
      ]
    },
    {
      "cell_type": "code",
      "execution_count": null,
      "metadata": {
        "colab": {
          "base_uri": "https://localhost:8080/",
          "height": 52
        },
        "id": "1kmtaFHuL9iG",
        "outputId": "ee3ab60c-4064-4a9e-b04c-453d3955f1d1"
      },
      "outputs": [
        {
          "name": "stdout",
          "output_type": "stream",
          "text": [
            "2\n",
            "77\n"
          ]
        }
      ],
      "source": [
        "print(a[0, 1])\n",
        "b[0, 0] = 77    # b[0, 0] is the same piece of data as a[0, 1]\n",
        "print(a[0, 1])"
      ]
    },
    {
      "cell_type": "markdown",
      "metadata": {
        "id": "NVRMLz2FFvG7"
      },
      "source": [
        "To instead make a copy of an array that you can change independently, you have to use the `np.copy()` function."
      ]
    },
    {
      "cell_type": "code",
      "execution_count": null,
      "metadata": {
        "id": "_Oy6zJoSFvG7",
        "outputId": "943e45e3-6dc4-4c1e-ec3f-53774dc70c28"
      },
      "outputs": [
        {
          "name": "stdout",
          "output_type": "stream",
          "text": [
            "[[2 3]\n",
            " [6 7]]\n",
            "7\n",
            "7\n"
          ]
        }
      ],
      "source": [
        "c = np.copy(b)\n",
        "print(c)\n",
        "\n",
        "print(b[1, 1])\n",
        "c[1, 1] = 99\n",
        "print(b[1, 1])"
      ]
    },
    {
      "cell_type": "markdown",
      "metadata": {
        "id": "_Zcf3zi-L9iI"
      },
      "source": [
        "You can also mix integer indexing with slice indexing. However, doing so will yield an array of lower rank than the original array."
      ]
    },
    {
      "cell_type": "code",
      "execution_count": null,
      "metadata": {
        "colab": {
          "base_uri": "https://localhost:8080/",
          "height": 69
        },
        "id": "G6lfbPuxL9iJ",
        "outputId": "a225fe9d-2a29-4e14-a243-2b7d583bd4bc"
      },
      "outputs": [
        {
          "name": "stdout",
          "output_type": "stream",
          "text": [
            "[[ 1  2  3  4]\n",
            " [ 5  6  7  8]\n",
            " [ 9 10 11 12]]\n",
            "[5 6 7 8]\n"
          ]
        }
      ],
      "source": [
        "# Create the following rank 2 array with shape (3, 4)\n",
        "a = np.array([[1,2,3,4], [5,6,7,8], [9,10,11,12]])\n",
        "print(a)\n",
        "\n",
        "print(a[1, :])"
      ]
    },
    {
      "cell_type": "markdown",
      "metadata": {
        "id": "NCye3NXhL9iL"
      },
      "source": [
        "If instead we use slices or lists for all dimensions, the NumPy array will maintain its rank."
      ]
    },
    {
      "cell_type": "code",
      "execution_count": null,
      "metadata": {
        "colab": {
          "base_uri": "https://localhost:8080/",
          "height": 69
        },
        "id": "EOiEMsmNL9iL",
        "outputId": "ab2ebe48-9002-45a8-9462-fd490b467f40"
      },
      "outputs": [
        {
          "name": "stdout",
          "output_type": "stream",
          "text": [
            "[5 6 7 8] (4,)\n",
            "[[5 6 7 8]] (1, 4)\n",
            "[[5 6 7 8]] (1, 4)\n"
          ]
        }
      ],
      "source": [
        "row_r1 = a[1, :]    # Rank 1 view of the second row of a  \n",
        "row_r2 = a[1:2, :]  # Rank 2 view of the second row of a\n",
        "row_r3 = a[[1], :]  # Rank 2 view of the second row of a\n",
        "print(row_r1, row_r1.shape)\n",
        "print(row_r2, row_r2.shape)\n",
        "print(row_r3, row_r3.shape)"
      ]
    },
    {
      "cell_type": "markdown",
      "metadata": {
        "id": "KWWZo8iNFvG8"
      },
      "source": [
        "We can make the same distinction when accessing columns of an array:"
      ]
    },
    {
      "cell_type": "code",
      "execution_count": null,
      "metadata": {
        "colab": {
          "base_uri": "https://localhost:8080/",
          "height": 104
        },
        "id": "JXu73pfDL9iN",
        "outputId": "6c589b85-e9b0-4c13-a39d-4cd9fb2f41ac"
      },
      "outputs": [
        {
          "name": "stdout",
          "output_type": "stream",
          "text": [
            "[ 2  6 10] (3,)\n",
            "\n",
            "[[ 2]\n",
            " [ 6]\n",
            " [10]] (3, 1)\n"
          ]
        }
      ],
      "source": [
        "col_r1 = a[:, 1]\n",
        "col_r2 = a[:, 1:2]\n",
        "print(col_r1, col_r1.shape)\n",
        "print(col_r2, col_r2.shape)"
      ]
    },
    {
      "cell_type": "markdown",
      "metadata": {
        "id": "kaE8dBGgL9id"
      },
      "source": [
        "Boolean array indexing: Boolean array indexing lets you pick out arbitrary elements of an array. Frequently this type of indexing is used to select the elements of an array that satisfy some condition. Here is an example:"
      ]
    },
    {
      "cell_type": "code",
      "execution_count": null,
      "metadata": {
        "colab": {
          "base_uri": "https://localhost:8080/",
          "height": 69
        },
        "id": "32PusjtKL9id",
        "outputId": "8782e8ec-b78d-44d7-8141-23e39750b854"
      },
      "outputs": [
        {
          "name": "stdout",
          "output_type": "stream",
          "text": [
            "[[False False]\n",
            " [ True  True]\n",
            " [ True  True]]\n"
          ]
        }
      ],
      "source": [
        "import numpy as np\n",
        "\n",
        "a = np.array([[1,2], [3, 4], [5, 6]])\n",
        "\n",
        "bool_idx = (a > 2)  # Find the elements of a that are bigger than 2;\n",
        "                    # this returns a numpy array of Booleans of the same\n",
        "                    # shape as a, where each slot of bool_idx tells\n",
        "                    # whether that element of a is > 2.\n",
        "\n",
        "print(bool_idx)"
      ]
    },
    {
      "cell_type": "code",
      "execution_count": null,
      "metadata": {
        "colab": {
          "base_uri": "https://localhost:8080/",
          "height": 52
        },
        "id": "cb2IRMXaL9if",
        "outputId": "5983f208-3738-472d-d6ab-11fe85b36c95"
      },
      "outputs": [
        {
          "name": "stdout",
          "output_type": "stream",
          "text": [
            "[3 4 5 6]\n",
            "[3 4 5 6]\n"
          ]
        }
      ],
      "source": [
        "# We use boolean array indexing to construct a rank 1 array\n",
        "# consisting of the elements of a corresponding to the True values\n",
        "# of bool_idx\n",
        "print(a[bool_idx])\n",
        "\n",
        "# We can do all of the above in a single concise statement:\n",
        "print(a[a > 2])"
      ]
    },
    {
      "cell_type": "markdown",
      "metadata": {
        "id": "p0RXIpgGsQc5"
      },
      "source": [
        "## Exercises - Array Indexing"
      ]
    },
    {
      "cell_type": "markdown",
      "metadata": {
        "id": "wHkRxiuSuT8P"
      },
      "source": [
        "Given the following NumPy array 'a', extract the second column of 'a'. "
      ]
    },
    {
      "cell_type": "code",
      "execution_count": null,
      "metadata": {
        "id": "LmVCtLpHvSJg"
      },
      "outputs": [],
      "source": [
        "a = np.array([[1,2,3,4], [5,6,7,8], [9,10,11,12]])"
      ]
    },
    {
      "cell_type": "code",
      "execution_count": null,
      "metadata": {
        "id": "W1Yz5kOQvT51"
      },
      "outputs": [],
      "source": [
        "# Your answer here"
      ]
    },
    {
      "cell_type": "markdown",
      "metadata": {
        "id": "9DvASotTuzho"
      },
      "source": [
        "Get the element at the intersection of the first row and third column of 'a' defined above"
      ]
    },
    {
      "cell_type": "code",
      "execution_count": null,
      "metadata": {
        "id": "Oft61NFHvqoD"
      },
      "outputs": [],
      "source": [
        "# Your answer here"
      ]
    },
    {
      "cell_type": "markdown",
      "metadata": {
        "id": "ieRKE36YtnTA"
      },
      "source": [
        "Replace all elements of an array which have values greater than 50 with the value 15.50"
      ]
    },
    {
      "cell_type": "code",
      "execution_count": null,
      "metadata": {
        "id": "mls9udnct2W7"
      },
      "outputs": [],
      "source": [
        "n_arr = np.array([75.42436315, 42.48558583, 60.32924763])"
      ]
    },
    {
      "cell_type": "code",
      "execution_count": null,
      "metadata": {
        "id": "qOGulBHhuR9k"
      },
      "outputs": [],
      "source": [
        "# Your answer here"
      ]
    },
    {
      "cell_type": "markdown",
      "metadata": {
        "id": "G04HbVoSt8Ch"
      },
      "source": [
        "Replace all negative values of an array with 0"
      ]
    },
    {
      "cell_type": "code",
      "execution_count": null,
      "metadata": {
        "id": "fZSoaAAZuMYp"
      },
      "outputs": [],
      "source": [
        "ini_array1 = np.array([1, 2, -3, 4, -5, -6])"
      ]
    },
    {
      "cell_type": "code",
      "execution_count": null,
      "metadata": {
        "id": "ioeQ0p7_uPJ8"
      },
      "outputs": [],
      "source": [
        "# Your answer here"
      ]
    },
    {
      "cell_type": "markdown",
      "metadata": {
        "id": "jTctwqdQL9ih"
      },
      "source": [
        "## Datatypes"
      ]
    },
    {
      "cell_type": "markdown",
      "metadata": {
        "id": "kSZQ1WkIL9ih"
      },
      "source": [
        "Every numpy array is a grid of elements of the same type. Numpy provides a large set of numeric datatypes that you can use to construct arrays. Numpy tries to guess a datatype when you create an array, but functions that construct arrays usually also include an optional argument to explicitly specify the datatype. Here is an example:"
      ]
    },
    {
      "cell_type": "code",
      "execution_count": null,
      "metadata": {
        "colab": {
          "base_uri": "https://localhost:8080/",
          "height": 34
        },
        "id": "4za4O0m5L9ih",
        "outputId": "2ea4fb80-a4df-43f9-c162-5665895c13ae"
      },
      "outputs": [
        {
          "name": "stdout",
          "output_type": "stream",
          "text": [
            "int64 float64 int64\n"
          ]
        }
      ],
      "source": [
        "x = np.array([1, 2])  # Let numpy choose the datatype\n",
        "y = np.array([1.0, 2.0])  # Let numpy choose the datatype\n",
        "z = np.array([1, 2], dtype=np.int64)  # Force a particular datatype\n",
        "\n",
        "print(x.dtype, y.dtype, z.dtype)"
      ]
    },
    {
      "cell_type": "markdown",
      "metadata": {
        "id": "TuB-fdhIL9ik"
      },
      "source": [
        "## Array math"
      ]
    },
    {
      "cell_type": "markdown",
      "metadata": {
        "id": "18e8V8elL9ik"
      },
      "source": [
        "Basic mathematical functions operate elementwise on arrays, and are available both as operator overloads and as functions in the numpy module:"
      ]
    },
    {
      "cell_type": "code",
      "execution_count": null,
      "metadata": {
        "colab": {
          "base_uri": "https://localhost:8080/",
          "height": 86
        },
        "id": "gHKvBrSKL9il",
        "outputId": "a8a924b1-9d60-4b68-8fd3-e4657ae3f08b"
      },
      "outputs": [
        {
          "name": "stdout",
          "output_type": "stream",
          "text": [
            "[[ 6.  8.]\n",
            " [10. 12.]]\n",
            "[[ 6.  8.]\n",
            " [10. 12.]]\n"
          ]
        }
      ],
      "source": [
        "x = np.array([[1,2],[3,4]], dtype=np.float64)\n",
        "y = np.array([[5,6],[7,8]], dtype=np.float64)\n",
        "\n",
        "# Elementwise sum; both produce the array\n",
        "print(x + y)\n",
        "print(np.add(x, y))"
      ]
    },
    {
      "cell_type": "code",
      "execution_count": null,
      "metadata": {
        "colab": {
          "base_uri": "https://localhost:8080/",
          "height": 86
        },
        "id": "1fZtIAMxL9in",
        "outputId": "122f1380-6144-4d6c-9d31-f62d839889a2"
      },
      "outputs": [
        {
          "name": "stdout",
          "output_type": "stream",
          "text": [
            "[[-4. -4.]\n",
            " [-4. -4.]]\n",
            "[[-4. -4.]\n",
            " [-4. -4.]]\n"
          ]
        }
      ],
      "source": [
        "# Elementwise difference; both produce the array\n",
        "print(x - y)\n",
        "print(np.subtract(x, y))"
      ]
    },
    {
      "cell_type": "code",
      "execution_count": null,
      "metadata": {
        "colab": {
          "base_uri": "https://localhost:8080/",
          "height": 86
        },
        "id": "nil4AScML9io",
        "outputId": "038c8bb2-122b-4e59-c0a8-a091014fe68e"
      },
      "outputs": [
        {
          "name": "stdout",
          "output_type": "stream",
          "text": [
            "[[ 5. 12.]\n",
            " [21. 32.]]\n",
            "[[ 5. 12.]\n",
            " [21. 32.]]\n"
          ]
        }
      ],
      "source": [
        "# Elementwise product; both produce the array\n",
        "print(x * y)\n",
        "print(np.multiply(x, y))"
      ]
    },
    {
      "cell_type": "code",
      "execution_count": null,
      "metadata": {
        "colab": {
          "base_uri": "https://localhost:8080/",
          "height": 86
        },
        "id": "0JoA4lH6L9ip",
        "outputId": "12351a74-7871-4bc2-97ce-a508bf4810da"
      },
      "outputs": [
        {
          "name": "stdout",
          "output_type": "stream",
          "text": [
            "[[0.2        0.33333333]\n",
            " [0.42857143 0.5       ]]\n",
            "[[0.2        0.33333333]\n",
            " [0.42857143 0.5       ]]\n"
          ]
        }
      ],
      "source": [
        "# Elementwise division; both produce the array\n",
        "# [[ 0.2         0.33333333]\n",
        "#  [ 0.42857143  0.5       ]]\n",
        "print(x / y)\n",
        "print(np.divide(x, y))"
      ]
    },
    {
      "cell_type": "code",
      "execution_count": null,
      "metadata": {
        "colab": {
          "base_uri": "https://localhost:8080/",
          "height": 52
        },
        "id": "g0iZuA6bL9ir",
        "outputId": "29927dda-4167-4aa8-fbda-9008b09e4356"
      },
      "outputs": [
        {
          "name": "stdout",
          "output_type": "stream",
          "text": [
            "[[1.         1.41421356]\n",
            " [1.73205081 2.        ]]\n"
          ]
        }
      ],
      "source": [
        "# Elementwise square root; produces the array\n",
        "# [[ 1.          1.41421356]\n",
        "#  [ 1.73205081  2.        ]]\n",
        "print(np.sqrt(x))"
      ]
    },
    {
      "cell_type": "markdown",
      "metadata": {
        "id": "ZTwN7mVIFvHC"
      },
      "source": [
        "You can also easily change each element of an array in the same way. For example, to add 1 to each element of `x`, just type"
      ]
    },
    {
      "cell_type": "code",
      "execution_count": null,
      "metadata": {
        "id": "_PP2Ef7mFvHD",
        "outputId": "39c907d9-81c0-4045-97a8-8957b82efcac"
      },
      "outputs": [
        {
          "name": "stdout",
          "output_type": "stream",
          "text": [
            "[[2. 3.]\n",
            " [4. 5.]]\n"
          ]
        }
      ],
      "source": [
        "print(x + 1)"
      ]
    },
    {
      "cell_type": "markdown",
      "metadata": {
        "id": "FbE-1If_L9i0"
      },
      "source": [
        "Numpy provides many useful functions for performing computations on single arrays; one of the most useful is `sum`:"
      ]
    },
    {
      "cell_type": "code",
      "execution_count": null,
      "metadata": {
        "colab": {
          "base_uri": "https://localhost:8080/",
          "height": 69
        },
        "id": "DZUdZvPrL9i0",
        "outputId": "99cad470-d692-4b25-91c9-a57aa25f4c6e"
      },
      "outputs": [
        {
          "name": "stdout",
          "output_type": "stream",
          "text": [
            "10\n",
            "[4 6]\n",
            "[3 7]\n"
          ]
        }
      ],
      "source": [
        "x = np.array([[1,2],[3,4]])\n",
        "\n",
        "print(np.sum(x))  # Compute sum of all elements; prints \"10\"\n",
        "print(np.sum(x, axis=0))  # Compute sum of each column; prints \"[4 6]\"\n",
        "print(np.sum(x, axis=1))  # Compute sum of each row; prints \"[3 7]\""
      ]
    },
    {
      "cell_type": "markdown",
      "source": [
        "Similarly, we can find row and column means with the `np.mean()` function."
      ],
      "metadata": {
        "id": "f376tFl8v6-r"
      }
    },
    {
      "cell_type": "code",
      "source": [
        "print(np.mean(x, axis=0)) # column means\n",
        "print(np.mean(x, axis=1)) # row means"
      ],
      "metadata": {
        "id": "brc0wMuQv_Xy"
      },
      "execution_count": null,
      "outputs": []
    },
    {
      "cell_type": "markdown",
      "metadata": {
        "id": "QPDgYnetFvHD"
      },
      "source": [
        "## Exercises - Array math"
      ]
    },
    {
      "cell_type": "markdown",
      "metadata": {
        "id": "wEpDOtXgpevl"
      },
      "source": [
        "Given 2 similarly-sized NumPy arrays, 'a' and 'b', how do you find a NumPy array output in which every element is an element-wise sum of the 'a' and 'b'  NumPy arrays?"
      ]
    },
    {
      "cell_type": "code",
      "execution_count": null,
      "metadata": {
        "id": "hSv4UWdYp1jG"
      },
      "outputs": [],
      "source": [
        "a = np.array([[1,2,3],\n",
        "              [4,5,6]])\n",
        "\n",
        "b = np.array([[10,11,12],\n",
        "              [13,14,15]])"
      ]
    },
    {
      "cell_type": "code",
      "execution_count": null,
      "metadata": {
        "id": "0K3POPHMp7nq"
      },
      "outputs": [],
      "source": [
        "# Your answer here"
      ]
    },
    {
      "cell_type": "markdown",
      "metadata": {
        "id": "EdE6jirHqDDk"
      },
      "source": [
        "Multiply each element of `a` by 3"
      ]
    },
    {
      "cell_type": "code",
      "execution_count": null,
      "metadata": {
        "id": "uhCBtzxPq0l4"
      },
      "outputs": [],
      "source": [
        "# Your answer here"
      ]
    },
    {
      "cell_type": "markdown",
      "source": [
        "Find the two row means of `a+b`, or the array resulting from adding each element of `a` and `b` element-wise."
      ],
      "metadata": {
        "id": "DNyY0y_MwQ0Q"
      }
    },
    {
      "cell_type": "code",
      "source": [
        "# Your answere here"
      ],
      "metadata": {
        "id": "ilT-Z1zpwgZh"
      },
      "execution_count": null,
      "outputs": []
    },
    {
      "cell_type": "markdown",
      "metadata": {
        "id": "5KRCRinpFvHD"
      },
      "source": [
        "## Concatenating"
      ]
    },
    {
      "cell_type": "markdown",
      "metadata": {
        "id": "LZpz3_9GFvHE"
      },
      "source": [
        "We can also build a NumPy array by putting together two arrays that we have already built. This is called \"concatenation\". This is especially helpful when we want to work with data from two or more sources at once.\n",
        "\n",
        "Let's say we want to add some new observations to our data. This means we want to add more rows. In essence we want to vertically stack two arrays on top of one another. The `vstack()` function allows us to do this. All we have to do is pass it a collection of arrays to stack."
      ]
    },
    {
      "cell_type": "code",
      "execution_count": null,
      "metadata": {
        "id": "G_c4ajVIFvHE",
        "outputId": "ea69eef1-cfb8-4799-a8bf-52113e2ff93a"
      },
      "outputs": [
        {
          "data": {
            "text/plain": [
              "array([[1, 1, 1],\n",
              "       [2, 2, 2]])"
            ]
          },
          "execution_count": 32,
          "metadata": {},
          "output_type": "execute_result"
        }
      ],
      "source": [
        "obs1 = np.array([[1, 1, 1]])\n",
        "obs2 = np.array([[2, 2, 2]])\n",
        "\n",
        "np.vstack([obs1, obs2])"
      ]
    },
    {
      "cell_type": "markdown",
      "metadata": {
        "id": "1z8hEUlhFvHE"
      },
      "source": [
        "If we want to add new columns to our data, we can use `hstack()`, or we can horizontally stack two arrays next to one another. Again, we just pass this function a collection of arrays we want to stack."
      ]
    },
    {
      "cell_type": "code",
      "execution_count": null,
      "metadata": {
        "id": "1WHNbB0bFvHE",
        "outputId": "6dfe1726-35ab-4688-98fb-98c1dc5368a3"
      },
      "outputs": [
        {
          "data": {
            "text/plain": [
              "array([[1, 2],\n",
              "       [1, 2],\n",
              "       [1, 2]])"
            ]
          },
          "execution_count": 33,
          "metadata": {},
          "output_type": "execute_result"
        }
      ],
      "source": [
        "col1 = np.array([[1], [1], [1]])\n",
        "col2 = np.array([[2], [2], [2]])\n",
        "\n",
        "np.hstack([col1, col2])"
      ]
    },
    {
      "cell_type": "markdown",
      "metadata": {
        "id": "EPfqXLLxFvHE"
      },
      "source": [
        "## Exercises - Concatenating"
      ]
    },
    {
      "cell_type": "markdown",
      "metadata": {
        "id": "wQCcmV19rmrV"
      },
      "source": [
        "Stack 2 numpy arrays horizontally i.e., 2 arrays having the same 1st dimension (number of rows in 2D arrays)"
      ]
    },
    {
      "cell_type": "code",
      "execution_count": null,
      "metadata": {
        "id": "m8FpZJKkrpKr"
      },
      "outputs": [],
      "source": [
        "a1 = np.array([[1,2,3],\n",
        "               [4,5,6]])\n",
        "\n",
        "a2 = np.array([[7,8,9],\n",
        "               [10,11,12]])"
      ]
    },
    {
      "cell_type": "code",
      "execution_count": null,
      "metadata": {
        "id": "XY0KMb9orw0x"
      },
      "outputs": [],
      "source": [
        "# Your answer here"
      ]
    },
    {
      "cell_type": "markdown",
      "metadata": {
        "id": "K1llkinrr0Rk"
      },
      "source": [
        "Stack 2 numpy arrays vertically i.e., 2 arrays having the same last dimension (number of columns in 2D arrays)"
      ]
    },
    {
      "cell_type": "code",
      "execution_count": null,
      "metadata": {
        "id": "b5dsC1Tfr4Vr"
      },
      "outputs": [],
      "source": [
        "a3 = np.array([[1,2],\n",
        "               [3,4],\n",
        "               [5,6]])\n",
        "\n",
        "a4 = np.array([[7,8],\n",
        "               [9,10],\n",
        "               [11,12]])"
      ]
    },
    {
      "cell_type": "code",
      "execution_count": null,
      "metadata": {
        "id": "l1gPcbiZr7LW"
      },
      "outputs": [],
      "source": [
        "# Your answer here"
      ]
    }
  ]
}