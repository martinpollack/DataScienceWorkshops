{
  "cells": [
    {
      "cell_type": "markdown",
      "metadata": {
        "id": "nmoqoyLDn2pI"
      },
      "source": [
        "# Workshop 2 of DASIL's Series on \"Introduction to Python\"\n",
        "### Created by Simon Hodson.\n",
        "### Much of the credit should go to Linh Tang, Britney He, Christopher Moppel, Sergio Martelo, and Martin Pollack, whose work was heavily used to create this document."
      ]
    },
    {
      "cell_type": "markdown",
      "metadata": {
        "id": "6PPwFNcYn2pL"
      },
      "source": [
        "# Workshop 2"
      ]
    },
    {
      "cell_type": "markdown",
      "metadata": {
        "id": "WYyL-DzLn2pM"
      },
      "source": [
        "## Review of Workshop 1\n",
        "\n"
      ]
    },
    {
      "cell_type": "markdown",
      "metadata": {
        "id": "bI_3lPsIn2pN"
      },
      "source": [
        "If you remeber from the previous workshop, you can extract one character from a string by placing square brackets `[]` right after a string. Try to use this idea to extract the first 5 numbers in the fibonnaci sequence and printing it as a single string. (Hint: the first 5 numbers are 11235)"
      ]
    },
    {
      "cell_type": "code",
      "execution_count": null,
      "metadata": {
        "id": "14t2TjXkn2pO"
      },
      "outputs": [],
      "source": [
        "a = \"12345\"\n"
      ]
    },
    {
      "cell_type": "markdown",
      "metadata": {
        "id": "fe_eHMmkn2pR"
      },
      "source": [
        "We also looked at taking substrings, try extracting the string `\"Grinnell\"` from the string below.\n"
      ]
    },
    {
      "cell_type": "code",
      "execution_count": null,
      "metadata": {
        "id": "GUdE7TO_n2pS",
        "outputId": "17b9d7e5-3e72-474a-87ba-b15e1e1408d0",
        "colab": {
          "base_uri": "https://localhost:8080/"
        }
      },
      "outputs": [
        {
          "output_type": "stream",
          "name": "stdout",
          "text": [
            "Grinnell\n"
          ]
        }
      ],
      "source": [
        "b = \"Grinnell College\""
      ]
    },
    {
      "cell_type": "markdown",
      "metadata": {
        "id": "_8c3XmQkn2pV"
      },
      "source": [
        "We also studied how to do various operations on numbers. We can see examples of this below. "
      ]
    },
    {
      "cell_type": "code",
      "execution_count": null,
      "metadata": {
        "id": "T1R7Fs5an2pX",
        "outputId": "4321e1c4-b256-4c4e-c08b-15bf0ec73fbd",
        "colab": {
          "base_uri": "https://localhost:8080/"
        }
      },
      "outputs": [
        {
          "output_type": "stream",
          "name": "stdout",
          "text": [
            "6\n",
            "2\n",
            "8\n",
            "2.0\n"
          ]
        }
      ],
      "source": [
        "print(4 + 2)\n",
        "print(4 - 2)\n",
        "print(4 * 2)\n",
        "print(4 / 2)"
      ]
    },
    {
      "cell_type": "markdown",
      "metadata": {
        "id": "gnCL7VE1Kvuh"
      },
      "source": [
        "In addition, we learned about booleans, which can either be `True` or `False`. Examples of these can be seen below."
      ]
    },
    {
      "cell_type": "code",
      "source": [
        "print(1 == 2)\n",
        "print(1 != 2)\n",
        "\n",
        "print(2 < 1)"
      ],
      "metadata": {
        "colab": {
          "base_uri": "https://localhost:8080/"
        },
        "id": "zZKeTztbtPs5",
        "outputId": "4d6db7d3-8fd0-46f0-93af-a8b260fe3bd4"
      },
      "execution_count": null,
      "outputs": [
        {
          "output_type": "stream",
          "name": "stdout",
          "text": [
            "False\n",
            "True\n",
            "False\n"
          ]
        }
      ]
    },
    {
      "cell_type": "markdown",
      "source": [
        "Finally, we also learned how to import modules and libraries. In order to bring in a modules and libraries, we used `import`, in addition using `as` to shorten the name of modules. We can also use from to import only certain functions."
      ],
      "metadata": {
        "id": "YHCsL-mftTSg"
      }
    },
    {
      "cell_type": "code",
      "source": [
        "# Importing the square root function from the math library\n",
        "from math import sqrt\n",
        "\n",
        "# Using the square root function\n",
        "print(sqrt(25))\n",
        "\n",
        "# Importing the NumPy module as np\n",
        "import numpy as np\n",
        "\n",
        "# Using the NumPy module to make an array\n",
        "np.array([1,2,4])"
      ],
      "metadata": {
        "colab": {
          "base_uri": "https://localhost:8080/"
        },
        "id": "CbHfVMtutWMm",
        "outputId": "b0719e45-d2c7-4ca7-ef9f-26f4ae612640"
      },
      "execution_count": null,
      "outputs": [
        {
          "output_type": "stream",
          "name": "stdout",
          "text": [
            "5.0\n"
          ]
        },
        {
          "output_type": "execute_result",
          "data": {
            "text/plain": [
              "array([1, 2, 4])"
            ]
          },
          "metadata": {},
          "execution_count": 7
        }
      ]
    },
    {
      "cell_type": "markdown",
      "metadata": {
        "id": "-Ii-esDF4y-B"
      },
      "source": [
        "## Lists"
      ]
    },
    {
      "cell_type": "markdown",
      "metadata": {
        "id": "470BmDi54y-B"
      },
      "source": [
        "A list is a collection that is ordered, mutable, indexed, and written with square brackets. It allows duplicate members."
      ]
    },
    {
      "cell_type": "code",
      "execution_count": null,
      "metadata": {
        "id": "QrdDqXaA4y-B",
        "outputId": "aa266a13-709c-4f1f-8b05-dbf923f5a365"
      },
      "outputs": [
        {
          "name": "stdout",
          "output_type": "stream",
          "text": [
            "[] <class 'list'>\n"
          ]
        }
      ],
      "source": [
        "L = []\n",
        "print(L, type(L))"
      ]
    },
    {
      "cell_type": "markdown",
      "metadata": {
        "id": "uSelNJfa4y-C"
      },
      "source": [
        "List elements do not have to be of the same type."
      ]
    },
    {
      "cell_type": "code",
      "execution_count": null,
      "metadata": {
        "id": "HH9T_Loi4y-B",
        "outputId": "a8ee3eed-693e-4f72-fbef-4d5153066bbb",
        "colab": {
          "base_uri": "https://localhost:8080/"
        }
      },
      "outputs": [
        {
          "output_type": "execute_result",
          "data": {
            "text/plain": [
              "[1, 2, 3, 'a', 'b', 'c']"
            ]
          },
          "metadata": {},
          "execution_count": 2
        }
      ],
      "source": [
        "L = [1, 2, 3, \"a\", \"b\", \"c\"]\n",
        "L"
      ]
    },
    {
      "cell_type": "markdown",
      "metadata": {
        "id": "CSZ5huig4y-E"
      },
      "source": [
        "The length of a list is the number of items in the list, and it can be found using the `len()` function."
      ]
    },
    {
      "cell_type": "code",
      "execution_count": null,
      "metadata": {
        "id": "ugkBlQZs4y-E",
        "outputId": "d38015d0-fca2-4704-f761-7fdf6ff27101"
      },
      "outputs": [
        {
          "data": {
            "text/plain": [
              "6"
            ]
          },
          "metadata": {},
          "output_type": "display_data"
        }
      ],
      "source": [
        "len(L)"
      ]
    },
    {
      "cell_type": "markdown",
      "metadata": {
        "id": "h3PtHPdBn2pu"
      },
      "source": [
        "The in operator can also be used to check if something is in a list. This can be seen below."
      ]
    },
    {
      "cell_type": "code",
      "execution_count": null,
      "metadata": {
        "id": "dk4QB4F14y-E",
        "outputId": "1f513316-5865-4904-f26b-9488320cb490"
      },
      "outputs": [
        {
          "data": {
            "text/plain": [
              "True"
            ]
          },
          "metadata": {},
          "output_type": "display_data"
        }
      ],
      "source": [
        "3 in L"
      ]
    },
    {
      "cell_type": "code",
      "execution_count": null,
      "metadata": {
        "id": "_eZCLrmq4y-E",
        "outputId": "cf6051bd-2ad7-4965-d872-0d9cb9cc49ce",
        "scrolled": true
      },
      "outputs": [
        {
          "data": {
            "text/plain": [
              "False"
            ]
          },
          "metadata": {},
          "output_type": "display_data"
        }
      ],
      "source": [
        "\"z\" in L"
      ]
    },
    {
      "cell_type": "markdown",
      "source": [
        "We can also use indexing and slicing which we learned in the first workshop! The code is exactly the same."
      ],
      "metadata": {
        "id": "GBdl2npoA_K5"
      }
    },
    {
      "cell_type": "code",
      "source": [
        "print(L)\n",
        "print(L[0])\n",
        "print(L[1:4:2])"
      ],
      "metadata": {
        "colab": {
          "base_uri": "https://localhost:8080/"
        },
        "id": "YvMyxNUeBGP3",
        "outputId": "a35eaf5a-3f22-48d7-8375-c6e1c4904c9a"
      },
      "execution_count": null,
      "outputs": [
        {
          "output_type": "stream",
          "name": "stdout",
          "text": [
            "[1, 2, 3, 'a', 'b', 'c']\n",
            "1\n",
            "[2, 'a']\n"
          ]
        }
      ]
    },
    {
      "cell_type": "markdown",
      "metadata": {
        "id": "cNTkHwuC4y-F"
      },
      "source": [
        "### List Methods"
      ]
    },
    {
      "cell_type": "markdown",
      "metadata": {
        "id": "sLwpzcau4y-F"
      },
      "source": [
        "The easiest way to combine two lists is to use the + operator, just as combining two strings. "
      ]
    },
    {
      "cell_type": "code",
      "execution_count": null,
      "metadata": {
        "id": "GdVAaTwU4y-F",
        "outputId": "56e6ef29-b9cd-466e-d1c2-c1eadaab5bfe"
      },
      "outputs": [
        {
          "data": {
            "text/plain": [
              "[1, 2, 3, 'a', 'b', 'c']"
            ]
          },
          "metadata": {},
          "output_type": "display_data"
        }
      ],
      "source": [
        "l1 = [1, 2, 3]\n",
        "l2 = [\"a\", \"b\", \"c\"]\n",
        "l1 + l2"
      ]
    },
    {
      "cell_type": "markdown",
      "metadata": {
        "id": "c3eJcHeZ4y-G"
      },
      "source": [
        "The `append()` method appends an element to the end of the list. Note that the `append()` method actually appends a new element to the target list, not returning a copy.\n",
        "\n"
      ]
    },
    {
      "cell_type": "code",
      "execution_count": null,
      "metadata": {
        "id": "KCBhIDgH4y-F",
        "outputId": "df909d9e-eb64-4f0f-83fc-fd50dd57fef9"
      },
      "outputs": [
        {
          "data": {
            "text/plain": [
              "[1, 2, 3, 4]"
            ]
          },
          "metadata": {},
          "output_type": "display_data"
        }
      ],
      "source": [
        "l = [1, 2, 3]\n",
        "l.append(4)\n",
        "l"
      ]
    },
    {
      "cell_type": "markdown",
      "metadata": {
        "id": "l7hnDyNV4y-H"
      },
      "source": [
        "The `sort()` method sorts the list in ascending order by default. Note that the `sort()` method actually sorts the target list, not returning a copy. "
      ]
    },
    {
      "cell_type": "code",
      "execution_count": null,
      "metadata": {
        "id": "Rif9eq584y-G",
        "outputId": "c8da4ea0-8bce-4d33-e978-e0e5cb99228b"
      },
      "outputs": [
        {
          "data": {
            "text/plain": [
              "[1, 2, 3, 4, 5, 6]"
            ]
          },
          "metadata": {},
          "output_type": "display_data"
        }
      ],
      "source": [
        "l = [1, 6, 3, 4, 2, 5]\n",
        "l.sort()\n",
        "l"
      ]
    },
    {
      "cell_type": "markdown",
      "metadata": {
        "id": "dwNb-rKv4y-H"
      },
      "source": [
        "Setting the `reverse` parameter to True will sort the list in descending order."
      ]
    },
    {
      "cell_type": "code",
      "execution_count": null,
      "metadata": {
        "id": "Zg5aeudQ4y-H",
        "outputId": "7d218210-f8bd-40ae-d423-27889fe4f5ca"
      },
      "outputs": [
        {
          "data": {
            "text/plain": [
              "[6, 5, 4, 3, 2, 1]"
            ]
          },
          "metadata": {},
          "output_type": "display_data"
        }
      ],
      "source": [
        "l = [1, 6, 3, 4, 2, 5]\n",
        "l.sort(reverse=True)\n",
        "l"
      ]
    },
    {
      "cell_type": "markdown",
      "metadata": {
        "id": "LWPqNzZP4y-H"
      },
      "source": [
        "Python also has a built-in function `sorted()`, which works the same as the `sort()` method except that it returns a new copy. "
      ]
    },
    {
      "cell_type": "code",
      "execution_count": null,
      "metadata": {
        "id": "WMGHJIot4y-H",
        "outputId": "dc6c8df9-2319-42e5-d426-0e45bffeed76"
      },
      "outputs": [
        {
          "data": {
            "text/plain": [
              "[1, 2, 3, 4, 5, 6]"
            ]
          },
          "metadata": {},
          "output_type": "display_data"
        }
      ],
      "source": [
        "l = [1, 6, 3, 4, 2, 5]\n",
        "sorted(l)"
      ]
    },
    {
      "cell_type": "code",
      "execution_count": null,
      "metadata": {
        "id": "KS558P4d4y-I",
        "outputId": "959d2061-4f68-4578-b804-929b822e5917"
      },
      "outputs": [
        {
          "data": {
            "text/plain": [
              "[6, 5, 4, 3, 2, 1]"
            ]
          },
          "metadata": {},
          "output_type": "display_data"
        }
      ],
      "source": [
        "sorted(l, reverse=True)"
      ]
    },
    {
      "cell_type": "markdown",
      "metadata": {
        "id": "GX07ANRD4y-I"
      },
      "source": [
        "The `count()` method returns the number of elements with the specified value."
      ]
    },
    {
      "cell_type": "code",
      "execution_count": null,
      "metadata": {
        "id": "alBg370Z4y-I",
        "outputId": "5175b795-c07a-40bf-afc1-9e09907045a7"
      },
      "outputs": [
        {
          "data": {
            "text/plain": [
              "2"
            ]
          },
          "metadata": {},
          "output_type": "display_data"
        }
      ],
      "source": [
        "l = [1, 2, 3, 4, 5, 4, 3, 2, 1]\n",
        "l.count(1)"
      ]
    },
    {
      "cell_type": "markdown",
      "metadata": {
        "id": "WY8wU7Yv4y-I"
      },
      "source": [
        "## Exercises - Lists"
      ]
    },
    {
      "cell_type": "code",
      "execution_count": null,
      "metadata": {
        "id": "Nj5klboO4y-J"
      },
      "outputs": [],
      "source": [
        "animals = [\"dog\", \"cat\", \"bird\", \"tiger\", \"lion\", \"fox\"]"
      ]
    },
    {
      "cell_type": "markdown",
      "metadata": {
        "id": "LiulBIJh4y-J"
      },
      "source": [
        "Get the type of `animals`."
      ]
    },
    {
      "cell_type": "code",
      "execution_count": null,
      "metadata": {
        "id": "1QfUG0yr4y-J"
      },
      "outputs": [],
      "source": [
        "# Your answer here"
      ]
    },
    {
      "cell_type": "markdown",
      "metadata": {
        "id": "GEyDEBMi4y-J"
      },
      "source": [
        "Check if <i>elephant</i> is in `animals`. The output must be either True or False. "
      ]
    },
    {
      "cell_type": "code",
      "execution_count": null,
      "metadata": {
        "id": "N4VqEQNB4y-J"
      },
      "outputs": [],
      "source": [
        "# Your answer here"
      ]
    },
    {
      "cell_type": "markdown",
      "metadata": {
        "id": "iZ3edb7C4y-J"
      },
      "source": [
        "Append a new element <i>elephant</i> to `animals`. Be careful not to append the element multple times."
      ]
    },
    {
      "cell_type": "code",
      "execution_count": null,
      "metadata": {
        "id": "DGTchCTU4y-K"
      },
      "outputs": [],
      "source": [
        "# Your answer here"
      ]
    },
    {
      "cell_type": "markdown",
      "metadata": {
        "id": "360NeCmg4y-K"
      },
      "source": [
        "Get the number of elements in `animals`. "
      ]
    },
    {
      "cell_type": "code",
      "execution_count": null,
      "metadata": {
        "id": "NnXRi7Jw4y-K"
      },
      "outputs": [],
      "source": [
        "# Your answer here"
      ]
    },
    {
      "cell_type": "markdown",
      "metadata": {
        "id": "H2cQ_I4p4y-K"
      },
      "source": [
        "Get the first 5 items in `animals`. "
      ]
    },
    {
      "cell_type": "code",
      "execution_count": null,
      "metadata": {
        "id": "v9HDkfde4y-L"
      },
      "outputs": [],
      "source": [
        "# Your answer here"
      ]
    },
    {
      "cell_type": "markdown",
      "metadata": {
        "id": "pjfVFIXe4y-L"
      },
      "source": [
        "Get a new sorted list of `animals` in reverse alphabetical order. "
      ]
    },
    {
      "cell_type": "code",
      "execution_count": null,
      "metadata": {
        "id": "3D-66bCP4y-L"
      },
      "outputs": [],
      "source": [
        "# Your answer here"
      ]
    },
    {
      "cell_type": "markdown",
      "metadata": {
        "id": "lFdpcAgp4y-y"
      },
      "source": [
        "Get the min value in `l`.\n",
        "\n",
        "HINT: Think about doing this in two steps."
      ]
    },
    {
      "cell_type": "code",
      "execution_count": null,
      "metadata": {
        "id": "2xc8X_jt4y-y"
      },
      "outputs": [],
      "source": [
        "l = [5, 13, 76, 9, 93, 28, 49, 76, 9, 88]"
      ]
    },
    {
      "cell_type": "code",
      "execution_count": null,
      "metadata": {
        "id": "0RxJpWWB4y-z"
      },
      "outputs": [],
      "source": [
        "# Your answer here"
      ]
    },
    {
      "cell_type": "markdown",
      "metadata": {
        "id": "-yAY3WUP4y-z"
      },
      "source": [
        "Get the max value in `l`."
      ]
    },
    {
      "cell_type": "code",
      "execution_count": null,
      "metadata": {
        "id": "5AeLJyfI4y-0"
      },
      "outputs": [],
      "source": [
        "# Your answer here"
      ]
    },
    {
      "cell_type": "markdown",
      "metadata": {
        "id": "nJEZVw984y-0"
      },
      "source": [
        "Get the sum of all values in `l`.\n",
        "\n",
        "HINT: Google a helpful function (but be careful, it is not a method)"
      ]
    },
    {
      "cell_type": "code",
      "execution_count": null,
      "metadata": {
        "id": "VVmz8TYZ4y-1"
      },
      "outputs": [],
      "source": [
        "# Your answer here"
      ]
    },
    {
      "cell_type": "markdown",
      "metadata": {
        "id": "Z5m3Nch8Kvui"
      },
      "source": [
        "## If/Else Statements"
      ]
    },
    {
      "cell_type": "markdown",
      "source": [
        "Sometimes we are not sure what code we will want to run. \n",
        "\n",
        "For example, it may depend on the value of a variable. If the `mood` variable for our customer is \"happy,\" then we may not need to do anything. But if this variable is \"annoyed,\" we may want to print a message that says \"Please enjoy this discount\"."
      ],
      "metadata": {
        "id": "UyrsmXYzFLZm"
      }
    },
    {
      "cell_type": "markdown",
      "metadata": {
        "id": "nFooISNSKvui"
      },
      "source": [
        "We can do this kind of \"conditional coding\" with a Python `if` statement. \n",
        "\n",
        "These take the form of an `if` boolean test, followed by one or more optional `elif` (\"else if\") tests and a final optional `else` block. "
      ]
    },
    {
      "cell_type": "markdown",
      "metadata": {
        "id": "jp7tMBcdKvui"
      },
      "source": [
        "The tests and `else` part each have an associated block of nested statements, indented under a headline."
      ]
    },
    {
      "cell_type": "markdown",
      "metadata": {
        "id": "yxI7y9PeKvui"
      },
      "source": [
        "The blocks associated with each `if` or `elif` statement only runs if no other block above it runs and if its test passes.\n",
        "\n",
        "The `else` block only runs if all `if` and `elif` statements fail."
      ]
    },
    {
      "cell_type": "code",
      "execution_count": null,
      "metadata": {
        "id": "k0R22_EEKvuj"
      },
      "outputs": [],
      "source": [
        "x = -3"
      ]
    },
    {
      "cell_type": "markdown",
      "metadata": {
        "id": "XjBhHQbPKvuk"
      },
      "source": [
        "Below, nothing is printed because the `if` test evaluates to false. "
      ]
    },
    {
      "cell_type": "code",
      "execution_count": null,
      "metadata": {
        "id": "OzC4SHqpKvuk"
      },
      "outputs": [],
      "source": [
        "if x > 0:\n",
        "    print(\"X is positive.\")"
      ]
    },
    {
      "cell_type": "markdown",
      "source": [
        "To change this, we can add an `else` statement, which will run for any `x` that is negative or 0."
      ],
      "metadata": {
        "id": "RO-nH_qhId_z"
      }
    },
    {
      "cell_type": "code",
      "execution_count": null,
      "metadata": {
        "id": "qA2hlmfDKvuk"
      },
      "outputs": [],
      "source": [
        "if x > 0:\n",
        "    print(\"X is positive.\")\n",
        "else:                            \n",
        "    print(\"X is negative.\")"
      ]
    },
    {
      "cell_type": "markdown",
      "source": [
        "Even if there are more tests added, if all are false, only the `else` block will be evaluated."
      ],
      "metadata": {
        "id": "td8dNnGmIWQt"
      }
    },
    {
      "cell_type": "code",
      "execution_count": null,
      "metadata": {
        "id": "-7WBoq24Kvum"
      },
      "outputs": [],
      "source": [
        "if x > 0:\n",
        "    print(\"X is positive.\")\n",
        "elif x == 0:\n",
        "    print(\"X is zero.\")\n",
        "else:\n",
        "    print(\"X is negative.\")"
      ]
    },
    {
      "cell_type": "markdown",
      "source": [
        "But if we now make `x` equal 0, the `elif` test will be `TRUE`, so we will never get to the `else` test."
      ],
      "metadata": {
        "id": "j2oAjw7KIz0f"
      }
    },
    {
      "cell_type": "code",
      "source": [
        "x = 0\n",
        "if x > 0:\n",
        "    print(\"X is positive.\")\n",
        "elif x == 0:\n",
        "    print(\"X is zero.\")\n",
        "else:\n",
        "    print(\"X is negative.\")"
      ],
      "metadata": {
        "id": "lRmeoMqWIw0g"
      },
      "execution_count": null,
      "outputs": []
    },
    {
      "cell_type": "markdown",
      "metadata": {
        "id": "vJ8g-7dgKvun"
      },
      "source": [
        "Note that `if` statements can be nested."
      ]
    },
    {
      "cell_type": "code",
      "execution_count": null,
      "metadata": {
        "id": "EhgDJQtNKvum"
      },
      "outputs": [],
      "source": [
        "if x > 0:\n",
        "    print(\"X is positive.\")\n",
        "else:\n",
        "    if x == 0:\n",
        "        print(\"X is zero.\")\n",
        "    else:\n",
        "        print(\"X is negative.\")"
      ]
    },
    {
      "cell_type": "markdown",
      "metadata": {
        "id": "-UNv-16eKvun"
      },
      "source": [
        "Note also that this code using nested `if-else` statements works exactly the same as the previous code using `if-elif-else` statements. You can write two different blocks of code that have the same logic. "
      ]
    },
    {
      "cell_type": "markdown",
      "metadata": {
        "id": "UrrNNlooKvun"
      },
      "source": [
        "You can set a complex condition in a test using Boolean operators. "
      ]
    },
    {
      "cell_type": "code",
      "execution_count": null,
      "metadata": {
        "id": "wqoqRPX3Kvun",
        "outputId": "ad540563-75fb-40ed-c17f-e7ed670c37e7",
        "scrolled": true,
        "colab": {
          "base_uri": "https://localhost:8080/"
        }
      },
      "outputs": [
        {
          "output_type": "stream",
          "name": "stdout",
          "text": [
            "X is a number.\n"
          ]
        }
      ],
      "source": [
        "if (type(x) == int) | (type(x) == float) | (type(x) == complex):\n",
        "    print(\"X is a number.\")\n",
        "else:\n",
        "    print(\"X is not a number.\")"
      ]
    },
    {
      "cell_type": "markdown",
      "metadata": {
        "id": "Xf2FN2wdKvuo"
      },
      "source": [
        "You can use the `in` operator to combine the three conditions into a single condition. "
      ]
    },
    {
      "cell_type": "code",
      "execution_count": null,
      "metadata": {
        "id": "rteIYaw-Kvuo",
        "outputId": "be7393b0-c0fc-4b87-a358-3846022c58c1",
        "colab": {
          "base_uri": "https://localhost:8080/"
        }
      },
      "outputs": [
        {
          "output_type": "stream",
          "name": "stdout",
          "text": [
            "X is a number.\n"
          ]
        }
      ],
      "source": [
        "if type(x) in [int, float, complex]:\n",
        "    print(\"X is a number.\")\n",
        "else:\n",
        "    print(\"X is not a number.\")"
      ]
    },
    {
      "cell_type": "markdown",
      "metadata": {
        "id": "26d0d99e"
      },
      "source": [
        "In the example below, if the condition `squirrels_seen > 0` is `True`, repeat the string `squirrels! ` by the number of squirrels seen."
      ]
    },
    {
      "cell_type": "code",
      "execution_count": null,
      "metadata": {
        "id": "c53d291d",
        "colab": {
          "base_uri": "https://localhost:8080/"
        },
        "outputId": "bf346a32-b285-41d3-ed1a-3a0eec26909b"
      },
      "outputs": [
        {
          "output_type": "stream",
          "name": "stdout",
          "text": [
            "squirrels! squirrels! squirrels! \n"
          ]
        }
      ],
      "source": [
        "# I have a dog named Bonnie\n",
        "# 20 minutes into the walk, she has seen 3 squirrels\n",
        "squirrels_seen = 3\n",
        "\n",
        "# if see squirres, repeat \"squirrels! \" by the number of squirrels seen\n",
        "if squirrels_seen > 0:\n",
        "    bonnie_thoughts = \"squirrels! \" * squirrels_seen\n",
        "    print(bonnie_thoughts)"
      ]
    },
    {
      "cell_type": "markdown",
      "metadata": {
        "id": "ba5ff9f1"
      },
      "source": [
        "Some observations about an `if` statement:\n",
        "* Notice the `:` after the `if` statement. This is required syntax.\n",
        "* The body of the code inside the `if` statement is indented. It's standard to use 4 spaces. Jupyter Notebook indents automatically for you."
      ]
    },
    {
      "cell_type": "markdown",
      "metadata": {
        "id": "3ee24ed5"
      },
      "source": [
        "***\n",
        "We can also check multiple conditions. For example, suppose you are working with survey data that include a variable about the respondents' sex assigned at birth. *(Note that sex assigned at birth is often a different variable than gender.)*\n",
        "\n",
        "It's common for sex to be coded as numeric values following a scheme such as:\n",
        "\n",
        "    Male -> coded as 0\n",
        "    Female -> coded as 1\n",
        "    Respondents refused to disclose sex during the survey -> coded as 9\n",
        "\n",
        "In the example below, we create a variable called `sex_str` to correspond with the numeric variable `sex`. "
      ]
    },
    {
      "cell_type": "code",
      "execution_count": null,
      "metadata": {
        "id": "60a4e8a0",
        "colab": {
          "base_uri": "https://localhost:8080/"
        },
        "outputId": "a25cc8fd-28eb-49e6-ff76-fbd556e9229d"
      },
      "outputs": [
        {
          "output_type": "stream",
          "name": "stdout",
          "text": [
            "Male\n"
          ]
        }
      ],
      "source": [
        "sex = 0\n",
        "\n",
        "if sex == 0:\n",
        "    sex_str = \"Male\"\n",
        "elif sex == 1:\n",
        "    sex_str = \"Female\"\n",
        "elif sex == 9:\n",
        "    sex_str = \"Refused\"\n",
        "else:\n",
        "    sex_str = \"Missing\"\n",
        "\n",
        "# see what sex_str is, given that sex = 0 \n",
        "print(sex_str)"
      ]
    },
    {
      "cell_type": "markdown",
      "metadata": {
        "id": "16307412"
      },
      "source": [
        "In the block of conditional statements in the example above, each `if`, `elif` and `else` statement was checked, starting from the the top `if` statement. If the condition is true, the code inside the statement gets executed. Otherwise move down to the next statement.\n",
        "\n",
        "At the end, all remaining cases get put in the `else` category.\n",
        "\n",
        "`elif` is short for \"else if\". You can include as many `elif` statements as you want. It's optional to include `elif` and `else` in a block of conditional statements. Only the first statement, `if`, is required.\n",
        "\n",
        "Similarly to the `if` statement:\n",
        "* Notice the `:` after each `elif` and `else` statement. This is required syntax.\n",
        "* The code inside each `elif` and `else` statement is indented. It's standard to use 4 spaces. Jupyter Notebook indents automatically for you."
      ]
    },
    {
      "cell_type": "markdown",
      "metadata": {
        "id": "c3f845a4"
      },
      "source": [
        "### If Statement Exercises"
      ]
    },
    {
      "cell_type": "markdown",
      "metadata": {
        "id": "4c80889d"
      },
      "source": [
        "1. Create a variable `x` and assign to it the value `120`. Then write a block of conditional statements so that:\n",
        "* If `x` is equal to 0, create a variable `sign` and assign `0` to it.\n",
        "* If `x` is less than 0, assign `-1` to `sign`\n",
        "* If `x` is bigger than 0, assign `1` to `sign`\n",
        "* Otherwise, assign `9` to `sign`\n",
        "\n",
        "Print the value of `sign`."
      ]
    },
    {
      "cell_type": "code",
      "execution_count": null,
      "metadata": {
        "id": "610d9ba1"
      },
      "outputs": [],
      "source": [
        "# Your answer here"
      ]
    },
    {
      "cell_type": "markdown",
      "metadata": {
        "id": "3hyAETd7Kvuo"
      },
      "source": [
        "## Loops"
      ]
    },
    {
      "cell_type": "markdown",
      "source": [
        "So far, every time we have needed to run something, we have explicitly typed it out.\n",
        "\n",
        "But sometimes, we will want to do repitive tasks to multiple items.\n",
        "\n",
        "For example, suppose we have a list of names and we want to make them all upper case. We could individually take each name and use the `upper()` method on it, but there is a better way!"
      ],
      "metadata": {
        "id": "DwgahayEJ5nx"
      }
    },
    {
      "cell_type": "markdown",
      "metadata": {
        "id": "qXB2U6dJKvuo"
      },
      "source": [
        "A `for` loop grabs one element at a time from a list or another type of iterable object, saving each in the same variable that can be reused over and over."
      ]
    },
    {
      "cell_type": "markdown",
      "metadata": {
        "id": "iDoN6k8FKvur"
      },
      "source": [
        "- Such a loop begins with a header line that specifies the name(s) of variable(s) you want to be reusing, along with the object you want to step through. \n",
        "- The header is followed by a block of (normally indented) statements that you want to repeat. \n",
        "- When Python runs a `for` loop, it assigns the items in the iterable <i>object</i> to the <i>variable</i> one by one and executes the loop body for each. \n",
        "- The loop body typically uses the `variable` to refer to the current item in the sequence. "
      ]
    },
    {
      "cell_type": "code",
      "execution_count": null,
      "metadata": {
        "id": "OIVkLh1LKvur"
      },
      "outputs": [],
      "source": [
        "l = [1, 2, 3, 4, 5, 6, 7, 8, 9, 10]"
      ]
    },
    {
      "cell_type": "code",
      "execution_count": null,
      "metadata": {
        "id": "chqXkukCKvus"
      },
      "outputs": [],
      "source": [
        "for num in l:\n",
        "    print(num)"
      ]
    },
    {
      "cell_type": "markdown",
      "metadata": {
        "id": "eCZm6FWAKvus"
      },
      "source": [
        "To get the sum of numbers in <i>l</i>, you need a variable, <i>sum1</i> in the below example, to store the intermediate sum calculated from each iteration. Note that the initial value of <i>sum1</i> was set to 0 to be added by any number later. "
      ]
    },
    {
      "cell_type": "code",
      "execution_count": null,
      "metadata": {
        "id": "uSiy5kK2Kvus"
      },
      "outputs": [],
      "source": [
        "sum1 = 0\n",
        "for num in l:\n",
        "    sum1 += num     # The same as sum1 = sum1 + num"
      ]
    },
    {
      "cell_type": "code",
      "execution_count": null,
      "metadata": {
        "id": "MO6iin1FKvus"
      },
      "outputs": [],
      "source": [
        "sum1"
      ]
    },
    {
      "cell_type": "code",
      "execution_count": null,
      "metadata": {
        "id": "Rw43dzYVKvuu"
      },
      "outputs": [],
      "source": [
        "sum1 == sum(l)"
      ]
    },
    {
      "cell_type": "code",
      "execution_count": null,
      "metadata": {
        "id": "gkb0ctz3Kvuu"
      },
      "outputs": [],
      "source": [
        "product = 1\n",
        "for num in l:\n",
        "    product *= num   # The same as product = product * num"
      ]
    },
    {
      "cell_type": "markdown",
      "metadata": {
        "id": "zS04LUP8Kvuv"
      },
      "source": [
        "Note that the initial value of <i>product</i> was set to 1 to be multiplied by any number later. "
      ]
    },
    {
      "cell_type": "code",
      "execution_count": null,
      "metadata": {
        "id": "kjAGQB7KKvuv"
      },
      "outputs": [],
      "source": [
        "product"
      ]
    },
    {
      "cell_type": "markdown",
      "metadata": {
        "id": "_TQVmUj3Kvuw"
      },
      "source": [
        "The `for` loop can also iterate over a string. "
      ]
    },
    {
      "cell_type": "code",
      "execution_count": null,
      "metadata": {
        "id": "XKqUOX2JKvuv"
      },
      "outputs": [],
      "source": [
        "string = \"Python\""
      ]
    },
    {
      "cell_type": "code",
      "execution_count": null,
      "metadata": {
        "id": "Mp8Dr9BNKvuv"
      },
      "outputs": [],
      "source": [
        "for char in string:\n",
        "    print(char, end=\" \")     # end: sets a string appended after the last value, default a newline."
      ]
    },
    {
      "cell_type": "code",
      "execution_count": null,
      "metadata": {
        "id": "jJlTGxkkKvuw"
      },
      "outputs": [],
      "source": [
        "for char in reversed(string):\n",
        "    print(char, end=\" \")"
      ]
    },
    {
      "cell_type": "markdown",
      "source": [
        "We can also move through two objects simultaneously, saving items from each object in two distinct variables.\n",
        "\n",
        "To do this, we can use the `zip` command on two lists."
      ],
      "metadata": {
        "id": "TSMEZ345Ldh6"
      }
    },
    {
      "cell_type": "code",
      "execution_count": null,
      "metadata": {
        "id": "Pr0DtQl1Kvuw"
      },
      "outputs": [],
      "source": [
        "l1 = [\"a\", \"b\", \"c\"]\n",
        "l2 = [\"x\", \"y\", \"z\"]"
      ]
    },
    {
      "cell_type": "code",
      "execution_count": null,
      "metadata": {
        "id": "2emvEkSrKvux"
      },
      "outputs": [],
      "source": [
        "for item1, item2 in zip(l1, l2):\n",
        "    print(item1 + item2)"
      ]
    },
    {
      "cell_type": "markdown",
      "source": [
        "We can also use the `break` keyword to end a for loop early without going through all items of a list. \n",
        "\n",
        "For instance, say you had a list and wanted to check if at least one of the values was negative. Once we find a negative value, we can end the `for` loop and do not need to look at any other elements.\n",
        "\n",
        "Also note the use of the `enumerate()` function on our list. This returns groupings of each elements of the list along with its indices. Thus, we need to use two variables now in our `for` loop: `i` and `num`."
      ],
      "metadata": {
        "id": "5ExPBrlGEe6v"
      }
    },
    {
      "cell_type": "code",
      "source": [
        "number_list = [1, 20, 10, 56, -1, 23]\n",
        "\n",
        "for i, num in enumerate(number_list):\n",
        "  if num < 0:\n",
        "    print(\"The list contains a negative\")\n",
        "    break\n",
        "  elif i == len(number_list):\n",
        "    print(\"There are no negatives in the list\")\n",
        "  else:\n",
        "    print(\"We have not yet found a negative in the list\")"
      ],
      "metadata": {
        "colab": {
          "base_uri": "https://localhost:8080/"
        },
        "id": "fznlsSydExZX",
        "outputId": "04b3322f-8ddb-49fe-c2f4-2a428bec047c"
      },
      "execution_count": null,
      "outputs": [
        {
          "output_type": "stream",
          "name": "stdout",
          "text": [
            "We have not yet found a negative in the list\n",
            "We have not yet found a negative in the list\n",
            "We have not yet found a negative in the list\n",
            "We have not yet found a negative in the list\n",
            "The list contains a negative\n"
          ]
        }
      ]
    },
    {
      "cell_type": "markdown",
      "source": [
        "You notice that the for loop only evaluates 5 of the items in the list. This is because the moment it detected the negative, it printed `\"The list contains a negative\"` and ran `break`, which ended the loop. \n",
        "\n",
        "Now if we wanted for the list to only print whether or not there was a negative, we could use `continue` within the `else` block. This ends the current iteration of the loop and continues to the next iteration."
      ],
      "metadata": {
        "id": "-5R3R7bHGQ5q"
      }
    },
    {
      "cell_type": "code",
      "source": [
        "number_list = [1, 20, 10, 56, -1, 23]\n",
        "\n",
        "for i, num in enumerate(number_list):\n",
        "  if num < 0:\n",
        "    print(\"The list contains a negative\")\n",
        "    break\n",
        "  elif i == len(number_list):\n",
        "    print(\"There are no negatives in the list\")\n",
        "  else:\n",
        "    continue"
      ],
      "metadata": {
        "colab": {
          "base_uri": "https://localhost:8080/"
        },
        "id": "zk2CxwnuHGqI",
        "outputId": "d930c648-2cdc-4810-f93a-b90de3f9e499"
      },
      "execution_count": null,
      "outputs": [
        {
          "output_type": "stream",
          "name": "stdout",
          "text": [
            "The list contains a negative\n"
          ]
        }
      ]
    },
    {
      "cell_type": "markdown",
      "metadata": {
        "id": "Q23fpZZRKvu2"
      },
      "source": [
        "### Nested For Loops"
      ]
    },
    {
      "cell_type": "markdown",
      "source": [
        "We can also put `for` loops inside other `for` loops.\n",
        "\n",
        "Variables created for the outer loop can also be accessed by the inner loop."
      ],
      "metadata": {
        "id": "YSw2XJgsO5av"
      }
    },
    {
      "cell_type": "code",
      "execution_count": null,
      "metadata": {
        "id": "9L65_CiVKvu2"
      },
      "outputs": [],
      "source": [
        "l1 = [\"a\", \"b\", \"c\"]\n",
        "l2 = [\"x\", \"y\", \"z\"]"
      ]
    },
    {
      "cell_type": "code",
      "execution_count": null,
      "metadata": {
        "id": "AAOD-rg6Kvu3"
      },
      "outputs": [],
      "source": [
        "for item1 in l1:               # outer for loop\n",
        "    for item2 in l2:           # inner for loop\n",
        "        print(item1 + item2)"
      ]
    },
    {
      "cell_type": "markdown",
      "source": [
        "How this works is we will choose a certain item in `l1`, and then hold that value constant as we step through the whole of `l2`. We then move on to the next item in `l1` and again proceed to step through all of `l2`."
      ],
      "metadata": {
        "id": "nrBAOmVGPHxR"
      }
    },
    {
      "cell_type": "markdown",
      "metadata": {
        "id": "jxBOl_QXKvu4"
      },
      "source": [
        "The order of retrieving elements depends on how it is described in the nested <b>for</b> loop."
      ]
    },
    {
      "cell_type": "code",
      "execution_count": null,
      "metadata": {
        "id": "04qeD8-9Kvu4"
      },
      "outputs": [],
      "source": [
        "l1 = [\"a\", \"b\", \"c\"]\n",
        "l2 = [\"x\", \"y\", \"z\"]\n",
        "l3 = [\"p\", \"q\", \"r\"]\n",
        "\n",
        "for item1 in l1:\n",
        "    for item2 in l2:\n",
        "        for item3 in l3:\n",
        "            print(item1 + item2 + item3)"
      ]
    },
    {
      "cell_type": "markdown",
      "metadata": {
        "id": "G2CYJa_DKvu5"
      },
      "source": [
        "You can write a nested <b>for</b> loop with a depth of 3 or more. "
      ]
    },
    {
      "cell_type": "code",
      "execution_count": null,
      "metadata": {
        "id": "QI_PxuOIKvu5"
      },
      "outputs": [],
      "source": [
        "l = [\"a\", \"b\", \"c\"]\n",
        "\n",
        "for item1 in l:\n",
        "    for item2 in l:\n",
        "        for item3 in l:\n",
        "            print(item1 + item2 + item3)"
      ]
    },
    {
      "cell_type": "markdown",
      "metadata": {
        "id": "ut1lov8WKvu5"
      },
      "source": [
        "You can write a nested <b>for</b> loop using a single loop."
      ]
    },
    {
      "cell_type": "markdown",
      "metadata": {
        "id": "fc88db96"
      },
      "source": [
        "### `while` loop"
      ]
    },
    {
      "cell_type": "markdown",
      "metadata": {
        "id": "c85a8a84"
      },
      "source": [
        "The other type of loop is a `while` loop. A `while` loop keeps going until some condition is met. \n",
        "\n",
        "In the example below, we print `i` and then increment `i` by `1` as long as `i` is less than `10`."
      ]
    },
    {
      "cell_type": "code",
      "execution_count": null,
      "metadata": {
        "id": "d90a14a3",
        "scrolled": false
      },
      "outputs": [],
      "source": [
        "i = 0\n",
        "while i < 10:\n",
        "    print(i)\n",
        "    i = i + 1"
      ]
    },
    {
      "cell_type": "markdown",
      "metadata": {
        "id": "8a401d44"
      },
      "source": [
        "Note that the argument of the `while` loop, `i < 10`, is a comparison statement. The `while` loop is executed as long as that statement returns `True`.\n",
        "\n",
        "When `i` becomes 10, the test returns `FALSE`, and so 10 is not printed."
      ]
    },
    {
      "cell_type": "markdown",
      "metadata": {
        "id": "aQ45K-z-Kvu5"
      },
      "source": [
        "## Loop Exercises"
      ]
    },
    {
      "cell_type": "markdown",
      "metadata": {
        "id": "tP8bJBbtKvu5"
      },
      "source": [
        "Write a <b>for</b> loop that prints all integers from 1 to 100, separated by a space. Use the `range()` function to generate consecutive numbers (google this)."
      ]
    },
    {
      "cell_type": "code",
      "execution_count": null,
      "metadata": {
        "id": "rZizPIqxKvu6"
      },
      "outputs": [],
      "source": [
        "# Your answer here"
      ]
    },
    {
      "cell_type": "markdown",
      "metadata": {
        "id": "5t01t7hOKvu6"
      },
      "source": [
        "Write a <b>for</b> loop that prints all letters in <i>s</i>, separated by a space."
      ]
    },
    {
      "cell_type": "code",
      "execution_count": null,
      "metadata": {
        "id": "rj9XG1TQKvu6"
      },
      "outputs": [],
      "source": [
        "s = \"abcdefghijklmnopqrstuvwxyz\""
      ]
    },
    {
      "cell_type": "code",
      "execution_count": null,
      "metadata": {
        "id": "Of4GrDzbKvu6"
      },
      "outputs": [],
      "source": [
        "# Your answer here"
      ]
    },
    {
      "cell_type": "markdown",
      "metadata": {
        "id": "3vK_E61zKvu8"
      },
      "source": [
        "Write a <b>for</b> loop that prints all names in the list <i>names</i> in uppercase, separated by a new line."
      ]
    },
    {
      "cell_type": "code",
      "execution_count": null,
      "metadata": {
        "id": "J1oat4AJKvu8"
      },
      "outputs": [],
      "source": [
        "names = [\"Alice\", \"Bob\", \"Mary\", \"Sam\", \"Sarah\", \"Tom\"]"
      ]
    },
    {
      "cell_type": "code",
      "source": [
        "# Your answer here"
      ],
      "metadata": {
        "id": "wQ7ZHSfwQJP3"
      },
      "execution_count": null,
      "outputs": []
    },
    {
      "cell_type": "markdown",
      "source": [
        "Write a <b>for</b> loop that prints only the numbers from a list such that:\n",
        "\n",
        "* The number is divisable by 5\n",
        "* The number is less than 150\n",
        "\n",
        "If the number is 500 or greater, end the loop. Use the list below to test if this works.\n",
        "\n",
        "Credit to Pynation for this problem, which can be found [here](https://pynative.com/python-if-else-and-for-loop-exercise-with-solutions/)."
      ],
      "metadata": {
        "id": "cPjg4ZgfDKzZ"
      }
    },
    {
      "cell_type": "code",
      "execution_count": null,
      "metadata": {
        "id": "G2UohFxFKvu8",
        "scrolled": false
      },
      "outputs": [],
      "source": [
        "test_list = [12, 75, 150, 180, 145, 525, 5]"
      ]
    },
    {
      "cell_type": "markdown",
      "source": [
        "Write a <b>while</b> loop that adds up the numbers in the list below until it reaches 100. "
      ],
      "metadata": {
        "id": "BNfHRrAhHVTW"
      }
    },
    {
      "cell_type": "code",
      "source": [
        "add_test_list = [1, 20, 35, -10, 88, 23, 56, 230]"
      ],
      "metadata": {
        "id": "LOWQnd79Hvl3"
      },
      "execution_count": null,
      "outputs": []
    },
    {
      "cell_type": "markdown",
      "source": [
        "Write a <b>while</b> loop that identifies what index the string `\"Martin\"` is in the list below.\n",
        "\n",
        "HINT: you may want to use some sort of `if` statement."
      ],
      "metadata": {
        "id": "Zfw5gzG_ID3e"
      }
    },
    {
      "cell_type": "code",
      "source": [
        "dasil_employees = [\"Simon\", \"Jiayi\", \"Julia\", \"Anil\", \"Anh\", \"Martin\", \"Yusen\"]"
      ],
      "metadata": {
        "id": "rPUnKA5qIsDR"
      },
      "execution_count": null,
      "outputs": []
    },
    {
      "cell_type": "markdown",
      "metadata": {
        "id": "P1l5l-R_Kvu9"
      },
      "source": [
        "## User-Defined Functions"
      ]
    },
    {
      "cell_type": "markdown",
      "metadata": {
        "id": "xIxViha1Kvu9"
      },
      "source": [
        "A function is a block of reusable code that is used to perform a specific action. The advantages of using functions include:\n",
        "- reducing duplication of code\n",
        "- decomposing complex problems into simpler pieces\n",
        "- improving clarity or readability of the code\n",
        "- reuse of code\n",
        "- information hiding"
      ]
    },
    {
      "cell_type": "markdown",
      "metadata": {
        "id": "_suqh4J5Kvu-"
      },
      "source": [
        "To write your own function, start with the `def` keyword. Then type the name of the function, open parenthesis, your variables separated by columns, a close parenthesis, and then a colon. Indented on the next line is the body of the function, that uses your variable(s) to perform a task.\n",
        "\n",
        "In this example, <i>square</i> is the function name; `x` is the (only) argument, or parameter. Make sure to put a colon (:) after the parentheses. `x` * `x` is the return value of this function."
      ]
    },
    {
      "cell_type": "code",
      "execution_count": null,
      "metadata": {
        "id": "A7sCdYSPKvu9"
      },
      "outputs": [],
      "source": [
        "def square(x):\n",
        "    return x * x"
      ]
    },
    {
      "cell_type": "markdown",
      "metadata": {
        "id": "crzeQVKYKvu-"
      },
      "source": [
        "To call a function, just specify the function name followed by parameter values enclosed with parentheses. "
      ]
    },
    {
      "cell_type": "code",
      "execution_count": null,
      "metadata": {
        "id": "YtFFkQhBKvu-",
        "colab": {
          "base_uri": "https://localhost:8080/"
        },
        "outputId": "079badf1-dada-474e-aa4c-cbf935ce494b"
      },
      "outputs": [
        {
          "output_type": "execute_result",
          "data": {
            "text/plain": [
              "9"
            ]
          },
          "metadata": {},
          "execution_count": 25
        }
      ],
      "source": [
        "square(3)"
      ]
    },
    {
      "cell_type": "markdown",
      "metadata": {
        "id": "-1fbGyHJKvu-"
      },
      "source": [
        "A function can have multiple arguments. "
      ]
    },
    {
      "cell_type": "code",
      "execution_count": null,
      "metadata": {
        "id": "Wb-iYL5XKvu-"
      },
      "outputs": [],
      "source": [
        "def multiply(x, y):\n",
        "    return x * y"
      ]
    },
    {
      "cell_type": "code",
      "execution_count": null,
      "metadata": {
        "id": "1sghQNbmKvu_",
        "colab": {
          "base_uri": "https://localhost:8080/"
        },
        "outputId": "de1112c0-ef08-42ce-aaf8-219f4e5418d6"
      },
      "outputs": [
        {
          "output_type": "execute_result",
          "data": {
            "text/plain": [
              "15"
            ]
          },
          "metadata": {},
          "execution_count": 27
        }
      ],
      "source": [
        "multiply(3, 5)"
      ]
    },
    {
      "cell_type": "markdown",
      "metadata": {
        "id": "aSD0Gi_bKvu_"
      },
      "source": [
        "A function can return no value. "
      ]
    },
    {
      "cell_type": "code",
      "execution_count": null,
      "metadata": {
        "id": "Ndx_1MYoKvu_"
      },
      "outputs": [],
      "source": [
        "def multiply_print(x, y):\n",
        "    print(\"{} times {} equals {}.\".format(x, y, x * y))"
      ]
    },
    {
      "cell_type": "code",
      "execution_count": null,
      "metadata": {
        "id": "_Wm4BN2ZKvvB",
        "colab": {
          "base_uri": "https://localhost:8080/"
        },
        "outputId": "191c3c83-6fdd-4a64-8fb7-acbe61bc55e5"
      },
      "outputs": [
        {
          "output_type": "stream",
          "name": "stdout",
          "text": [
            "3 times 5 equals 15.\n"
          ]
        }
      ],
      "source": [
        "multiply_print(3, 5)"
      ]
    },
    {
      "cell_type": "markdown",
      "metadata": {
        "id": "8XLAIdwQKvvB"
      },
      "source": [
        "A function can return multiple values. Such as the one below:"
      ]
    },
    {
      "cell_type": "code",
      "execution_count": null,
      "metadata": {
        "id": "qTp2fwkUKvvB"
      },
      "outputs": [],
      "source": [
        "def get_first_2_items(l):\n",
        "    return l[0], l[1]"
      ]
    },
    {
      "cell_type": "markdown",
      "source": [
        "Now if we pass a list into the function, we see that it extracts the first two items in the list."
      ],
      "metadata": {
        "id": "tEcWHxvDyEM8"
      }
    },
    {
      "cell_type": "code",
      "execution_count": null,
      "metadata": {
        "id": "9bHVkZzgKvvC",
        "colab": {
          "base_uri": "https://localhost:8080/"
        },
        "outputId": "0f1c20bd-e0f0-4994-ab0e-4d44dae44aeb"
      },
      "outputs": [
        {
          "output_type": "execute_result",
          "data": {
            "text/plain": [
              "(1, 2)"
            ]
          },
          "metadata": {},
          "execution_count": 33
        }
      ],
      "source": [
        "get_first_2_items([1, 2, 3, 4, 5])"
      ]
    },
    {
      "cell_type": "markdown",
      "metadata": {
        "id": "dJnJF9vIKvvC"
      },
      "source": [
        "A function's return value can be used by assigning it to a variable. "
      ]
    },
    {
      "cell_type": "code",
      "execution_count": null,
      "metadata": {
        "id": "LxhQRNUAKvvC",
        "scrolled": true,
        "colab": {
          "base_uri": "https://localhost:8080/"
        },
        "outputId": "6b5e9e39-5736-4635-d5e2-3db50119c02c"
      },
      "outputs": [
        {
          "output_type": "stream",
          "name": "stdout",
          "text": [
            "1 2\n"
          ]
        }
      ],
      "source": [
        "a, b = get_first_2_items([1, 2, 3, 4, 5])\n",
        "print(a, b)"
      ]
    },
    {
      "cell_type": "markdown",
      "metadata": {
        "id": "t7CejP0iKvvD"
      },
      "source": [
        "A function can have no arguments. "
      ]
    },
    {
      "cell_type": "code",
      "execution_count": null,
      "metadata": {
        "id": "ImZKdxtqKvvC"
      },
      "outputs": [],
      "source": [
        "def just_print():\n",
        "    print(\"Hello, world!\")"
      ]
    },
    {
      "cell_type": "code",
      "execution_count": null,
      "metadata": {
        "id": "20-onH3BKvvD",
        "colab": {
          "base_uri": "https://localhost:8080/"
        },
        "outputId": "21ffbdbb-9991-40e9-836e-78191aa9ea5e"
      },
      "outputs": [
        {
          "output_type": "stream",
          "name": "stdout",
          "text": [
            "Hello, world!\n"
          ]
        }
      ],
      "source": [
        "just_print()"
      ]
    },
    {
      "cell_type": "markdown",
      "metadata": {
        "id": "j89CnOY_KvvD"
      },
      "source": [
        "You can write a series of operations in the function body."
      ]
    },
    {
      "cell_type": "code",
      "execution_count": null,
      "metadata": {
        "id": "iBLIErb9KvvD"
      },
      "outputs": [],
      "source": [
        "def remove_all_whitespaces(s):\n",
        "    s = s.replace(\" \", \"\")\n",
        "    s = s.replace(\"\\t\", \"\")\n",
        "    s = s.replace(\"\\n\", \"\")\n",
        "\n",
        "    \n",
        "    return s"
      ]
    },
    {
      "cell_type": "code",
      "execution_count": null,
      "metadata": {
        "id": "tY8cONkXKvvE",
        "scrolled": true
      },
      "outputs": [],
      "source": [
        "remove_all_whitespaces(\"\\t\\t\\tI'm learning Python Data Analytics.\\n\")"
      ]
    },
    {
      "cell_type": "markdown",
      "metadata": {
        "id": "fNb4u9cRKvvF"
      },
      "source": [
        "You can use <b>if</b> statements in the function body to make the function respond differently to the parameters. "
      ]
    },
    {
      "cell_type": "code",
      "execution_count": null,
      "metadata": {
        "id": "gSHXlwcgKvvE"
      },
      "outputs": [],
      "source": [
        "def get_max(x, y):\n",
        "    if x > y:\n",
        "        return x\n",
        "    else:\n",
        "        return y"
      ]
    },
    {
      "cell_type": "code",
      "execution_count": null,
      "metadata": {
        "id": "F-RtB1eaKvvF",
        "colab": {
          "base_uri": "https://localhost:8080/"
        },
        "outputId": "cdaf9178-0fde-4ac6-971f-787039c5350f"
      },
      "outputs": [
        {
          "output_type": "execute_result",
          "data": {
            "text/plain": [
              "5"
            ]
          },
          "metadata": {},
          "execution_count": 53
        }
      ],
      "source": [
        "get_max(3, 5)"
      ]
    },
    {
      "cell_type": "markdown",
      "metadata": {
        "id": "AGLye7VBKvvG"
      },
      "source": [
        "Be aware that a function stops right after it returns a value. "
      ]
    },
    {
      "cell_type": "code",
      "execution_count": null,
      "metadata": {
        "id": "WuazXTWJKvvG"
      },
      "outputs": [],
      "source": [
        "def get_max(x, y):\n",
        "    if x > y:\n",
        "        return x\n",
        "        print(\"Can I be printed???\")   # Unreachable code\n",
        "    else:\n",
        "        return y"
      ]
    },
    {
      "cell_type": "code",
      "execution_count": null,
      "metadata": {
        "id": "ONrSyVIMKvvG",
        "colab": {
          "base_uri": "https://localhost:8080/"
        },
        "outputId": "b6b7ff07-af80-4e08-a215-cfa09acbc74a"
      },
      "outputs": [
        {
          "output_type": "execute_result",
          "data": {
            "text/plain": [
              "5"
            ]
          },
          "metadata": {},
          "execution_count": 55
        }
      ],
      "source": [
        "get_max(3, 5)"
      ]
    },
    {
      "cell_type": "markdown",
      "metadata": {
        "id": "-s-d3uU-KvvH"
      },
      "source": [
        "You can set the default value of an argument in a function with an equal sign."
      ]
    },
    {
      "cell_type": "markdown",
      "metadata": {
        "id": "9ne5CabeKvvI"
      },
      "source": [
        " You will have the option of not specifying a value for that argument when calling the function. If you do not specify a value, then the parameter will have the default value given when the function executes. "
      ]
    },
    {
      "cell_type": "code",
      "execution_count": null,
      "metadata": {
        "id": "xI-SOxqSKvvH"
      },
      "outputs": [],
      "source": [
        "def get_first_n_items(l, n=3):\n",
        "    return l[:n]"
      ]
    },
    {
      "cell_type": "code",
      "execution_count": null,
      "metadata": {
        "id": "vTWWkdBXKvvH",
        "scrolled": true,
        "colab": {
          "base_uri": "https://localhost:8080/"
        },
        "outputId": "c051a52a-68bd-40df-9b5d-0e0b98303a2e"
      },
      "outputs": [
        {
          "output_type": "execute_result",
          "data": {
            "text/plain": [
              "[1, 2, 3]"
            ]
          },
          "metadata": {},
          "execution_count": 36
        }
      ],
      "source": [
        "get_first_n_items([1, 2, 3, 4, 5])"
      ]
    },
    {
      "cell_type": "markdown",
      "metadata": {
        "id": "_pq9Yk6GKvvI"
      },
      "source": [
        "## Exercises for User-Defined Functions"
      ]
    },
    {
      "cell_type": "markdown",
      "metadata": {
        "id": "azh7KURNKvvI"
      },
      "source": [
        "Write a function <i>concatenate</i> that takes two strings `s1` and `s2` as arguments and returns the concatenation of the two strings with a space between them. "
      ]
    },
    {
      "cell_type": "code",
      "execution_count": null,
      "metadata": {
        "id": "hJCfP_N8KvvI"
      },
      "outputs": [],
      "source": [
        "# Your answer here\n"
      ]
    },
    {
      "cell_type": "code",
      "execution_count": null,
      "metadata": {
        "id": "63Lea8mUKvvI",
        "scrolled": true
      },
      "outputs": [],
      "source": [
        "# Test the function here\n",
        "concatenate(\"Learning\", \"Python\")     # Output: 'Learning Python'"
      ]
    },
    {
      "cell_type": "markdown",
      "metadata": {
        "id": "_EJaePVGKvvJ"
      },
      "source": [
        "Write a function <i>concatenate_all</i> that takes a list `l` of strings as an argument and returns the concatenation of all strings in `l` with a space between them. "
      ]
    },
    {
      "cell_type": "code",
      "execution_count": null,
      "metadata": {
        "id": "Oo6Gat1xKvvJ"
      },
      "outputs": [],
      "source": [
        "# Your answer here\n"
      ]
    },
    {
      "cell_type": "code",
      "execution_count": null,
      "metadata": {
        "id": "5QTFTVg5KvvJ"
      },
      "outputs": [],
      "source": [
        "# Test the function here\n",
        "concatenate_all([\"Python\", \"R\", \"SAS\", \"SPSS\", \"Matlab\", \"Stata\"])     # Output: 'Python R SAS SPSS Matlab Stata'"
      ]
    },
    {
      "cell_type": "markdown",
      "metadata": {
        "id": "VvFAtGY3KvvJ"
      },
      "source": [
        "Write a function <i>get_min</i> that takes two numbers `num1` and `num2` as arguments and returns the lesser value. If the two numbers are equal, it returns either value. "
      ]
    },
    {
      "cell_type": "code",
      "execution_count": null,
      "metadata": {
        "id": "dlGe6Z_TKvvJ"
      },
      "outputs": [],
      "source": [
        "# Your answer here\n"
      ]
    },
    {
      "cell_type": "code",
      "execution_count": null,
      "metadata": {
        "id": "cGa4cU2wKvvK"
      },
      "outputs": [],
      "source": [
        "# Test the function here\n",
        "get_min(3, 5)     # Output: 3"
      ]
    },
    {
      "cell_type": "code",
      "execution_count": null,
      "metadata": {
        "id": "q-DFCequKvvK"
      },
      "outputs": [],
      "source": [
        "# Test the function here\n",
        "get_min(3, 3)     # Output: 3"
      ]
    },
    {
      "cell_type": "markdown",
      "metadata": {
        "id": "TGl6T8leKvvK"
      },
      "source": [
        "Write a function <i>get_min_all</i> that takes a list `l` of numbers as an argument and returns the least value in `l`. If the two numbers are equal, it returns either value. "
      ]
    },
    {
      "cell_type": "code",
      "execution_count": null,
      "metadata": {
        "id": "Dnuh1Za8KvvK"
      },
      "outputs": [],
      "source": [
        "# Your answer here\n"
      ]
    },
    {
      "cell_type": "code",
      "execution_count": null,
      "metadata": {
        "id": "TL6d4MUVKvvL"
      },
      "outputs": [],
      "source": [
        "# Test the function here\n",
        "get_min_all([3, 2, 9, 6, 2, 7])     # Output: 2"
      ]
    },
    {
      "cell_type": "markdown",
      "metadata": {
        "id": "qBX61ToYKvvL"
      },
      "source": [
        "Write a function <i>get_head_tail</i> that takes a list `l` as an argument and returns the first and last elements in `l`. If `l` has fewer than 2 elements, it should return \"The input list is too short!\". "
      ]
    },
    {
      "cell_type": "code",
      "execution_count": null,
      "metadata": {
        "id": "gCX7FAKgKvvL"
      },
      "outputs": [],
      "source": [
        "# Your answer here\n"
      ]
    },
    {
      "cell_type": "code",
      "execution_count": null,
      "metadata": {
        "id": "9g2LHtpuKvvM",
        "scrolled": true
      },
      "outputs": [],
      "source": [
        "# Test the function here\n",
        "get_head_tail([\"Python\", \"R\", \"SAS\", \"SPSS\", \"Matlab\", \"Stata\"]) # Output: ('Python', 'Stata')."
      ]
    },
    {
      "cell_type": "code",
      "execution_count": null,
      "metadata": {
        "id": "r0PmIhprKvvM",
        "scrolled": true
      },
      "outputs": [],
      "source": [
        "# Test the function here\n",
        "get_head_tail([\"Python\"])                                        # Output: 'The input list is too short!'."
      ]
    }
  ],
  "metadata": {
    "colab": {
      "provenance": [],
      "collapsed_sections": [
        "WYyL-DzLn2pM",
        "-Ii-esDF4y-B",
        "WY8wU7Yv4y-I",
        "Z5m3Nch8Kvui",
        "3hyAETd7Kvuo",
        "aQ45K-z-Kvu5",
        "P1l5l-R_Kvu9",
        "_pq9Yk6GKvvI"
      ]
    },
    "interpreter": {
      "hash": "aee8b7b246df8f9039afb4144a1f6fd8d2ca17a180786b69acc140d282b71a49"
    },
    "kernelspec": {
      "display_name": "Python 3.9.6 64-bit",
      "language": "python",
      "name": "python3"
    },
    "language_info": {
      "codemirror_mode": {
        "name": "ipython",
        "version": 3
      },
      "file_extension": ".py",
      "mimetype": "text/x-python",
      "name": "python",
      "nbconvert_exporter": "python",
      "pygments_lexer": "ipython3",
      "version": "3.9.6"
    },
    "orig_nbformat": 4
  },
  "nbformat": 4,
  "nbformat_minor": 0
}