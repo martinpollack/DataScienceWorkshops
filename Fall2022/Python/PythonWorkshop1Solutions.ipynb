{
  "cells": [
    {
      "cell_type": "markdown",
      "metadata": {
        "id": "XPGiO66qCBT9"
      },
      "source": [
        "# Jupyter Basics"
      ]
    },
    {
      "cell_type": "markdown",
      "metadata": {
        "id": "6nNWg8pCkJOa"
      },
      "source": [
        "## Workshop 1 of the series \"Introduction to Python\" for Fall 2022.\n",
        "This series is sponsored by DASIL and Vivero.\n",
        "\n",
        "## Created by Martin Pollack, Austin Yu, and Kripa Bansal\n",
        "\n",
        "Welcome to the Python workshop series!\n",
        "\n",
        "Right now you are looking at a Jupyter Notebook. This is a popular filetype for doing data science in Python, and we will be using it often.\n",
        "\n",
        "Jupyter Notebooks consist of two kinds of blocks, or groupings of text.\n",
        "- Code Block\n",
        "- Text Block\n",
        "\n",
        "\n",
        "## Code Block\n",
        "In \"code\" blocks you can write your actual Python code, and outputs coming from your code are printed out nicely at the end of each block. To run your code, just hit the \"play button\" or right-pointing arrow in the upper left corner of a selected code block.\n",
        "\n",
        "\n",
        "## Text Block\n",
        "Then there are also \"markdown\" blocks where you can write normal text to describe or give context for your code, like the one you are reading right now! There are lots of things you can do in these to customize your text, but we will only briefly discuss one of them: headers.\n",
        "\n",
        "# If you put a single \"#\" before text, it will be a large header\n",
        "## With two \"#\" symbols, you get a medium-sized header\n",
        "### Three of them means you get a small header\n",
        "\n",
        "Blocks can be edited by double-clicking on them. They can be deleted by double-clicking on them and then clicking on the trash can icon in the top-right corner of the block.\n",
        "\n",
        "You can also create new blocks by clicking on the block you want to be before your new one and then selecting either \"+ Code\" or \"+ Text\" in the top-left corner of Google Colab.\n",
        "\n",
        "And that's basically all you need to know about Jupyter Notebooks. In time you'll learn to love them as much as I do.\n",
        "\n",
        "> Markdown cheatsheet: https://github.com/adam-p/markdown-here/wiki/Markdown-Cheatsheet"
      ]
    },
    {
      "cell_type": "markdown",
      "metadata": {
        "id": "xXJd8-7aCBUJ"
      },
      "source": [
        "# Python Basics!"
      ]
    },
    {
      "cell_type": "markdown",
      "metadata": {
        "id": "ia3Mwb5NkU9o"
      },
      "source": [
        "## Comment "
      ]
    },
    {
      "cell_type": "code",
      "execution_count": null,
      "metadata": {
        "colab": {
          "base_uri": "https://localhost:8080/",
          "height": 132
        },
        "id": "Ruu2yOyHCBUK",
        "outputId": "fb126ecc-a04b-4757-9cbd-a6d0a809cbe3"
      },
      "outputs": [
        {
          "ename": "SyntaxError",
          "evalue": "ignored",
          "output_type": "error",
          "traceback": [
            "\u001b[0;36m  File \u001b[0;32m\"<ipython-input-31-441a33b43dcc>\"\u001b[0;36m, line \u001b[0;32m2\u001b[0m\n\u001b[0;31m    This is not a comment\u001b[0m\n\u001b[0m                        ^\u001b[0m\n\u001b[0;31mSyntaxError\u001b[0m\u001b[0;31m:\u001b[0m invalid syntax\n"
          ]
        }
      ],
      "source": [
        "# This is a comment\n",
        "This is not a comment"
      ]
    },
    {
      "cell_type": "markdown",
      "metadata": {
        "id": "S0xG4tiWCBUX"
      },
      "source": [
        "## Variables"
      ]
    },
    {
      "cell_type": "markdown",
      "metadata": {
        "id": "f5LJyT71CBUX"
      },
      "source": [
        "So far we have only used various data types once. But for most applications we will want to save values to use later.\n",
        "\n",
        "This is what variables are for. They give a name to a piece of data so you can refer to or alter it later.\n",
        "\n",
        "To create the variable just put the name of the variable you want to create, an equal sign, and the piece of data you want to be referenced by your variable.\n",
        "\n",
        "You can then reference your variable later by typing its name."
      ]
    },
    {
      "cell_type": "code",
      "execution_count": null,
      "metadata": {
        "colab": {
          "base_uri": "https://localhost:8080/"
        },
        "id": "f_cNxSveCBUY",
        "outputId": "251762f7-d5a4-4c44-ead0-b46e1631a2d6"
      },
      "outputs": [
        {
          "output_type": "stream",
          "name": "stdout",
          "text": [
            "1\n",
            "2\n",
            "3\n",
            "5\n"
          ]
        }
      ],
      "source": [
        "# create var1 variable\n",
        "var1 = 1\n",
        "print(var1)\n",
        "\n",
        "# change var1 variable so that it refers to its old value plus 1\n",
        "var1 = var1 + 1\n",
        "print(var1)\n",
        "\n",
        "# create var2 variable\n",
        "var2 = 3\n",
        "print(var2)\n",
        "\n",
        "# create sum variable which is the result of adding var1 and var2\n",
        "total = var1 + var2\n",
        "\n",
        "# print out sum variable\n",
        "print(total)"
      ]
    },
    {
      "cell_type": "markdown",
      "metadata": {
        "id": "dYBt9uWeCBUY"
      },
      "source": [
        "Python is a dynamically typed language, meaning you do not have to explicitly say what type of data a variable references. This also means that a variable is very flexible and can change its type whenever you want."
      ]
    },
    {
      "cell_type": "code",
      "execution_count": null,
      "metadata": {
        "id": "ytaZW4UHCBUY",
        "outputId": "6692e2b9-e510-47e4-8e2c-7aebd89cb9f0"
      },
      "outputs": [
        {
          "name": "stdout",
          "output_type": "stream",
          "text": [
            "1\n",
            "one\n"
          ]
        }
      ],
      "source": [
        "num = 1\n",
        "print(num)\n",
        "num = \"one\"\n",
        "print(num)"
      ]
    },
    {
      "cell_type": "markdown",
      "metadata": {
        "id": "s8kNwhIHCBUM"
      },
      "source": [
        "## Numbers"
      ]
    },
    {
      "cell_type": "markdown",
      "metadata": {
        "id": "sQfFaFP4g7PN"
      },
      "source": [
        "There are both integer and float numbers in python. "
      ]
    },
    {
      "cell_type": "code",
      "execution_count": null,
      "metadata": {
        "colab": {
          "base_uri": "https://localhost:8080/"
        },
        "id": "Tolx4o4_g-ta",
        "outputId": "33535b59-2b79-4fbe-b5eb-1f4cfe04810c"
      },
      "outputs": [
        {
          "name": "stdout",
          "output_type": "stream",
          "text": [
            "3\n",
            "3.0\n"
          ]
        },
        {
          "data": {
            "text/plain": [
              "350000.0"
            ]
          },
          "execution_count": 46,
          "metadata": {},
          "output_type": "execute_result"
        }
      ],
      "source": [
        "print(3) # int \n",
        "print(3.0) # float\n",
        "print(3.5e5) # float"
      ]
    },
    {
      "cell_type": "markdown",
      "metadata": {
        "id": "qlfyq3kmCBUN"
      },
      "source": [
        "Python can do basically anything a basic calculator can do.\n",
        "\n",
        "Typing numbers and basic arithmetic operations (+, -, *, /, %) we can do things like"
      ]
    },
    {
      "cell_type": "code",
      "execution_count": null,
      "metadata": {
        "colab": {
          "base_uri": "https://localhost:8080/"
        },
        "id": "0JsZAdmyCBUN",
        "outputId": "7f1bd8a4-c92c-4753-bdbb-383d6e0a5c8f"
      },
      "outputs": [
        {
          "data": {
            "text/plain": [
              "1"
            ]
          },
          "execution_count": 2,
          "metadata": {},
          "output_type": "execute_result"
        }
      ],
      "source": [
        "1 + 1 # 2\n",
        "2 * 5 # 10\n",
        "5 / 2 # 2.5 \n",
        "5 // 2 # 2 \n",
        "5 % 2 # 1"
      ]
    },
    {
      "cell_type": "markdown",
      "metadata": {
        "id": "0BkDh6UrCBUO"
      },
      "source": [
        "And the result of our addition is displayed below our code block.\n",
        "\n",
        "Some more special operations are ** for exponentiation, // for quotient division (divide and then round down to the nearest integer), and % for remainder."
      ]
    },
    {
      "cell_type": "code",
      "execution_count": null,
      "metadata": {
        "id": "lA_YjY_2CBUP",
        "outputId": "95e3af95-129b-4b11-9b73-b1e14570a4bf"
      },
      "outputs": [
        {
          "data": {
            "text/plain": [
              "1"
            ]
          },
          "execution_count": 7,
          "metadata": {},
          "output_type": "execute_result"
        }
      ],
      "source": [
        "2 ** 3\n",
        "\n",
        "2 // 3\n",
        "4 // 3\n",
        "\n",
        "10 % 3"
      ]
    },
    {
      "cell_type": "markdown",
      "metadata": {
        "id": "McVvSvZXCBUP"
      },
      "source": [
        "Notice that in this last code block we typed four expressions, each on their own line.\n",
        "\n",
        "However, Jupyter by default only returns the result of the last line of a code block. To make sure we see the results of doing all expressions, we can use Python's `print()` function. See below."
      ]
    },
    {
      "cell_type": "code",
      "execution_count": null,
      "metadata": {
        "id": "4fIYJHMTCBUQ",
        "outputId": "6d5fef6f-cf31-40d1-f3a9-3e931695ee00"
      },
      "outputs": [
        {
          "name": "stdout",
          "output_type": "stream",
          "text": [
            "8\n",
            "0\n",
            "1\n",
            "1\n"
          ]
        }
      ],
      "source": [
        "print(2 ** 3)\n",
        "\n",
        "print(2 // 3)\n",
        "print(4 // 3)\n",
        "\n",
        "print(10 % 3)"
      ]
    },
    {
      "cell_type": "markdown",
      "metadata": {
        "id": "a_4ryLJWCBUQ"
      },
      "source": [
        "So far we have only used integers, or numbers without decimal portions.\n",
        "\n",
        "But of course Python can also deal with numbers with decimals, and these numbers are called `floats`."
      ]
    },
    {
      "cell_type": "code",
      "execution_count": null,
      "metadata": {
        "id": "wsohZ62KCBUQ",
        "outputId": "109b75fe-ef7c-4ecd-837e-d49d321b2f41"
      },
      "outputs": [
        {
          "name": "stdout",
          "output_type": "stream",
          "text": [
            "1.71\n"
          ]
        }
      ],
      "source": [
        "print(1.7 + 0.01)"
      ]
    },
    {
      "cell_type": "markdown",
      "metadata": {
        "id": "Exx4qZNrCBUR"
      },
      "source": [
        "#### Exercise #1\n",
        "Use the `print()` function to output the remainder resulting from dividing 7 by 5."
      ]
    },
    {
      "cell_type": "code",
      "execution_count": 1,
      "metadata": {
        "id": "JrQDwEdsCBUR",
        "colab": {
          "base_uri": "https://localhost:8080/"
        },
        "outputId": "26590b30-dd96-4292-8f6a-fffd633a926d"
      },
      "outputs": [
        {
          "output_type": "stream",
          "name": "stdout",
          "text": [
            "2\n"
          ]
        }
      ],
      "source": [
        "print(7 % 5)"
      ]
    },
    {
      "cell_type": "markdown",
      "metadata": {
        "id": "mV1Muntvo-i9"
      },
      "source": [
        "#### Exercise #2\n",
        "Save the result of multiplying 2 by 9 to a variable called `result`. Then, print out `result`."
      ]
    },
    {
      "cell_type": "code",
      "execution_count": 2,
      "metadata": {
        "id": "osN8fDRApAi0",
        "colab": {
          "base_uri": "https://localhost:8080/"
        },
        "outputId": "372cf5ff-cdb2-433c-d9b1-570482a2c5ea"
      },
      "outputs": [
        {
          "output_type": "stream",
          "name": "stdout",
          "text": [
            "18\n"
          ]
        }
      ],
      "source": [
        "# Your code here\n",
        "result = 2 * 9\n",
        "print(result)"
      ]
    },
    {
      "cell_type": "markdown",
      "metadata": {
        "id": "okio6iRlCBUR"
      },
      "source": [
        "## Strings"
      ]
    },
    {
      "cell_type": "markdown",
      "metadata": {
        "id": "Q9FP2_Nrj-sx"
      },
      "source": [
        "Another common data type in Python is strings, or sequences of characters. These are surrounded by \"\".\n",
        "\n",
        "Notice that both single and double quotes are strings in python. \n",
        "\n",
        "Below are some examples."
      ]
    },
    {
      "cell_type": "code",
      "execution_count": null,
      "metadata": {
        "id": "VPlup99ECBUS",
        "outputId": "b6b209c6-dae4-4759-ec64-e8929265e7e4"
      },
      "outputs": [
        {
          "name": "stdout",
          "output_type": "stream",
          "text": [
            "123\n",
            "abc\n"
          ]
        }
      ],
      "source": [
        "print(\"123\")\n",
        "print('abc')"
      ]
    },
    {
      "cell_type": "markdown",
      "metadata": {
        "id": "MoDen3UICBUS"
      },
      "source": [
        "You can create new strings by putting together two other strings. This is done with the `+` operator."
      ]
    },
    {
      "cell_type": "code",
      "execution_count": null,
      "metadata": {
        "id": "QlWbqRX3CBUS",
        "outputId": "f09c9462-e0c3-4506-ebc6-042b269e18c3"
      },
      "outputs": [
        {
          "name": "stdout",
          "output_type": "stream",
          "text": [
            "String1&String2\n"
          ]
        }
      ],
      "source": [
        "print(\"String1\" + \"&\" + \"String2\")"
      ]
    },
    {
      "cell_type": "markdown",
      "metadata": {
        "id": "4ULpbdPlCBUT"
      },
      "source": [
        "Python also makes it easy to choose specific characters from a string.\n",
        "\n",
        "We can both ***indexing*** and ***slicing*** on strings.\n",
        "\n",
        "### Indexing\n",
        "We use indexing to access one character in the string. \n",
        "This is done with square brackets `[]` right after a string.\n",
        "\n",
        "You can select an individual character by enclosing the index of that character in the brackets.\n",
        "\n",
        "> NOTE: Python uses zero-indexing, meaning the first element has index 0, the second element has index 1, etc.\n",
        "\n",
        "Example string `\"abcdefgh\"`.\n",
        "\n",
        "| Index      | 0 | 1 | 2 | 3 | 4 | 5 | 6 | 7 | \n",
        "| ---------- | - | - | - | - | - | - | - | - | \n",
        "| Characters | a | b | c | d | e | f | g | h |"
      ]
    },
    {
      "cell_type": "code",
      "execution_count": null,
      "metadata": {
        "colab": {
          "base_uri": "https://localhost:8080/"
        },
        "id": "n2L-SQXyCBUT",
        "outputId": "e4606e33-abd1-42aa-e066-af301763bf22"
      },
      "outputs": [
        {
          "name": "stdout",
          "output_type": "stream",
          "text": [
            "a\n",
            "d\n"
          ]
        }
      ],
      "source": [
        "print(\"abcdefgh\"[0])\n",
        "print(\"abcdefgh\"[3])"
      ]
    },
    {
      "cell_type": "markdown",
      "metadata": {
        "id": "936dXGNJGymE"
      },
      "source": [
        "### Slicing \n",
        "\n",
        "We use slicing to aceess multiple characters in the string. \n",
        "We can select multiple characters by using `[start : end : step]`\n",
        "\n",
        "Python slices by INCLUDING the start but EXCLUDING the end. \n",
        "\n",
        "Example string `\"abcdefgh\"`.\n",
        "\n",
        "| Index      | 0 | 1 | 2 | 3 | 4 | 5 | 6 | 7 | \n",
        "| ---------- | - | - | - | - | - | - | - | - | \n",
        "| Characters | a | b | c | d | e | f | g | h |"
      ]
    },
    {
      "cell_type": "code",
      "execution_count": null,
      "metadata": {
        "colab": {
          "base_uri": "https://localhost:8080/"
        },
        "id": "X9ayK56AG25l",
        "outputId": "8431657f-6589-4f05-c063-e95f0bd03afd"
      },
      "outputs": [
        {
          "name": "stdout",
          "output_type": "stream",
          "text": [
            "bc\n",
            "abcd\n",
            "cde\n"
          ]
        }
      ],
      "source": [
        "print(\"abcdefgh\"[1:3])\n",
        "print(\"abcdefgh\"[0:4])\n",
        "print(\"abcdefgh\"[2:5])"
      ]
    },
    {
      "cell_type": "markdown",
      "metadata": {
        "id": "BSSv1KTrHKZd"
      },
      "source": [
        "We could also skip the start or end indices. Python will put the beginning and end of the string by default. "
      ]
    },
    {
      "cell_type": "code",
      "execution_count": null,
      "metadata": {
        "colab": {
          "base_uri": "https://localhost:8080/"
        },
        "id": "gmw4CYWwIiWY",
        "outputId": "da0bdb49-60a4-41d4-cf3b-cc9c18278bb3"
      },
      "outputs": [
        {
          "name": "stdout",
          "output_type": "stream",
          "text": [
            "defgh\n",
            "abcdef\n",
            "abcdefgh\n"
          ]
        }
      ],
      "source": [
        "print(\"abcdefgh\"[3:])\n",
        "print(\"abcdefgh\"[:6])\n",
        "print(\"abcdefgh\"[:])"
      ]
    },
    {
      "cell_type": "markdown",
      "metadata": {
        "id": "qr2Ee3ubIuxv"
      },
      "source": [
        "Python also allows us to go from the end of the string. \n",
        "\n",
        "Example string `\"abcdefgh\"`.\n",
        "\n",
        "| Index      | 0 | 1 | 2 | 3 | 4 | 5 | 6 | 7 | \n",
        "| ---------- | - | - | - | - | - | - | - | - | \n",
        "| Characters | a | b | c | d | e | f | g | h |"
      ]
    },
    {
      "cell_type": "code",
      "execution_count": null,
      "metadata": {
        "colab": {
          "base_uri": "https://localhost:8080/"
        },
        "id": "v4yHRBDiI3j_",
        "outputId": "e3f4b5ca-77ad-42c5-9aba-896feac6504a"
      },
      "outputs": [
        {
          "name": "stdout",
          "output_type": "stream",
          "text": [
            "abcde\n",
            "fgh\n"
          ]
        }
      ],
      "source": [
        "print(\"abcdefgh\"[:-3])\n",
        "print(\"abcdefgh\"[-3:])"
      ]
    },
    {
      "cell_type": "markdown",
      "metadata": {
        "id": "j-gBR-q5JGD1"
      },
      "source": [
        "Finally, one last thing about slicing! We could add a step to slice the string. To slice, `example[start, end, step]`. "
      ]
    },
    {
      "cell_type": "code",
      "execution_count": null,
      "metadata": {
        "colab": {
          "base_uri": "https://localhost:8080/"
        },
        "id": "yWk0aAbbJTEh",
        "outputId": "27693960-b7fd-40d6-94f6-99c28422ab23"
      },
      "outputs": [
        {
          "name": "stdout",
          "output_type": "stream",
          "text": [
            "aceg\n",
            "bdfh\n",
            "bd\n",
            "hgfedcba\n"
          ]
        }
      ],
      "source": [
        "print(\"abcdefgh\"[::2])\n",
        "print(\"abcdefgh\"[1::2])\n",
        "print(\"abcdefgh\"[1:5:2])\n",
        "print(\"abcdefgh\"[::-1])"
      ]
    },
    {
      "cell_type": "markdown",
      "metadata": {
        "id": "1MGYbsH6CBUV"
      },
      "source": [
        "#### Exercise #3\n",
        "Pring out the results of joining the strings \"Hello\" and \" World\" together and then selecting first five characters of the new combined string."
      ]
    },
    {
      "cell_type": "code",
      "execution_count": null,
      "metadata": {
        "id": "3sknh-fcCBUV",
        "colab": {
          "base_uri": "https://localhost:8080/"
        },
        "outputId": "12f82784-e7ec-4caf-d535-2764ac1458a7"
      },
      "outputs": [
        {
          "output_type": "stream",
          "name": "stdout",
          "text": [
            "Hello\n"
          ]
        }
      ],
      "source": [
        "# Your code here\n",
        "print((\"Hello\"+\"World\")[:5])"
      ]
    },
    {
      "cell_type": "markdown",
      "metadata": {
        "id": "H8xPTUpLrkGI"
      },
      "source": [
        "#### Exercise #4\n",
        "Print out the uppercase of the string \"this string is lowercase.\"\n",
        "\n",
        "HINT: Google is your friend to find a helpful function :))))"
      ]
    },
    {
      "cell_type": "code",
      "execution_count": null,
      "metadata": {
        "colab": {
          "base_uri": "https://localhost:8080/"
        },
        "id": "jV-bBY_dsKgt",
        "outputId": "a5e4f4e4-3d0f-490b-9e54-6e3ef0ad3931"
      },
      "outputs": [
        {
          "output_type": "stream",
          "name": "stdout",
          "text": [
            "THIS STRING IS LOWERCASE.\n",
            "THIS STRING IS LOWERCASE.\n"
          ]
        }
      ],
      "source": [
        "# Your code here\n",
        "statement = \"this string is lowercase.\"\n",
        "\n",
        "#print(argument)\n",
        "#thing.method(argument)\n",
        "\n",
        "print(statement.upper())\n",
        "\n",
        "statement = statement.upper()\n",
        "\n",
        "print(statement)"
      ]
    },
    {
      "cell_type": "markdown",
      "metadata": {
        "id": "r9xm8AaD1rX0"
      },
      "source": [
        "#### Exercise #5\n",
        "Reverse the following string. "
      ]
    },
    {
      "cell_type": "code",
      "execution_count": null,
      "metadata": {
        "id": "itrneppr1yl6",
        "colab": {
          "base_uri": "https://localhost:8080/",
          "height": 35
        },
        "outputId": "b510de4f-2972-436c-b7d3-8bf8e1fa89a8"
      },
      "outputs": [
        {
          "output_type": "execute_result",
          "data": {
            "text/plain": [
              "'gfedcba'"
            ],
            "application/vnd.google.colaboratory.intrinsic+json": {
              "type": "string"
            }
          },
          "metadata": {},
          "execution_count": 5
        }
      ],
      "source": [
        "prompt = 'abcdefg'\n",
        "\n",
        "prompt[::-1]"
      ]
    },
    {
      "cell_type": "markdown",
      "metadata": {
        "id": "jCr6Vx4BtkRF"
      },
      "source": [
        "#### Exercise #6\n",
        "Print the string 'abc' by slicing the string '1c1b1a'."
      ]
    },
    {
      "cell_type": "code",
      "execution_count": null,
      "metadata": {
        "id": "JI-WBj6qtuHX",
        "colab": {
          "base_uri": "https://localhost:8080/",
          "height": 35
        },
        "outputId": "1dd2138b-d621-49dc-9702-5fa655c1a653"
      },
      "outputs": [
        {
          "output_type": "execute_result",
          "data": {
            "text/plain": [
              "'abc'"
            ],
            "application/vnd.google.colaboratory.intrinsic+json": {
              "type": "string"
            }
          },
          "metadata": {},
          "execution_count": 6
        }
      ],
      "source": [
        "prompt = '1c1b1a'\n",
        "\n",
        "prompt[::-2]"
      ]
    },
    {
      "cell_type": "markdown",
      "metadata": {
        "id": "GEpIL-QB14kj"
      },
      "source": [
        "#### Exercise #7\n",
        "Print the string \"369\" by manipulating (merging and slicing) the following strings."
      ]
    },
    {
      "cell_type": "code",
      "execution_count": null,
      "metadata": {
        "id": "HpMXA2hD2QSC",
        "colab": {
          "base_uri": "https://localhost:8080/",
          "height": 35
        },
        "outputId": "d0c1894e-932d-4441-9de7-b077e5d88f24"
      },
      "outputs": [
        {
          "output_type": "execute_result",
          "data": {
            "text/plain": [
              "'369'"
            ],
            "application/vnd.google.colaboratory.intrinsic+json": {
              "type": "string"
            }
          },
          "metadata": {},
          "execution_count": 8
        }
      ],
      "source": [
        "prompt1 = '01234'\n",
        "prompt2 = '56789'\n",
        "\n",
        "(prompt1+prompt2)[3::3]"
      ]
    },
    {
      "cell_type": "markdown",
      "metadata": {
        "id": "g82d0rECCBUV"
      },
      "source": [
        "## Booleans"
      ]
    },
    {
      "cell_type": "markdown",
      "metadata": {
        "id": "nRdDB8IECBUV"
      },
      "source": [
        "Another important data type is the boolean, which is either the value `True` or the value `False`.\n",
        "These are typed without quotes, differentiating them from strings."
      ]
    },
    {
      "cell_type": "code",
      "execution_count": null,
      "metadata": {
        "id": "M-IP3nBLCBUW",
        "outputId": "127a237a-2644-48cd-e81e-f025add0927a"
      },
      "outputs": [
        {
          "name": "stdout",
          "output_type": "stream",
          "text": [
            "True\n",
            "False\n"
          ]
        }
      ],
      "source": [
        "print(True)\n",
        "print(False)"
      ]
    },
    {
      "cell_type": "markdown",
      "metadata": {
        "id": "JGDBJciwCBUW"
      },
      "source": [
        "Booleans are usually seen as the result of some sort of test.\n",
        "\n",
        "To test for equality of numbers and strings, make sure to use two equal signs `==`. Then testing if things are NOT equal uses the operator `!=`.\n",
        "\n",
        "We can also compare these types using the following symbols: `<`, `<=`, `>`, `>=`. For numbers the meanings of these comparators is straight forward. For strings, it ignores case and looks at the alphabetical order of the characters, and non-alphabetic characters are considered less than alphabetic characters.\n",
        "\n",
        "We can compare numbers, as expected ..."
      ]
    },
    {
      "cell_type": "code",
      "execution_count": null,
      "metadata": {
        "colab": {
          "base_uri": "https://localhost:8080/"
        },
        "id": "XMF6JxWjCBUW",
        "outputId": "d0143428-6772-41e8-8fac-ea35d88cc41c"
      },
      "outputs": [
        {
          "output_type": "stream",
          "name": "stdout",
          "text": [
            "False\n",
            "True\n",
            "False\n"
          ]
        }
      ],
      "source": [
        "print(1 == 2)\n",
        "print(1 != 2)\n",
        "\n",
        "print(2 < 1)"
      ]
    },
    {
      "cell_type": "markdown",
      "metadata": {
        "id": "zUPF7YfpKedU"
      },
      "source": [
        "We can also compare characters. \n",
        "> learn more about how python compares characters: https://en.wikipedia.org/wiki/ASCII"
      ]
    },
    {
      "cell_type": "code",
      "execution_count": null,
      "metadata": {
        "colab": {
          "base_uri": "https://localhost:8080/"
        },
        "id": "OqD93uhrKgye",
        "outputId": "c50e8a5d-6daf-4fac-88b3-d7b748fb03a1"
      },
      "outputs": [
        {
          "output_type": "stream",
          "name": "stdout",
          "text": [
            "True\n",
            "True\n",
            "False\n"
          ]
        }
      ],
      "source": [
        "print(\"c\" == \"c\")\n",
        "\n",
        "print(\"a\" < \"b\")\n",
        "print(\"A\" > \"B\")\n"
      ]
    },
    {
      "cell_type": "markdown",
      "metadata": {
        "id": "w58J6gamK3EA"
      },
      "source": [
        "Also notice that python has its own interpretation on what is `TRUE`. \n",
        "\n",
        "Basically, everything that is null or empty or 0 is false. Anything else is True, surprisingly. \n",
        "- numbers \n",
        "  - 0 is False\n",
        "  - non zero numbers are True\n",
        "- strings \n",
        "  - `\"\"` empty string is False \n",
        "  - other strings are True"
      ]
    },
    {
      "cell_type": "code",
      "execution_count": null,
      "metadata": {
        "colab": {
          "base_uri": "https://localhost:8080/"
        },
        "id": "S-P1QjlaK-HH",
        "outputId": "d07c4618-c578-4fec-d6e2-269a81c4a020"
      },
      "outputs": [
        {
          "name": "stdout",
          "output_type": "stream",
          "text": [
            "False\n",
            "True\n",
            "True\n"
          ]
        }
      ],
      "source": [
        "# numbers\n",
        "print(bool(0))\n",
        "print(bool(100))\n",
        "print(bool(-1))"
      ]
    },
    {
      "cell_type": "code",
      "execution_count": null,
      "metadata": {
        "colab": {
          "base_uri": "https://localhost:8080/"
        },
        "id": "T3qA9yeoLjBQ",
        "outputId": "89a0a703-123a-4d6d-e7ed-e1b0eb6c98f7"
      },
      "outputs": [
        {
          "name": "stdout",
          "output_type": "stream",
          "text": [
            "False\n",
            "True\n"
          ]
        }
      ],
      "source": [
        "# strings\n",
        "print(bool(''))\n",
        "print(bool(\"this is a false statement...\"))"
      ]
    },
    {
      "cell_type": "markdown",
      "metadata": {
        "id": "A-PreYJyCBUW"
      },
      "source": [
        "Sometimes it is also helpful to chain together multiple tests into one large test. For that we can use the logical operators `and` as well as `or`.\n",
        "\n",
        "Then `(test1) and (test2)` is `True` only if both `test1` and `test2` are true. If at least one of `test1` or `test2` is false, then the overall test is `False`.\n",
        "\n",
        "Next consider `(test1) or (test2)`. The overall test is `True` if `test1`, `test2`, or both are `True`. The overall test is `False` only if both `test1` and `test2` are `False`.\n",
        "\n",
        "- and operator \n",
        "\n",
        "| exp1 | exp2 | exp1 and exp 2 |\n",
        "| ---------- | - | - | \n",
        "| True | True | True |\n",
        "| True | False | False |\n",
        "| False | True | False | \n",
        "| False | False | False |\n",
        "\n",
        "- or operator\n",
        "\n",
        "| exp1 | exp2 | exp1 or exp 2 |\n",
        "| ---------- | - | - | \n",
        "| True | True | True |\n",
        "| True | False | True |\n",
        "| False | True | True | \n",
        "| False | False | False |"
      ]
    },
    {
      "cell_type": "code",
      "execution_count": null,
      "metadata": {
        "id": "J3PhDnR-CBUX",
        "outputId": "e9fde3de-37a2-4f58-d62f-3c654ac0e793"
      },
      "outputs": [
        {
          "name": "stdout",
          "output_type": "stream",
          "text": [
            "True\n",
            "False\n",
            "True\n",
            "False\n"
          ]
        }
      ],
      "source": [
        "print((1 == 1) and (2 != 1))\n",
        "print((5 > 1) and (5 < 1))\n",
        "\n",
        "print((\"Test\" == \"Test\") or (\"Test\" != \"Test\"))\n",
        "print((\"1\" > \"2\") and (\"1\" >= \"2\"))"
      ]
    },
    {
      "cell_type": "markdown",
      "metadata": {
        "id": "sBJlk7RdzykT"
      },
      "source": [
        "#### Exercise #8\n",
        "use `bool()` to test if the following boolean expression is `True`."
      ]
    },
    {
      "cell_type": "code",
      "execution_count": null,
      "metadata": {
        "id": "mgk2a4hY2uND",
        "colab": {
          "base_uri": "https://localhost:8080/",
          "height": 35
        },
        "outputId": "2a74f113-e92f-4553-9dd6-544dc8ba626e"
      },
      "outputs": [
        {
          "output_type": "execute_result",
          "data": {
            "text/plain": [
              "''"
            ],
            "application/vnd.google.colaboratory.intrinsic+json": {
              "type": "string"
            }
          },
          "metadata": {},
          "execution_count": 15
        }
      ],
      "source": [
        "(0 or 1) and (\"\" and \"this is false\")"
      ]
    },
    {
      "cell_type": "code",
      "source": [
        "(0 or 1) or (0 and 1)"
      ],
      "metadata": {
        "id": "q0YsRF7HywdI"
      },
      "execution_count": null,
      "outputs": []
    },
    {
      "cell_type": "markdown",
      "metadata": {
        "id": "4gBs8ysOksx3"
      },
      "source": [
        "## Casting "
      ]
    },
    {
      "cell_type": "markdown",
      "metadata": {
        "id": "ZDP6VLAykwGI"
      },
      "source": [
        "We can \"convert\" values into a different type by casting. "
      ]
    },
    {
      "cell_type": "code",
      "execution_count": null,
      "metadata": {
        "colab": {
          "base_uri": "https://localhost:8080/"
        },
        "id": "p6Rrcf-bk3tk",
        "outputId": "5ddbad3e-0d5d-41be-a7a9-958f95d142e2"
      },
      "outputs": [
        {
          "name": "stdout",
          "output_type": "stream",
          "text": [
            "<class 'int'>\n",
            "<class 'float'>\n",
            "<class 'float'>\n",
            "<class 'str'>\n",
            "<class 'str'>\n"
          ]
        }
      ],
      "source": [
        "print(type(9))\n",
        "print(type(9.0))\n",
        "print(type(float(9)))\n",
        "print(type('9'))\n",
        "print(type(str(9)))\n"
      ]
    },
    {
      "cell_type": "markdown",
      "metadata": {
        "id": "hDBSCXC1CBUf"
      },
      "source": [
        "## Importing Modules"
      ]
    },
    {
      "cell_type": "markdown",
      "metadata": {
        "id": "1FSmlELRCBUf"
      },
      "source": [
        "Sometimes we have to write our own functions and classes. But usually the things we want have already been written by someone else. It saves us a lot of time then, to reuse other people's code.\n",
        "\n",
        "This is where modules come into play. Modules are collections of classes, objects, and functions that are all ready to use. All you have to do to use the things in them is import the module. This is done by typing the keyword `import` followed by the name of the module."
      ]
    },
    {
      "cell_type": "code",
      "execution_count": null,
      "metadata": {
        "id": "IvKZ8QMOCBUf"
      },
      "outputs": [],
      "source": [
        "import numpy"
      ]
    },
    {
      "cell_type": "markdown",
      "metadata": {
        "id": "U13odMVvCBUf"
      },
      "source": [
        "Then everytime you want to use a function or object from the module you imported, you have to type the name of the module, a dot `.`, and then the name of the thing in the module you want to use."
      ]
    },
    {
      "cell_type": "code",
      "execution_count": null,
      "metadata": {
        "id": "6Xb8K2ncCBUf",
        "outputId": "38555356-9e53-40e7-a321-3fdb3d260505"
      },
      "outputs": [
        {
          "data": {
            "text/plain": [
              "array([1, 2, 4])"
            ]
          },
          "execution_count": 21,
          "metadata": {},
          "output_type": "execute_result"
        }
      ],
      "source": [
        "# create a NumPy array object. \n",
        "# You will more about this in the first session\n",
        "numpy.array([1,2,4])"
      ]
    },
    {
      "cell_type": "markdown",
      "metadata": {
        "id": "F5dW_EBfCBUf"
      },
      "source": [
        "Typing out the full name of the module each time you want to use something in it can get a little annoying. If you want to give your module a new name (maybe a shorter one) that you can use to refer to it, you can use the `as` keyword after the import statement."
      ]
    },
    {
      "cell_type": "code",
      "execution_count": null,
      "metadata": {
        "id": "9ur1qDXuCBUf",
        "outputId": "fb087fa7-c679-4b37-bebb-9f20c6eceaaf"
      },
      "outputs": [
        {
          "data": {
            "text/plain": [
              "array([1, 2, 4])"
            ]
          },
          "execution_count": 22,
          "metadata": {},
          "output_type": "execute_result"
        }
      ],
      "source": [
        "# import with abbreviation np\n",
        "import numpy as np\n",
        "# create another NumPy array object using abbreviation\n",
        "np.array([1,2,4])"
      ]
    },
    {
      "cell_type": "markdown",
      "metadata": {
        "id": "sU2dW_MfCBUg"
      },
      "source": [
        "Lastly, some modules can be really big. Importing every single class and function from a module could take up extra space on your computer and slow it down. To avoid this, you can specify which exact things should be taken from the module.\n",
        "\n",
        "Just type `from` followed by the module name, and then type `import` followed by the specific things you want.\n",
        "\n",
        "The only problem is that now you are forced to type out the full name of the module."
      ]
    },
    {
      "cell_type": "code",
      "execution_count": null,
      "metadata": {
        "id": "5oxgPMO6CBUg",
        "outputId": "91cbb326-6d2d-43fa-cb02-136a5e60f718"
      },
      "outputs": [
        {
          "data": {
            "text/plain": [
              "7"
            ]
          },
          "execution_count": 14,
          "metadata": {},
          "output_type": "execute_result"
        }
      ],
      "source": [
        "# just get the array class and the sum function from NumPy\n",
        "from numpy import array, sum\n",
        "# Find the sum of a NumPy array\n",
        "numpy.sum(numpy.array([1,2,4]))"
      ]
    }
  ],
  "metadata": {
    "colab": {
      "collapsed_sections": [],
      "provenance": []
    },
    "interpreter": {
      "hash": "31f2aee4e71d21fbe5cf8b01ff0e069b9275f58929596ceb00d14d90e3e16cd6"
    },
    "kernelspec": {
      "display_name": "Python 3.7.3 64-bit",
      "language": "python",
      "name": "python3"
    },
    "language_info": {
      "codemirror_mode": {
        "name": "ipython",
        "version": 3
      },
      "file_extension": ".py",
      "mimetype": "text/x-python",
      "name": "python",
      "nbconvert_exporter": "python",
      "pygments_lexer": "ipython3",
      "version": "3.9.6"
    },
    "orig_nbformat": 4
  },
  "nbformat": 4,
  "nbformat_minor": 0
}